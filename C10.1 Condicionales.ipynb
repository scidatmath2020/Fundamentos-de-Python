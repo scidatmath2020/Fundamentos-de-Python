{
 "cells": [
  {
   "cell_type": "markdown",
   "metadata": {},
   "source": [
    "![imagenes](logo.png)"
   ]
  },
  {
   "cell_type": "markdown",
   "metadata": {},
   "source": [
    "# Declaraciones condicionales. "
   ]
  },
  {
   "cell_type": "markdown",
   "metadata": {},
   "source": [
    "En los primeros años del cómputo, los programas consistían en una secuencia lineal de instrucciones que eran ejecutadas por una máquina, tal como lo hace una pianola o una caja de música. Sin embargo conforme el cómputo fue evolucionando, se volvió imperativo que el flujo de un programa de cómputo dejara de ser lineal.\n",
    "\n",
    "Mediante las estructuras derivadas de ```if```, Python puede evaluar ciertas expresiones lógicas que resultarían finalmente en un valor booleano, el cual ejecutaría el código correspondiente."
   ]
  },
  {
   "cell_type": "markdown",
   "metadata": {},
   "source": [
    "### Declaraciones con una estructura```if``` simple.\n",
    "\n",
    "La palabra clave ```if``` siempre evalúa una expresión lógica y en caso de que dicha expresión de por resultado el valor ```True```, se ejecutará el código indentado justo por debajo del ```if```. En caso de que la declaración resulte en el valor ```False```, el intérprete ignorará el bloque de código indentado y éste continuará con la instrucción siguiente inmediata a la indentación.\n",
    "\n",
    "```\n",
    "<flujo principal>\n",
    "...\n",
    "...\n",
    "if <expresión lógica>:\n",
    "     <bloque inscrito a if>\n",
    "<flujo principal>\n",
    "```\n",
    "\n",
    "A continuación se muestra un diagrama de flujo que ejemplifica al uso del condicional if en su modo más simple:\n",
    "![if-else](if-simple.png)\n"
   ]
  },
  {
   "cell_type": "markdown",
   "metadata": {},
   "source": [
    "**Ejemplo:**"
   ]
  },
  {
   "cell_type": "code",
   "execution_count": null,
   "metadata": {
    "scrolled": true
   },
   "outputs": [],
   "source": [
    "\"\"\"Script que ejemplifica el uso del condicional if.\n",
    "   Si se ingresa un texto igual a \"gato\", se desplegará el mensaje \"miau\".\"\"\"\n",
    "\n",
    "animal = input(\"¿Qué animal es? \")\n",
    "if animal.casefold() == \"gato\":\n",
    "    print(\"miau\")\n",
    "print(\"Sólo los gatos maullan.\")"
   ]
  },
  {
   "cell_type": "markdown",
   "metadata": {},
   "source": [
    "### Estructura ```if``` ... ```else```.\n",
    "\n",
    "Si el resultado de la expresión lógica evaluada por ```if``` da por resultado ```False```, se puede utilizar ```else``` para ejecutar el bloque de código indentado debajo de esta expresión.\n",
    "\n",
    "\n",
    "```\n",
    "<flujo principal>\n",
    "...\n",
    "...\n",
    "if <expresión lógica>:\n",
    "     <bloque inscrito a if>\n",
    "else:\n",
    "    <bloque inscrito a else>\n",
    "<flujo principal>\n",
    "```\n",
    "A continuación se muestra un diagrama de flujo que ejemplifica al uso del condicional ```if``` y ```else```:\n",
    "\n",
    "![if-else](if-else.png)"
   ]
  },
  {
   "cell_type": "markdown",
   "metadata": {},
   "source": [
    "**Ejemplo:**"
   ]
  },
  {
   "cell_type": "code",
   "execution_count": null,
   "metadata": {},
   "outputs": [],
   "source": [
    "\"\"\"Script que ejemplifica el uso de la estructura condicional if-else.\n",
    "   Si se ingresa un texto igual a \"gato\", se desplegará el mensaje \"miau\", \n",
    "introducir cualquier otro texto desplegará \"no sé que ruido hace ese animal.\" \"\"\"\n",
    "\n",
    "animal = input(\"¿Qué animal es? \")\n",
    "print(\"Este animal es un %s.\" % animal)\n",
    "if animal == \"gato\":\n",
    "    print(\"miau\")\n",
    "else:\n",
    "    print(\"No sé que ruido hace este animal.\")\n",
    "print(\"Sólo los gatos maullan.\")"
   ]
  },
  {
   "cell_type": "code",
   "execution_count": null,
   "metadata": {},
   "outputs": [],
   "source": [
    "guerrero = input(\"Nombra un Guerrero\\n\")\n",
    "valor = int(input(\"Indica el nivel de pelea\\n\"))\n",
    "if guerrero == \"Yamcha\" or valor < 1000:\n",
    "    print(\"Seguro se va a morir\")\n",
    "else:\n",
    "    print(f\"Tenemos oportunidad de que {guerrero} nos salve\")\n",
    "print(\"Así pasa en DBZ\")\n"
   ]
  },
  {
   "cell_type": "code",
   "execution_count": null,
   "metadata": {},
   "outputs": [],
   "source": [
    "guerrero = input(\"Nombra un Guerrero\\n\")\n",
    "valor = int(input(\"Indica el nivel de pelea\\n\"))\n",
    "if guerrero == \"Yamcha\" or valor < 1000 or guerrero == \"Krilin\":\n",
    "    print(\"Seguro se va a morir\")\n",
    "else:\n",
    "    if guerrero == \"Gokú\":\n",
    "        print(f\"Qué bien! Aunque el poder de Gokú es de {valor}, es capaz de aumentarlo hasta {valor+20000}.\")\n",
    "    print(f\"Tenemos oportunidad de que {guerrero} nos salve\")\n",
    "print(\"Así pasa en DBZ\")\n"
   ]
  },
  {
   "cell_type": "markdown",
   "metadata": {},
   "source": [
    "### Estructura ```if```...```elif```...```else```.\n",
    "\n",
    "Es posible evaluar más de una expresión lógica mediante el uso de ```elif```. En el caso de que exista más de una expresión lógica que de por resultado ```True```, Python ejecutará solamente el código delimitado por la primera que ocurra.\n",
    "\n",
    "En caso de que ninguna de las condiciones de por resultado ```True```  se puede utilizar ```else``` al final de la estructura.\n",
    "\n",
    "```\n",
    "<flujo principal>\n",
    "...\n",
    "...\n",
    "if <expresión lógica>:\n",
    "     <bloque inscrito a if>\n",
    "elif <expresión lógica 1>:\n",
    "     <bloque inscrio a elif>\n",
    "elif <expresión lógica 2>:\n",
    "     <bloque inscrio a elif>\n",
    "...\n",
    "...\n",
    "elif <expresión lógica n>:\n",
    "     <bloque inscrio a elif>\n",
    "else:\n",
    "    <bloque inscrito a else>\n",
    "<flujo principal>\n",
    "```\n",
    "\n",
    "A continuación se muestra un diagrama de flujo que ejemplifica al uso del condicional ```if```, ```elif``` y ```else```:\n",
    "\n",
    "![if-elif-else](if-elif.png)"
   ]
  },
  {
   "cell_type": "markdown",
   "metadata": {},
   "source": [
    "**Ejemplo:**"
   ]
  },
  {
   "cell_type": "code",
   "execution_count": null,
   "metadata": {},
   "outputs": [],
   "source": [
    "\"\"\"Script que ejemplifica el uso de la estructura condicional if-elif-else.\n",
    "Si se ingresa un texto igual a alguno de los nombres de animales, se desplegará\n",
    "el mensaje correspondiente, introducir cualquier otro texto desplegará \n",
    "\"no sé que ruido hace ese animal.\" \"\"\"\n",
    "#! /usr/bin/python3\n",
    "\n",
    "animal = input(\"¿Qué animal sugiere? \")\n",
    "print(\"Este animal es %s.\" % animal)\n",
    "if animal == \"gato\":\n",
    "    print(\"miau\")\n",
    "elif animal == \"perro\":\n",
    "    print(\"guau\")\n",
    "elif animal == \"pez\":\n",
    "    print (\"glub glub\")\n",
    "elif animal == \"gallo\":\n",
    "    print(\"kikiriki\")\n",
    "elif animal == \"vaca\":\n",
    "    print(\"muuu\")\n",
    "else:\n",
    "    print(\"No sé que ruido hace este animal.\")\n",
    "print(\"Sólo los gatos maullan.\")"
   ]
  },
  {
   "cell_type": "code",
   "execution_count": null,
   "metadata": {},
   "outputs": [],
   "source": [
    "guerrero = input(\"Nombra un guerrero\\n\")\n",
    "\n",
    "if guerrero == \"Yamcha\" or guerrero == \"Krilin\":\n",
    "    print(f\"{guerrero} es un humano\")\n",
    "elif guerrero == \"Gokú\" or guerrero == \"Vegueta\":\n",
    "    print(f\"{guerrero} es un saijajin\")\n",
    "elif guerrero == \"18\" or guerrero == \"17\":\n",
    "    print(f\"{guerrero} es un androide\")\n",
    "elif guerrero == \"Pikoro\":\n",
    "    print(f\"{guerrero} es un namekuseí\")\n",
    "else:\n",
    "    print(f\"{guerrero} no es un personaje importante\")\n",
    "\n",
    "print(\"Esas son razas de DBZ\")\n"
   ]
  },
  {
   "cell_type": "markdown",
   "metadata": {},
   "source": [
    "### Ejemplo de condicionales anidados."
   ]
  },
  {
   "cell_type": "markdown",
   "metadata": {},
   "source": [
    "**Ejemplo:**"
   ]
  },
  {
   "cell_type": "code",
   "execution_count": null,
   "metadata": {},
   "outputs": [],
   "source": [
    "\"\"\"Script que ejemplifica el uso de condicionales anidados. Validará si un valor \n",
    "ingresado sea entero, ademá de validar si es positivo o negativo.\"\"\"\n",
    "\n",
    "dato_texto = input('Ingrese un número entero: ')\n",
    "dato = eval(dato_texto)\n",
    "if type(dato) is int:\n",
    "    print('Es un entero.')\n",
    "    if dato < 0:\n",
    "        print('Es negativo.')\n",
    "    elif dato > 0:\n",
    "        print('Es positivo.')\n",
    "    else:\n",
    "        print('Es cero')\n",
    "else:\n",
    "    print('No es un entero.')"
   ]
  },
  {
   "cell_type": "code",
   "execution_count": null,
   "metadata": {},
   "outputs": [],
   "source": [
    "dato_texto = input('Ingrese un número entero: ')\n",
    "dato = eval(dato_texto)\n",
    "if type(dato) is int and dato < 0:\n",
    "    print(\"Es un entero\\n\")\n",
    "    print(\"Es negativo\")\n",
    "elif type(dato) is int and dato > 0:\n",
    "    print(\"Es un entero\\n\")\n",
    "    print(\"Es positivo\")\n",
    "elif type(dato) is int and dato == 0:\n",
    "    print(\"Es un cero\\n\")\n",
    "    print(\"Es positivo\")\n",
    "else:\n",
    "    print('No es un entero.')"
   ]
  }
 ],
 "metadata": {
  "kernelspec": {
   "display_name": "Python 3",
   "language": "python",
   "name": "python3"
  },
  "language_info": {
   "codemirror_mode": {
    "name": "ipython",
    "version": 3
   },
   "file_extension": ".py",
   "mimetype": "text/x-python",
   "name": "python",
   "nbconvert_exporter": "python",
   "pygments_lexer": "ipython3",
   "version": "3.7.7"
  }
 },
 "nbformat": 4,
 "nbformat_minor": 1
}
