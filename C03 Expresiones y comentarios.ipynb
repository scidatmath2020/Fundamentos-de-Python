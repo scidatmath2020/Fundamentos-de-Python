{
 "cells": [
  {
   "cell_type": "markdown",
   "metadata": {},
   "source": [
    "![imagenes](logo.png)"
   ]
  },
  {
   "cell_type": "markdown",
   "metadata": {},
   "source": [
    "# Expresiones y comentarios."
   ]
  },
  {
   "cell_type": "markdown",
   "metadata": {},
   "source": [
    "## Expresiones.\n",
    "\n",
    "Una expresión es una combinación de nombres, objetos, operadores, funciones y métodos cuya sintaxis es correcta para el intérprete de Python y que puede dar por resultado un valor."
   ]
  },
  {
   "cell_type": "markdown",
   "metadata": {},
   "source": [
    "**Ejemplos:**"
   ]
  },
  {
   "cell_type": "markdown",
   "metadata": {},
   "source": [
    "* La siguiente celda es una expresión de asignación, la cual liga el nombre ```numero``` al objeto ```78.3``` mediante el operador de asignación ```=```."
   ]
  },
  {
   "cell_type": "code",
   "execution_count": null,
   "metadata": {},
   "outputs": [],
   "source": [
    "numero = 78.3"
   ]
  },
  {
   "cell_type": "markdown",
   "metadata": {},
   "source": [
    "* La siguiente es una expresión que despliega el objeto relacionado con el nombre ```numero```."
   ]
  },
  {
   "cell_type": "code",
   "execution_count": null,
   "metadata": {},
   "outputs": [],
   "source": [
    "numero"
   ]
  },
  {
   "cell_type": "markdown",
   "metadata": {},
   "source": [
    "* La siguiente es una expresión aritmética que implica valores numéricos y el operador ```+```."
   ]
  },
  {
   "cell_type": "code",
   "execution_count": null,
   "metadata": {},
   "outputs": [],
   "source": [
    "1 + 1"
   ]
  },
  {
   "cell_type": "markdown",
   "metadata": {},
   "source": [
    "* La siguiente es una expresión de relación que evalúa si ```45``` es mayor o igual a ```11``` usando el operador ```>=```."
   ]
  },
  {
   "cell_type": "code",
   "execution_count": null,
   "metadata": {},
   "outputs": [],
   "source": [
    "45 >= 11"
   ]
  },
  {
   "cell_type": "markdown",
   "metadata": {},
   "source": [
    "* La siguiente expresión ejecuta el método ```upper()```, propio de los objetos tipo ```str``` mediante el operador de atributo ```.```. En este caso, convierte todas las letras del texto  en  mayúsculas."
   ]
  },
  {
   "cell_type": "code",
   "execution_count": null,
   "metadata": {},
   "outputs": [],
   "source": [
    "\"carro\".upper()"
   ]
  },
  {
   "cell_type": "markdown",
   "metadata": {},
   "source": [
    "La siguiente celda ejecuta una expresión que invoca a la función ```len()```."
   ]
  },
  {
   "cell_type": "code",
   "execution_count": null,
   "metadata": {},
   "outputs": [],
   "source": [
    "len('Saludo')"
   ]
  },
  {
   "cell_type": "markdown",
   "metadata": {},
   "source": [
    "### Ejecución de varias expresiones en una sola línea.\n",
    "\n",
    "El intérprete de Python permite ejecutar múltiples expresiones en una sola línea, denotando el final de una expresión usando el signo de punto y coma ```;```. \n",
    "\n",
    "Al usar esta sintaxis, el intérprete sólo se desplegará el resultado de la última expresión ejecutada."
   ]
  },
  {
   "cell_type": "markdown",
   "metadata": {},
   "source": [
    "**Ejemplos:**"
   ]
  },
  {
   "cell_type": "markdown",
   "metadata": {},
   "source": [
    "* A continuación se ejecutarán varias expresiones en una sola línea. Todas las expresiones se ejecutaron, pero sólo la última será desplegada."
   ]
  },
  {
   "cell_type": "code",
   "execution_count": null,
   "metadata": {},
   "outputs": [],
   "source": [
    "a = 3; \"hola\".upper(); a + 5"
   ]
  },
  {
   "cell_type": "code",
   "execution_count": null,
   "metadata": {},
   "outputs": [],
   "source": [
    "a"
   ]
  },
  {
   "cell_type": "markdown",
   "metadata": {},
   "source": [
    "* Si la última expresión también termina con un punto y coma, tampoco será desplegada."
   ]
  },
  {
   "cell_type": "code",
   "execution_count": null,
   "metadata": {},
   "outputs": [],
   "source": [
    "a += 11; \"amigos\" * 3; a == 1;"
   ]
  },
  {
   "cell_type": "code",
   "execution_count": null,
   "metadata": {},
   "outputs": [],
   "source": [
    "a"
   ]
  },
  {
   "cell_type": "markdown",
   "metadata": {},
   "source": [
    "**Advertencia:** No se recomienda usar este recurso ya que se corre el riesgo de ofuscar el código innecesariamente."
   ]
  },
  {
   "cell_type": "markdown",
   "metadata": {},
   "source": [
    "### Expresiones en el entorno interactivo.\n",
    "\n",
    "La interfaz interactiva evalúa las expresiones tan pronto como son ingresadas y en su caso despliega el resultado."
   ]
  },
  {
   "cell_type": "markdown",
   "metadata": {},
   "source": [
    "**Ejemplos:**"
   ]
  },
  {
   "cell_type": "markdown",
   "metadata": {},
   "source": [
    "* Las siguientes celdas contienen varias expresiones cuyo resultado será desplegado por el intérprete de *IPython*."
   ]
  },
  {
   "cell_type": "code",
   "execution_count": null,
   "metadata": {
    "scrolled": true
   },
   "outputs": [],
   "source": [
    "4 * 3"
   ]
  },
  {
   "cell_type": "code",
   "execution_count": null,
   "metadata": {},
   "outputs": [],
   "source": [
    "15 == 25"
   ]
  },
  {
   "cell_type": "code",
   "execution_count": null,
   "metadata": {},
   "outputs": [],
   "source": [
    "'hola' + ' mundo'"
   ]
  },
  {
   "cell_type": "markdown",
   "metadata": {},
   "source": [
    "## Comentarios.\n",
    "\n",
    "Los comentarios son porciones de texto que aún cuando se encuentran dentro de un bloque de código, no son interpretados por Python y sirven primordialmente para documentar al código."
   ]
  },
  {
   "cell_type": "markdown",
   "metadata": {},
   "source": [
    "### Comentarios de una sola línea.\n",
    "\n",
    "Cualquier texto después del carácter ```#``` y hasta el final de la línea es considerado como un comentario."
   ]
  },
  {
   "cell_type": "markdown",
   "metadata": {},
   "source": [
    "**Ejemplo:**"
   ]
  },
  {
   "cell_type": "code",
   "execution_count": null,
   "metadata": {},
   "outputs": [],
   "source": [
    "15 + 23 # El resultado es 38."
   ]
  },
  {
   "cell_type": "markdown",
   "metadata": {},
   "source": [
    "### Docstrings.\n",
    "\n",
    "Python también permite incluir comentarios de varias líneas. Éstos deben de estar encerrados entre triples comillas ```\"\"\"``` o entre triples apóstrofes ```'''```. \n",
    "\n",
    "Este tipo de comentarios son conocidos como \"docstrings\" y son utilizados para generar documentación que se desplegaría mediante la función ```help()```.\n",
    "\n",
    "**NOTA:** Los docstrings que se incluyen al principio de un módulo, función o clase son reconocidos por Python para generación automática de la documentación.  El [PEP 257](https://www.python.org/dev/peps/pep-0257/) describe la forma y estilo de documentar en Python."
   ]
  },
  {
   "cell_type": "markdown",
   "metadata": {},
   "source": [
    "**Ejemplo:**"
   ]
  },
  {
   "cell_type": "markdown",
   "metadata": {},
   "source": [
    "* La siguiente celda define una función con nombnre ```funcion()```, la cual incluye un docstring al principio de esta yu otro al final."
   ]
  },
  {
   "cell_type": "code",
   "execution_count": null,
   "metadata": {},
   "outputs": [],
   "source": [
    "def funcion():\n",
    "    \"\"\"Ejemplo del uso de una docstring.\n",
    "    En este caso se utiliza para documentar una función.\"\"\"\n",
    "    print(\"Hola\")\n",
    "    \"\"\"Este es otro docstring.\n",
    "    No formará parte de la documentación.\"\"\""
   ]
  },
  {
   "cell_type": "markdown",
   "metadata": {},
   "source": [
    "* Una vez que fue definida la función ```funcion()```, el primer docstring será parte de la documentación."
   ]
  },
  {
   "cell_type": "code",
   "execution_count": null,
   "metadata": {
    "scrolled": false
   },
   "outputs": [],
   "source": [
    "help(funcion)"
   ]
  }
 ],
 "metadata": {
  "kernelspec": {
   "display_name": "Python 3",
   "language": "python",
   "name": "python3"
  },
  "language_info": {
   "codemirror_mode": {
    "name": "ipython",
    "version": 3
   },
   "file_extension": ".py",
   "mimetype": "text/x-python",
   "name": "python",
   "nbconvert_exporter": "python",
   "pygments_lexer": "ipython3",
   "version": "3.7.5"
  }
 },
 "nbformat": 4,
 "nbformat_minor": 1
}
