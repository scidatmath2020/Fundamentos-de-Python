{
 "cells": [
  {
   "cell_type": "markdown",
   "metadata": {},
   "source": [
    "<img src=\"logo.png\">\n"
   ]
  },
  {
   "cell_type": "markdown",
   "metadata": {},
   "source": [
    "# Clases\n",
    "\n",
    "Python es un lenguaje orientado a objetos. Una de las grandes ventajas de esto radica en el uso de clases.\n",
    "\n",
    "Las clases en Python 3 tienen la sintaxis\n",
    "\n",
    "``\n",
    "class NombreDeLaClase:\n",
    "    def metodo1(self):  -->todos los métodos de la clase toman \"self\" como su primer argumento\n",
    "        definición  del método    \n",
    "    def metodo2(self):\n",
    "        definición del método\n",
    "``\n",
    "        "
   ]
  },
  {
   "cell_type": "code",
   "execution_count": null,
   "metadata": {},
   "outputs": [],
   "source": [
    "class CarroBásico:\n",
    "    def girar_izquierda(self):\n",
    "        print(\"Girando a la izquierda\")\n",
    "    \n",
    "    def girar_derecha(self):\n",
    "        print(\"Girando a la derecha\")\n",
    "        \n",
    "    def acelerar(self):\n",
    "        #podemos usar pass cuando definimos una función que no hace nada\n",
    "        pass\n",
    "    \n",
    "    def frenar(self):\n",
    "        pass"
   ]
  },
  {
   "cell_type": "code",
   "execution_count": null,
   "metadata": {},
   "outputs": [],
   "source": [
    "print(CarroBásico)"
   ]
  },
  {
   "cell_type": "markdown",
   "metadata": {},
   "source": [
    "Las clases se pueden considerar como plantillas que se pueden usar para generar objetos. Los objetos generados por una clase se conocen como instancias.\n",
    "\n",
    "Por ejemplo, *CarroBásico* nos da las instrucciones para fabricar un coche."
   ]
  },
  {
   "cell_type": "code",
   "execution_count": null,
   "metadata": {
    "scrolled": true
   },
   "outputs": [],
   "source": [
    "monchito = CarroBásico()"
   ]
  },
  {
   "cell_type": "code",
   "execution_count": null,
   "metadata": {},
   "outputs": [],
   "source": [
    "print(monchito)"
   ]
  },
  {
   "cell_type": "code",
   "execution_count": null,
   "metadata": {},
   "outputs": [],
   "source": [
    "type(monchito)"
   ]
  },
  {
   "cell_type": "code",
   "execution_count": null,
   "metadata": {},
   "outputs": [],
   "source": [
    "help(CarroBásico)"
   ]
  },
  {
   "cell_type": "markdown",
   "metadata": {},
   "source": [
    "Como monchito es una instancia de CarroBásico, tiene sus métodos"
   ]
  },
  {
   "cell_type": "code",
   "execution_count": null,
   "metadata": {},
   "outputs": [],
   "source": [
    "monchito.girar_izquierda()"
   ]
  },
  {
   "cell_type": "code",
   "execution_count": null,
   "metadata": {},
   "outputs": [],
   "source": [
    "monchito.girar_derecha()\n"
   ]
  },
  {
   "cell_type": "code",
   "execution_count": null,
   "metadata": {},
   "outputs": [],
   "source": [
    "monchito.acelerar()\n"
   ]
  },
  {
   "cell_type": "code",
   "execution_count": null,
   "metadata": {},
   "outputs": [],
   "source": [
    "monchito.frenar()"
   ]
  },
  {
   "cell_type": "markdown",
   "metadata": {},
   "source": [
    "Al igual que con las funciones, generalmente vamos a querer que nuestros objetos tengan características variables. Con la clase CarroBásico todos nuestros carros serán 100% iguales. Pero qué pasa si queremos que nuestros carros tengan un color.\n",
    "\n",
    "Para ello usamos el método especial **\\_\\_init__** que se ejecuta cuando se instancia una clase"
   ]
  },
  {
   "cell_type": "code",
   "execution_count": null,
   "metadata": {},
   "outputs": [],
   "source": [
    "class CarroConColor:\n",
    "    def __init__(self,color):\n",
    "        self.color = color # Esto es un atributo\n",
    "        \n",
    "            \n",
    "    def describir(self):\n",
    "        print(f\"Carro de color {self.color}\")\n",
    "    \n",
    "    def girar_izquierda(self):\n",
    "        print(\"Girando a la izquierda\")\n",
    "    \n",
    "    def girar_derecha(self):\n",
    "        print(\"Girando a la derecha\")\n",
    "        \n",
    "    def acelerar(self):\n",
    "        #podemos usar pass cuando definimos una función que no hace nada\n",
    "        pass\n",
    "    \n",
    "    def frenar(self):\n",
    "        pass"
   ]
  },
  {
   "cell_type": "code",
   "execution_count": null,
   "metadata": {},
   "outputs": [],
   "source": [
    "monchito_rojo = CarroConColor(color = \"rojo\") "
   ]
  },
  {
   "cell_type": "code",
   "execution_count": null,
   "metadata": {},
   "outputs": [],
   "source": [
    "monchito_rojo.describir()   "
   ]
  },
  {
   "cell_type": "code",
   "execution_count": null,
   "metadata": {},
   "outputs": [],
   "source": [
    "type(monchito_rojo)"
   ]
  },
  {
   "cell_type": "markdown",
   "metadata": {},
   "source": [
    "También podemos añadir atributos a las instancias"
   ]
  },
  {
   "cell_type": "code",
   "execution_count": null,
   "metadata": {},
   "outputs": [],
   "source": [
    "monchito_rojo.matricula = \"ABC123\""
   ]
  },
  {
   "cell_type": "code",
   "execution_count": null,
   "metadata": {},
   "outputs": [],
   "source": [
    "monchito_rojo.matricula"
   ]
  },
  {
   "cell_type": "markdown",
   "metadata": {},
   "source": [
    "Al crear un CarroConColor sí o sí debemos especificar el color"
   ]
  },
  {
   "cell_type": "code",
   "execution_count": null,
   "metadata": {},
   "outputs": [],
   "source": [
    "monchito_sin_color = CarroConColor()"
   ]
  },
  {
   "cell_type": "markdown",
   "metadata": {},
   "source": [
    "Podemos evitar esto simplemente usando valores por defecto en el método **\\_\\_init__**"
   ]
  },
  {
   "cell_type": "code",
   "execution_count": null,
   "metadata": {},
   "outputs": [],
   "source": [
    "class CarroConColor:\n",
    "    def __init__(self,color = \"negro\"):\n",
    "        self.color = color # Esto es un atributo\n",
    "        \n",
    "    def describir(self):\n",
    "        print(f\"Carro de color {self.color}\")\n",
    "    \n",
    "    def girar_izquierda(self):\n",
    "        print(\"Girando a la izquierda\")\n",
    "    \n",
    "    def girar_derecha(self):\n",
    "        print(\"Girando a la derecha\")\n",
    "        \n",
    "    def acelerar(self):\n",
    "        #podemos usar pass cuando definimos una función que no hace nada\n",
    "        pass\n",
    "    \n",
    "    def frenar(self):\n",
    "        pass    "
   ]
  },
  {
   "cell_type": "code",
   "execution_count": null,
   "metadata": {},
   "outputs": [],
   "source": [
    "monchito_sin_color = CarroConColor()"
   ]
  },
  {
   "cell_type": "code",
   "execution_count": null,
   "metadata": {},
   "outputs": [],
   "source": [
    "monchito_sin_color.color"
   ]
  },
  {
   "cell_type": "code",
   "execution_count": null,
   "metadata": {},
   "outputs": [],
   "source": [
    "monchito_sin_color.describir()"
   ]
  },
  {
   "cell_type": "markdown",
   "metadata": {},
   "source": [
    "También podemos definir todas las variables que necesitamos para definir un objeto"
   ]
  },
  {
   "cell_type": "code",
   "execution_count": null,
   "metadata": {},
   "outputs": [],
   "source": [
    "class CarroVariable:\n",
    "    def __init__(self,modelo, velocidad_maxima, color = \"negro\"):\n",
    "        self.color = color # Esto es un atributo\n",
    "        self.modelo = modelo\n",
    "        self.velocidad_maxima = velocidad_maxima\n",
    "        self.velocidad = 0 #el carro está detenido\n",
    "        \n",
    "    def describir(self):\n",
    "        descripcion = f\"Carro modelo {self.modelo} de color {self.color} con velocidad máxima de {self.velocidad_maxima} km/h\"\n",
    "        return descripcion\n",
    "    \n",
    "    def estado(self):\n",
    "        if self.velocidad == 0:\n",
    "            print(\"El carro está detenido\")\n",
    "        else:\n",
    "            print(f\"El carro va a {self.velocidad} km/h\")\n",
    "    \n",
    "    def girar_izquierda(self):\n",
    "        print(\"Girando a la izquierda\")\n",
    "    \n",
    "    def girar_derecha(self):\n",
    "        print(\"Girando a la derecha\")\n",
    "        \n",
    "    def acelerar(self):\n",
    "        #podemos usar pass cuando definimos una función que no hace nada\n",
    "        pass\n",
    "    \n",
    "    def frenar(self):\n",
    "        pass    "
   ]
  },
  {
   "cell_type": "code",
   "execution_count": null,
   "metadata": {},
   "outputs": [],
   "source": [
    "monchito = CarroVariable(modelo = \"Bora 2009\", velocidad_maxima = 250, color = \"plateado\")"
   ]
  },
  {
   "cell_type": "code",
   "execution_count": null,
   "metadata": {},
   "outputs": [],
   "source": [
    "monchito.describir()"
   ]
  },
  {
   "cell_type": "code",
   "execution_count": null,
   "metadata": {},
   "outputs": [],
   "source": [
    "monchito.estado()"
   ]
  },
  {
   "cell_type": "code",
   "execution_count": null,
   "metadata": {},
   "outputs": [],
   "source": [
    "monchito.velocidad = 120"
   ]
  },
  {
   "cell_type": "code",
   "execution_count": null,
   "metadata": {},
   "outputs": [],
   "source": [
    "monchito.estado()"
   ]
  },
  {
   "cell_type": "markdown",
   "metadata": {},
   "source": [
    "Uno de los principales usos de las clases es conservar el \"estado actual\" de un objeto. "
   ]
  },
  {
   "cell_type": "code",
   "execution_count": null,
   "metadata": {},
   "outputs": [],
   "source": [
    "class Carro:\n",
    "    def __init__(self,modelo, velocidad_maxima, color = \"negro\"):\n",
    "        self.color = color # Esto es un atributo\n",
    "        self.modelo = modelo\n",
    "        self.velocidad_maxima = velocidad_maxima\n",
    "        self.velocidad = 0 #el carro está detenido\n",
    "        \n",
    "    def describir(self):\n",
    "        descripcion = f\"Carro modelo {self.modelo} de color {self.color} con velocidad máxima de {self.velocidad_maxima} km/h\"\n",
    "        return descripcion\n",
    "    \n",
    "    def __repr__(self):\n",
    "        return \"Hola mundo\"#self.describir()\n",
    "    \n",
    "    def estado(self):\n",
    "        if self.velocidad == 0:\n",
    "            print(\"El carro está detenido\")\n",
    "        elif self.velocidad > 0:\n",
    "            print(f\"El carro va a {self.velocidad} km/h\")\n",
    "        else:\n",
    "            print(f\"El vehículo va marcha atrás a {-self.velocidad} km/h\")\n",
    "            \n",
    "    def girar_izquierda(self):\n",
    "        print(\"Girando a la izquierda\")\n",
    "    \n",
    "    def girar_derecha(self):\n",
    "        print(\"Girando a la derecha\")\n",
    "        \n",
    "    def acelerar(self,diferencia_velocidad):\n",
    "        if diferencia_velocidad >= 0:\n",
    "            print(f\"Subiendo la velocidad en {diferencia_velocidad} km/h\")\n",
    "            self.velocidad = self.velocidad + diferencia_velocidad\n",
    "            self.velocidad = min(self.velocidad,self.velocidad_maxima)\n",
    "        else:\n",
    "            print(\"No se puede acelerar negativamente\")\n",
    "            \n",
    "    def frenar(self,diferencia_velocidad):\n",
    "        if diferencia_velocidad >= 0:\n",
    "            print(f\"Frenando en {diferencia_velocidad} km/h\")\n",
    "            self.velocidad = self.velocidad - diferencia_velocidad\n",
    "            self.velocidad = max(self.velocidad,-5) "
   ]
  },
  {
   "cell_type": "code",
   "execution_count": null,
   "metadata": {},
   "outputs": [],
   "source": [
    "monchito = Carro(modelo = \"Bora\", velocidad_maxima = 250, color = \"plateado\")"
   ]
  },
  {
   "cell_type": "code",
   "execution_count": null,
   "metadata": {},
   "outputs": [],
   "source": [
    "print(monchito)"
   ]
  },
  {
   "cell_type": "code",
   "execution_count": null,
   "metadata": {},
   "outputs": [],
   "source": [
    "monchito.estado()"
   ]
  },
  {
   "cell_type": "code",
   "execution_count": null,
   "metadata": {},
   "outputs": [],
   "source": [
    "monchito.velocidad = 100"
   ]
  },
  {
   "cell_type": "code",
   "execution_count": null,
   "metadata": {},
   "outputs": [],
   "source": [
    "monchito.estado()"
   ]
  },
  {
   "cell_type": "code",
   "execution_count": null,
   "metadata": {},
   "outputs": [],
   "source": [
    "monchito.acelerar(200)"
   ]
  },
  {
   "cell_type": "code",
   "execution_count": null,
   "metadata": {},
   "outputs": [],
   "source": [
    "monchito.estado()"
   ]
  },
  {
   "cell_type": "code",
   "execution_count": null,
   "metadata": {},
   "outputs": [],
   "source": [
    "monchito = Carro(modelo = \"Bora\", velocidad_maxima = 250, color = \"plateado\")"
   ]
  },
  {
   "cell_type": "code",
   "execution_count": null,
   "metadata": {},
   "outputs": [],
   "source": [
    "monchito.velocidad = -5"
   ]
  },
  {
   "cell_type": "code",
   "execution_count": null,
   "metadata": {},
   "outputs": [],
   "source": [
    "monchito.estado()"
   ]
  },
  {
   "cell_type": "code",
   "execution_count": null,
   "metadata": {},
   "outputs": [],
   "source": [
    "monchito.acelerar(-300)"
   ]
  },
  {
   "cell_type": "code",
   "execution_count": null,
   "metadata": {},
   "outputs": [],
   "source": [
    "monchito.estado()"
   ]
  },
  {
   "cell_type": "code",
   "execution_count": null,
   "metadata": {},
   "outputs": [],
   "source": [
    "monchito.acelerar(50)"
   ]
  },
  {
   "cell_type": "code",
   "execution_count": null,
   "metadata": {},
   "outputs": [],
   "source": [
    "monchito.estado()"
   ]
  },
  {
   "cell_type": "code",
   "execution_count": null,
   "metadata": {},
   "outputs": [],
   "source": [
    "monchito.frenar(-10)"
   ]
  },
  {
   "cell_type": "code",
   "execution_count": null,
   "metadata": {},
   "outputs": [],
   "source": [
    "monchito.frenar(10)"
   ]
  },
  {
   "cell_type": "code",
   "execution_count": null,
   "metadata": {},
   "outputs": [],
   "source": [
    "monchito.estado()"
   ]
  },
  {
   "cell_type": "code",
   "execution_count": null,
   "metadata": {},
   "outputs": [],
   "source": [
    "monchito.frenar(100)"
   ]
  },
  {
   "cell_type": "code",
   "execution_count": null,
   "metadata": {},
   "outputs": [],
   "source": [
    "monchito.estado()"
   ]
  },
  {
   "cell_type": "code",
   "execution_count": null,
   "metadata": {},
   "outputs": [],
   "source": [
    "print(monchito)"
   ]
  },
  {
   "cell_type": "markdown",
   "metadata": {},
   "source": [
    "## Herencia de clases\n",
    "\n",
    "Una de las principales ventajas de usar clases es que se pueden crear otras clases utilizando las ya creadas. Se dice que una clase hereda a la otra.\n",
    "\n",
    "Esto nos permite crear una clase genérica después crear clases mas avanzadas con funcionalidades específicas"
   ]
  },
  {
   "cell_type": "code",
   "execution_count": null,
   "metadata": {},
   "outputs": [],
   "source": [
    "class Autobús(Carro):\n",
    "    def acelerar(self,diferencia_velocidad):\n",
    "        if diferencia_velocidad >= 0:\n",
    "            print(f\"Subiendo la velocidad en {diferencia_velocidad} km/h\")\n",
    "            self.velocidad = self.velocidad + diferencia_velocidad\n",
    "            self.velocidad = min(self.velocidad,100)\n",
    "        else:\n",
    "            print(\"No se puede acelerar negativamente\")\n",
    "            \n",
    "    def frenar(self,diferencia_velocidad):\n",
    "        if diferencia_velocidad >= 0:\n",
    "            print(f\"Frenando en {diferencia_velocidad} km/h\")\n",
    "            self.velocidad = self.velocidad - diferencia_velocidad\n",
    "            self.velocidad = max(self.velocidad,0)      \n",
    "           "
   ]
  },
  {
   "cell_type": "code",
   "execution_count": null,
   "metadata": {},
   "outputs": [],
   "source": [
    "Bussy = Autobús(modelo = \"Mercedes Benz\",velocidad_maxima = 300,color = \"azul\")"
   ]
  }
 ],
 "metadata": {
  "kernelspec": {
   "display_name": "Python 3",
   "language": "python",
   "name": "python3"
  },
  "language_info": {
   "codemirror_mode": {
    "name": "ipython",
    "version": 3
   },
   "file_extension": ".py",
   "mimetype": "text/x-python",
   "name": "python",
   "nbconvert_exporter": "python",
   "pygments_lexer": "ipython3",
   "version": "3.7.7"
  }
 },
 "nbformat": 4,
 "nbformat_minor": 4
}
