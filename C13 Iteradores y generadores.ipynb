{
 "cells": [
  {
   "cell_type": "markdown",
   "metadata": {},
   "source": [
    "![imagenes](logo.png)"
   ]
  },
  {
   "cell_type": "markdown",
   "metadata": {},
   "source": [
    "# Iteradores y generadores."
   ]
  },
  {
   "cell_type": "markdown",
   "metadata": {},
   "source": [
    "Uno de los conceptos más poderosos en Python es el uso de iteradores y generadores.\n",
    "\n",
    "## Iteradores.\n",
    "\n",
    "Los \"iteradores\" y \"generadores\" son objetos que cuentan con el método *\\_\\_next\\_\\_()*, el cual regresa una serie de objetos de uno en uno cada vez que es invocado.\n",
    "\n",
    "La implementación del método *\\_\\_next\\_\\_()* corresponde a la función _next()_.\n",
    "\n",
    "## Iterables.\n",
    "\n",
    "Un objeto \"iterable\" es un objeto que cuenta con el método *\\_\\_iter\\_\\_()*, el cual da por resultado un objeto \"iterador\" cuando es invocado.\n",
    "\n",
    "La implementación del método *\\_\\_iter\\_\\_()* corresponde a la función _iter()_.\n",
    "\n",
    "**Ejemplo:**\n",
    "\n",
    "Por ejemplo, el tipo _list_ es iterable de la siguiente forma."
   ]
  },
  {
   "cell_type": "code",
   "execution_count": null,
   "metadata": {
    "scrolled": false
   },
   "outputs": [],
   "source": [
    "lista = ['1', 2, 'tres', 4.0]\n",
    "print(lista)"
   ]
  },
  {
   "cell_type": "markdown",
   "metadata": {},
   "source": [
    "Los objetos de tipo *list* son iterables, por lo que cuentan con un método *\\_\\_iter\\_\\_()*, pero no con un método *\\_\\_next\\_\\_()*."
   ]
  },
  {
   "cell_type": "code",
   "execution_count": null,
   "metadata": {
    "scrolled": false
   },
   "outputs": [],
   "source": [
    "lista.__iter__"
   ]
  },
  {
   "cell_type": "code",
   "execution_count": null,
   "metadata": {
    "scrolled": true
   },
   "outputs": [],
   "source": [
    "lista.__next__()"
   ]
  },
  {
   "cell_type": "markdown",
   "metadata": {},
   "source": [
    "Sin embargo, el objeto creado a partir del método *\\_\\_iter\\_\\_()* sí cuenta con un método *\\_\\_next\\_\\_()* y por lo tanto se trata de un iterador."
   ]
  },
  {
   "cell_type": "code",
   "execution_count": null,
   "metadata": {},
   "outputs": [],
   "source": [
    "iterador0 = lista.__iter__\n",
    "print(iterador0)"
   ]
  },
  {
   "cell_type": "code",
   "execution_count": null,
   "metadata": {
    "scrolled": false
   },
   "outputs": [],
   "source": [
    "iterador = iter(lista)\n",
    "print(iterador)"
   ]
  },
  {
   "cell_type": "code",
   "execution_count": null,
   "metadata": {
    "scrolled": false
   },
   "outputs": [],
   "source": [
    "type(iterador)"
   ]
  },
  {
   "cell_type": "code",
   "execution_count": null,
   "metadata": {
    "scrolled": false
   },
   "outputs": [],
   "source": [
    "iterador.__next__"
   ]
  },
  {
   "cell_type": "markdown",
   "metadata": {},
   "source": [
    "El objeto _iterador_ va a regresar cada elemento del objeto _lista_ de uno en uno cada vez que se invoque la función _next()_ y cuando ya haya dado todos, regresará un mensaje de error de tipo *StopIteration* indicando que el iterador está vacío."
   ]
  },
  {
   "cell_type": "code",
   "execution_count": null,
   "metadata": {
    "scrolled": false
   },
   "outputs": [],
   "source": [
    "next(iterador)"
   ]
  },
  {
   "cell_type": "code",
   "execution_count": null,
   "metadata": {
    "scrolled": false
   },
   "outputs": [],
   "source": [
    "next(iterador)"
   ]
  },
  {
   "cell_type": "code",
   "execution_count": null,
   "metadata": {
    "scrolled": false
   },
   "outputs": [],
   "source": [
    "next(iterador)"
   ]
  },
  {
   "cell_type": "code",
   "execution_count": null,
   "metadata": {
    "scrolled": false
   },
   "outputs": [],
   "source": [
    "next(iterador)"
   ]
  },
  {
   "cell_type": "code",
   "execution_count": null,
   "metadata": {
    "scrolled": false
   },
   "outputs": [],
   "source": [
    "next(iterador)"
   ]
  },
  {
   "cell_type": "markdown",
   "metadata": {},
   "source": [
    "## Implementación de las iteraciones con *for* ... *in*.\n",
    "La estructura _for_ .. _in_ es la implementación de Python para aprovechar los a los objetos iterables.\n",
    "Cuando se utiliza esta estructura, el intérprete de Python realiza los siguientes pasos:\n",
    "1. Busca un método *\\_\\_iter\\_\\_()* que se ajuste al requerimiento y crea un objeto iterador.\n",
    "2. Realiza una sucesión de ejecuciones de *\\_\\_next\\_\\_()* para el objeto iterador resultante hasta que éste quede vacío.\n",
    "Por lo que el siguiente código:"
   ]
  },
  {
   "cell_type": "code",
   "execution_count": null,
   "metadata": {
    "scrolled": false
   },
   "outputs": [],
   "source": [
    "for i in ['1', 2, 'tres', 4.0]:\n",
    "    print(i)"
   ]
  },
  {
   "cell_type": "markdown",
   "metadata": {},
   "source": [
    "**Ejemplo:**"
   ]
  },
  {
   "cell_type": "code",
   "execution_count": null,
   "metadata": {},
   "outputs": [],
   "source": [
    "persona = {'nombre': \"Juan\", 'primer apellido': \"Pérez\", 'Promedio': 7.5}"
   ]
  },
  {
   "cell_type": "code",
   "execution_count": null,
   "metadata": {},
   "outputs": [],
   "source": [
    "persona.items()"
   ]
  },
  {
   "cell_type": "code",
   "execution_count": null,
   "metadata": {},
   "outputs": [],
   "source": [
    "persona.keys()"
   ]
  },
  {
   "cell_type": "code",
   "execution_count": null,
   "metadata": {},
   "outputs": [],
   "source": [
    "persona.values()"
   ]
  },
  {
   "cell_type": "code",
   "execution_count": null,
   "metadata": {},
   "outputs": [],
   "source": [
    "persona.__iter__()"
   ]
  },
  {
   "cell_type": "code",
   "execution_count": null,
   "metadata": {},
   "outputs": [],
   "source": [
    "persona.keys().__iter__()"
   ]
  },
  {
   "cell_type": "markdown",
   "metadata": {},
   "source": [
    "## Generadores.\n",
    "Los generadores son objetos invocables, tales como las funciones y los métodos, los cuales implementan un método *\\_\\_next\\_\\_()*. Por lo general esto se realiza utilizando la expresión _yield_.\n",
    "\n",
    "### La expresión _yield_ .\n",
    "Esta expresión regresa un objeto del ámbito local de una función al ámbito superior de ésta, pero a diferencia de _return_ la función no es terminada, sino que continúa su ejecución."
   ]
  },
  {
   "cell_type": "markdown",
   "metadata": {},
   "source": [
    "**Ejemplo:**\n",
    "\n",
    "Para ilustrar el uso de _yield_ se creará una función que genere números primos  a partir del número 2 de forma ascendente, uno a la vez."
   ]
  },
  {
   "cell_type": "code",
   "execution_count": null,
   "metadata": {
    "scrolled": false
   },
   "outputs": [],
   "source": [
    "def gen_primos():\n",
    "    \"\"\" Generador de números primos.\"\"\"\n",
    "    \n",
    "    contador = 1\n",
    "    lista_primos = []\n",
    "               \n",
    "    # Comienza una secuencia infinita.\n",
    "    while True:\n",
    "        es_primo = True\n",
    "        contador += 1\n",
    "        if len(lista_primos) > 0:\n",
    "            for primo in lista_primos: \n",
    "                if contador % primo == 0:\n",
    "                    es_primo = False\n",
    "                    break\n",
    "        if es_primo:\n",
    "            lista_primos.append(contador)\n",
    "            yield contador"
   ]
  },
  {
   "cell_type": "code",
   "execution_count": null,
   "metadata": {
    "scrolled": false
   },
   "outputs": [],
   "source": [
    "generador = gen_primos()"
   ]
  },
  {
   "cell_type": "code",
   "execution_count": null,
   "metadata": {
    "scrolled": false
   },
   "outputs": [],
   "source": [
    "type(generador)"
   ]
  },
  {
   "cell_type": "code",
   "execution_count": null,
   "metadata": {
    "scrolled": false
   },
   "outputs": [],
   "source": [
    "generador.__next__"
   ]
  },
  {
   "cell_type": "code",
   "execution_count": null,
   "metadata": {
    "scrolled": false
   },
   "outputs": [],
   "source": [
    "next(generador)"
   ]
  },
  {
   "cell_type": "code",
   "execution_count": null,
   "metadata": {
    "scrolled": false
   },
   "outputs": [],
   "source": [
    "next(generador)"
   ]
  },
  {
   "cell_type": "code",
   "execution_count": null,
   "metadata": {
    "scrolled": false
   },
   "outputs": [],
   "source": [
    "next(generador)"
   ]
  },
  {
   "cell_type": "code",
   "execution_count": null,
   "metadata": {
    "scrolled": false
   },
   "outputs": [],
   "source": [
    "next(generador)"
   ]
  },
  {
   "cell_type": "code",
   "execution_count": null,
   "metadata": {
    "scrolled": false
   },
   "outputs": [],
   "source": [
    "next(generador)"
   ]
  },
  {
   "cell_type": "code",
   "execution_count": null,
   "metadata": {
    "scrolled": false
   },
   "outputs": [],
   "source": [
    "next(generador)"
   ]
  },
  {
   "cell_type": "code",
   "execution_count": null,
   "metadata": {
    "scrolled": false
   },
   "outputs": [],
   "source": [
    "next(generador)"
   ]
  },
  {
   "cell_type": "code",
   "execution_count": null,
   "metadata": {},
   "outputs": [],
   "source": [
    "for numero in generador:\n",
    "    print(numero)"
   ]
  },
  {
   "cell_type": "code",
   "execution_count": null,
   "metadata": {
    "scrolled": false
   },
   "outputs": [],
   "source": [
    "def gen_finito(limite=100):\n",
    "    contador = 1\n",
    "    lista_primos=[]\n",
    "               \n",
    "    # Comienza una secuencia infinita.\n",
    "    while contador < limite:\n",
    "        es_primo = True\n",
    "        contador += 1\n",
    "        if len(lista_primos) > 0:\n",
    "            for primo in lista_primos: \n",
    "                if contador % primo == 0:\n",
    "                    es_primo = False\n",
    "                    break\n",
    "        if es_primo:\n",
    "            lista_primos.append(contador)\n",
    "            yield contador"
   ]
  },
  {
   "cell_type": "code",
   "execution_count": null,
   "metadata": {
    "scrolled": false
   },
   "outputs": [],
   "source": [
    "finito = gen_finito(10)"
   ]
  },
  {
   "cell_type": "code",
   "execution_count": null,
   "metadata": {
    "scrolled": false
   },
   "outputs": [],
   "source": [
    "type(finito)"
   ]
  },
  {
   "cell_type": "code",
   "execution_count": null,
   "metadata": {
    "scrolled": false
   },
   "outputs": [],
   "source": [
    "for item in finito:\n",
    "    print(item)"
   ]
  },
  {
   "cell_type": "code",
   "execution_count": null,
   "metadata": {
    "scrolled": false
   },
   "outputs": [],
   "source": [
    "next(finito)"
   ]
  },
  {
   "cell_type": "code",
   "execution_count": null,
   "metadata": {
    "scrolled": true
   },
   "outputs": [],
   "source": [
    "for item in gen_finito(1000):\n",
    "    print(item)"
   ]
  },
  {
   "cell_type": "markdown",
   "metadata": {},
   "source": [
    "En este caso, se puede realizar una sucesión indefinida de iteraciones, las cuales estarían restringidas exclusivamente a la capacidad del sistema para manejo de números enteros y/o los recursos de memoria."
   ]
  }
 ],
 "metadata": {
  "kernelspec": {
   "display_name": "Python 3",
   "language": "python",
   "name": "python3"
  },
  "language_info": {
   "codemirror_mode": {
    "name": "ipython",
    "version": 3
   },
   "file_extension": ".py",
   "mimetype": "text/x-python",
   "name": "python",
   "nbconvert_exporter": "python",
   "pygments_lexer": "ipython3",
   "version": "3.7.4"
  }
 },
 "nbformat": 4,
 "nbformat_minor": 2
}
