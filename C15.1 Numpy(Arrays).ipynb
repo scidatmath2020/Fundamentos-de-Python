{
 "cells": [
  {
   "cell_type": "markdown",
   "metadata": {},
   "source": [
    "<img src=\"logo.png\">"
   ]
  },
  {
   "cell_type": "markdown",
   "metadata": {},
   "source": [
    "# Numpy  \n",
    "\n",
    "Numpy es un paquete especializado en la creación, gestión y operación (incluyendo funciones matemáticas y estádisitcas básicas y generación de números aleatorios) con arreglos de una o varias dimensiones.\n",
    "\n",
    "Numpy cuenta con módulos especializados en operaciones de algebra lineal y transformaciones de Fourier entre otros.\n",
    "\n",
    "Cabe señalar que Numpy generalmente se beneficia del uso de bibliotecas de algebra lineal escritas en FORTRAN, tales como Lapack, BLAS y OpenBLAS. Incluso existen algunas variantes de Numpy diseñadas para realizar cálculos mediante GPU tales como Gnumpy.\n",
    "\n",
    "Los tipos de datos y los arreglos de Numpy son elemento base del resto de los componentes de Scipy e incluso de otras herramientas de cómputo científico."
   ]
  },
  {
   "cell_type": "code",
   "execution_count": null,
   "metadata": {},
   "outputs": [],
   "source": [
    "!pip install numpy"
   ]
  },
  {
   "cell_type": "markdown",
   "metadata": {},
   "source": [
    "Por convención, cuando se manda a llamar *numpy* se hace con la abreviatura *np*"
   ]
  },
  {
   "cell_type": "code",
   "execution_count": null,
   "metadata": {},
   "outputs": [],
   "source": [
    "import numpy as np"
   ]
  },
  {
   "cell_type": "markdown",
   "metadata": {},
   "source": [
    "## Los arreglos en Numpy\n",
    "\n",
    "Un arreglo es una coleeción ordenada e indexable de objetos, todos del mismo tipo.\n",
    "\n",
    "De manera genérica, se construyen con la siguiente sintaxis\n",
    "\n",
    "``nombre_del_arreglo = np.array(\"estructura\")``\n",
    "\n",
    "Los arreglos de Numpy son estructuras que a su vez pueden contener arreglos en varios niveles o \"dimensiones\".\n",
    "\n",
    "Todos los arreglos en una dimensión específica deben de contener el mismo número de elementos. Al número de objetos que contiene un arreglo en cada dimensión se conoce como forma (shape)."
   ]
  },
  {
   "cell_type": "markdown",
   "metadata": {},
   "source": [
    "<img src=\"arrays_np.png\">"
   ]
  },
  {
   "cell_type": "code",
   "execution_count": null,
   "metadata": {},
   "outputs": [],
   "source": [
    "# Crearemos un array de dimensión 1: largo.\n",
    "\n",
    "array_1d = np.array([1,2,3])\n",
    "\n",
    "array_1d"
   ]
  },
  {
   "cell_type": "code",
   "execution_count": null,
   "metadata": {},
   "outputs": [],
   "source": [
    "array_2d = np.array([[1,2,3],[4,5,6]])\n",
    "\n",
    "print(array_2d)"
   ]
  },
  {
   "cell_type": "markdown",
   "metadata": {},
   "source": [
    "Los arreglos cuentan con el atributo *ndim*, el cual indica el número de dimensiones del arreglo."
   ]
  },
  {
   "cell_type": "code",
   "execution_count": null,
   "metadata": {},
   "outputs": [],
   "source": [
    "print(f\"El arreglo array_1d tiene un total de {array_1d.ndim} dimensiones, las cuales valen {array_1d.shape} respectivamente, por lo cual cuenta con {array_1d.size} elementos\")\n"
   ]
  },
  {
   "cell_type": "code",
   "execution_count": null,
   "metadata": {},
   "outputs": [],
   "source": [
    "print(f\"El arreglo array_2d tiene un total de {array_2d.ndim} dimensiones, las cuales valen {array_2d.shape} respectivamente, por lo cual cuenta con {array_2d.size} elementos\")\n"
   ]
  },
  {
   "cell_type": "markdown",
   "metadata": {},
   "source": [
    "En este sentido, una **matriz** en Numpy es un arragle con shape igual a (2,2)."
   ]
  },
  {
   "cell_type": "code",
   "execution_count": null,
   "metadata": {},
   "outputs": [],
   "source": [
    "a = np.array([[1,2,3],[4,5.0,6]],dtype=str)\n",
    "a"
   ]
  },
  {
   "cell_type": "markdown",
   "metadata": {},
   "source": [
    "También podemos incluir valores nulos con *np.nan*"
   ]
  },
  {
   "cell_type": "code",
   "execution_count": null,
   "metadata": {},
   "outputs": [],
   "source": [
    "array_con_nulos = np.array([2,4,np.nan,8])\n",
    "array_con_nulos"
   ]
  },
  {
   "cell_type": "markdown",
   "metadata": {},
   "source": [
    "E incluso podemos hacer reemplazamientos de los valores nulos por algún otro valor"
   ]
  },
  {
   "cell_type": "code",
   "execution_count": null,
   "metadata": {},
   "outputs": [],
   "source": [
    "np.isnan(array_con_nulos)"
   ]
  },
  {
   "cell_type": "code",
   "execution_count": null,
   "metadata": {},
   "outputs": [],
   "source": [
    "array_con_nulos[np.isnan(array_con_nulos)] = 0\n",
    "array_con_nulos"
   ]
  },
  {
   "cell_type": "markdown",
   "metadata": {},
   "source": [
    "## Indexado de arrays\n",
    "\n",
    "Consideremos el siguiente arrary:\n",
    "\n",
    "\n",
    "\n"
   ]
  },
  {
   "cell_type": "code",
   "execution_count": null,
   "metadata": {},
   "outputs": [],
   "source": [
    "mi_arreglo = np.array([[3,4,5,9],\n",
    "                       [7,8,3,12],\n",
    "                       [0,3,23,20],\n",
    "                       [8,11,6,21]])\n",
    "mi_arreglo"
   ]
  },
  {
   "cell_type": "code",
   "execution_count": null,
   "metadata": {},
   "outputs": [],
   "source": [
    "mi_arreglo.shape"
   ]
  },
  {
   "cell_type": "code",
   "execution_count": null,
   "metadata": {},
   "outputs": [],
   "source": [
    "# Accesar al elemento de la fila 1 y columna 3\n",
    "\n",
    "mi_arreglo[0,2]\n",
    "mi_arreglo[0][2]\n"
   ]
  },
  {
   "cell_type": "code",
   "execution_count": null,
   "metadata": {},
   "outputs": [],
   "source": [
    "# Accesar a la fila 1 desde la segunda columna hasta la tercera\n",
    "\n",
    "mi_arreglo[0,1:3]"
   ]
  },
  {
   "cell_type": "code",
   "execution_count": null,
   "metadata": {},
   "outputs": [],
   "source": [
    "# Accesar a toda la fila 2\n",
    "mi_arreglo[1,:]"
   ]
  },
  {
   "cell_type": "code",
   "execution_count": null,
   "metadata": {},
   "outputs": [],
   "source": [
    "# Accesar a las filas 2 y 3\n",
    "\n",
    "mi_arreglo[1:3,:]"
   ]
  },
  {
   "cell_type": "code",
   "execution_count": null,
   "metadata": {},
   "outputs": [],
   "source": [
    "mi_arreglo"
   ]
  },
  {
   "cell_type": "code",
   "execution_count": null,
   "metadata": {},
   "outputs": [],
   "source": [
    "# Accesar a la columna 3\n",
    "\n",
    "mi_arreglo[:,2]"
   ]
  },
  {
   "cell_type": "code",
   "execution_count": null,
   "metadata": {},
   "outputs": [],
   "source": [
    "# Accesar a la última columna\n",
    "\n",
    "mi_arreglo[-1,:]"
   ]
  },
  {
   "cell_type": "markdown",
   "metadata": {},
   "source": [
    "## Observación importante sobre los índices\n",
    "\n",
    "Es importante saber que el indexado de arrays puede cambiar el objeto original.\n",
    "\n"
   ]
  },
  {
   "cell_type": "code",
   "execution_count": null,
   "metadata": {},
   "outputs": [],
   "source": [
    "# Consideremos la siguiente matriz\n",
    "\n",
    "matriz = np.array([[1,2,3,4],[5,6,7,8],[9,10,11,12]])\n",
    "matriz"
   ]
  },
  {
   "cell_type": "code",
   "execution_count": null,
   "metadata": {},
   "outputs": [],
   "source": [
    "seleccion = matriz[1,1]\n",
    "print(seleccion)\n",
    "seleccion = 100\n",
    "matriz"
   ]
  },
  {
   "cell_type": "code",
   "execution_count": null,
   "metadata": {},
   "outputs": [],
   "source": [
    "seccion = matriz[:2,]\n",
    "print(seccion)\n"
   ]
  },
  {
   "cell_type": "code",
   "execution_count": null,
   "metadata": {},
   "outputs": [],
   "source": [
    "seccion[0,0]\n",
    "seccion[0,0] = 100\n",
    "matriz"
   ]
  },
  {
   "cell_type": "markdown",
   "metadata": {},
   "source": [
    "## Filtrados\n",
    "\n",
    "Consideremos la siguiente matriz"
   ]
  },
  {
   "cell_type": "code",
   "execution_count": null,
   "metadata": {},
   "outputs": [],
   "source": [
    "matriz = np.array([[1,4],[2,4],[5,0]])\n",
    "matriz"
   ]
  },
  {
   "cell_type": "code",
   "execution_count": null,
   "metadata": {},
   "outputs": [],
   "source": [
    "# Construir una matriz booleana que nos diga qué elementos son mayores o iguales que 2\n",
    "matriz_filtrada = matriz >= 2\n",
    "matriz_filtrada"
   ]
  },
  {
   "cell_type": "code",
   "execution_count": null,
   "metadata": {},
   "outputs": [],
   "source": [
    "matriz[matriz_filtrada]"
   ]
  }
 ],
 "metadata": {
  "kernelspec": {
   "display_name": "Python 3",
   "language": "python",
   "name": "python3"
  },
  "language_info": {
   "codemirror_mode": {
    "name": "ipython",
    "version": 3
   },
   "file_extension": ".py",
   "mimetype": "text/x-python",
   "name": "python",
   "nbconvert_exporter": "python",
   "pygments_lexer": "ipython3",
   "version": "3.7.7"
  }
 },
 "nbformat": 4,
 "nbformat_minor": 4
}
