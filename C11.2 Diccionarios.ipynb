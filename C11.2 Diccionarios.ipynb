{
 "cells": [
  {
   "cell_type": "markdown",
   "metadata": {},
   "source": [
    "![imagenes](logo.png)"
   ]
  },
  {
   "cell_type": "markdown",
   "metadata": {
    "collapsed": true
   },
   "source": [
    "# Objetos tipo ```dict```.\n",
    "\n",
    "Los objetos de tipo ```dict``` son una colección de elementos en la que los índices en vez de ser numéricos corresponden a una \"clave\" o \"identificador\".\n",
    "\n",
    "\n",
    "## Estructura de un objeto tipo ```dict```.\n",
    "\n",
    "Los objetos de tipo ```dict``` se definen como una sucesión de pares ```<clave>:<valor>``` separados por comas: ``{<clave1>:<valor1>,<clave2>:<valor2>,...,<claven>:<valorn>}``\n",
    "\n",
    "La clave debe de ser un objeto inmutable tal como es el caso de:\n",
    "\n",
    "* Objetos de tipo ```str```.\n",
    "* Objetos de tipo ```int```.\n",
    "* Objetos de tipo ```float```.\n",
    "* Objetos de tipo ```complex```.\n",
    "* Objetos de tipo ```bool```.\n",
    "* Objetos de tipo ```bytes```.\n",
    "* Objetos de tipo ```tuple```.\n",
    "* Objetos de tipo ```frozenset```.\n",
    "\n",
    "Lo más común y recomendable es utilizar objetos de tipo ```str``` o ```int```.\n",
    "\n",
    "## Definición de un objeto tipo ```dict```.\n",
    "\n",
    "Hay dos maneras de definir objetos tipo ```dict```.\n",
    "\n",
    "### Sintaxis con llaves.\n",
    "\n",
    "Se hace una secuencia de pares ```<clave>:<valor>```, separados por comas y encerrados entre llaves ```{``` ```}```.\n",
    "\n",
    "La sintaxis es la siguiente:\n",
    "\n",
    "```\n",
    "{<clave 1>:<objeto 1>, <clave 2>:<objeto 2>, ..., <clave n>:<objeto n>}\n",
    "```\n",
    "\n",
    "**Nota:** A partir de Python 3.6 los objetos tipo ```dict``` conservan el orden en el que fueron capturados sus elementos. En versiones previas de Python, el orden no es respetado necesariamente."
   ]
  },
  {
   "cell_type": "markdown",
   "metadata": {},
   "source": [
    "**Ejemplos:**"
   ]
  },
  {
   "cell_type": "markdown",
   "metadata": {},
   "source": [
    "* Las siguientes celdas definen objetos de tipo  ```dict```."
   ]
  },
  {
   "cell_type": "code",
   "execution_count": null,
   "metadata": {},
   "outputs": [],
   "source": [
    "{\"nombre\": \"Juan\", \"apellido_1\": \"Pérez\", \"apellido_2\": \"Sánchez\"}"
   ]
  },
  {
   "cell_type": "code",
   "execution_count": null,
   "metadata": {},
   "outputs": [],
   "source": [
    "{1:('Auto', True, 12), \"valor\":None}"
   ]
  },
  {
   "cell_type": "code",
   "execution_count": null,
   "metadata": {},
   "outputs": [],
   "source": [
    "{1.25: 'hola', (12, 23): 'saludo', 12j: True}"
   ]
  },
  {
   "cell_type": "code",
   "execution_count": null,
   "metadata": {},
   "outputs": [],
   "source": [
    "{}"
   ]
  },
  {
   "cell_type": "code",
   "execution_count": null,
   "metadata": {},
   "outputs": [],
   "source": [
    "type({})"
   ]
  },
  {
   "cell_type": "code",
   "execution_count": null,
   "metadata": {},
   "outputs": [],
   "source": [
    "codigo_sexo = {1:\"Mujer\",\"2\":\"Hombre\"}"
   ]
  },
  {
   "cell_type": "markdown",
   "metadata": {},
   "source": [
    "### La función ```dict()```.\n",
    "\n",
    "Es posible crear objetos de tipo ```dict``` mediante la función ```dict()```. En este caso los identificadores deben de cumplir con las reglas para la definición de nombres y no llevan apóstrofes ni comillas. La relación entre el identificador y el valor se define mediante el operador de asignación ```=```.\n",
    "\n",
    "```\n",
    "dict(<nombre 1>=<valor 1>, <nombre2 >=<valor 2>, ... , <nombre n>=<valor n>)\n",
    "```"
   ]
  },
  {
   "cell_type": "markdown",
   "metadata": {},
   "source": [
    "**Ejemplos:**"
   ]
  },
  {
   "cell_type": "markdown",
   "metadata": {},
   "source": [
    "* Las siguientes celdas definen objetos de tipo  ```dict``` usando la función ```dict()```."
   ]
  },
  {
   "cell_type": "code",
   "execution_count": null,
   "metadata": {},
   "outputs": [],
   "source": [
    "dict(nombre= \"Armando\", escolaridad_máxima= \"Licenciatura\")"
   ]
  },
  {
   "cell_type": "code",
   "execution_count": null,
   "metadata": {
    "scrolled": true
   },
   "outputs": [],
   "source": [
    "dict('nombre'= \"Armando\", 'escolaridad_máxima'= \"Licenciatura\")"
   ]
  },
  {
   "cell_type": "code",
   "execution_count": null,
   "metadata": {},
   "outputs": [],
   "source": [
    "dict(1=\"Uno\", operador = \"+\")"
   ]
  },
  {
   "cell_type": "code",
   "execution_count": null,
   "metadata": {},
   "outputs": [],
   "source": [
    "1=\"Uno\""
   ]
  },
  {
   "cell_type": "code",
   "execution_count": null,
   "metadata": {},
   "outputs": [],
   "source": [
    "{1:\"uno\",\"operador\":\"+\"}"
   ]
  },
  {
   "cell_type": "markdown",
   "metadata": {},
   "source": [
    "### Pares mapeables.\n",
    "\n",
    "Se entiende que un par mapeable es una colección de dos elementos, en la que el primer elemento es un objeto inmutable y el segundo puede ser cualquier objeto; de tal manera que una colección de pares mapeables puede ser transformada en un objeto de tipo ```dict```."
   ]
  },
  {
   "cell_type": "markdown",
   "metadata": {},
   "source": [
    "**Ejemplo:**"
   ]
  },
  {
   "cell_type": "code",
   "execution_count": null,
   "metadata": {},
   "outputs": [],
   "source": [
    "par_mapeable = (['nombre', 'Juan'], ['promedio', 10])"
   ]
  },
  {
   "cell_type": "code",
   "execution_count": null,
   "metadata": {},
   "outputs": [],
   "source": [
    "dict(par_mapeable)"
   ]
  },
  {
   "cell_type": "markdown",
   "metadata": {},
   "source": [
    "## Acceso y modificación de los elementos de tipo ```dict```.\n",
    "\n",
    "A diferencia de los tipos como ```list``` y ```tuple```, los cuales usan índices numéricos, los objetos de tipo ```dict``` utilizan a las claves para acceder a los elementos que contienen.\n",
    "\n",
    "La sintaxis para acceder a un elemento de un objeto de tipo ```dict``` es la siguiente:\n",
    "\n",
    "```\n",
    "<objeto tipo dict>[<clave>]\n",
    "\n",
    "```\n",
    "En caso de que el identificador no corresponda a ninguno dentro del objeto, se generará un errorde tipo ```KeyError```."
   ]
  },
  {
   "cell_type": "markdown",
   "metadata": {},
   "source": [
    " **Ejemplos:**"
   ]
  },
  {
   "cell_type": "code",
   "execution_count": null,
   "metadata": {},
   "outputs": [],
   "source": [
    "persona = {\"nombre\": \"Juan\",\\\n",
    "           \"primer_apellido\":\"Pérez\",\\\n",
    "           \"segundo_apellido\":\"Sánchez\"}"
   ]
  },
  {
   "cell_type": "code",
   "execution_count": null,
   "metadata": {},
   "outputs": [],
   "source": [
    "persona[\"segundo_apellido\"]"
   ]
  },
  {
   "cell_type": "code",
   "execution_count": null,
   "metadata": {},
   "outputs": [],
   "source": [
    "persona[\"correo\"]"
   ]
  },
  {
   "cell_type": "code",
   "execution_count": null,
   "metadata": {},
   "outputs": [],
   "source": [
    "persona[\"nombre\"]"
   ]
  },
  {
   "cell_type": "code",
   "execution_count": null,
   "metadata": {},
   "outputs": [],
   "source": [
    "guerreros = {\"saijajines\":[\"Gokú\",\"Vegeta\"],\\\n",
    "             \"humanos\":[\"Krillin\",\"Yamcha\",\"Ten Shin Han\"]}"
   ]
  },
  {
   "cell_type": "code",
   "execution_count": null,
   "metadata": {},
   "outputs": [],
   "source": [
    "guerreros[\"saijajines\"][0].upper()"
   ]
  },
  {
   "cell_type": "markdown",
   "metadata": {},
   "source": [
    "### Modificación o adición de un elemento  contenido en un objeto de tipo _dict_.\n",
    "\n",
    "Para modificar un elemento de un objeto tipo ```dict``` se utiliza el operador de asignación ```=```.\n",
    "\n",
    "```\n",
    "<objeto tipo dict>[<clave>] = <valor>\n",
    "```\n",
    "En caso de que no exista un elemento con la clave ingresada, el elemento se añadirá al objeto tipo ```dict```."
   ]
  },
  {
   "cell_type": "markdown",
   "metadata": {},
   "source": [
    "**Ejemplos:**"
   ]
  },
  {
   "cell_type": "code",
   "execution_count": null,
   "metadata": {},
   "outputs": [],
   "source": [
    "persona = dict(nombre=\"Juan\", primer_apellido='Perez')"
   ]
  },
  {
   "cell_type": "code",
   "execution_count": null,
   "metadata": {},
   "outputs": [],
   "source": [
    "persona"
   ]
  },
  {
   "cell_type": "code",
   "execution_count": null,
   "metadata": {},
   "outputs": [],
   "source": [
    "persona['nombre'] = \"Joaquín\""
   ]
  },
  {
   "cell_type": "code",
   "execution_count": null,
   "metadata": {},
   "outputs": [],
   "source": [
    "persona"
   ]
  },
  {
   "cell_type": "code",
   "execution_count": null,
   "metadata": {},
   "outputs": [],
   "source": [
    "persona['segundo_apellido'] = \"Sánchez\""
   ]
  },
  {
   "cell_type": "code",
   "execution_count": null,
   "metadata": {},
   "outputs": [],
   "source": [
    "persona"
   ]
  },
  {
   "cell_type": "markdown",
   "metadata": {},
   "source": [
    "### Eliminación de un elemento contenido en un objeto de tipo ```dict```.\n",
    "\n",
    "Para eliminar un elemento de un objeto tipo ```dict``` se utiliza la declaración ```del```. \n",
    "\n",
    "```\n",
    "del <objeto tipo dict>[<identificador>]\n",
    "``` "
   ]
  },
  {
   "cell_type": "markdown",
   "metadata": {},
   "source": [
    "**Ejemplo:**"
   ]
  },
  {
   "cell_type": "code",
   "execution_count": null,
   "metadata": {},
   "outputs": [],
   "source": [
    "persona = dict(nombre=\"Juan\", primer_apellido='Perez')"
   ]
  },
  {
   "cell_type": "code",
   "execution_count": null,
   "metadata": {},
   "outputs": [],
   "source": [
    "del persona['nombre']"
   ]
  },
  {
   "cell_type": "code",
   "execution_count": null,
   "metadata": {},
   "outputs": [],
   "source": [
    "persona"
   ]
  },
  {
   "cell_type": "code",
   "execution_count": null,
   "metadata": {},
   "outputs": [],
   "source": [
    "del persona['nombre']"
   ]
  },
  {
   "cell_type": "markdown",
   "metadata": {},
   "source": [
    "## Métodos del tipo ```dict```. "
   ]
  },
  {
   "cell_type": "markdown",
   "metadata": {},
   "source": [
    "### El método ```copy()```.\n",
    "Regresa un nuevo objeto de tipo ```dict``` con los mismos elementos que contiene el objeto al que pertenece el método de forma similar a un rebanado completo en los tipos ```tuple``` y ```list```."
   ]
  },
  {
   "cell_type": "markdown",
   "metadata": {},
   "source": [
    "**Ejemplo:**"
   ]
  },
  {
   "cell_type": "code",
   "execution_count": null,
   "metadata": {},
   "outputs": [],
   "source": [
    "persona = {\"nombre\": \"Juan\",\\\n",
    "           \"primer_apellido\":\"Pérez\",\\\n",
    "           \"segundo_apellido\":\"Sánchez\"}"
   ]
  },
  {
   "cell_type": "code",
   "execution_count": null,
   "metadata": {},
   "outputs": [],
   "source": [
    "id(persona)"
   ]
  },
  {
   "cell_type": "code",
   "execution_count": null,
   "metadata": {},
   "outputs": [],
   "source": [
    "otra_persona = persona.copy()"
   ]
  },
  {
   "cell_type": "code",
   "execution_count": null,
   "metadata": {},
   "outputs": [],
   "source": [
    "otra_persona"
   ]
  },
  {
   "cell_type": "code",
   "execution_count": null,
   "metadata": {},
   "outputs": [],
   "source": [
    "id(otra_persona)"
   ]
  },
  {
   "cell_type": "code",
   "execution_count": null,
   "metadata": {},
   "outputs": [],
   "source": [
    "otra_persona"
   ]
  },
  {
   "cell_type": "code",
   "execution_count": null,
   "metadata": {},
   "outputs": [],
   "source": [
    "persona == otra_persona"
   ]
  },
  {
   "cell_type": "code",
   "execution_count": null,
   "metadata": {},
   "outputs": [],
   "source": [
    "persona is otra_persona"
   ]
  },
  {
   "cell_type": "markdown",
   "metadata": {},
   "source": [
    "### El método ```pop()```.\n",
    "Regresa el valor ligado al identificador que se ingresa como argumento y lo elimina del diccionario. \n",
    "\n",
    "En caso de no encontrar un identificador igual al argumento, se genera un error de tipo ```KeyError```. \n",
    "\n",
    "En caso de no ingresar un argumento, se generará un error de tipo _TypeError_."
   ]
  },
  {
   "cell_type": "markdown",
   "metadata": {},
   "source": [
    "**Ejemplo:**"
   ]
  },
  {
   "cell_type": "code",
   "execution_count": null,
   "metadata": {},
   "outputs": [],
   "source": [
    "persona = {\"nombre\": \"Juan\", \"primer_apellido\":\"Pérez\", \n",
    "           \"segundo_apellido\":\"Sánchez\"}"
   ]
  },
  {
   "cell_type": "code",
   "execution_count": null,
   "metadata": {},
   "outputs": [],
   "source": [
    "persona"
   ]
  },
  {
   "cell_type": "code",
   "execution_count": null,
   "metadata": {},
   "outputs": [],
   "source": [
    "persona.pop(\"nombre\")"
   ]
  },
  {
   "cell_type": "code",
   "execution_count": null,
   "metadata": {},
   "outputs": [],
   "source": [
    "persona"
   ]
  },
  {
   "cell_type": "code",
   "execution_count": null,
   "metadata": {},
   "outputs": [],
   "source": [
    "guerreros_poderos = {\"Gokú\":20000,\"Vegueta\":19000,\"Yamcha\":1000}"
   ]
  },
  {
   "cell_type": "code",
   "execution_count": null,
   "metadata": {},
   "outputs": [],
   "source": [
    "guerreros_poderos.pop(\"Yamcha\")"
   ]
  },
  {
   "cell_type": "code",
   "execution_count": null,
   "metadata": {},
   "outputs": [],
   "source": [
    "guerreros_poderos"
   ]
  },
  {
   "cell_type": "code",
   "execution_count": null,
   "metadata": {},
   "outputs": [],
   "source": [
    "persona.pop()"
   ]
  },
  {
   "cell_type": "code",
   "execution_count": null,
   "metadata": {},
   "outputs": [],
   "source": [
    "guerreros_poderos.pop()"
   ]
  },
  {
   "cell_type": "code",
   "execution_count": null,
   "metadata": {},
   "outputs": [],
   "source": [
    "persona.pop(\"nombre\")"
   ]
  },
  {
   "cell_type": "markdown",
   "metadata": {},
   "source": [
    "### El método ```popitem()```.\n",
    "\n",
    "Regresa una tupla conteniendo el identificador y el valor del último elemento del diccionario y lo elimina del objeto tipo ```dict```. En caso de que el objeto tipo ```dict``` esté vació, se generará un errorde tipo ```KeyError```."
   ]
  },
  {
   "cell_type": "markdown",
   "metadata": {},
   "source": [
    "**Ejemplo:**"
   ]
  },
  {
   "cell_type": "code",
   "execution_count": null,
   "metadata": {},
   "outputs": [],
   "source": [
    "persona = {\"nombre\": \"Juan\",\\\n",
    "           \"primer_apellido\":\"Pérez\",\\\n",
    "           \"segundo_apellido\":\"Sánchez\"}"
   ]
  },
  {
   "cell_type": "code",
   "execution_count": null,
   "metadata": {},
   "outputs": [],
   "source": [
    "persona.popitem()"
   ]
  },
  {
   "cell_type": "code",
   "execution_count": null,
   "metadata": {},
   "outputs": [],
   "source": [
    "persona"
   ]
  },
  {
   "cell_type": "code",
   "execution_count": null,
   "metadata": {},
   "outputs": [],
   "source": [
    "persona.popitem()"
   ]
  },
  {
   "cell_type": "code",
   "execution_count": null,
   "metadata": {},
   "outputs": [],
   "source": [
    "persona"
   ]
  },
  {
   "cell_type": "code",
   "execution_count": null,
   "metadata": {},
   "outputs": [],
   "source": [
    "persona.popitem()"
   ]
  },
  {
   "cell_type": "code",
   "execution_count": null,
   "metadata": {},
   "outputs": [],
   "source": [
    "persona"
   ]
  },
  {
   "cell_type": "code",
   "execution_count": null,
   "metadata": {},
   "outputs": [],
   "source": [
    "persona.popitem()"
   ]
  },
  {
   "cell_type": "markdown",
   "metadata": {},
   "source": [
    "### El método ```get()```.\n",
    "\n",
    "Regresa el valor que corresponde al identificador ingresado como primer argumento. En caso de no encontrar el identificador, regresa el valor que se indique como segundo argumento. Si  no hay un segundo argumento, regresa el valor ```None```."
   ]
  },
  {
   "cell_type": "markdown",
   "metadata": {},
   "source": [
    "**Ejemplos:**"
   ]
  },
  {
   "cell_type": "code",
   "execution_count": null,
   "metadata": {},
   "outputs": [],
   "source": [
    "persona = {\"nombre\": \"Juan\",\\\n",
    "           \"primer_apellido\":\"Pérez\",\\\n",
    "           \"segundo_apellido\":\"Sánchez\"}"
   ]
  },
  {
   "cell_type": "code",
   "execution_count": null,
   "metadata": {},
   "outputs": [],
   "source": [
    "persona.get(\"nombre\")"
   ]
  },
  {
   "cell_type": "code",
   "execution_count": null,
   "metadata": {},
   "outputs": [],
   "source": [
    "persona.get(\"nombre1\")"
   ]
  },
  {
   "cell_type": "code",
   "execution_count": null,
   "metadata": {},
   "outputs": [],
   "source": [
    "persona[\"nombre1\"]"
   ]
  },
  {
   "cell_type": "code",
   "execution_count": null,
   "metadata": {},
   "outputs": [],
   "source": [
    "print(persona.get(\"nombre1\"))"
   ]
  },
  {
   "cell_type": "code",
   "execution_count": null,
   "metadata": {},
   "outputs": [],
   "source": [
    "persona.get(\"nombre1\", False)"
   ]
  },
  {
   "cell_type": "markdown",
   "metadata": {},
   "source": [
    "### El método _update()_.\n",
    "Sustituye y añade los elementos que se ingresan como argumento. El argumento puede ser un objeto de tipo _dict_ o un objeto iterable que contenga pares compatibles con el fomato clave:valor.\n",
    "\n",
    "**Ejemplo:**"
   ]
  },
  {
   "cell_type": "code",
   "execution_count": null,
   "metadata": {},
   "outputs": [],
   "source": [
    "persona = {\"nombre\": \"Juan\",\\\n",
    "           \"primer_apellido\":\"Pérez\",\\\n",
    "           \"segundo_apellido\":\"Sánchez\"}"
   ]
  },
  {
   "cell_type": "code",
   "execution_count": null,
   "metadata": {},
   "outputs": [],
   "source": [
    "persona.update({\"nombre\":\"Pedro\", \"codigo_postal\":\"020101\"})"
   ]
  },
  {
   "cell_type": "code",
   "execution_count": null,
   "metadata": {},
   "outputs": [],
   "source": [
    "persona"
   ]
  },
  {
   "cell_type": "code",
   "execution_count": null,
   "metadata": {},
   "outputs": [],
   "source": [
    "persona.update({'nombre':'Pedro'})"
   ]
  },
  {
   "cell_type": "code",
   "execution_count": null,
   "metadata": {},
   "outputs": [],
   "source": [
    "persona"
   ]
  },
  {
   "cell_type": "code",
   "execution_count": null,
   "metadata": {},
   "outputs": [],
   "source": [
    "persona.update([(\"profesion\", \"abogado\"), [\"nacionalidad\", \"MX\"]])\n",
    "persona"
   ]
  },
  {
   "cell_type": "markdown",
   "metadata": {},
   "source": [
    "### El método _setdefault()_.\n",
    "Se ingresan un identificador y un valor como argumentos. En caso de no ingresar un valor, el valor por defecto es _None_. Si ya existe un elemento cuyo identificador coincide con el ingresado, regresa el valor correspondiente del elemento existente. Si no existe un elemento con el nombre del identificador, entonces se añade un elemento conteniendo el identificador y valor ingresados, y regresa dicho valor.\n",
    "\n",
    "**Ejemplos:**"
   ]
  },
  {
   "cell_type": "code",
   "execution_count": null,
   "metadata": {},
   "outputs": [],
   "source": [
    "persona = {\"nombre\": \"Juan\",\\\n",
    "           \"primer_apellido\":\"Pérez\",\\\n",
    "           \"segundo_apellido\":\"Sánchez\"}"
   ]
  },
  {
   "cell_type": "code",
   "execution_count": null,
   "metadata": {},
   "outputs": [],
   "source": [
    "persona.setdefault(\"email\", \"jp@falso.com\")"
   ]
  },
  {
   "cell_type": "code",
   "execution_count": null,
   "metadata": {},
   "outputs": [],
   "source": [
    "persona"
   ]
  },
  {
   "cell_type": "code",
   "execution_count": null,
   "metadata": {},
   "outputs": [],
   "source": [
    "persona.setdefault(\"nombre\", 'José')"
   ]
  },
  {
   "cell_type": "code",
   "execution_count": null,
   "metadata": {},
   "outputs": [],
   "source": [
    "persona"
   ]
  },
  {
   "cell_type": "code",
   "execution_count": null,
   "metadata": {},
   "outputs": [],
   "source": [
    "persona.setdefault(\"membresia\")"
   ]
  },
  {
   "cell_type": "code",
   "execution_count": null,
   "metadata": {},
   "outputs": [],
   "source": [
    "persona"
   ]
  },
  {
   "cell_type": "markdown",
   "metadata": {},
   "source": [
    "### El método _fromkeys()_.\n",
    "Se ingresa un iterable conteniendo una sucesión de identificadores seguido por un valor. El método regresa un objeto de tipo _dict_ asignando a cada uno de los identificadores el valor ingresado. En caso de ni ingresar un valor, el valor por defecto es _None_.\n",
    "\n",
    "**Ejemplo:**"
   ]
  },
  {
   "cell_type": "code",
   "execution_count": null,
   "metadata": {},
   "outputs": [],
   "source": [
    "dict.fromkeys([\"nombre\", \"apellido\"])"
   ]
  },
  {
   "cell_type": "code",
   "execution_count": null,
   "metadata": {},
   "outputs": [],
   "source": [
    "persona = dict.fromkeys([\"nombre\", \"apellido\"], True)\n",
    "persona"
   ]
  },
  {
   "cell_type": "code",
   "execution_count": null,
   "metadata": {},
   "outputs": [],
   "source": [
    "persona = dict.fromkeys([\"nombre\", \"apellido\"], \"Pendiente\")"
   ]
  },
  {
   "cell_type": "code",
   "execution_count": null,
   "metadata": {},
   "outputs": [],
   "source": [
    "persona"
   ]
  },
  {
   "cell_type": "code",
   "execution_count": null,
   "metadata": {},
   "outputs": [],
   "source": [
    "persona[\"nombre\"] = \"Juan\""
   ]
  },
  {
   "cell_type": "code",
   "execution_count": null,
   "metadata": {},
   "outputs": [],
   "source": [
    "persona"
   ]
  },
  {
   "cell_type": "markdown",
   "metadata": {},
   "source": [
    "### El método _clear()_.\n",
    "Este método elimina todos los elementos de un diccionario.\n",
    "\n",
    "**Ejemplos:**"
   ]
  },
  {
   "cell_type": "code",
   "execution_count": null,
   "metadata": {},
   "outputs": [],
   "source": [
    "persona = {\"nombre\": \"Juan\",\\\n",
    "           \"primer_apellido\":\"Pérez\",\\\n",
    "           \"segundo_apellido\":\"Sánchez\"}"
   ]
  },
  {
   "cell_type": "code",
   "execution_count": null,
   "metadata": {},
   "outputs": [],
   "source": [
    "persona"
   ]
  },
  {
   "cell_type": "code",
   "execution_count": null,
   "metadata": {},
   "outputs": [],
   "source": [
    "persona.clear()"
   ]
  },
  {
   "cell_type": "code",
   "execution_count": null,
   "metadata": {},
   "outputs": [],
   "source": [
    "persona"
   ]
  },
  {
   "cell_type": "markdown",
   "metadata": {},
   "source": [
    "## Métodos que generan objetos iteradores.\n",
    "\n",
    "En Python 3 sólo existen los métodos ```items()```, ```keys()``` y ```values()``` los cuales regresan un objeto iterador. Este cambio optimiza el uso de recursos del sistema cuando se trata de objetos con una gran cantidad de elementos.\n",
    "\n",
    "### El método ```items()```.\n",
    "Regresa un objeto iterador que genera una secuencia de objetos de tipo ```tuple``` con pares mapeables correspondientes a ```<clave>``` y ```<valor>``` de cada elemento.\n",
    "\n",
    "**Ejemplo:**"
   ]
  },
  {
   "cell_type": "code",
   "execution_count": null,
   "metadata": {},
   "outputs": [],
   "source": [
    "persona = {\"nombre\": \"Juan\",\\\n",
    "           \"primer_apellido\":\"Pérez\",\\\n",
    "           \"segundo_apellido\":\"Sánchez\"}"
   ]
  },
  {
   "cell_type": "code",
   "execution_count": null,
   "metadata": {},
   "outputs": [],
   "source": [
    "elementos = persona.items()"
   ]
  },
  {
   "cell_type": "code",
   "execution_count": null,
   "metadata": {},
   "outputs": [],
   "source": [
    "type(elementos)"
   ]
  },
  {
   "cell_type": "code",
   "execution_count": null,
   "metadata": {},
   "outputs": [],
   "source": [
    "elementos"
   ]
  },
  {
   "cell_type": "code",
   "execution_count": null,
   "metadata": {},
   "outputs": [],
   "source": [
    "for x in elementos:\n",
    "        print(x)"
   ]
  },
  {
   "cell_type": "code",
   "execution_count": null,
   "metadata": {},
   "outputs": [],
   "source": [
    "list(elementos)"
   ]
  },
  {
   "cell_type": "markdown",
   "metadata": {},
   "source": [
    "### El método _keys()_.\n",
    "Regresa un objeto iterable que genera una secuencia que corresponde al identificador de cada elemento del objeto tipo _dict_.\n",
    "\n",
    "**Ejemplo:**\n"
   ]
  },
  {
   "cell_type": "code",
   "execution_count": null,
   "metadata": {},
   "outputs": [],
   "source": [
    "persona = {\"nombre\": \"Juan\",\\\n",
    "           \"primer_apellido\":\"Pérez\",\\\n",
    "           \"segundo_apellido\":\"Sánchez\"}"
   ]
  },
  {
   "cell_type": "code",
   "execution_count": null,
   "metadata": {},
   "outputs": [],
   "source": [
    "claves = persona.keys()"
   ]
  },
  {
   "cell_type": "code",
   "execution_count": null,
   "metadata": {},
   "outputs": [],
   "source": [
    "type(claves)"
   ]
  },
  {
   "cell_type": "code",
   "execution_count": null,
   "metadata": {},
   "outputs": [],
   "source": [
    "claves"
   ]
  },
  {
   "cell_type": "code",
   "execution_count": null,
   "metadata": {},
   "outputs": [],
   "source": [
    "for clave in claves:\n",
    "    print(clave)"
   ]
  },
  {
   "cell_type": "code",
   "execution_count": null,
   "metadata": {},
   "outputs": [],
   "source": [
    "tuple(claves)"
   ]
  },
  {
   "cell_type": "markdown",
   "metadata": {},
   "source": [
    "### El método _values()_.\n",
    "Regresa un objeto iterable que genera una secuencia que corresponde al valor de cada elemento del objeto tipo _dict_.\n",
    "\n",
    "**Ejemplo:**\n"
   ]
  },
  {
   "cell_type": "code",
   "execution_count": null,
   "metadata": {},
   "outputs": [],
   "source": [
    "persona = {\"nombre\": \"Juan\",\\\n",
    "           \"primer_apellido\":\"Pérez\",\\\n",
    "           \"segundo_apellido\":\"Sánchez\"}"
   ]
  },
  {
   "cell_type": "code",
   "execution_count": null,
   "metadata": {},
   "outputs": [],
   "source": [
    "valores = persona.values()"
   ]
  },
  {
   "cell_type": "code",
   "execution_count": null,
   "metadata": {},
   "outputs": [],
   "source": [
    "type(valores)"
   ]
  },
  {
   "cell_type": "code",
   "execution_count": null,
   "metadata": {},
   "outputs": [],
   "source": [
    "valores"
   ]
  },
  {
   "cell_type": "code",
   "execution_count": null,
   "metadata": {},
   "outputs": [],
   "source": [
    "for valor in valores:\n",
    "    print(valor)"
   ]
  },
  {
   "cell_type": "code",
   "execution_count": null,
   "metadata": {},
   "outputs": [],
   "source": [
    "set(valores)"
   ]
  },
  {
   "cell_type": "markdown",
   "metadata": {},
   "source": [
    "## Iteraciones con objetos tipo dict.\n",
    "\n",
    "Cuando se hace una iteración directamente con un objeto de tipo _dict_, el intérprete utiliza los identificadores como elementos iterables.\n",
    "\n",
    "**Ejemplo:**"
   ]
  },
  {
   "cell_type": "code",
   "execution_count": null,
   "metadata": {},
   "outputs": [],
   "source": [
    "persona = {\"nombre\": \"Juan\",\\\n",
    "           \"primer_apellido\":\"Pérez\",\\\n",
    "           \"segundo_apellido\":\"Sánchez\"}"
   ]
  },
  {
   "cell_type": "code",
   "execution_count": null,
   "metadata": {},
   "outputs": [],
   "source": [
    "for elemento in persona:\n",
    "    print(elemento)"
   ]
  },
  {
   "cell_type": "markdown",
   "metadata": {
    "collapsed": true
   },
   "source": [
    "## Transformación de tipos iterables en objetos tipo _dict_ con _enumerate()_.\n",
    "\n",
    "### La función _enumerate()_.\n",
    "\n",
    "La función _enumerate()_ aplicada a un objeto de tipo iterable da por resultado un iterador que genera tuplas de pares conformadas por un número que se va incrementado desde cero y un elemento del objeto iterable.\n"
   ]
  },
  {
   "cell_type": "code",
   "execution_count": null,
   "metadata": {},
   "outputs": [],
   "source": [
    "iterador = enumerate((\"Hugo\", \"Paco\", \"Luis\"))"
   ]
  },
  {
   "cell_type": "code",
   "execution_count": null,
   "metadata": {},
   "outputs": [],
   "source": [
    "type(iterador)"
   ]
  },
  {
   "cell_type": "code",
   "execution_count": null,
   "metadata": {},
   "outputs": [],
   "source": [
    "print(iterador)"
   ]
  },
  {
   "cell_type": "code",
   "execution_count": null,
   "metadata": {},
   "outputs": [],
   "source": [
    "for par in iterador:\n",
    "    print(par)"
   ]
  },
  {
   "cell_type": "markdown",
   "metadata": {},
   "source": [
    "De tal modo que sólo es necesario utilizar la función ```dict()``` y ```enumerate()``` para convertir objetos de tipo ```list```, ```tuple```, ```set```, ```frozenset```, ``` str```, etc. en objetos de tipo ```dict``` con identificadores de tipo ```int```.\n",
    "\n",
    "**Ejemplos:**"
   ]
  },
  {
   "cell_type": "code",
   "execution_count": null,
   "metadata": {},
   "outputs": [],
   "source": [
    "for x in enumerate(\"Hola\"):\n",
    "    print(x)"
   ]
  },
  {
   "cell_type": "code",
   "execution_count": null,
   "metadata": {},
   "outputs": [],
   "source": [
    "print(enumerate(\"Hola\"))"
   ]
  },
  {
   "cell_type": "code",
   "execution_count": null,
   "metadata": {},
   "outputs": [],
   "source": [
    "dict(enumerate(\"Hola\"))"
   ]
  },
  {
   "cell_type": "code",
   "execution_count": null,
   "metadata": {},
   "outputs": [],
   "source": [
    "dict(enumerate((\"Hugo\", \"Paco\", \"Luis\")))"
   ]
  },
  {
   "cell_type": "code",
   "execution_count": null,
   "metadata": {},
   "outputs": [],
   "source": [
    "persona = {\"nombre\": \"Juan\",\\\n",
    "           \"primer_apellido\":\"Pérez\",\\\n",
    "           \"segundo_apellido\":\"Sánchez\"}"
   ]
  },
  {
   "cell_type": "code",
   "execution_count": null,
   "metadata": {},
   "outputs": [],
   "source": [
    "list(persona)"
   ]
  },
  {
   "cell_type": "code",
   "execution_count": null,
   "metadata": {},
   "outputs": [],
   "source": [
    "list(persona.keys())"
   ]
  },
  {
   "cell_type": "code",
   "execution_count": null,
   "metadata": {},
   "outputs": [],
   "source": [
    "list(persona.values())"
   ]
  },
  {
   "cell_type": "code",
   "execution_count": null,
   "metadata": {},
   "outputs": [],
   "source": [
    "list(persona.items())"
   ]
  }
 ],
 "metadata": {
  "kernelspec": {
   "display_name": "Python 3",
   "language": "python",
   "name": "python3"
  },
  "language_info": {
   "codemirror_mode": {
    "name": "ipython",
    "version": 3
   },
   "file_extension": ".py",
   "mimetype": "text/x-python",
   "name": "python",
   "nbconvert_exporter": "python",
   "pygments_lexer": "ipython3",
   "version": "3.7.7"
  }
 },
 "nbformat": 4,
 "nbformat_minor": 1
}
