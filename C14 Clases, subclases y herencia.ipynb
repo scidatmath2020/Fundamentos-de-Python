{
 "cells": [
  {
   "cell_type": "markdown",
   "metadata": {},
   "source": [
    "<img src=\"logo.png\">\n"
   ]
  },
  {
   "cell_type": "markdown",
   "metadata": {},
   "source": [
    "Python es un lenguaje orientado a objetos. Una de las grandes ventajas de esto radica en el uso de clases.\n",
    "\n",
    "Las clases en Python 3 tienen la sintaxis\n",
    "\n",
    "``\n",
    "class NombreDeLaClase:\n",
    "    def metodo1(self):  -->todos los métodos de la clase toman \"self\" como su primer argumento\n",
    "        definición  del método    \n",
    "    def metodo2(self):\n",
    "        definición del método\n",
    "``\n",
    "        "
   ]
  },
  {
   "cell_type": "code",
   "execution_count": null,
   "metadata": {},
   "outputs": [],
   "source": [
    "class GuerreroBasico:\n",
    "    def golpear_puño(self):\n",
    "        print(\"Golpeando con el puño\")\n",
    "    \n",
    "    def golpear_pierna(self):\n",
    "        print(\"Golpeando con la pierna\")\n",
    "        \n",
    "    def cambio_poder(self):\n",
    "        #podemos usar pass cuando definimos una función que no hace nada\n",
    "        pass\n",
    "    \n",
    "    def lanzar_energia(self):\n",
    "        pass"
   ]
  },
  {
   "cell_type": "code",
   "execution_count": null,
   "metadata": {},
   "outputs": [],
   "source": [
    "print(GuerreroBasico)"
   ]
  },
  {
   "cell_type": "markdown",
   "metadata": {},
   "source": [
    "Las clases se pueden considerar como plantillas que se pueden usar para generar objetos. Los objetos generados por una clase se conocen como instancias.\n",
    "\n",
    "Por ejemplo, GuerreroBasico nos da las instrucciones para crear un guerrero."
   ]
  },
  {
   "cell_type": "code",
   "execution_count": null,
   "metadata": {},
   "outputs": [],
   "source": [
    "Goku = GuerreroBasico()"
   ]
  },
  {
   "cell_type": "code",
   "execution_count": null,
   "metadata": {},
   "outputs": [],
   "source": [
    "print(Goku)"
   ]
  },
  {
   "cell_type": "code",
   "execution_count": null,
   "metadata": {},
   "outputs": [],
   "source": [
    "type(Goku)"
   ]
  },
  {
   "cell_type": "code",
   "execution_count": null,
   "metadata": {},
   "outputs": [],
   "source": [
    "help(Goku)"
   ]
  },
  {
   "cell_type": "markdown",
   "metadata": {},
   "source": [
    "Como ``Goku`` es una instancia de GuerreroBásico, tiene sus métodos."
   ]
  },
  {
   "cell_type": "code",
   "execution_count": null,
   "metadata": {},
   "outputs": [],
   "source": [
    "Goku.golpear_puño()"
   ]
  },
  {
   "cell_type": "code",
   "execution_count": null,
   "metadata": {},
   "outputs": [],
   "source": [
    "Goku.golpear_pierna()"
   ]
  },
  {
   "cell_type": "code",
   "execution_count": null,
   "metadata": {},
   "outputs": [],
   "source": [
    "Goku.cambio_poder()"
   ]
  },
  {
   "cell_type": "code",
   "execution_count": null,
   "metadata": {},
   "outputs": [],
   "source": [
    "Goku.lanzar_energia()"
   ]
  },
  {
   "cell_type": "code",
   "execution_count": null,
   "metadata": {},
   "outputs": [],
   "source": [
    "Goku.volar()"
   ]
  },
  {
   "cell_type": "markdown",
   "metadata": {},
   "source": [
    "Al igual que con las funciones, generalmente vamos a querer que nuestros objetos tengan características variables. Con la clase GuerreroBásico todos nuestros guerreros serán 100% iguales. ¿Pero qué pasa si queremos que nuestros guerreros tengan una raza?.\n",
    "\n",
    "Para ello usamos el método especial __init__ que se ejecuta cuando se instancia una clase"
   ]
  },
  {
   "cell_type": "code",
   "execution_count": null,
   "metadata": {},
   "outputs": [],
   "source": [
    "class GuerreroConRaza:\n",
    "    def __init__(self,raza = \"humana\"):\n",
    "        self.raza = raza # Esto es un atributo\n",
    "        \n",
    "    def describir(self):\n",
    "        print(f\"Soy de raza {self.raza}\")\n",
    "    \n",
    "    def golpear_puño(self):\n",
    "        print(\"Golpeando con el puño\")\n",
    "    \n",
    "    def golpear_patada(self):\n",
    "        print(\"Golpeando con patada\")\n",
    "        \n",
    "    def cambio_poder(self):\n",
    "        #podemos usar pass cuando definimos una función que no hace nada\n",
    "        pass\n",
    "    \n",
    "    def lanzar_energia(self):\n",
    "        pass    "
   ]
  },
  {
   "cell_type": "code",
   "execution_count": null,
   "metadata": {},
   "outputs": [],
   "source": [
    "Goku_pequeño = GuerreroConRaza()"
   ]
  },
  {
   "cell_type": "code",
   "execution_count": null,
   "metadata": {},
   "outputs": [],
   "source": [
    "Goku_pequeño.raza"
   ]
  },
  {
   "cell_type": "code",
   "execution_count": null,
   "metadata": {},
   "outputs": [],
   "source": [
    "Goku_pequeño.describir()"
   ]
  },
  {
   "cell_type": "markdown",
   "metadata": {},
   "source": [
    "Uno de los principales usos de las clases es conservar el \"estado actual\" de un objeto."
   ]
  },
  {
   "cell_type": "code",
   "execution_count": null,
   "metadata": {},
   "outputs": [],
   "source": [
    "Gokú_dbz = GuerreroConRaza(raza=\"saijajin\")"
   ]
  },
  {
   "cell_type": "code",
   "execution_count": null,
   "metadata": {},
   "outputs": [],
   "source": [
    "Gokú_dbz.raza"
   ]
  },
  {
   "cell_type": "code",
   "execution_count": null,
   "metadata": {},
   "outputs": [],
   "source": [
    "Gokú_dbz.describir()"
   ]
  },
  {
   "cell_type": "markdown",
   "metadata": {},
   "source": [
    "También podemos definir todas las variables que necesitamos para definir un objeto"
   ]
  },
  {
   "cell_type": "code",
   "execution_count": null,
   "metadata": {},
   "outputs": [],
   "source": [
    "class PersonajeVariable:\n",
    "    def __init__(self,tipo, poder_maximo, raza = \"humano\"):\n",
    "        self.raza = raza # Esto es un atributo\n",
    "        self.tipo = tipo\n",
    "        self.poder_maximo = poder_maximo\n",
    "        self.velocidad_vuelo = 0 #el personaje no está volando\n",
    "        \n",
    "    def describir(self):\n",
    "        descripcion = f\"Personaje de tipo {self.tipo} de raza {self.raza} con poder máximo de {self.poder_maximo} unidades\"\n",
    "        return descripcion\n",
    "    \n",
    "    def estado(self):\n",
    "        if self.velocidad_vuelo == 0:\n",
    "            print(\"El personaje no está volando\")\n",
    "        else:\n",
    "            print(f\"El personaje está volando a {self.velocidad_vuelo} km/h\")\n",
    "    \n",
    "    def golpear_puño(self):\n",
    "        print(\"Golpeando con los puños\")\n",
    "    \n",
    "    def golpear_patada(self):\n",
    "        print(\"Golpeando con las piernas\")\n",
    "        \n",
    "    def cambio_poder(self):\n",
    "        #podemos usar pass cuando definimos una función que no hace nada\n",
    "        pass"
   ]
  },
  {
   "cell_type": "code",
   "execution_count": null,
   "metadata": {},
   "outputs": [],
   "source": [
    "Bulma = PersonajeVariable(tipo=\"Normal\",poder_maximo=\"50\",raza=\"humano\")"
   ]
  },
  {
   "cell_type": "code",
   "execution_count": null,
   "metadata": {},
   "outputs": [],
   "source": [
    "Bulma.describir()"
   ]
  },
  {
   "cell_type": "code",
   "execution_count": null,
   "metadata": {},
   "outputs": [],
   "source": [
    "Bulma.estado()"
   ]
  },
  {
   "cell_type": "code",
   "execution_count": null,
   "metadata": {},
   "outputs": [],
   "source": [
    "Pikoro = PersonajeVariable(tipo=\"Guerrero Z\",poder_maximo=50000,raza=\"namekuseí\")"
   ]
  },
  {
   "cell_type": "code",
   "execution_count": null,
   "metadata": {},
   "outputs": [],
   "source": [
    "Pikoro.describir()"
   ]
  },
  {
   "cell_type": "code",
   "execution_count": null,
   "metadata": {},
   "outputs": [],
   "source": [
    "Pikoro.estado()"
   ]
  },
  {
   "cell_type": "code",
   "execution_count": null,
   "metadata": {},
   "outputs": [],
   "source": [
    "Pikoro.velocidad_vuelo = 200"
   ]
  },
  {
   "cell_type": "code",
   "execution_count": null,
   "metadata": {},
   "outputs": [],
   "source": [
    "Pikoro.estado()"
   ]
  },
  {
   "cell_type": "code",
   "execution_count": null,
   "metadata": {},
   "outputs": [],
   "source": [
    "class Personaje:\n",
    "    def __init__(self,tipo, poder_maximo, raza, volar=False):\n",
    "        self.raza = raza # Esto es un atributo\n",
    "        self.tipo = tipo\n",
    "        self.volar = volar\n",
    "        self.poder_maximo = poder_maximo\n",
    "        self.poder_actual = 0 \n",
    "        \n",
    "        \n",
    "    def describir(self):\n",
    "        descripcion = f\"Personaje de tipo {self.tipo} de raza {self.raza} con poder máximo de {self.poder_maximo} unidades.\"\n",
    "        if self.volar == True:\n",
    "            return descripcion + \" Además sabe volar.\"\n",
    "        else:\n",
    "            return descripcion + \" Sin embargo no sabe volar.\"\n",
    "        \n",
    "    def estado(self):\n",
    "        if self.poder_actual >= 0:\n",
    "            print(f\"El personaje está vivo con un poder actual de {self.poder_actual}.\")\n",
    "        else:\n",
    "            print(f\"El personaje está muerto\")\n",
    "    \n",
    "    def golpear_puño(self):\n",
    "        print(\"Golpeando con los puños\")\n",
    "    \n",
    "    def golpear_patada(self):\n",
    "        print(\"Golpeando con las piernas\")\n",
    "        \n",
    "    def cambio_poder(self,cambio):\n",
    "        self.poder_actual = self.poder_actual + cambio\n",
    "        if cambio >= 0 :\n",
    "            print(f\"Aumentando el poder en {cambio} unidades\")\n",
    "            self.poder_actual = min(self.poder_actual,self.poder_maximo)\n",
    "        else:\n",
    "            print(f\"Disminuyendo el poder en {cambio} unidades\")\n",
    "            if self.poder_actual < 0:\n",
    "                print(\"El personaje muere\")         "
   ]
  },
  {
   "cell_type": "code",
   "execution_count": null,
   "metadata": {},
   "outputs": [],
   "source": [
    "Goku = Personaje(tipo=\"Guerrero\",poder_maximo = 100000, raza = \"saijajin\", volar = True)"
   ]
  },
  {
   "cell_type": "code",
   "execution_count": null,
   "metadata": {},
   "outputs": [],
   "source": [
    "Goku.describir()"
   ]
  },
  {
   "cell_type": "code",
   "execution_count": null,
   "metadata": {},
   "outputs": [],
   "source": [
    "Goku.estado()"
   ]
  },
  {
   "cell_type": "code",
   "execution_count": null,
   "metadata": {},
   "outputs": [],
   "source": [
    "Goku.poder_actual = 10000"
   ]
  },
  {
   "cell_type": "code",
   "execution_count": null,
   "metadata": {},
   "outputs": [],
   "source": [
    "Goku.cambio_poder(200)"
   ]
  },
  {
   "cell_type": "code",
   "execution_count": null,
   "metadata": {},
   "outputs": [],
   "source": [
    "Goku.poder_actual"
   ]
  },
  {
   "cell_type": "code",
   "execution_count": null,
   "metadata": {},
   "outputs": [],
   "source": [
    "Goku.cambio_poder(-20000)"
   ]
  },
  {
   "cell_type": "code",
   "execution_count": null,
   "metadata": {},
   "outputs": [],
   "source": [
    "Goku.estado()"
   ]
  },
  {
   "cell_type": "markdown",
   "metadata": {},
   "source": [
    "## Herencia de clases\n",
    "\n",
    "Una de las principales ventajas de usar clases es que se pueden crear otras clases utilizando las ya creadas. Se dice que una clase hereda a la otra.\n",
    "\n",
    "Esto nos permite crear una clase genérica después crear clases mas avanzadas con funcionalidades específicas"
   ]
  },
  {
   "cell_type": "code",
   "execution_count": null,
   "metadata": {},
   "outputs": [],
   "source": [
    "class Saijajin(Personaje):\n",
    "    def __init__(self,poder_maximo,raza=\"Saijajin\",volar=True,mono=\"False\",tipo=\"Guerrero\"):\n",
    "        Personaje.__init__(self,tipo,poder_maximo,raza,volar)\n",
    "        self.poder_maximo = poder_maximo\n",
    "        self.gorila = False\n",
    "                    \n",
    "    def mono(self):\n",
    "        if self.gorila == False:\n",
    "            print(\"El guerrero no está convertido en mono\")\n",
    "        else:\n",
    "            print(\"El guerrero está convertido en mono\")\n",
    "    \n",
    "    def transformacion(self,ss):\n",
    "        self.poder_actual = 20000 ** ss \n",
    "        self.poder_maximo = self.poder_maximo + self.poder_actual \n",
    "        descripcion_poder = f\"Su poder máximo actual es de {self.poder_maximo}.\"\n",
    "        if ss == 0:\n",
    "            print(\"El guerrero saijajin está en fase normal. \"+descripcion_poder)\n",
    "        else:\n",
    "            print(f\"El guerrero saijajin está en supersaijajin fase {ss}. \"+descripcion_poder)\n",
    "         \n",
    "        "
   ]
  },
  {
   "cell_type": "code",
   "execution_count": null,
   "metadata": {},
   "outputs": [],
   "source": [
    "Goku = Saijajin(100)"
   ]
  },
  {
   "cell_type": "code",
   "execution_count": null,
   "metadata": {},
   "outputs": [],
   "source": [
    "Goku.describir()"
   ]
  },
  {
   "cell_type": "code",
   "execution_count": null,
   "metadata": {},
   "outputs": [],
   "source": [
    "Goku.mono()"
   ]
  },
  {
   "cell_type": "code",
   "execution_count": null,
   "metadata": {},
   "outputs": [],
   "source": [
    "Goku.gorila = True"
   ]
  },
  {
   "cell_type": "code",
   "execution_count": null,
   "metadata": {},
   "outputs": [],
   "source": [
    "Goku.mono()"
   ]
  },
  {
   "cell_type": "code",
   "execution_count": null,
   "metadata": {},
   "outputs": [],
   "source": [
    "Goku.transformacion(1)"
   ]
  },
  {
   "cell_type": "code",
   "execution_count": null,
   "metadata": {},
   "outputs": [],
   "source": [
    "Goku.poder_actual"
   ]
  },
  {
   "cell_type": "code",
   "execution_count": null,
   "metadata": {},
   "outputs": [],
   "source": [
    "Goku.cambio_poder(500)"
   ]
  },
  {
   "cell_type": "code",
   "execution_count": null,
   "metadata": {},
   "outputs": [],
   "source": [
    "Goku.poder_actual"
   ]
  },
  {
   "cell_type": "code",
   "execution_count": null,
   "metadata": {},
   "outputs": [],
   "source": [
    "Goku.cambio_poder(-30000)"
   ]
  },
  {
   "cell_type": "code",
   "execution_count": null,
   "metadata": {},
   "outputs": [],
   "source": [
    "Goku.estado()"
   ]
  }
 ],
 "metadata": {
  "kernelspec": {
   "display_name": "Python 3",
   "language": "python",
   "name": "python3"
  },
  "language_info": {
   "codemirror_mode": {
    "name": "ipython",
    "version": 3
   },
   "file_extension": ".py",
   "mimetype": "text/x-python",
   "name": "python",
   "nbconvert_exporter": "python",
   "pygments_lexer": "ipython3",
   "version": "3.7.7"
  }
 },
 "nbformat": 4,
 "nbformat_minor": 4
}
