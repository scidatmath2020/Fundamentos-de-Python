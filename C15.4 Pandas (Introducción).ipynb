{
 "cells": [
  {
   "cell_type": "markdown",
   "metadata": {},
   "source": [
    "<img src=\"logo.png\">"
   ]
  },
  {
   "cell_type": "markdown",
   "metadata": {},
   "source": [
    "# Pandas\n",
    "\n",
    "Pandas provee dos estructuras de datos: dataframes y series. De hecho Pandas está programado a través de Numpy."
   ]
  },
  {
   "cell_type": "code",
   "execution_count": null,
   "metadata": {},
   "outputs": [],
   "source": [
    "!pip install pandas"
   ]
  },
  {
   "cell_type": "code",
   "execution_count": null,
   "metadata": {},
   "outputs": [],
   "source": [
    "import pandas as pd\n",
    "import numpy as np"
   ]
  },
  {
   "cell_type": "markdown",
   "metadata": {},
   "source": [
    "## Series\n",
    "\n",
    "Los objetos instanciado de la clase pandas.Series son de una sola dimensión y pueden ser al ingresar como argumento de data objetos de tipo:\n",
    "\n",
    "* tuple\n",
    "* list\n",
    "* dict\n",
    "* numpy.ndarray\n",
    "\n",
    "A las series se les puede asignar un nombre mediante el parametro name."
   ]
  },
  {
   "cell_type": "code",
   "execution_count": null,
   "metadata": {},
   "outputs": [],
   "source": [
    "serie_1 = pd.Series(np.random.rand(8))\n",
    "serie_1"
   ]
  },
  {
   "cell_type": "code",
   "execution_count": null,
   "metadata": {},
   "outputs": [],
   "source": [
    "serie_1 = pd.Series(np.random.rand(8), name = \"mi primer serie\")\n",
    "serie_1"
   ]
  },
  {
   "cell_type": "code",
   "execution_count": null,
   "metadata": {},
   "outputs": [],
   "source": [
    "serie_1[4]"
   ]
  },
  {
   "cell_type": "code",
   "execution_count": null,
   "metadata": {},
   "outputs": [],
   "source": [
    "# Podemos especificar los valores de los índices\n",
    "\n",
    "serie_2 = pd.Series(np.random.rand(8),index = range(1,9),name = \"Mi segunda serie\")\n",
    "serie_2"
   ]
  },
  {
   "cell_type": "code",
   "execution_count": null,
   "metadata": {},
   "outputs": [],
   "source": [
    "# Podemos especificar los valores de los índices mas generalmente\n",
    "\n",
    "serie_3 = pd.Series(np.random.rand(5),index = [4,6,1,2,8])\n",
    "serie_3"
   ]
  },
  {
   "cell_type": "code",
   "execution_count": null,
   "metadata": {},
   "outputs": [],
   "source": [
    "serie_3[0]"
   ]
  },
  {
   "cell_type": "code",
   "execution_count": null,
   "metadata": {},
   "outputs": [],
   "source": [
    "serie_3[4]"
   ]
  },
  {
   "cell_type": "code",
   "execution_count": null,
   "metadata": {},
   "outputs": [],
   "source": [
    "serie_4 = pd.Series(np.random.rand(5),index = [\"a\",\"a\",\"i\",\"o\",\"u\"])\n",
    "serie_4"
   ]
  },
  {
   "cell_type": "code",
   "execution_count": null,
   "metadata": {},
   "outputs": [],
   "source": [
    "serie_4[0]"
   ]
  },
  {
   "cell_type": "code",
   "execution_count": null,
   "metadata": {},
   "outputs": [],
   "source": [
    "serie_4[\"a\"]"
   ]
  },
  {
   "cell_type": "markdown",
   "metadata": {},
   "source": [
    "Incluso los diccionarios se pueden convertir en series"
   ]
  },
  {
   "cell_type": "code",
   "execution_count": null,
   "metadata": {},
   "outputs": [],
   "source": [
    "diccionario = {\"Nombre\":[\"Héctor\",\"Manuel\"],\"Apellido\":\"Garduño\"}\n",
    "pd.Series(diccionario)"
   ]
  },
  {
   "cell_type": "markdown",
   "metadata": {},
   "source": [
    "Es importante notar que las series son estructuras de datos en una sola dimensión. Si queremos estructuras mas complejas, debemos usar dataframes."
   ]
  },
  {
   "cell_type": "markdown",
   "metadata": {},
   "source": [
    "## Dataframes\n",
    "\n",
    "Los dataframes son similares a un aerreglo en 2 dimensiones de Numpy. Sin embargo, a diferencia de los arreglos de Numpy, no todas las columnas de estos objetos deben de ser necesariamente del mismo tipo.\n",
    "\n",
    "La clase **pandas.DataFrame** permite crear dataframes a partir de datos que pueden corresponder a:\n",
    "\n",
    "* Objetos de tipo dict.\n",
    "* Series objetos tipo tuple.\n",
    "* Objetos numpy.ndarray (arreglos que contienen sólo números).\n",
    "* Otros objetos instanciado de pandas.DataFrame.\n",
    "\n",
    "Dichos datos pueden ser ingresados como argumentos del parámetro data al instanciarlos.\n",
    "\n",
    "Los dataframes indexan por defecto las columnas y los encabrezados con valores numéricos. Sin embargo, estos pueden ser modificados por el usuario.\n"
   ]
  },
  {
   "cell_type": "code",
   "execution_count": null,
   "metadata": {},
   "outputs": [],
   "source": [
    "pd.DataFrame(data=[(0, 1, 2), (1, 2, 3), (2, 3, 4), (3, 4, 5)])"
   ]
  },
  {
   "cell_type": "code",
   "execution_count": null,
   "metadata": {},
   "outputs": [],
   "source": [
    "estudiantes = {'Nombre':[\"Hugo\", \"Paco\", \"Luis\" ,\"Pedro\", \"Juan\", \"Pablo\"], \n",
    "                'Apellido':[\"López\", \"Silva\", \"Oca\" , \"Ramírez\", \"Gutiérrez\", np.nan], \n",
    "                'Matrícula':[\"123455\", \"736923\", \"971298\" ,\"123098\", \"987656\", \"878652\"], \n",
    "                'Edad':[20, 35, 30 ,25, np.nan, 23]}"
   ]
  },
  {
   "cell_type": "code",
   "execution_count": null,
   "metadata": {},
   "outputs": [],
   "source": [
    "pd.DataFrame(estudiantes)"
   ]
  },
  {
   "cell_type": "code",
   "execution_count": null,
   "metadata": {},
   "outputs": [],
   "source": [
    "matriz = np.arange(9).reshape(3,3)\n",
    "matriz"
   ]
  },
  {
   "cell_type": "code",
   "execution_count": null,
   "metadata": {},
   "outputs": [],
   "source": [
    "pd.DataFrame(matriz)"
   ]
  },
  {
   "cell_type": "markdown",
   "metadata": {},
   "source": [
    "El parámetro index, permite incluir un índice a cada renglón."
   ]
  },
  {
   "cell_type": "code",
   "execution_count": null,
   "metadata": {},
   "outputs": [],
   "source": [
    "registro = (\"1a persona\",\"2a persona\",\"3a persona\",\"4a persona\",\"5a persona\",\"6a persona\")"
   ]
  },
  {
   "cell_type": "code",
   "execution_count": null,
   "metadata": {},
   "outputs": [],
   "source": [
    "pd.DataFrame(data = estudiantes, index = registro)"
   ]
  },
  {
   "cell_type": "markdown",
   "metadata": {},
   "source": [
    "El parámetro columns permite nombrar a las columnas."
   ]
  },
  {
   "cell_type": "code",
   "execution_count": null,
   "metadata": {},
   "outputs": [],
   "source": [
    "matriz = np.arange(9).reshape((3,3))"
   ]
  },
  {
   "cell_type": "code",
   "execution_count": null,
   "metadata": {},
   "outputs": [],
   "source": [
    "pd.DataFrame(matriz, index=['uno','dos','tres'], columns=['a', 'b', 'c'])"
   ]
  },
  {
   "cell_type": "code",
   "execution_count": null,
   "metadata": {},
   "outputs": [],
   "source": [
    "pd.DataFrame(\n",
    "[[\"Hugo\",\"López\",123455,20],\n",
    " [\"Paco\",\"Silva\",736923],\n",
    " [\"Luis\",\"Oca\",971298],\n",
    " [\"Pedro\",\"Ramírez\",123098]    \n",
    "], columns = [\"Nombre\",\"Apellido\",\"Matrícula\",\"Edad\"],    \n",
    "    #index = [\"Registro 1\",\"Registro 2\",\"Registro 3\",\"Registro 4\"]\n",
    "    \n",
    ")"
   ]
  },
  {
   "cell_type": "markdown",
   "metadata": {},
   "source": [
    "## Acceso a los elementos de un dataframe\n",
    "\n",
    "Podemos accesar a los elementos de un dataframe mediante las siguientes maneras. Consideremos nuevamente el dataframe anterior:"
   ]
  },
  {
   "cell_type": "code",
   "execution_count": null,
   "metadata": {},
   "outputs": [],
   "source": [
    "estudiantes = pd.DataFrame(\n",
    "[[\"Hugo\",\"López\",\"123455\",20],\n",
    " [\"Paco\",\"Silva\",\"736923\",35],\n",
    " [\"Luis\",\"Oca\",\"971298\"],\n",
    " [\"Pedro\",\"Ramírez\",\"123098\"]    \n",
    "], index = [\"Registro 1\",\"Registro 2\",\"Registro 3\",\"Registro 4\"],\n",
    "    columns = [\"Nombre\",\"Apellido\",\"Matrícula\",\"Edad\"]\n",
    ")\n",
    "\n",
    "estudiantes\n"
   ]
  },
  {
   "cell_type": "code",
   "execution_count": null,
   "metadata": {},
   "outputs": [],
   "source": [
    "# Acceso a una columna: usando el nombre de los campos\n",
    "\n",
    "estudiantes[\"Matrícula\"]"
   ]
  },
  {
   "cell_type": "code",
   "execution_count": null,
   "metadata": {},
   "outputs": [],
   "source": [
    "# Acceso a varias columnas: usando el nombre de los campos\n",
    "\n",
    "estudiantes[[\"Nombre\",\"Edad\"]]"
   ]
  },
  {
   "cell_type": "code",
   "execution_count": null,
   "metadata": {},
   "outputs": [],
   "source": [
    "# Acceso a una fila mediante el nombre del ínice del registro\n",
    "\n",
    "estudiantes.loc[[\"Registro 2\",\"Registro 4\"]]"
   ]
  },
  {
   "cell_type": "code",
   "execution_count": null,
   "metadata": {},
   "outputs": [],
   "source": [
    "# Acceso a una fila mediante el número del índice del registro\n",
    "\n",
    "estudiantes.iloc[1]"
   ]
  },
  {
   "cell_type": "code",
   "execution_count": null,
   "metadata": {},
   "outputs": [],
   "source": [
    "# Acceso a ciertas columnas y ciertas filas.\n",
    "\n",
    "estudiantes.loc[[\"Registro 1\",\"Registro 4\"]][[\"Nombre\",\"Edad\"]]"
   ]
  },
  {
   "cell_type": "markdown",
   "metadata": {},
   "source": [
    "## Operaciones básicas de dataframes\n",
    "\n",
    "También es posible añadir nuevas columnas a un dataframe utilizando columnas que ya existen."
   ]
  },
  {
   "cell_type": "code",
   "execution_count": null,
   "metadata": {},
   "outputs": [],
   "source": [
    "estudiantes[\"Nombre completo\"] = estudiantes[\"Nombre\"] + \" \" + estudiantes[\"Apellido\"]\n",
    "estudiantes"
   ]
  },
  {
   "cell_type": "code",
   "execution_count": null,
   "metadata": {},
   "outputs": [],
   "source": [
    "# Eliminado de columnas\n",
    "\n",
    "estudiantes.drop(\"Nombre completo\",axis = 1,inplace = True)\n",
    "estudiantes"
   ]
  },
  {
   "cell_type": "code",
   "execution_count": null,
   "metadata": {},
   "outputs": [],
   "source": [
    "# Indexar numéricamente los registros\n",
    "\n",
    "estudiantes.reset_index(inplace = True)\n",
    "estudiantes"
   ]
  },
  {
   "cell_type": "code",
   "execution_count": null,
   "metadata": {},
   "outputs": [],
   "source": [
    "# Acceso a ciertas columnas y ciertas filas.\n",
    "\n",
    "estudiantes.loc[[0,3],[\"Matrícula\",\"Edad\"]]"
   ]
  },
  {
   "cell_type": "code",
   "execution_count": null,
   "metadata": {},
   "outputs": [],
   "source": [
    "# Incluso podemos hacer seleción por filtrado\n",
    "\n",
    "estudiantes[estudiantes[\"Edad\"] > 20][[\"index\",\"Edad\",\"Matrícula\"]]\n",
    "\n"
   ]
  },
  {
   "cell_type": "code",
   "execution_count": null,
   "metadata": {},
   "outputs": [],
   "source": [
    "# Cambiando los nombres de las columnas\n",
    "\n",
    "estudiantes.columns = [\"Campo 1\",\"Campo 2\",\"Campo 3\",\"Campo 4\",\"Campo 5\"]\n",
    "estudiantes"
   ]
  },
  {
   "cell_type": "code",
   "execution_count": null,
   "metadata": {},
   "outputs": [],
   "source": [
    "# Cambiando los nombres de las filas\n",
    "\n",
    "estudiantes.index = estudiantes[\"Campo 4\"]\n",
    "estudiantes"
   ]
  },
  {
   "cell_type": "code",
   "execution_count": null,
   "metadata": {},
   "outputs": [],
   "source": [
    "# Agregado de una fila\n",
    "\n",
    "nuevo_elemento = \"Registro 5, Helena, González, 888888, 29\"\n",
    "nuevo_elemento.split(\",\")\n",
    "\n",
    "estudiantes.loc[888888] = nuevo_elemento.split(\",\")\n",
    "estudiantes"
   ]
  },
  {
   "cell_type": "code",
   "execution_count": null,
   "metadata": {},
   "outputs": [],
   "source": [
    "estudiantes.iloc[-1] "
   ]
  },
  {
   "cell_type": "code",
   "execution_count": null,
   "metadata": {},
   "outputs": [],
   "source": [
    "# Visualizar encabezado y cola\n",
    "\n",
    "estudiantes.head() #estudiantes.tail(3)"
   ]
  },
  {
   "cell_type": "code",
   "execution_count": null,
   "metadata": {},
   "outputs": [],
   "source": [
    "estudiantes[\"Campo 5\"] = pd.to_numeric(estudiantes[\"Campo 5\"], downcast = \"float\")\n",
    "estudiantes"
   ]
  },
  {
   "cell_type": "code",
   "execution_count": null,
   "metadata": {},
   "outputs": [],
   "source": [
    "estudiantes[\"Campo 5\"].mean()"
   ]
  },
  {
   "cell_type": "code",
   "execution_count": null,
   "metadata": {},
   "outputs": [],
   "source": [
    "estudiantes[\"Campo 5\"].value_counts()"
   ]
  },
  {
   "cell_type": "code",
   "execution_count": null,
   "metadata": {},
   "outputs": [],
   "source": [
    "estudiantes.loc[777222] = [\"Registro 6\",\"José\",\"López\",\"777222\",30]\n",
    "estudiantes"
   ]
  },
  {
   "cell_type": "code",
   "execution_count": null,
   "metadata": {},
   "outputs": [],
   "source": [
    "estudiantes[\"Campo 3\"].value_counts()"
   ]
  },
  {
   "cell_type": "code",
   "execution_count": null,
   "metadata": {},
   "outputs": [],
   "source": [
    "estudiantes.sort_values(by = \"Campo 5\",inplace = True, ascending=False)\n",
    "estudiantes"
   ]
  },
  {
   "cell_type": "code",
   "execution_count": null,
   "metadata": {},
   "outputs": [],
   "source": [
    "edad_media = estudiantes[\"Campo 5\"].mean()\n",
    "int(edad_media)"
   ]
  },
  {
   "cell_type": "code",
   "execution_count": null,
   "metadata": {},
   "outputs": [],
   "source": [
    "estudiantes[\"Campo 5\"].fillna(int(edad_media),inplace = True)\n",
    "estudiantes"
   ]
  },
  {
   "cell_type": "code",
   "execution_count": null,
   "metadata": {},
   "outputs": [],
   "source": [
    "estudiantes.sort_index(ascending = True,inplace = True)\n",
    "estudiantes"
   ]
  },
  {
   "cell_type": "code",
   "execution_count": null,
   "metadata": {},
   "outputs": [],
   "source": [
    "estudiantes.sort_values(by = [\"Campo 3\",\"Campo 5\"],ascending = [True,False],inplace = True)\n",
    "estudiantes"
   ]
  },
  {
   "cell_type": "code",
   "execution_count": null,
   "metadata": {},
   "outputs": [],
   "source": [
    "estudiantes[estudiantes[\"Campo 3\"] == \"López\"]"
   ]
  },
  {
   "cell_type": "code",
   "execution_count": null,
   "metadata": {},
   "outputs": [],
   "source": [
    "estudiantes[\"Campo 2\"] = estudiantes[\"Campo 2\"].str.upper()\n",
    "estudiantes"
   ]
  },
  {
   "cell_type": "code",
   "execution_count": null,
   "metadata": {},
   "outputs": [],
   "source": [
    "estudiantes[\"Campo 4\"].str.len()"
   ]
  },
  {
   "cell_type": "code",
   "execution_count": null,
   "metadata": {},
   "outputs": [],
   "source": [
    "estudiantes.loc[\"536271\"] = [\"Registro 7\",\"Luisa\",\"González\",\"536271\",23]\n",
    "estudiantes[\"Estado\"] = [\"Activo\",\"Baja\",\"Baja\",\"Graduado\",\"Activo\",\"Activo\",\"Baja\"]\n",
    "\n",
    "estudiantes"
   ]
  },
  {
   "cell_type": "code",
   "execution_count": null,
   "metadata": {},
   "outputs": [],
   "source": [
    "pd.get_dummies(estudiantes[\"Estado\"])"
   ]
  },
  {
   "cell_type": "code",
   "execution_count": null,
   "metadata": {},
   "outputs": [],
   "source": [
    "Frame = pd.concat([estudiantes,pd.get_dummies(estudiantes[\"Estado\"])],axis = 1)\n",
    "Frame"
   ]
  },
  {
   "cell_type": "code",
   "execution_count": null,
   "metadata": {},
   "outputs": [],
   "source": [
    "Frame[\"Fac\"] = [4,3,1,4,5,1,8]\n",
    "Frame[\"Sexo\"] = [\"0\",\"1\",\"1\",\"1\",\"1\",\"1\",\"0\"]\n",
    "Frame"
   ]
  },
  {
   "cell_type": "code",
   "execution_count": null,
   "metadata": {},
   "outputs": [],
   "source": [
    "Frame.groupby('Estado')[\"Fac\"].sum() # En R es tapply(Frame$Fac,Frame$Estado,sum)\n"
   ]
  },
  {
   "cell_type": "code",
   "execution_count": null,
   "metadata": {},
   "outputs": [],
   "source": [
    "Frame.groupby(['Estado',\"Sexo\"])[\"Fac\"].sum() # En R es tapply(Frame$Fac,list(Frame$Estado,Frame$Sexo),sum)"
   ]
  },
  {
   "cell_type": "code",
   "execution_count": null,
   "metadata": {},
   "outputs": [],
   "source": [
    "Frame.groupby([\"Estado\",\"Sexo\"])[\"Fac\"].sum()[\"Activo\",\"0\"]"
   ]
  },
  {
   "cell_type": "code",
   "execution_count": null,
   "metadata": {},
   "outputs": [],
   "source": [
    "Frame.info()"
   ]
  }
 ],
 "metadata": {
  "kernelspec": {
   "display_name": "Python 3",
   "language": "python",
   "name": "python3"
  },
  "language_info": {
   "codemirror_mode": {
    "name": "ipython",
    "version": 3
   },
   "file_extension": ".py",
   "mimetype": "text/x-python",
   "name": "python",
   "nbconvert_exporter": "python",
   "pygments_lexer": "ipython3",
   "version": "3.7.7"
  }
 },
 "nbformat": 4,
 "nbformat_minor": 4
}
