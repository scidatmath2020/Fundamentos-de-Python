{
 "cells": [
  {
   "cell_type": "markdown",
   "metadata": {},
   "source": [
    "<img src=\"logo.png\">"
   ]
  },
  {
   "cell_type": "markdown",
   "metadata": {},
   "source": [
    "# Pandas\n",
    "\n",
    "Pandas provee dos estructuras de datos: dataframes y series. De hecho Pandas está programado a través de Numpy."
   ]
  },
  {
   "cell_type": "code",
   "execution_count": null,
   "metadata": {},
   "outputs": [],
   "source": [
    "!pip install pandas"
   ]
  },
  {
   "cell_type": "code",
   "execution_count": 1,
   "metadata": {},
   "outputs": [],
   "source": [
    "import pandas as pd\n",
    "import numpy as np"
   ]
  },
  {
   "cell_type": "markdown",
   "metadata": {},
   "source": [
    "## Series\n",
    "\n",
    "Los objetos instanciado de la clase pandas.Series son de una sola dimensión y pueden ser al ingresar como argumento de data objetos de tipo:\n",
    "\n",
    "* tuple\n",
    "* list\n",
    "* dict\n",
    "* numpy.ndarray\n",
    "\n",
    "A las series se les puede asignar un nombre mediante el parametro name."
   ]
  },
  {
   "cell_type": "code",
   "execution_count": 2,
   "metadata": {},
   "outputs": [
    {
     "data": {
      "text/plain": [
       "0    0.749986\n",
       "1    0.198681\n",
       "2    0.903852\n",
       "3    0.110219\n",
       "4    0.466751\n",
       "5    0.584781\n",
       "6    0.803514\n",
       "7    0.076466\n",
       "dtype: float64"
      ]
     },
     "execution_count": 2,
     "metadata": {},
     "output_type": "execute_result"
    }
   ],
   "source": [
    "serie_1 = pd.Series(np.random.rand(8))\n",
    "serie_1"
   ]
  },
  {
   "cell_type": "code",
   "execution_count": 3,
   "metadata": {},
   "outputs": [
    {
     "data": {
      "text/plain": [
       "0    0.309707\n",
       "1    0.495301\n",
       "2    0.138885\n",
       "3    0.917268\n",
       "4    0.095179\n",
       "5    0.004555\n",
       "6    0.028620\n",
       "7    0.081304\n",
       "Name: mi primer serie, dtype: float64"
      ]
     },
     "execution_count": 3,
     "metadata": {},
     "output_type": "execute_result"
    }
   ],
   "source": [
    "serie_1 = pd.Series(np.random.rand(8), name = \"mi primer serie\")\n",
    "serie_1"
   ]
  },
  {
   "cell_type": "code",
   "execution_count": 4,
   "metadata": {},
   "outputs": [
    {
     "data": {
      "text/plain": [
       "0.09517874725266195"
      ]
     },
     "execution_count": 4,
     "metadata": {},
     "output_type": "execute_result"
    }
   ],
   "source": [
    "serie_1[4]"
   ]
  },
  {
   "cell_type": "code",
   "execution_count": 5,
   "metadata": {},
   "outputs": [
    {
     "data": {
      "text/plain": [
       "1    0.740172\n",
       "2    0.527188\n",
       "3    0.993547\n",
       "4    0.441159\n",
       "5    0.578086\n",
       "6    0.483495\n",
       "7    0.265164\n",
       "8    0.764398\n",
       "Name: Mi segunda serie, dtype: float64"
      ]
     },
     "execution_count": 5,
     "metadata": {},
     "output_type": "execute_result"
    }
   ],
   "source": [
    "# Podemos especificar los valores de los índices\n",
    "\n",
    "serie_2 = pd.Series(np.random.rand(8),index = range(1,9),name = \"Mi segunda serie\")\n",
    "serie_2"
   ]
  },
  {
   "cell_type": "code",
   "execution_count": 6,
   "metadata": {},
   "outputs": [
    {
     "data": {
      "text/plain": [
       "4    0.482818\n",
       "6    0.982597\n",
       "1    0.980303\n",
       "2    0.781019\n",
       "8    0.073521\n",
       "dtype: float64"
      ]
     },
     "execution_count": 6,
     "metadata": {},
     "output_type": "execute_result"
    }
   ],
   "source": [
    "# Podemos especificar los valores de los índices mas generalmente\n",
    "\n",
    "serie_3 = pd.Series(np.random.rand(5),index = [4,6,1,2,8])\n",
    "serie_3"
   ]
  },
  {
   "cell_type": "code",
   "execution_count": null,
   "metadata": {},
   "outputs": [],
   "source": [
    "serie_3[0]"
   ]
  },
  {
   "cell_type": "code",
   "execution_count": 8,
   "metadata": {},
   "outputs": [
    {
     "data": {
      "text/plain": [
       "0.48281841699556893"
      ]
     },
     "execution_count": 8,
     "metadata": {},
     "output_type": "execute_result"
    }
   ],
   "source": [
    "serie_3[4]"
   ]
  },
  {
   "cell_type": "code",
   "execution_count": 12,
   "metadata": {},
   "outputs": [
    {
     "data": {
      "text/plain": [
       "a    0.360679\n",
       "a    0.504459\n",
       "i    0.547856\n",
       "o    0.973188\n",
       "u    0.511415\n",
       "dtype: float64"
      ]
     },
     "execution_count": 12,
     "metadata": {},
     "output_type": "execute_result"
    }
   ],
   "source": [
    "serie_4 = pd.Series(np.random.rand(5),index = [\"a\",\"a\",\"i\",\"o\",\"u\"])\n",
    "serie_4"
   ]
  },
  {
   "cell_type": "code",
   "execution_count": 10,
   "metadata": {},
   "outputs": [
    {
     "data": {
      "text/plain": [
       "0.20496391339580133"
      ]
     },
     "execution_count": 10,
     "metadata": {},
     "output_type": "execute_result"
    }
   ],
   "source": [
    "serie_4[0]"
   ]
  },
  {
   "cell_type": "code",
   "execution_count": 13,
   "metadata": {},
   "outputs": [
    {
     "data": {
      "text/plain": [
       "a    0.360679\n",
       "a    0.504459\n",
       "dtype: float64"
      ]
     },
     "execution_count": 13,
     "metadata": {},
     "output_type": "execute_result"
    }
   ],
   "source": [
    "serie_4[\"a\"]"
   ]
  },
  {
   "cell_type": "markdown",
   "metadata": {},
   "source": [
    "Incluso los diccionarios se pueden convertir en series"
   ]
  },
  {
   "cell_type": "code",
   "execution_count": 15,
   "metadata": {},
   "outputs": [
    {
     "data": {
      "text/plain": [
       "Nobre       [Héctor, Manuel]\n",
       "Apellido             Garduño\n",
       "dtype: object"
      ]
     },
     "execution_count": 15,
     "metadata": {},
     "output_type": "execute_result"
    }
   ],
   "source": [
    "diccionario = {\"Nobre\":[\"Héctor\",\"Manuel\"],\"Apellido\":\"Garduño\"}\n",
    "pd.Series(diccionario)"
   ]
  },
  {
   "cell_type": "markdown",
   "metadata": {},
   "source": [
    "Es importante notar que las series son estructuras de datos en una sola dimensión. Si queremos estructuras mas complejas, debemos usar dataframes."
   ]
  },
  {
   "cell_type": "markdown",
   "metadata": {},
   "source": [
    "## Dataframes\n",
    "\n",
    "Los dataframes son similares a un aerreglo en 2 dimensiones de Numpy. Sin embargo, a diferencia de los arreglos de Numpy, no todas las columnas de estos objetos deben de ser necesariamente del mismo tipo.\n",
    "\n",
    "La clase **pandas.DataFrame** permite crear dataframes a partir de datos que pueden corresponder a:\n",
    "\n",
    "* Objetos de tipo dict.\n",
    "* Series objetos tipo tuple.\n",
    "* Objetos numpy.ndarray (arreglos que contienen sólo números).\n",
    "* Otros objetos instanciado de pandas.DataFrame.\n",
    "\n",
    "Dichos datos pueden ser ingresados como argumentos del parámetro data al instanciarlos.\n",
    "\n",
    "Los dataframes indexan por defecto las columnas y los encabrezados con valores numéricos. Sin embargo, estos pueden ser modificados por el usuario.\n"
   ]
  },
  {
   "cell_type": "code",
   "execution_count": 16,
   "metadata": {},
   "outputs": [
    {
     "data": {
      "text/html": [
       "<div>\n",
       "<style scoped>\n",
       "    .dataframe tbody tr th:only-of-type {\n",
       "        vertical-align: middle;\n",
       "    }\n",
       "\n",
       "    .dataframe tbody tr th {\n",
       "        vertical-align: top;\n",
       "    }\n",
       "\n",
       "    .dataframe thead th {\n",
       "        text-align: right;\n",
       "    }\n",
       "</style>\n",
       "<table border=\"1\" class=\"dataframe\">\n",
       "  <thead>\n",
       "    <tr style=\"text-align: right;\">\n",
       "      <th></th>\n",
       "      <th>0</th>\n",
       "      <th>1</th>\n",
       "      <th>2</th>\n",
       "    </tr>\n",
       "  </thead>\n",
       "  <tbody>\n",
       "    <tr>\n",
       "      <th>0</th>\n",
       "      <td>0</td>\n",
       "      <td>1</td>\n",
       "      <td>2</td>\n",
       "    </tr>\n",
       "    <tr>\n",
       "      <th>1</th>\n",
       "      <td>1</td>\n",
       "      <td>2</td>\n",
       "      <td>3</td>\n",
       "    </tr>\n",
       "    <tr>\n",
       "      <th>2</th>\n",
       "      <td>2</td>\n",
       "      <td>3</td>\n",
       "      <td>4</td>\n",
       "    </tr>\n",
       "    <tr>\n",
       "      <th>3</th>\n",
       "      <td>3</td>\n",
       "      <td>4</td>\n",
       "      <td>5</td>\n",
       "    </tr>\n",
       "  </tbody>\n",
       "</table>\n",
       "</div>"
      ],
      "text/plain": [
       "   0  1  2\n",
       "0  0  1  2\n",
       "1  1  2  3\n",
       "2  2  3  4\n",
       "3  3  4  5"
      ]
     },
     "execution_count": 16,
     "metadata": {},
     "output_type": "execute_result"
    }
   ],
   "source": [
    "pd.DataFrame(data=[(0, 1, 2), (1, 2, 3), (2, 3, 4), (3, 4, 5)])"
   ]
  },
  {
   "cell_type": "code",
   "execution_count": 18,
   "metadata": {},
   "outputs": [],
   "source": [
    "estudiantes = {'Nombre':[\"Hugo\", \"Paco\", \"Luis\" ,\"Pedro\", \"Juan\", \"Pablo\"], \n",
    "                'Apellido':[\"López\", \"Silva\", \"Oca\" , \"Ramírez\", \"Gutiérrez\", np.nan], \n",
    "                'Matrícula':[\"123455\", \"736923\", \"971298\" ,\"123098\", \"987656\", \"878652\"], \n",
    "                'Edad':[20, 35, 30 ,25, np.nan, 23]}"
   ]
  },
  {
   "cell_type": "code",
   "execution_count": 19,
   "metadata": {},
   "outputs": [
    {
     "data": {
      "text/html": [
       "<div>\n",
       "<style scoped>\n",
       "    .dataframe tbody tr th:only-of-type {\n",
       "        vertical-align: middle;\n",
       "    }\n",
       "\n",
       "    .dataframe tbody tr th {\n",
       "        vertical-align: top;\n",
       "    }\n",
       "\n",
       "    .dataframe thead th {\n",
       "        text-align: right;\n",
       "    }\n",
       "</style>\n",
       "<table border=\"1\" class=\"dataframe\">\n",
       "  <thead>\n",
       "    <tr style=\"text-align: right;\">\n",
       "      <th></th>\n",
       "      <th>Nombre</th>\n",
       "      <th>Apellido</th>\n",
       "      <th>Matrícula</th>\n",
       "      <th>Edad</th>\n",
       "    </tr>\n",
       "  </thead>\n",
       "  <tbody>\n",
       "    <tr>\n",
       "      <th>0</th>\n",
       "      <td>Hugo</td>\n",
       "      <td>López</td>\n",
       "      <td>123455</td>\n",
       "      <td>20.0</td>\n",
       "    </tr>\n",
       "    <tr>\n",
       "      <th>1</th>\n",
       "      <td>Paco</td>\n",
       "      <td>Silva</td>\n",
       "      <td>736923</td>\n",
       "      <td>35.0</td>\n",
       "    </tr>\n",
       "    <tr>\n",
       "      <th>2</th>\n",
       "      <td>Luis</td>\n",
       "      <td>Oca</td>\n",
       "      <td>971298</td>\n",
       "      <td>30.0</td>\n",
       "    </tr>\n",
       "    <tr>\n",
       "      <th>3</th>\n",
       "      <td>Pedro</td>\n",
       "      <td>Ramírez</td>\n",
       "      <td>123098</td>\n",
       "      <td>25.0</td>\n",
       "    </tr>\n",
       "    <tr>\n",
       "      <th>4</th>\n",
       "      <td>Juan</td>\n",
       "      <td>Gutiérrez</td>\n",
       "      <td>987656</td>\n",
       "      <td>NaN</td>\n",
       "    </tr>\n",
       "    <tr>\n",
       "      <th>5</th>\n",
       "      <td>Pablo</td>\n",
       "      <td>NaN</td>\n",
       "      <td>878652</td>\n",
       "      <td>23.0</td>\n",
       "    </tr>\n",
       "  </tbody>\n",
       "</table>\n",
       "</div>"
      ],
      "text/plain": [
       "  Nombre   Apellido Matrícula  Edad\n",
       "0   Hugo      López    123455  20.0\n",
       "1   Paco      Silva    736923  35.0\n",
       "2   Luis        Oca    971298  30.0\n",
       "3  Pedro    Ramírez    123098  25.0\n",
       "4   Juan  Gutiérrez    987656   NaN\n",
       "5  Pablo        NaN    878652  23.0"
      ]
     },
     "execution_count": 19,
     "metadata": {},
     "output_type": "execute_result"
    }
   ],
   "source": [
    "pd.DataFrame(estudiantes)"
   ]
  },
  {
   "cell_type": "code",
   "execution_count": 20,
   "metadata": {},
   "outputs": [
    {
     "data": {
      "text/plain": [
       "array([[0, 1, 2],\n",
       "       [3, 4, 5],\n",
       "       [6, 7, 8]])"
      ]
     },
     "execution_count": 20,
     "metadata": {},
     "output_type": "execute_result"
    }
   ],
   "source": [
    "matriz = np.arange(9).reshape(3,3)\n",
    "matriz"
   ]
  },
  {
   "cell_type": "code",
   "execution_count": 21,
   "metadata": {},
   "outputs": [
    {
     "data": {
      "text/html": [
       "<div>\n",
       "<style scoped>\n",
       "    .dataframe tbody tr th:only-of-type {\n",
       "        vertical-align: middle;\n",
       "    }\n",
       "\n",
       "    .dataframe tbody tr th {\n",
       "        vertical-align: top;\n",
       "    }\n",
       "\n",
       "    .dataframe thead th {\n",
       "        text-align: right;\n",
       "    }\n",
       "</style>\n",
       "<table border=\"1\" class=\"dataframe\">\n",
       "  <thead>\n",
       "    <tr style=\"text-align: right;\">\n",
       "      <th></th>\n",
       "      <th>0</th>\n",
       "      <th>1</th>\n",
       "      <th>2</th>\n",
       "    </tr>\n",
       "  </thead>\n",
       "  <tbody>\n",
       "    <tr>\n",
       "      <th>0</th>\n",
       "      <td>0</td>\n",
       "      <td>1</td>\n",
       "      <td>2</td>\n",
       "    </tr>\n",
       "    <tr>\n",
       "      <th>1</th>\n",
       "      <td>3</td>\n",
       "      <td>4</td>\n",
       "      <td>5</td>\n",
       "    </tr>\n",
       "    <tr>\n",
       "      <th>2</th>\n",
       "      <td>6</td>\n",
       "      <td>7</td>\n",
       "      <td>8</td>\n",
       "    </tr>\n",
       "  </tbody>\n",
       "</table>\n",
       "</div>"
      ],
      "text/plain": [
       "   0  1  2\n",
       "0  0  1  2\n",
       "1  3  4  5\n",
       "2  6  7  8"
      ]
     },
     "execution_count": 21,
     "metadata": {},
     "output_type": "execute_result"
    }
   ],
   "source": [
    "pd.DataFrame(matriz)"
   ]
  },
  {
   "cell_type": "markdown",
   "metadata": {},
   "source": [
    "El parámetro index, permite incluir un índice a cada renglón."
   ]
  },
  {
   "cell_type": "code",
   "execution_count": 22,
   "metadata": {},
   "outputs": [],
   "source": [
    "registro = (\"1a persona\",\"2a persona\",\"3a persona\",\"4a persona\",\"5a persona\",\"6a persona\")"
   ]
  },
  {
   "cell_type": "code",
   "execution_count": 23,
   "metadata": {},
   "outputs": [
    {
     "data": {
      "text/html": [
       "<div>\n",
       "<style scoped>\n",
       "    .dataframe tbody tr th:only-of-type {\n",
       "        vertical-align: middle;\n",
       "    }\n",
       "\n",
       "    .dataframe tbody tr th {\n",
       "        vertical-align: top;\n",
       "    }\n",
       "\n",
       "    .dataframe thead th {\n",
       "        text-align: right;\n",
       "    }\n",
       "</style>\n",
       "<table border=\"1\" class=\"dataframe\">\n",
       "  <thead>\n",
       "    <tr style=\"text-align: right;\">\n",
       "      <th></th>\n",
       "      <th>Nombre</th>\n",
       "      <th>Apellido</th>\n",
       "      <th>Matrícula</th>\n",
       "      <th>Edad</th>\n",
       "    </tr>\n",
       "  </thead>\n",
       "  <tbody>\n",
       "    <tr>\n",
       "      <th>1a persona</th>\n",
       "      <td>Hugo</td>\n",
       "      <td>López</td>\n",
       "      <td>123455</td>\n",
       "      <td>20.0</td>\n",
       "    </tr>\n",
       "    <tr>\n",
       "      <th>2a persona</th>\n",
       "      <td>Paco</td>\n",
       "      <td>Silva</td>\n",
       "      <td>736923</td>\n",
       "      <td>35.0</td>\n",
       "    </tr>\n",
       "    <tr>\n",
       "      <th>3a persona</th>\n",
       "      <td>Luis</td>\n",
       "      <td>Oca</td>\n",
       "      <td>971298</td>\n",
       "      <td>30.0</td>\n",
       "    </tr>\n",
       "    <tr>\n",
       "      <th>4a persona</th>\n",
       "      <td>Pedro</td>\n",
       "      <td>Ramírez</td>\n",
       "      <td>123098</td>\n",
       "      <td>25.0</td>\n",
       "    </tr>\n",
       "    <tr>\n",
       "      <th>5a persona</th>\n",
       "      <td>Juan</td>\n",
       "      <td>Gutiérrez</td>\n",
       "      <td>987656</td>\n",
       "      <td>NaN</td>\n",
       "    </tr>\n",
       "    <tr>\n",
       "      <th>6a persona</th>\n",
       "      <td>Pablo</td>\n",
       "      <td>NaN</td>\n",
       "      <td>878652</td>\n",
       "      <td>23.0</td>\n",
       "    </tr>\n",
       "  </tbody>\n",
       "</table>\n",
       "</div>"
      ],
      "text/plain": [
       "           Nombre   Apellido Matrícula  Edad\n",
       "1a persona   Hugo      López    123455  20.0\n",
       "2a persona   Paco      Silva    736923  35.0\n",
       "3a persona   Luis        Oca    971298  30.0\n",
       "4a persona  Pedro    Ramírez    123098  25.0\n",
       "5a persona   Juan  Gutiérrez    987656   NaN\n",
       "6a persona  Pablo        NaN    878652  23.0"
      ]
     },
     "execution_count": 23,
     "metadata": {},
     "output_type": "execute_result"
    }
   ],
   "source": [
    "pd.DataFrame(data = estudiantes, index = registro)"
   ]
  },
  {
   "cell_type": "markdown",
   "metadata": {},
   "source": [
    "El parámetro columns permite nombrar a las columnas."
   ]
  },
  {
   "cell_type": "code",
   "execution_count": 24,
   "metadata": {},
   "outputs": [],
   "source": [
    "matriz = np.arange(9).reshape((3,3))"
   ]
  },
  {
   "cell_type": "code",
   "execution_count": 25,
   "metadata": {},
   "outputs": [
    {
     "data": {
      "text/html": [
       "<div>\n",
       "<style scoped>\n",
       "    .dataframe tbody tr th:only-of-type {\n",
       "        vertical-align: middle;\n",
       "    }\n",
       "\n",
       "    .dataframe tbody tr th {\n",
       "        vertical-align: top;\n",
       "    }\n",
       "\n",
       "    .dataframe thead th {\n",
       "        text-align: right;\n",
       "    }\n",
       "</style>\n",
       "<table border=\"1\" class=\"dataframe\">\n",
       "  <thead>\n",
       "    <tr style=\"text-align: right;\">\n",
       "      <th></th>\n",
       "      <th>a</th>\n",
       "      <th>b</th>\n",
       "      <th>c</th>\n",
       "    </tr>\n",
       "  </thead>\n",
       "  <tbody>\n",
       "    <tr>\n",
       "      <th>uno</th>\n",
       "      <td>0</td>\n",
       "      <td>1</td>\n",
       "      <td>2</td>\n",
       "    </tr>\n",
       "    <tr>\n",
       "      <th>dos</th>\n",
       "      <td>3</td>\n",
       "      <td>4</td>\n",
       "      <td>5</td>\n",
       "    </tr>\n",
       "    <tr>\n",
       "      <th>tres</th>\n",
       "      <td>6</td>\n",
       "      <td>7</td>\n",
       "      <td>8</td>\n",
       "    </tr>\n",
       "  </tbody>\n",
       "</table>\n",
       "</div>"
      ],
      "text/plain": [
       "      a  b  c\n",
       "uno   0  1  2\n",
       "dos   3  4  5\n",
       "tres  6  7  8"
      ]
     },
     "execution_count": 25,
     "metadata": {},
     "output_type": "execute_result"
    }
   ],
   "source": [
    "pd.DataFrame(matriz, index=['uno','dos','tres'], columns=['a', 'b', 'c'])"
   ]
  },
  {
   "cell_type": "code",
   "execution_count": 27,
   "metadata": {},
   "outputs": [
    {
     "data": {
      "text/html": [
       "<div>\n",
       "<style scoped>\n",
       "    .dataframe tbody tr th:only-of-type {\n",
       "        vertical-align: middle;\n",
       "    }\n",
       "\n",
       "    .dataframe tbody tr th {\n",
       "        vertical-align: top;\n",
       "    }\n",
       "\n",
       "    .dataframe thead th {\n",
       "        text-align: right;\n",
       "    }\n",
       "</style>\n",
       "<table border=\"1\" class=\"dataframe\">\n",
       "  <thead>\n",
       "    <tr style=\"text-align: right;\">\n",
       "      <th></th>\n",
       "      <th>Nombre</th>\n",
       "      <th>Apellido</th>\n",
       "      <th>Matrícula</th>\n",
       "      <th>Edad</th>\n",
       "    </tr>\n",
       "  </thead>\n",
       "  <tbody>\n",
       "    <tr>\n",
       "      <th>Registro 1</th>\n",
       "      <td>Hugo</td>\n",
       "      <td>López</td>\n",
       "      <td>123455</td>\n",
       "      <td>20.0</td>\n",
       "    </tr>\n",
       "    <tr>\n",
       "      <th>Registro 2</th>\n",
       "      <td>Paco</td>\n",
       "      <td>Silva</td>\n",
       "      <td>736923</td>\n",
       "      <td>35.0</td>\n",
       "    </tr>\n",
       "    <tr>\n",
       "      <th>Registro 3</th>\n",
       "      <td>Luis</td>\n",
       "      <td>Oca</td>\n",
       "      <td>971298</td>\n",
       "      <td>NaN</td>\n",
       "    </tr>\n",
       "    <tr>\n",
       "      <th>Registro 4</th>\n",
       "      <td>Pedro</td>\n",
       "      <td>Ramírez</td>\n",
       "      <td>123098</td>\n",
       "      <td>NaN</td>\n",
       "    </tr>\n",
       "  </tbody>\n",
       "</table>\n",
       "</div>"
      ],
      "text/plain": [
       "           Nombre Apellido  Matrícula  Edad\n",
       "Registro 1   Hugo    López     123455  20.0\n",
       "Registro 2   Paco    Silva     736923  35.0\n",
       "Registro 3   Luis      Oca     971298   NaN\n",
       "Registro 4  Pedro  Ramírez     123098   NaN"
      ]
     },
     "execution_count": 27,
     "metadata": {},
     "output_type": "execute_result"
    }
   ],
   "source": [
    "pd.DataFrame(\n",
    "[[\"Hugo\",\"López\",123455,20],\n",
    " [\"Paco\",\"Silva\",736923],\n",
    " [\"Luis\",\"Oca\",971298],\n",
    " [\"Pedro\",\"Ramírez\",123098]    \n",
    "], columns = [\"Nombre\",\"Apellido\",\"Matrícula\",\"Edad\"],    \n",
    "    index = [\"Registro 1\",\"Registro 2\",\"Registro 3\",\"Registro 4\"]\n",
    "    \n",
    ")"
   ]
  },
  {
   "cell_type": "markdown",
   "metadata": {},
   "source": [
    "## Acceso a los elementos de un dataframe\n",
    "\n",
    "Podemos accesar a los elementos de un dataframe mediante las siguientes maneras. Consideremos nuevamente el dataframe anterior:"
   ]
  },
  {
   "cell_type": "code",
   "execution_count": 28,
   "metadata": {},
   "outputs": [
    {
     "data": {
      "text/html": [
       "<div>\n",
       "<style scoped>\n",
       "    .dataframe tbody tr th:only-of-type {\n",
       "        vertical-align: middle;\n",
       "    }\n",
       "\n",
       "    .dataframe tbody tr th {\n",
       "        vertical-align: top;\n",
       "    }\n",
       "\n",
       "    .dataframe thead th {\n",
       "        text-align: right;\n",
       "    }\n",
       "</style>\n",
       "<table border=\"1\" class=\"dataframe\">\n",
       "  <thead>\n",
       "    <tr style=\"text-align: right;\">\n",
       "      <th></th>\n",
       "      <th>Nombre</th>\n",
       "      <th>Apellido</th>\n",
       "      <th>Matrícula</th>\n",
       "      <th>Edad</th>\n",
       "    </tr>\n",
       "  </thead>\n",
       "  <tbody>\n",
       "    <tr>\n",
       "      <th>Registro 1</th>\n",
       "      <td>Hugo</td>\n",
       "      <td>López</td>\n",
       "      <td>123455</td>\n",
       "      <td>20.0</td>\n",
       "    </tr>\n",
       "    <tr>\n",
       "      <th>Registro 2</th>\n",
       "      <td>Paco</td>\n",
       "      <td>Silva</td>\n",
       "      <td>736923</td>\n",
       "      <td>35.0</td>\n",
       "    </tr>\n",
       "    <tr>\n",
       "      <th>Registro 3</th>\n",
       "      <td>Luis</td>\n",
       "      <td>Oca</td>\n",
       "      <td>971298</td>\n",
       "      <td>NaN</td>\n",
       "    </tr>\n",
       "    <tr>\n",
       "      <th>Registro 4</th>\n",
       "      <td>Pedro</td>\n",
       "      <td>Ramírez</td>\n",
       "      <td>123098</td>\n",
       "      <td>NaN</td>\n",
       "    </tr>\n",
       "  </tbody>\n",
       "</table>\n",
       "</div>"
      ],
      "text/plain": [
       "           Nombre Apellido Matrícula  Edad\n",
       "Registro 1   Hugo    López    123455  20.0\n",
       "Registro 2   Paco    Silva    736923  35.0\n",
       "Registro 3   Luis      Oca    971298   NaN\n",
       "Registro 4  Pedro  Ramírez    123098   NaN"
      ]
     },
     "execution_count": 28,
     "metadata": {},
     "output_type": "execute_result"
    }
   ],
   "source": [
    "estudiantes = pd.DataFrame(\n",
    "[[\"Hugo\",\"López\",\"123455\",20],\n",
    " [\"Paco\",\"Silva\",\"736923\",35],\n",
    " [\"Luis\",\"Oca\",\"971298\"],\n",
    " [\"Pedro\",\"Ramírez\",\"123098\"]    \n",
    "], index = [\"Registro 1\",\"Registro 2\",\"Registro 3\",\"Registro 4\"],\n",
    "    columns = [\"Nombre\",\"Apellido\",\"Matrícula\",\"Edad\"]\n",
    ")\n",
    "\n",
    "estudiantes\n"
   ]
  },
  {
   "cell_type": "code",
   "execution_count": 30,
   "metadata": {},
   "outputs": [
    {
     "data": {
      "text/plain": [
       "Registro 1    123455\n",
       "Registro 2    736923\n",
       "Registro 3    971298\n",
       "Registro 4    123098\n",
       "Name: Matrícula, dtype: object"
      ]
     },
     "execution_count": 30,
     "metadata": {},
     "output_type": "execute_result"
    }
   ],
   "source": [
    "# Acceso a una columna: usando el nombre de los campos\n",
    "\n",
    "estudiantes[\"Matrícula\"]"
   ]
  },
  {
   "cell_type": "code",
   "execution_count": 31,
   "metadata": {},
   "outputs": [
    {
     "data": {
      "text/html": [
       "<div>\n",
       "<style scoped>\n",
       "    .dataframe tbody tr th:only-of-type {\n",
       "        vertical-align: middle;\n",
       "    }\n",
       "\n",
       "    .dataframe tbody tr th {\n",
       "        vertical-align: top;\n",
       "    }\n",
       "\n",
       "    .dataframe thead th {\n",
       "        text-align: right;\n",
       "    }\n",
       "</style>\n",
       "<table border=\"1\" class=\"dataframe\">\n",
       "  <thead>\n",
       "    <tr style=\"text-align: right;\">\n",
       "      <th></th>\n",
       "      <th>Nombre</th>\n",
       "      <th>Edad</th>\n",
       "    </tr>\n",
       "  </thead>\n",
       "  <tbody>\n",
       "    <tr>\n",
       "      <th>Registro 1</th>\n",
       "      <td>Hugo</td>\n",
       "      <td>20.0</td>\n",
       "    </tr>\n",
       "    <tr>\n",
       "      <th>Registro 2</th>\n",
       "      <td>Paco</td>\n",
       "      <td>35.0</td>\n",
       "    </tr>\n",
       "    <tr>\n",
       "      <th>Registro 3</th>\n",
       "      <td>Luis</td>\n",
       "      <td>NaN</td>\n",
       "    </tr>\n",
       "    <tr>\n",
       "      <th>Registro 4</th>\n",
       "      <td>Pedro</td>\n",
       "      <td>NaN</td>\n",
       "    </tr>\n",
       "  </tbody>\n",
       "</table>\n",
       "</div>"
      ],
      "text/plain": [
       "           Nombre  Edad\n",
       "Registro 1   Hugo  20.0\n",
       "Registro 2   Paco  35.0\n",
       "Registro 3   Luis   NaN\n",
       "Registro 4  Pedro   NaN"
      ]
     },
     "execution_count": 31,
     "metadata": {},
     "output_type": "execute_result"
    }
   ],
   "source": [
    "# Acceso a varias columnas: usando el nombre de los campos\n",
    "\n",
    "estudiantes[[\"Nombre\",\"Edad\"]]"
   ]
  },
  {
   "cell_type": "code",
   "execution_count": 32,
   "metadata": {},
   "outputs": [
    {
     "data": {
      "text/html": [
       "<div>\n",
       "<style scoped>\n",
       "    .dataframe tbody tr th:only-of-type {\n",
       "        vertical-align: middle;\n",
       "    }\n",
       "\n",
       "    .dataframe tbody tr th {\n",
       "        vertical-align: top;\n",
       "    }\n",
       "\n",
       "    .dataframe thead th {\n",
       "        text-align: right;\n",
       "    }\n",
       "</style>\n",
       "<table border=\"1\" class=\"dataframe\">\n",
       "  <thead>\n",
       "    <tr style=\"text-align: right;\">\n",
       "      <th></th>\n",
       "      <th>Nombre</th>\n",
       "      <th>Apellido</th>\n",
       "      <th>Matrícula</th>\n",
       "      <th>Edad</th>\n",
       "    </tr>\n",
       "  </thead>\n",
       "  <tbody>\n",
       "    <tr>\n",
       "      <th>Registro 2</th>\n",
       "      <td>Paco</td>\n",
       "      <td>Silva</td>\n",
       "      <td>736923</td>\n",
       "      <td>35.0</td>\n",
       "    </tr>\n",
       "    <tr>\n",
       "      <th>Registro 4</th>\n",
       "      <td>Pedro</td>\n",
       "      <td>Ramírez</td>\n",
       "      <td>123098</td>\n",
       "      <td>NaN</td>\n",
       "    </tr>\n",
       "  </tbody>\n",
       "</table>\n",
       "</div>"
      ],
      "text/plain": [
       "           Nombre Apellido Matrícula  Edad\n",
       "Registro 2   Paco    Silva    736923  35.0\n",
       "Registro 4  Pedro  Ramírez    123098   NaN"
      ]
     },
     "execution_count": 32,
     "metadata": {},
     "output_type": "execute_result"
    }
   ],
   "source": [
    "# Acceso a una fila mediante el nombre del ínice del registro\n",
    "\n",
    "estudiantes.loc[[\"Registro 2\",\"Registro 4\"]]"
   ]
  },
  {
   "cell_type": "code",
   "execution_count": 33,
   "metadata": {},
   "outputs": [
    {
     "data": {
      "text/plain": [
       "Nombre         Paco\n",
       "Apellido      Silva\n",
       "Matrícula    736923\n",
       "Edad             35\n",
       "Name: Registro 2, dtype: object"
      ]
     },
     "execution_count": 33,
     "metadata": {},
     "output_type": "execute_result"
    }
   ],
   "source": [
    "# Acceso a una fila mediante el número del índice del registro\n",
    "\n",
    "estudiantes.iloc[1]"
   ]
  },
  {
   "cell_type": "code",
   "execution_count": 39,
   "metadata": {},
   "outputs": [
    {
     "data": {
      "text/html": [
       "<div>\n",
       "<style scoped>\n",
       "    .dataframe tbody tr th:only-of-type {\n",
       "        vertical-align: middle;\n",
       "    }\n",
       "\n",
       "    .dataframe tbody tr th {\n",
       "        vertical-align: top;\n",
       "    }\n",
       "\n",
       "    .dataframe thead th {\n",
       "        text-align: right;\n",
       "    }\n",
       "</style>\n",
       "<table border=\"1\" class=\"dataframe\">\n",
       "  <thead>\n",
       "    <tr style=\"text-align: right;\">\n",
       "      <th></th>\n",
       "      <th>Nombre</th>\n",
       "      <th>Edad</th>\n",
       "    </tr>\n",
       "  </thead>\n",
       "  <tbody>\n",
       "    <tr>\n",
       "      <th>Registro 1</th>\n",
       "      <td>Hugo</td>\n",
       "      <td>20.0</td>\n",
       "    </tr>\n",
       "    <tr>\n",
       "      <th>Registro 4</th>\n",
       "      <td>Pedro</td>\n",
       "      <td>NaN</td>\n",
       "    </tr>\n",
       "  </tbody>\n",
       "</table>\n",
       "</div>"
      ],
      "text/plain": [
       "           Nombre  Edad\n",
       "Registro 1   Hugo  20.0\n",
       "Registro 4  Pedro   NaN"
      ]
     },
     "execution_count": 39,
     "metadata": {},
     "output_type": "execute_result"
    }
   ],
   "source": [
    "# Acceso a ciertas columnas y ciertas filas.\n",
    "\n",
    "estudiantes.loc[[\"Registro 1\",\"Registro 4\"]][[\"Nombre\",\"Edad\"]]"
   ]
  },
  {
   "cell_type": "markdown",
   "metadata": {},
   "source": [
    "## Operaciones básicas de dataframes\n",
    "\n",
    "También es posible añadir nuevas columnas a un dataframe utilizando columnas que ya existen."
   ]
  },
  {
   "cell_type": "code",
   "execution_count": 48,
   "metadata": {},
   "outputs": [
    {
     "data": {
      "text/html": [
       "<div>\n",
       "<style scoped>\n",
       "    .dataframe tbody tr th:only-of-type {\n",
       "        vertical-align: middle;\n",
       "    }\n",
       "\n",
       "    .dataframe tbody tr th {\n",
       "        vertical-align: top;\n",
       "    }\n",
       "\n",
       "    .dataframe thead th {\n",
       "        text-align: right;\n",
       "    }\n",
       "</style>\n",
       "<table border=\"1\" class=\"dataframe\">\n",
       "  <thead>\n",
       "    <tr style=\"text-align: right;\">\n",
       "      <th></th>\n",
       "      <th>Nombre</th>\n",
       "      <th>Apellido</th>\n",
       "      <th>Matrícula</th>\n",
       "      <th>Edad</th>\n",
       "      <th>Nombre completo</th>\n",
       "    </tr>\n",
       "  </thead>\n",
       "  <tbody>\n",
       "    <tr>\n",
       "      <th>Registro 1</th>\n",
       "      <td>Hugo</td>\n",
       "      <td>López</td>\n",
       "      <td>123455</td>\n",
       "      <td>20.0</td>\n",
       "      <td>Hugo López</td>\n",
       "    </tr>\n",
       "    <tr>\n",
       "      <th>Registro 2</th>\n",
       "      <td>Paco</td>\n",
       "      <td>Silva</td>\n",
       "      <td>736923</td>\n",
       "      <td>35.0</td>\n",
       "      <td>Paco Silva</td>\n",
       "    </tr>\n",
       "    <tr>\n",
       "      <th>Registro 3</th>\n",
       "      <td>Luis</td>\n",
       "      <td>Oca</td>\n",
       "      <td>971298</td>\n",
       "      <td>NaN</td>\n",
       "      <td>Luis Oca</td>\n",
       "    </tr>\n",
       "    <tr>\n",
       "      <th>Registro 4</th>\n",
       "      <td>Pedro</td>\n",
       "      <td>Ramírez</td>\n",
       "      <td>123098</td>\n",
       "      <td>NaN</td>\n",
       "      <td>Pedro Ramírez</td>\n",
       "    </tr>\n",
       "  </tbody>\n",
       "</table>\n",
       "</div>"
      ],
      "text/plain": [
       "           Nombre Apellido Matrícula  Edad Nombre completo\n",
       "Registro 1   Hugo    López    123455  20.0      Hugo López\n",
       "Registro 2   Paco    Silva    736923  35.0      Paco Silva\n",
       "Registro 3   Luis      Oca    971298   NaN        Luis Oca\n",
       "Registro 4  Pedro  Ramírez    123098   NaN   Pedro Ramírez"
      ]
     },
     "execution_count": 48,
     "metadata": {},
     "output_type": "execute_result"
    }
   ],
   "source": [
    "estudiantes[\"Nombre completo\"] = estudiantes[\"Nombre\"] + \" \" + estudiantes[\"Apellido\"]\n",
    "estudiantes"
   ]
  },
  {
   "cell_type": "code",
   "execution_count": 51,
   "metadata": {},
   "outputs": [
    {
     "data": {
      "text/html": [
       "<div>\n",
       "<style scoped>\n",
       "    .dataframe tbody tr th:only-of-type {\n",
       "        vertical-align: middle;\n",
       "    }\n",
       "\n",
       "    .dataframe tbody tr th {\n",
       "        vertical-align: top;\n",
       "    }\n",
       "\n",
       "    .dataframe thead th {\n",
       "        text-align: right;\n",
       "    }\n",
       "</style>\n",
       "<table border=\"1\" class=\"dataframe\">\n",
       "  <thead>\n",
       "    <tr style=\"text-align: right;\">\n",
       "      <th></th>\n",
       "      <th>Nombre</th>\n",
       "      <th>Apellido</th>\n",
       "      <th>Matrícula</th>\n",
       "      <th>Edad</th>\n",
       "    </tr>\n",
       "  </thead>\n",
       "  <tbody>\n",
       "    <tr>\n",
       "      <th>Registro 1</th>\n",
       "      <td>Hugo</td>\n",
       "      <td>López</td>\n",
       "      <td>123455</td>\n",
       "      <td>20.0</td>\n",
       "    </tr>\n",
       "    <tr>\n",
       "      <th>Registro 2</th>\n",
       "      <td>Paco</td>\n",
       "      <td>Silva</td>\n",
       "      <td>736923</td>\n",
       "      <td>35.0</td>\n",
       "    </tr>\n",
       "    <tr>\n",
       "      <th>Registro 3</th>\n",
       "      <td>Luis</td>\n",
       "      <td>Oca</td>\n",
       "      <td>971298</td>\n",
       "      <td>NaN</td>\n",
       "    </tr>\n",
       "    <tr>\n",
       "      <th>Registro 4</th>\n",
       "      <td>Pedro</td>\n",
       "      <td>Ramírez</td>\n",
       "      <td>123098</td>\n",
       "      <td>NaN</td>\n",
       "    </tr>\n",
       "  </tbody>\n",
       "</table>\n",
       "</div>"
      ],
      "text/plain": [
       "           Nombre Apellido Matrícula  Edad\n",
       "Registro 1   Hugo    López    123455  20.0\n",
       "Registro 2   Paco    Silva    736923  35.0\n",
       "Registro 3   Luis      Oca    971298   NaN\n",
       "Registro 4  Pedro  Ramírez    123098   NaN"
      ]
     },
     "execution_count": 51,
     "metadata": {},
     "output_type": "execute_result"
    }
   ],
   "source": [
    "# Eliminado de columnas\n",
    "\n",
    "estudiantes.drop(\"Nombre completo\",axis = 1,inplace = True)\n",
    "estudiantes"
   ]
  },
  {
   "cell_type": "code",
   "execution_count": 52,
   "metadata": {},
   "outputs": [
    {
     "data": {
      "text/html": [
       "<div>\n",
       "<style scoped>\n",
       "    .dataframe tbody tr th:only-of-type {\n",
       "        vertical-align: middle;\n",
       "    }\n",
       "\n",
       "    .dataframe tbody tr th {\n",
       "        vertical-align: top;\n",
       "    }\n",
       "\n",
       "    .dataframe thead th {\n",
       "        text-align: right;\n",
       "    }\n",
       "</style>\n",
       "<table border=\"1\" class=\"dataframe\">\n",
       "  <thead>\n",
       "    <tr style=\"text-align: right;\">\n",
       "      <th></th>\n",
       "      <th>index</th>\n",
       "      <th>Nombre</th>\n",
       "      <th>Apellido</th>\n",
       "      <th>Matrícula</th>\n",
       "      <th>Edad</th>\n",
       "    </tr>\n",
       "  </thead>\n",
       "  <tbody>\n",
       "    <tr>\n",
       "      <th>0</th>\n",
       "      <td>Registro 1</td>\n",
       "      <td>Hugo</td>\n",
       "      <td>López</td>\n",
       "      <td>123455</td>\n",
       "      <td>20.0</td>\n",
       "    </tr>\n",
       "    <tr>\n",
       "      <th>1</th>\n",
       "      <td>Registro 2</td>\n",
       "      <td>Paco</td>\n",
       "      <td>Silva</td>\n",
       "      <td>736923</td>\n",
       "      <td>35.0</td>\n",
       "    </tr>\n",
       "    <tr>\n",
       "      <th>2</th>\n",
       "      <td>Registro 3</td>\n",
       "      <td>Luis</td>\n",
       "      <td>Oca</td>\n",
       "      <td>971298</td>\n",
       "      <td>NaN</td>\n",
       "    </tr>\n",
       "    <tr>\n",
       "      <th>3</th>\n",
       "      <td>Registro 4</td>\n",
       "      <td>Pedro</td>\n",
       "      <td>Ramírez</td>\n",
       "      <td>123098</td>\n",
       "      <td>NaN</td>\n",
       "    </tr>\n",
       "  </tbody>\n",
       "</table>\n",
       "</div>"
      ],
      "text/plain": [
       "        index Nombre Apellido Matrícula  Edad\n",
       "0  Registro 1   Hugo    López    123455  20.0\n",
       "1  Registro 2   Paco    Silva    736923  35.0\n",
       "2  Registro 3   Luis      Oca    971298   NaN\n",
       "3  Registro 4  Pedro  Ramírez    123098   NaN"
      ]
     },
     "execution_count": 52,
     "metadata": {},
     "output_type": "execute_result"
    }
   ],
   "source": [
    "# Indexar numéricamente los registros\n",
    "\n",
    "estudiantes.reset_index(inplace = True)\n",
    "estudiantes"
   ]
  },
  {
   "cell_type": "code",
   "execution_count": 53,
   "metadata": {},
   "outputs": [
    {
     "data": {
      "text/html": [
       "<div>\n",
       "<style scoped>\n",
       "    .dataframe tbody tr th:only-of-type {\n",
       "        vertical-align: middle;\n",
       "    }\n",
       "\n",
       "    .dataframe tbody tr th {\n",
       "        vertical-align: top;\n",
       "    }\n",
       "\n",
       "    .dataframe thead th {\n",
       "        text-align: right;\n",
       "    }\n",
       "</style>\n",
       "<table border=\"1\" class=\"dataframe\">\n",
       "  <thead>\n",
       "    <tr style=\"text-align: right;\">\n",
       "      <th></th>\n",
       "      <th>Matrícula</th>\n",
       "      <th>Edad</th>\n",
       "    </tr>\n",
       "  </thead>\n",
       "  <tbody>\n",
       "    <tr>\n",
       "      <th>0</th>\n",
       "      <td>123455</td>\n",
       "      <td>20.0</td>\n",
       "    </tr>\n",
       "    <tr>\n",
       "      <th>3</th>\n",
       "      <td>123098</td>\n",
       "      <td>NaN</td>\n",
       "    </tr>\n",
       "  </tbody>\n",
       "</table>\n",
       "</div>"
      ],
      "text/plain": [
       "  Matrícula  Edad\n",
       "0    123455  20.0\n",
       "3    123098   NaN"
      ]
     },
     "execution_count": 53,
     "metadata": {},
     "output_type": "execute_result"
    }
   ],
   "source": [
    "# Acceso a ciertas columnas y ciertas filas.\n",
    "\n",
    "estudiantes.loc[[0,3],[\"Matrícula\",\"Edad\"]]"
   ]
  },
  {
   "cell_type": "code",
   "execution_count": 56,
   "metadata": {},
   "outputs": [
    {
     "data": {
      "text/html": [
       "<div>\n",
       "<style scoped>\n",
       "    .dataframe tbody tr th:only-of-type {\n",
       "        vertical-align: middle;\n",
       "    }\n",
       "\n",
       "    .dataframe tbody tr th {\n",
       "        vertical-align: top;\n",
       "    }\n",
       "\n",
       "    .dataframe thead th {\n",
       "        text-align: right;\n",
       "    }\n",
       "</style>\n",
       "<table border=\"1\" class=\"dataframe\">\n",
       "  <thead>\n",
       "    <tr style=\"text-align: right;\">\n",
       "      <th></th>\n",
       "      <th>index</th>\n",
       "      <th>Edad</th>\n",
       "      <th>Matrícula</th>\n",
       "    </tr>\n",
       "  </thead>\n",
       "  <tbody>\n",
       "    <tr>\n",
       "      <th>1</th>\n",
       "      <td>Registro 2</td>\n",
       "      <td>35.0</td>\n",
       "      <td>736923</td>\n",
       "    </tr>\n",
       "  </tbody>\n",
       "</table>\n",
       "</div>"
      ],
      "text/plain": [
       "        index  Edad Matrícula\n",
       "1  Registro 2  35.0    736923"
      ]
     },
     "execution_count": 56,
     "metadata": {},
     "output_type": "execute_result"
    }
   ],
   "source": [
    "# Incluso podemos hacer seleción por filtrado\n",
    "\n",
    "estudiantes[estudiantes[\"Edad\"] > 20][[\"index\",\"Edad\",\"Matrícula\"]]\n",
    "\n"
   ]
  },
  {
   "cell_type": "code",
   "execution_count": 58,
   "metadata": {},
   "outputs": [
    {
     "data": {
      "text/html": [
       "<div>\n",
       "<style scoped>\n",
       "    .dataframe tbody tr th:only-of-type {\n",
       "        vertical-align: middle;\n",
       "    }\n",
       "\n",
       "    .dataframe tbody tr th {\n",
       "        vertical-align: top;\n",
       "    }\n",
       "\n",
       "    .dataframe thead th {\n",
       "        text-align: right;\n",
       "    }\n",
       "</style>\n",
       "<table border=\"1\" class=\"dataframe\">\n",
       "  <thead>\n",
       "    <tr style=\"text-align: right;\">\n",
       "      <th></th>\n",
       "      <th>Campo 1</th>\n",
       "      <th>Campo 2</th>\n",
       "      <th>Campo 3</th>\n",
       "      <th>Campo 4</th>\n",
       "      <th>Campo 5</th>\n",
       "    </tr>\n",
       "  </thead>\n",
       "  <tbody>\n",
       "    <tr>\n",
       "      <th>0</th>\n",
       "      <td>Registro 1</td>\n",
       "      <td>Hugo</td>\n",
       "      <td>López</td>\n",
       "      <td>123455</td>\n",
       "      <td>20.0</td>\n",
       "    </tr>\n",
       "    <tr>\n",
       "      <th>1</th>\n",
       "      <td>Registro 2</td>\n",
       "      <td>Paco</td>\n",
       "      <td>Silva</td>\n",
       "      <td>736923</td>\n",
       "      <td>35.0</td>\n",
       "    </tr>\n",
       "    <tr>\n",
       "      <th>2</th>\n",
       "      <td>Registro 3</td>\n",
       "      <td>Luis</td>\n",
       "      <td>Oca</td>\n",
       "      <td>971298</td>\n",
       "      <td>NaN</td>\n",
       "    </tr>\n",
       "    <tr>\n",
       "      <th>3</th>\n",
       "      <td>Registro 4</td>\n",
       "      <td>Pedro</td>\n",
       "      <td>Ramírez</td>\n",
       "      <td>123098</td>\n",
       "      <td>NaN</td>\n",
       "    </tr>\n",
       "  </tbody>\n",
       "</table>\n",
       "</div>"
      ],
      "text/plain": [
       "      Campo 1 Campo 2  Campo 3 Campo 4  Campo 5\n",
       "0  Registro 1    Hugo    López  123455     20.0\n",
       "1  Registro 2    Paco    Silva  736923     35.0\n",
       "2  Registro 3    Luis      Oca  971298      NaN\n",
       "3  Registro 4   Pedro  Ramírez  123098      NaN"
      ]
     },
     "execution_count": 58,
     "metadata": {},
     "output_type": "execute_result"
    }
   ],
   "source": [
    "# Cambiando los nombres de las columnas\n",
    "\n",
    "estudiantes.columns = [\"Campo 1\",\"Campo 2\",\"Campo 3\",\"Campo 4\",\"Campo 5\"]\n",
    "estudiantes"
   ]
  },
  {
   "cell_type": "code",
   "execution_count": 59,
   "metadata": {},
   "outputs": [
    {
     "data": {
      "text/html": [
       "<div>\n",
       "<style scoped>\n",
       "    .dataframe tbody tr th:only-of-type {\n",
       "        vertical-align: middle;\n",
       "    }\n",
       "\n",
       "    .dataframe tbody tr th {\n",
       "        vertical-align: top;\n",
       "    }\n",
       "\n",
       "    .dataframe thead th {\n",
       "        text-align: right;\n",
       "    }\n",
       "</style>\n",
       "<table border=\"1\" class=\"dataframe\">\n",
       "  <thead>\n",
       "    <tr style=\"text-align: right;\">\n",
       "      <th></th>\n",
       "      <th>Campo 1</th>\n",
       "      <th>Campo 2</th>\n",
       "      <th>Campo 3</th>\n",
       "      <th>Campo 4</th>\n",
       "      <th>Campo 5</th>\n",
       "    </tr>\n",
       "    <tr>\n",
       "      <th>Campo 4</th>\n",
       "      <th></th>\n",
       "      <th></th>\n",
       "      <th></th>\n",
       "      <th></th>\n",
       "      <th></th>\n",
       "    </tr>\n",
       "  </thead>\n",
       "  <tbody>\n",
       "    <tr>\n",
       "      <th>123455</th>\n",
       "      <td>Registro 1</td>\n",
       "      <td>Hugo</td>\n",
       "      <td>López</td>\n",
       "      <td>123455</td>\n",
       "      <td>20.0</td>\n",
       "    </tr>\n",
       "    <tr>\n",
       "      <th>736923</th>\n",
       "      <td>Registro 2</td>\n",
       "      <td>Paco</td>\n",
       "      <td>Silva</td>\n",
       "      <td>736923</td>\n",
       "      <td>35.0</td>\n",
       "    </tr>\n",
       "    <tr>\n",
       "      <th>971298</th>\n",
       "      <td>Registro 3</td>\n",
       "      <td>Luis</td>\n",
       "      <td>Oca</td>\n",
       "      <td>971298</td>\n",
       "      <td>NaN</td>\n",
       "    </tr>\n",
       "    <tr>\n",
       "      <th>123098</th>\n",
       "      <td>Registro 4</td>\n",
       "      <td>Pedro</td>\n",
       "      <td>Ramírez</td>\n",
       "      <td>123098</td>\n",
       "      <td>NaN</td>\n",
       "    </tr>\n",
       "  </tbody>\n",
       "</table>\n",
       "</div>"
      ],
      "text/plain": [
       "            Campo 1 Campo 2  Campo 3 Campo 4  Campo 5\n",
       "Campo 4                                              \n",
       "123455   Registro 1    Hugo    López  123455     20.0\n",
       "736923   Registro 2    Paco    Silva  736923     35.0\n",
       "971298   Registro 3    Luis      Oca  971298      NaN\n",
       "123098   Registro 4   Pedro  Ramírez  123098      NaN"
      ]
     },
     "execution_count": 59,
     "metadata": {},
     "output_type": "execute_result"
    }
   ],
   "source": [
    "# Cambiando los nombres de las filas\n",
    "\n",
    "estudiantes.index = estudiantes[\"Campo 4\"]\n",
    "estudiantes"
   ]
  },
  {
   "cell_type": "code",
   "execution_count": 61,
   "metadata": {},
   "outputs": [
    {
     "data": {
      "text/html": [
       "<div>\n",
       "<style scoped>\n",
       "    .dataframe tbody tr th:only-of-type {\n",
       "        vertical-align: middle;\n",
       "    }\n",
       "\n",
       "    .dataframe tbody tr th {\n",
       "        vertical-align: top;\n",
       "    }\n",
       "\n",
       "    .dataframe thead th {\n",
       "        text-align: right;\n",
       "    }\n",
       "</style>\n",
       "<table border=\"1\" class=\"dataframe\">\n",
       "  <thead>\n",
       "    <tr style=\"text-align: right;\">\n",
       "      <th></th>\n",
       "      <th>Campo 1</th>\n",
       "      <th>Campo 2</th>\n",
       "      <th>Campo 3</th>\n",
       "      <th>Campo 4</th>\n",
       "      <th>Campo 5</th>\n",
       "    </tr>\n",
       "    <tr>\n",
       "      <th>Campo 4</th>\n",
       "      <th></th>\n",
       "      <th></th>\n",
       "      <th></th>\n",
       "      <th></th>\n",
       "      <th></th>\n",
       "    </tr>\n",
       "  </thead>\n",
       "  <tbody>\n",
       "    <tr>\n",
       "      <th>123455</th>\n",
       "      <td>Registro 1</td>\n",
       "      <td>Hugo</td>\n",
       "      <td>López</td>\n",
       "      <td>123455</td>\n",
       "      <td>20</td>\n",
       "    </tr>\n",
       "    <tr>\n",
       "      <th>736923</th>\n",
       "      <td>Registro 2</td>\n",
       "      <td>Paco</td>\n",
       "      <td>Silva</td>\n",
       "      <td>736923</td>\n",
       "      <td>35</td>\n",
       "    </tr>\n",
       "    <tr>\n",
       "      <th>971298</th>\n",
       "      <td>Registro 3</td>\n",
       "      <td>Luis</td>\n",
       "      <td>Oca</td>\n",
       "      <td>971298</td>\n",
       "      <td>NaN</td>\n",
       "    </tr>\n",
       "    <tr>\n",
       "      <th>123098</th>\n",
       "      <td>Registro 4</td>\n",
       "      <td>Pedro</td>\n",
       "      <td>Ramírez</td>\n",
       "      <td>123098</td>\n",
       "      <td>NaN</td>\n",
       "    </tr>\n",
       "    <tr>\n",
       "      <th>888888</th>\n",
       "      <td>Registro 5</td>\n",
       "      <td>Helena</td>\n",
       "      <td>González</td>\n",
       "      <td>888888</td>\n",
       "      <td>29</td>\n",
       "    </tr>\n",
       "  </tbody>\n",
       "</table>\n",
       "</div>"
      ],
      "text/plain": [
       "            Campo 1  Campo 2    Campo 3  Campo 4 Campo 5\n",
       "Campo 4                                                 \n",
       "123455   Registro 1     Hugo      López   123455      20\n",
       "736923   Registro 2     Paco      Silva   736923      35\n",
       "971298   Registro 3     Luis        Oca   971298     NaN\n",
       "123098   Registro 4    Pedro    Ramírez   123098     NaN\n",
       "888888   Registro 5   Helena   González   888888      29"
      ]
     },
     "execution_count": 61,
     "metadata": {},
     "output_type": "execute_result"
    }
   ],
   "source": [
    "# Agregado de una fila\n",
    "\n",
    "nuevo_elemento = \"Registro 5, Helena, González, 888888, 29\"\n",
    "nuevo_elemento.split(\",\")\n",
    "\n",
    "estudiantes.loc[888888] = nuevo_elemento.split(\",\")\n",
    "estudiantes"
   ]
  },
  {
   "cell_type": "code",
   "execution_count": 62,
   "metadata": {},
   "outputs": [
    {
     "data": {
      "text/plain": [
       "Campo 1    Registro 5\n",
       "Campo 2        Helena\n",
       "Campo 3      González\n",
       "Campo 4        888888\n",
       "Campo 5            29\n",
       "Name: 888888, dtype: object"
      ]
     },
     "execution_count": 62,
     "metadata": {},
     "output_type": "execute_result"
    }
   ],
   "source": [
    "estudiantes.iloc[-1] "
   ]
  },
  {
   "cell_type": "code",
   "execution_count": 68,
   "metadata": {},
   "outputs": [
    {
     "data": {
      "text/html": [
       "<div>\n",
       "<style scoped>\n",
       "    .dataframe tbody tr th:only-of-type {\n",
       "        vertical-align: middle;\n",
       "    }\n",
       "\n",
       "    .dataframe tbody tr th {\n",
       "        vertical-align: top;\n",
       "    }\n",
       "\n",
       "    .dataframe thead th {\n",
       "        text-align: right;\n",
       "    }\n",
       "</style>\n",
       "<table border=\"1\" class=\"dataframe\">\n",
       "  <thead>\n",
       "    <tr style=\"text-align: right;\">\n",
       "      <th></th>\n",
       "      <th>Campo 1</th>\n",
       "      <th>Campo 2</th>\n",
       "      <th>Campo 3</th>\n",
       "      <th>Campo 4</th>\n",
       "      <th>Campo 5</th>\n",
       "    </tr>\n",
       "    <tr>\n",
       "      <th>Campo 4</th>\n",
       "      <th></th>\n",
       "      <th></th>\n",
       "      <th></th>\n",
       "      <th></th>\n",
       "      <th></th>\n",
       "    </tr>\n",
       "  </thead>\n",
       "  <tbody>\n",
       "    <tr>\n",
       "      <th>123455</th>\n",
       "      <td>Registro 1</td>\n",
       "      <td>Hugo</td>\n",
       "      <td>López</td>\n",
       "      <td>123455</td>\n",
       "      <td>20</td>\n",
       "    </tr>\n",
       "    <tr>\n",
       "      <th>736923</th>\n",
       "      <td>Registro 2</td>\n",
       "      <td>Paco</td>\n",
       "      <td>Silva</td>\n",
       "      <td>736923</td>\n",
       "      <td>35</td>\n",
       "    </tr>\n",
       "    <tr>\n",
       "      <th>971298</th>\n",
       "      <td>Registro 3</td>\n",
       "      <td>Luis</td>\n",
       "      <td>Oca</td>\n",
       "      <td>971298</td>\n",
       "      <td>NaN</td>\n",
       "    </tr>\n",
       "    <tr>\n",
       "      <th>123098</th>\n",
       "      <td>Registro 4</td>\n",
       "      <td>Pedro</td>\n",
       "      <td>Ramírez</td>\n",
       "      <td>123098</td>\n",
       "      <td>NaN</td>\n",
       "    </tr>\n",
       "    <tr>\n",
       "      <th>888888</th>\n",
       "      <td>Registro 5</td>\n",
       "      <td>Helena</td>\n",
       "      <td>González</td>\n",
       "      <td>888888</td>\n",
       "      <td>29</td>\n",
       "    </tr>\n",
       "  </tbody>\n",
       "</table>\n",
       "</div>"
      ],
      "text/plain": [
       "            Campo 1  Campo 2    Campo 3  Campo 4 Campo 5\n",
       "Campo 4                                                 \n",
       "123455   Registro 1     Hugo      López   123455      20\n",
       "736923   Registro 2     Paco      Silva   736923      35\n",
       "971298   Registro 3     Luis        Oca   971298     NaN\n",
       "123098   Registro 4    Pedro    Ramírez   123098     NaN\n",
       "888888   Registro 5   Helena   González   888888      29"
      ]
     },
     "execution_count": 68,
     "metadata": {},
     "output_type": "execute_result"
    }
   ],
   "source": [
    "# Visualizar encabezado y cola\n",
    "\n",
    "estudiantes.head() #estudiantes.tail(3)"
   ]
  },
  {
   "cell_type": "code",
   "execution_count": 75,
   "metadata": {},
   "outputs": [
    {
     "data": {
      "text/html": [
       "<div>\n",
       "<style scoped>\n",
       "    .dataframe tbody tr th:only-of-type {\n",
       "        vertical-align: middle;\n",
       "    }\n",
       "\n",
       "    .dataframe tbody tr th {\n",
       "        vertical-align: top;\n",
       "    }\n",
       "\n",
       "    .dataframe thead th {\n",
       "        text-align: right;\n",
       "    }\n",
       "</style>\n",
       "<table border=\"1\" class=\"dataframe\">\n",
       "  <thead>\n",
       "    <tr style=\"text-align: right;\">\n",
       "      <th></th>\n",
       "      <th>Campo 1</th>\n",
       "      <th>Campo 2</th>\n",
       "      <th>Campo 3</th>\n",
       "      <th>Campo 4</th>\n",
       "      <th>Campo 5</th>\n",
       "    </tr>\n",
       "    <tr>\n",
       "      <th>Campo 4</th>\n",
       "      <th></th>\n",
       "      <th></th>\n",
       "      <th></th>\n",
       "      <th></th>\n",
       "      <th></th>\n",
       "    </tr>\n",
       "  </thead>\n",
       "  <tbody>\n",
       "    <tr>\n",
       "      <th>123455</th>\n",
       "      <td>Registro 1</td>\n",
       "      <td>Hugo</td>\n",
       "      <td>López</td>\n",
       "      <td>123455</td>\n",
       "      <td>20.0</td>\n",
       "    </tr>\n",
       "    <tr>\n",
       "      <th>736923</th>\n",
       "      <td>Registro 2</td>\n",
       "      <td>Paco</td>\n",
       "      <td>Silva</td>\n",
       "      <td>736923</td>\n",
       "      <td>35.0</td>\n",
       "    </tr>\n",
       "    <tr>\n",
       "      <th>971298</th>\n",
       "      <td>Registro 3</td>\n",
       "      <td>Luis</td>\n",
       "      <td>Oca</td>\n",
       "      <td>971298</td>\n",
       "      <td>NaN</td>\n",
       "    </tr>\n",
       "    <tr>\n",
       "      <th>123098</th>\n",
       "      <td>Registro 4</td>\n",
       "      <td>Pedro</td>\n",
       "      <td>Ramírez</td>\n",
       "      <td>123098</td>\n",
       "      <td>NaN</td>\n",
       "    </tr>\n",
       "    <tr>\n",
       "      <th>888888</th>\n",
       "      <td>Registro 5</td>\n",
       "      <td>Helena</td>\n",
       "      <td>González</td>\n",
       "      <td>888888</td>\n",
       "      <td>29.0</td>\n",
       "    </tr>\n",
       "  </tbody>\n",
       "</table>\n",
       "</div>"
      ],
      "text/plain": [
       "            Campo 1  Campo 2    Campo 3  Campo 4  Campo 5\n",
       "Campo 4                                                  \n",
       "123455   Registro 1     Hugo      López   123455     20.0\n",
       "736923   Registro 2     Paco      Silva   736923     35.0\n",
       "971298   Registro 3     Luis        Oca   971298      NaN\n",
       "123098   Registro 4    Pedro    Ramírez   123098      NaN\n",
       "888888   Registro 5   Helena   González   888888     29.0"
      ]
     },
     "execution_count": 75,
     "metadata": {},
     "output_type": "execute_result"
    }
   ],
   "source": [
    "estudiantes[\"Campo 5\"] = pd.to_numeric(estudiantes[\"Campo 5\"], downcast = \"float\")\n",
    "estudiantes"
   ]
  },
  {
   "cell_type": "code",
   "execution_count": 76,
   "metadata": {},
   "outputs": [
    {
     "data": {
      "text/plain": [
       "28.0"
      ]
     },
     "execution_count": 76,
     "metadata": {},
     "output_type": "execute_result"
    }
   ],
   "source": [
    "estudiantes[\"Campo 5\"].mean()"
   ]
  },
  {
   "cell_type": "code",
   "execution_count": 77,
   "metadata": {},
   "outputs": [
    {
     "data": {
      "text/plain": [
       "29.0    1\n",
       "35.0    1\n",
       "20.0    1\n",
       "Name: Campo 5, dtype: int64"
      ]
     },
     "execution_count": 77,
     "metadata": {},
     "output_type": "execute_result"
    }
   ],
   "source": [
    "estudiantes[\"Campo 5\"].value_counts()"
   ]
  },
  {
   "cell_type": "code",
   "execution_count": 78,
   "metadata": {},
   "outputs": [
    {
     "data": {
      "text/html": [
       "<div>\n",
       "<style scoped>\n",
       "    .dataframe tbody tr th:only-of-type {\n",
       "        vertical-align: middle;\n",
       "    }\n",
       "\n",
       "    .dataframe tbody tr th {\n",
       "        vertical-align: top;\n",
       "    }\n",
       "\n",
       "    .dataframe thead th {\n",
       "        text-align: right;\n",
       "    }\n",
       "</style>\n",
       "<table border=\"1\" class=\"dataframe\">\n",
       "  <thead>\n",
       "    <tr style=\"text-align: right;\">\n",
       "      <th></th>\n",
       "      <th>Campo 1</th>\n",
       "      <th>Campo 2</th>\n",
       "      <th>Campo 3</th>\n",
       "      <th>Campo 4</th>\n",
       "      <th>Campo 5</th>\n",
       "    </tr>\n",
       "    <tr>\n",
       "      <th>Campo 4</th>\n",
       "      <th></th>\n",
       "      <th></th>\n",
       "      <th></th>\n",
       "      <th></th>\n",
       "      <th></th>\n",
       "    </tr>\n",
       "  </thead>\n",
       "  <tbody>\n",
       "    <tr>\n",
       "      <th>123455</th>\n",
       "      <td>Registro 1</td>\n",
       "      <td>Hugo</td>\n",
       "      <td>López</td>\n",
       "      <td>123455</td>\n",
       "      <td>20.0</td>\n",
       "    </tr>\n",
       "    <tr>\n",
       "      <th>736923</th>\n",
       "      <td>Registro 2</td>\n",
       "      <td>Paco</td>\n",
       "      <td>Silva</td>\n",
       "      <td>736923</td>\n",
       "      <td>35.0</td>\n",
       "    </tr>\n",
       "    <tr>\n",
       "      <th>971298</th>\n",
       "      <td>Registro 3</td>\n",
       "      <td>Luis</td>\n",
       "      <td>Oca</td>\n",
       "      <td>971298</td>\n",
       "      <td>NaN</td>\n",
       "    </tr>\n",
       "    <tr>\n",
       "      <th>123098</th>\n",
       "      <td>Registro 4</td>\n",
       "      <td>Pedro</td>\n",
       "      <td>Ramírez</td>\n",
       "      <td>123098</td>\n",
       "      <td>NaN</td>\n",
       "    </tr>\n",
       "    <tr>\n",
       "      <th>888888</th>\n",
       "      <td>Registro 5</td>\n",
       "      <td>Helena</td>\n",
       "      <td>González</td>\n",
       "      <td>888888</td>\n",
       "      <td>29.0</td>\n",
       "    </tr>\n",
       "    <tr>\n",
       "      <th>777222</th>\n",
       "      <td>Registro 6</td>\n",
       "      <td>José</td>\n",
       "      <td>López</td>\n",
       "      <td>777222</td>\n",
       "      <td>30.0</td>\n",
       "    </tr>\n",
       "  </tbody>\n",
       "</table>\n",
       "</div>"
      ],
      "text/plain": [
       "            Campo 1  Campo 2    Campo 3  Campo 4  Campo 5\n",
       "Campo 4                                                  \n",
       "123455   Registro 1     Hugo      López   123455     20.0\n",
       "736923   Registro 2     Paco      Silva   736923     35.0\n",
       "971298   Registro 3     Luis        Oca   971298      NaN\n",
       "123098   Registro 4    Pedro    Ramírez   123098      NaN\n",
       "888888   Registro 5   Helena   González   888888     29.0\n",
       "777222   Registro 6     José      López   777222     30.0"
      ]
     },
     "execution_count": 78,
     "metadata": {},
     "output_type": "execute_result"
    }
   ],
   "source": [
    "estudiantes.loc[777222] = [\"Registro 6\",\"José\",\"López\",\"777222\",30]\n",
    "estudiantes"
   ]
  },
  {
   "cell_type": "code",
   "execution_count": 79,
   "metadata": {},
   "outputs": [
    {
     "data": {
      "text/plain": [
       "López        2\n",
       "Ramírez      1\n",
       " González    1\n",
       "Silva        1\n",
       "Oca          1\n",
       "Name: Campo 3, dtype: int64"
      ]
     },
     "execution_count": 79,
     "metadata": {},
     "output_type": "execute_result"
    }
   ],
   "source": [
    "estudiantes[\"Campo 3\"].value_counts()"
   ]
  },
  {
   "cell_type": "code",
   "execution_count": 82,
   "metadata": {},
   "outputs": [
    {
     "data": {
      "text/html": [
       "<div>\n",
       "<style scoped>\n",
       "    .dataframe tbody tr th:only-of-type {\n",
       "        vertical-align: middle;\n",
       "    }\n",
       "\n",
       "    .dataframe tbody tr th {\n",
       "        vertical-align: top;\n",
       "    }\n",
       "\n",
       "    .dataframe thead th {\n",
       "        text-align: right;\n",
       "    }\n",
       "</style>\n",
       "<table border=\"1\" class=\"dataframe\">\n",
       "  <thead>\n",
       "    <tr style=\"text-align: right;\">\n",
       "      <th></th>\n",
       "      <th>Campo 1</th>\n",
       "      <th>Campo 2</th>\n",
       "      <th>Campo 3</th>\n",
       "      <th>Campo 4</th>\n",
       "      <th>Campo 5</th>\n",
       "    </tr>\n",
       "    <tr>\n",
       "      <th>Campo 4</th>\n",
       "      <th></th>\n",
       "      <th></th>\n",
       "      <th></th>\n",
       "      <th></th>\n",
       "      <th></th>\n",
       "    </tr>\n",
       "  </thead>\n",
       "  <tbody>\n",
       "    <tr>\n",
       "      <th>736923</th>\n",
       "      <td>Registro 2</td>\n",
       "      <td>Paco</td>\n",
       "      <td>Silva</td>\n",
       "      <td>736923</td>\n",
       "      <td>35.0</td>\n",
       "    </tr>\n",
       "    <tr>\n",
       "      <th>777222</th>\n",
       "      <td>Registro 6</td>\n",
       "      <td>José</td>\n",
       "      <td>López</td>\n",
       "      <td>777222</td>\n",
       "      <td>30.0</td>\n",
       "    </tr>\n",
       "    <tr>\n",
       "      <th>888888</th>\n",
       "      <td>Registro 5</td>\n",
       "      <td>Helena</td>\n",
       "      <td>González</td>\n",
       "      <td>888888</td>\n",
       "      <td>29.0</td>\n",
       "    </tr>\n",
       "    <tr>\n",
       "      <th>123455</th>\n",
       "      <td>Registro 1</td>\n",
       "      <td>Hugo</td>\n",
       "      <td>López</td>\n",
       "      <td>123455</td>\n",
       "      <td>20.0</td>\n",
       "    </tr>\n",
       "    <tr>\n",
       "      <th>971298</th>\n",
       "      <td>Registro 3</td>\n",
       "      <td>Luis</td>\n",
       "      <td>Oca</td>\n",
       "      <td>971298</td>\n",
       "      <td>NaN</td>\n",
       "    </tr>\n",
       "    <tr>\n",
       "      <th>123098</th>\n",
       "      <td>Registro 4</td>\n",
       "      <td>Pedro</td>\n",
       "      <td>Ramírez</td>\n",
       "      <td>123098</td>\n",
       "      <td>NaN</td>\n",
       "    </tr>\n",
       "  </tbody>\n",
       "</table>\n",
       "</div>"
      ],
      "text/plain": [
       "            Campo 1  Campo 2    Campo 3  Campo 4  Campo 5\n",
       "Campo 4                                                  \n",
       "736923   Registro 2     Paco      Silva   736923     35.0\n",
       "777222   Registro 6     José      López   777222     30.0\n",
       "888888   Registro 5   Helena   González   888888     29.0\n",
       "123455   Registro 1     Hugo      López   123455     20.0\n",
       "971298   Registro 3     Luis        Oca   971298      NaN\n",
       "123098   Registro 4    Pedro    Ramírez   123098      NaN"
      ]
     },
     "execution_count": 82,
     "metadata": {},
     "output_type": "execute_result"
    }
   ],
   "source": [
    "estudiantes.sort_values(by = \"Campo 5\",inplace = True, ascending=False)\n",
    "estudiantes"
   ]
  },
  {
   "cell_type": "code",
   "execution_count": 83,
   "metadata": {},
   "outputs": [
    {
     "data": {
      "text/plain": [
       "28"
      ]
     },
     "execution_count": 83,
     "metadata": {},
     "output_type": "execute_result"
    }
   ],
   "source": [
    "edad_media = estudiantes[\"Campo 5\"].mean()\n",
    "int(edad_media)"
   ]
  },
  {
   "cell_type": "code",
   "execution_count": 84,
   "metadata": {},
   "outputs": [
    {
     "data": {
      "text/html": [
       "<div>\n",
       "<style scoped>\n",
       "    .dataframe tbody tr th:only-of-type {\n",
       "        vertical-align: middle;\n",
       "    }\n",
       "\n",
       "    .dataframe tbody tr th {\n",
       "        vertical-align: top;\n",
       "    }\n",
       "\n",
       "    .dataframe thead th {\n",
       "        text-align: right;\n",
       "    }\n",
       "</style>\n",
       "<table border=\"1\" class=\"dataframe\">\n",
       "  <thead>\n",
       "    <tr style=\"text-align: right;\">\n",
       "      <th></th>\n",
       "      <th>Campo 1</th>\n",
       "      <th>Campo 2</th>\n",
       "      <th>Campo 3</th>\n",
       "      <th>Campo 4</th>\n",
       "      <th>Campo 5</th>\n",
       "    </tr>\n",
       "    <tr>\n",
       "      <th>Campo 4</th>\n",
       "      <th></th>\n",
       "      <th></th>\n",
       "      <th></th>\n",
       "      <th></th>\n",
       "      <th></th>\n",
       "    </tr>\n",
       "  </thead>\n",
       "  <tbody>\n",
       "    <tr>\n",
       "      <th>736923</th>\n",
       "      <td>Registro 2</td>\n",
       "      <td>Paco</td>\n",
       "      <td>Silva</td>\n",
       "      <td>736923</td>\n",
       "      <td>35.0</td>\n",
       "    </tr>\n",
       "    <tr>\n",
       "      <th>777222</th>\n",
       "      <td>Registro 6</td>\n",
       "      <td>José</td>\n",
       "      <td>López</td>\n",
       "      <td>777222</td>\n",
       "      <td>30.0</td>\n",
       "    </tr>\n",
       "    <tr>\n",
       "      <th>888888</th>\n",
       "      <td>Registro 5</td>\n",
       "      <td>Helena</td>\n",
       "      <td>González</td>\n",
       "      <td>888888</td>\n",
       "      <td>29.0</td>\n",
       "    </tr>\n",
       "    <tr>\n",
       "      <th>123455</th>\n",
       "      <td>Registro 1</td>\n",
       "      <td>Hugo</td>\n",
       "      <td>López</td>\n",
       "      <td>123455</td>\n",
       "      <td>20.0</td>\n",
       "    </tr>\n",
       "    <tr>\n",
       "      <th>971298</th>\n",
       "      <td>Registro 3</td>\n",
       "      <td>Luis</td>\n",
       "      <td>Oca</td>\n",
       "      <td>971298</td>\n",
       "      <td>28.0</td>\n",
       "    </tr>\n",
       "    <tr>\n",
       "      <th>123098</th>\n",
       "      <td>Registro 4</td>\n",
       "      <td>Pedro</td>\n",
       "      <td>Ramírez</td>\n",
       "      <td>123098</td>\n",
       "      <td>28.0</td>\n",
       "    </tr>\n",
       "  </tbody>\n",
       "</table>\n",
       "</div>"
      ],
      "text/plain": [
       "            Campo 1  Campo 2    Campo 3  Campo 4  Campo 5\n",
       "Campo 4                                                  \n",
       "736923   Registro 2     Paco      Silva   736923     35.0\n",
       "777222   Registro 6     José      López   777222     30.0\n",
       "888888   Registro 5   Helena   González   888888     29.0\n",
       "123455   Registro 1     Hugo      López   123455     20.0\n",
       "971298   Registro 3     Luis        Oca   971298     28.0\n",
       "123098   Registro 4    Pedro    Ramírez   123098     28.0"
      ]
     },
     "execution_count": 84,
     "metadata": {},
     "output_type": "execute_result"
    }
   ],
   "source": [
    "estudiantes[\"Campo 5\"].fillna(int(edad_media),inplace = True)\n",
    "estudiantes"
   ]
  },
  {
   "cell_type": "code",
   "execution_count": 85,
   "metadata": {},
   "outputs": [
    {
     "ename": "TypeError",
     "evalue": "'<' not supported between instances of 'int' and 'str'",
     "output_type": "error",
     "traceback": [
      "\u001b[1;31m---------------------------------------------------------------------------\u001b[0m",
      "\u001b[1;31mTypeError\u001b[0m                                 Traceback (most recent call last)",
      "\u001b[1;32m<ipython-input-85-d2302650d576>\u001b[0m in \u001b[0;36m<module>\u001b[1;34m\u001b[0m\n\u001b[1;32m----> 1\u001b[1;33m \u001b[0mestudiantes\u001b[0m\u001b[1;33m.\u001b[0m\u001b[0msort_index\u001b[0m\u001b[1;33m(\u001b[0m\u001b[0mascending\u001b[0m \u001b[1;33m=\u001b[0m \u001b[1;32mTrue\u001b[0m\u001b[1;33m,\u001b[0m\u001b[0minplace\u001b[0m \u001b[1;33m=\u001b[0m \u001b[1;32mTrue\u001b[0m\u001b[1;33m)\u001b[0m\u001b[1;33m\u001b[0m\u001b[1;33m\u001b[0m\u001b[0m\n\u001b[0m\u001b[0;32m      2\u001b[0m \u001b[0mestudiantes\u001b[0m\u001b[1;33m\u001b[0m\u001b[1;33m\u001b[0m\u001b[0m\n",
      "\u001b[1;32m~\\.conda\\envs\\scidata\\lib\\site-packages\\pandas\\core\\frame.py\u001b[0m in \u001b[0;36msort_index\u001b[1;34m(self, axis, level, ascending, inplace, kind, na_position, sort_remaining, ignore_index, key)\u001b[0m\n\u001b[0;32m   5457\u001b[0m \u001b[1;33m\u001b[0m\u001b[0m\n\u001b[0;32m   5458\u001b[0m             indexer = nargsort(\n\u001b[1;32m-> 5459\u001b[1;33m                 \u001b[0mlabels\u001b[0m\u001b[1;33m,\u001b[0m \u001b[0mkind\u001b[0m\u001b[1;33m=\u001b[0m\u001b[0mkind\u001b[0m\u001b[1;33m,\u001b[0m \u001b[0mascending\u001b[0m\u001b[1;33m=\u001b[0m\u001b[0mascending\u001b[0m\u001b[1;33m,\u001b[0m \u001b[0mna_position\u001b[0m\u001b[1;33m=\u001b[0m\u001b[0mna_position\u001b[0m\u001b[1;33m\u001b[0m\u001b[1;33m\u001b[0m\u001b[0m\n\u001b[0m\u001b[0;32m   5460\u001b[0m             )\n\u001b[0;32m   5461\u001b[0m \u001b[1;33m\u001b[0m\u001b[0m\n",
      "\u001b[1;32m~\\.conda\\envs\\scidata\\lib\\site-packages\\pandas\\core\\sorting.py\u001b[0m in \u001b[0;36mnargsort\u001b[1;34m(items, kind, ascending, na_position, key)\u001b[0m\n\u001b[0;32m    306\u001b[0m         \u001b[0mnon_nans\u001b[0m \u001b[1;33m=\u001b[0m \u001b[0mnon_nans\u001b[0m\u001b[1;33m[\u001b[0m\u001b[1;33m:\u001b[0m\u001b[1;33m:\u001b[0m\u001b[1;33m-\u001b[0m\u001b[1;36m1\u001b[0m\u001b[1;33m]\u001b[0m\u001b[1;33m\u001b[0m\u001b[1;33m\u001b[0m\u001b[0m\n\u001b[0;32m    307\u001b[0m         \u001b[0mnon_nan_idx\u001b[0m \u001b[1;33m=\u001b[0m \u001b[0mnon_nan_idx\u001b[0m\u001b[1;33m[\u001b[0m\u001b[1;33m:\u001b[0m\u001b[1;33m:\u001b[0m\u001b[1;33m-\u001b[0m\u001b[1;36m1\u001b[0m\u001b[1;33m]\u001b[0m\u001b[1;33m\u001b[0m\u001b[1;33m\u001b[0m\u001b[0m\n\u001b[1;32m--> 308\u001b[1;33m     \u001b[0mindexer\u001b[0m \u001b[1;33m=\u001b[0m \u001b[0mnon_nan_idx\u001b[0m\u001b[1;33m[\u001b[0m\u001b[0mnon_nans\u001b[0m\u001b[1;33m.\u001b[0m\u001b[0margsort\u001b[0m\u001b[1;33m(\u001b[0m\u001b[0mkind\u001b[0m\u001b[1;33m=\u001b[0m\u001b[0mkind\u001b[0m\u001b[1;33m)\u001b[0m\u001b[1;33m]\u001b[0m\u001b[1;33m\u001b[0m\u001b[1;33m\u001b[0m\u001b[0m\n\u001b[0m\u001b[0;32m    309\u001b[0m     \u001b[1;32mif\u001b[0m \u001b[1;32mnot\u001b[0m \u001b[0mascending\u001b[0m\u001b[1;33m:\u001b[0m\u001b[1;33m\u001b[0m\u001b[1;33m\u001b[0m\u001b[0m\n\u001b[0;32m    310\u001b[0m         \u001b[0mindexer\u001b[0m \u001b[1;33m=\u001b[0m \u001b[0mindexer\u001b[0m\u001b[1;33m[\u001b[0m\u001b[1;33m:\u001b[0m\u001b[1;33m:\u001b[0m\u001b[1;33m-\u001b[0m\u001b[1;36m1\u001b[0m\u001b[1;33m]\u001b[0m\u001b[1;33m\u001b[0m\u001b[1;33m\u001b[0m\u001b[0m\n",
      "\u001b[1;31mTypeError\u001b[0m: '<' not supported between instances of 'int' and 'str'"
     ]
    }
   ],
   "source": [
    "estudiantes.sort_index(ascending = True,inplace = True)\n",
    "estudiantes"
   ]
  },
  {
   "cell_type": "code",
   "execution_count": 86,
   "metadata": {},
   "outputs": [
    {
     "data": {
      "text/html": [
       "<div>\n",
       "<style scoped>\n",
       "    .dataframe tbody tr th:only-of-type {\n",
       "        vertical-align: middle;\n",
       "    }\n",
       "\n",
       "    .dataframe tbody tr th {\n",
       "        vertical-align: top;\n",
       "    }\n",
       "\n",
       "    .dataframe thead th {\n",
       "        text-align: right;\n",
       "    }\n",
       "</style>\n",
       "<table border=\"1\" class=\"dataframe\">\n",
       "  <thead>\n",
       "    <tr style=\"text-align: right;\">\n",
       "      <th></th>\n",
       "      <th>Campo 1</th>\n",
       "      <th>Campo 2</th>\n",
       "      <th>Campo 3</th>\n",
       "      <th>Campo 4</th>\n",
       "      <th>Campo 5</th>\n",
       "    </tr>\n",
       "    <tr>\n",
       "      <th>Campo 4</th>\n",
       "      <th></th>\n",
       "      <th></th>\n",
       "      <th></th>\n",
       "      <th></th>\n",
       "      <th></th>\n",
       "    </tr>\n",
       "  </thead>\n",
       "  <tbody>\n",
       "    <tr>\n",
       "      <th>888888</th>\n",
       "      <td>Registro 5</td>\n",
       "      <td>Helena</td>\n",
       "      <td>González</td>\n",
       "      <td>888888</td>\n",
       "      <td>29.0</td>\n",
       "    </tr>\n",
       "    <tr>\n",
       "      <th>777222</th>\n",
       "      <td>Registro 6</td>\n",
       "      <td>José</td>\n",
       "      <td>López</td>\n",
       "      <td>777222</td>\n",
       "      <td>30.0</td>\n",
       "    </tr>\n",
       "    <tr>\n",
       "      <th>123455</th>\n",
       "      <td>Registro 1</td>\n",
       "      <td>Hugo</td>\n",
       "      <td>López</td>\n",
       "      <td>123455</td>\n",
       "      <td>20.0</td>\n",
       "    </tr>\n",
       "    <tr>\n",
       "      <th>971298</th>\n",
       "      <td>Registro 3</td>\n",
       "      <td>Luis</td>\n",
       "      <td>Oca</td>\n",
       "      <td>971298</td>\n",
       "      <td>28.0</td>\n",
       "    </tr>\n",
       "    <tr>\n",
       "      <th>123098</th>\n",
       "      <td>Registro 4</td>\n",
       "      <td>Pedro</td>\n",
       "      <td>Ramírez</td>\n",
       "      <td>123098</td>\n",
       "      <td>28.0</td>\n",
       "    </tr>\n",
       "    <tr>\n",
       "      <th>736923</th>\n",
       "      <td>Registro 2</td>\n",
       "      <td>Paco</td>\n",
       "      <td>Silva</td>\n",
       "      <td>736923</td>\n",
       "      <td>35.0</td>\n",
       "    </tr>\n",
       "  </tbody>\n",
       "</table>\n",
       "</div>"
      ],
      "text/plain": [
       "            Campo 1  Campo 2    Campo 3  Campo 4  Campo 5\n",
       "Campo 4                                                  \n",
       "888888   Registro 5   Helena   González   888888     29.0\n",
       "777222   Registro 6     José      López   777222     30.0\n",
       "123455   Registro 1     Hugo      López   123455     20.0\n",
       "971298   Registro 3     Luis        Oca   971298     28.0\n",
       "123098   Registro 4    Pedro    Ramírez   123098     28.0\n",
       "736923   Registro 2     Paco      Silva   736923     35.0"
      ]
     },
     "execution_count": 86,
     "metadata": {},
     "output_type": "execute_result"
    }
   ],
   "source": [
    "estudiantes.sort_values(by = [\"Campo 3\",\"Campo 5\"],ascending = [True,False],inplace = True)\n",
    "estudiantes"
   ]
  },
  {
   "cell_type": "code",
   "execution_count": 87,
   "metadata": {},
   "outputs": [
    {
     "data": {
      "text/html": [
       "<div>\n",
       "<style scoped>\n",
       "    .dataframe tbody tr th:only-of-type {\n",
       "        vertical-align: middle;\n",
       "    }\n",
       "\n",
       "    .dataframe tbody tr th {\n",
       "        vertical-align: top;\n",
       "    }\n",
       "\n",
       "    .dataframe thead th {\n",
       "        text-align: right;\n",
       "    }\n",
       "</style>\n",
       "<table border=\"1\" class=\"dataframe\">\n",
       "  <thead>\n",
       "    <tr style=\"text-align: right;\">\n",
       "      <th></th>\n",
       "      <th>Campo 1</th>\n",
       "      <th>Campo 2</th>\n",
       "      <th>Campo 3</th>\n",
       "      <th>Campo 4</th>\n",
       "      <th>Campo 5</th>\n",
       "    </tr>\n",
       "    <tr>\n",
       "      <th>Campo 4</th>\n",
       "      <th></th>\n",
       "      <th></th>\n",
       "      <th></th>\n",
       "      <th></th>\n",
       "      <th></th>\n",
       "    </tr>\n",
       "  </thead>\n",
       "  <tbody>\n",
       "    <tr>\n",
       "      <th>777222</th>\n",
       "      <td>Registro 6</td>\n",
       "      <td>José</td>\n",
       "      <td>López</td>\n",
       "      <td>777222</td>\n",
       "      <td>30.0</td>\n",
       "    </tr>\n",
       "    <tr>\n",
       "      <th>123455</th>\n",
       "      <td>Registro 1</td>\n",
       "      <td>Hugo</td>\n",
       "      <td>López</td>\n",
       "      <td>123455</td>\n",
       "      <td>20.0</td>\n",
       "    </tr>\n",
       "  </tbody>\n",
       "</table>\n",
       "</div>"
      ],
      "text/plain": [
       "            Campo 1 Campo 2 Campo 3 Campo 4  Campo 5\n",
       "Campo 4                                             \n",
       "777222   Registro 6    José   López  777222     30.0\n",
       "123455   Registro 1    Hugo   López  123455     20.0"
      ]
     },
     "execution_count": 87,
     "metadata": {},
     "output_type": "execute_result"
    }
   ],
   "source": [
    "estudiantes[estudiantes[\"Campo 3\"] == \"López\"]"
   ]
  },
  {
   "cell_type": "code",
   "execution_count": 88,
   "metadata": {},
   "outputs": [
    {
     "data": {
      "text/html": [
       "<div>\n",
       "<style scoped>\n",
       "    .dataframe tbody tr th:only-of-type {\n",
       "        vertical-align: middle;\n",
       "    }\n",
       "\n",
       "    .dataframe tbody tr th {\n",
       "        vertical-align: top;\n",
       "    }\n",
       "\n",
       "    .dataframe thead th {\n",
       "        text-align: right;\n",
       "    }\n",
       "</style>\n",
       "<table border=\"1\" class=\"dataframe\">\n",
       "  <thead>\n",
       "    <tr style=\"text-align: right;\">\n",
       "      <th></th>\n",
       "      <th>Campo 1</th>\n",
       "      <th>Campo 2</th>\n",
       "      <th>Campo 3</th>\n",
       "      <th>Campo 4</th>\n",
       "      <th>Campo 5</th>\n",
       "    </tr>\n",
       "    <tr>\n",
       "      <th>Campo 4</th>\n",
       "      <th></th>\n",
       "      <th></th>\n",
       "      <th></th>\n",
       "      <th></th>\n",
       "      <th></th>\n",
       "    </tr>\n",
       "  </thead>\n",
       "  <tbody>\n",
       "    <tr>\n",
       "      <th>888888</th>\n",
       "      <td>Registro 5</td>\n",
       "      <td>HELENA</td>\n",
       "      <td>González</td>\n",
       "      <td>888888</td>\n",
       "      <td>29.0</td>\n",
       "    </tr>\n",
       "    <tr>\n",
       "      <th>777222</th>\n",
       "      <td>Registro 6</td>\n",
       "      <td>JOSÉ</td>\n",
       "      <td>López</td>\n",
       "      <td>777222</td>\n",
       "      <td>30.0</td>\n",
       "    </tr>\n",
       "    <tr>\n",
       "      <th>123455</th>\n",
       "      <td>Registro 1</td>\n",
       "      <td>HUGO</td>\n",
       "      <td>López</td>\n",
       "      <td>123455</td>\n",
       "      <td>20.0</td>\n",
       "    </tr>\n",
       "    <tr>\n",
       "      <th>971298</th>\n",
       "      <td>Registro 3</td>\n",
       "      <td>LUIS</td>\n",
       "      <td>Oca</td>\n",
       "      <td>971298</td>\n",
       "      <td>28.0</td>\n",
       "    </tr>\n",
       "    <tr>\n",
       "      <th>123098</th>\n",
       "      <td>Registro 4</td>\n",
       "      <td>PEDRO</td>\n",
       "      <td>Ramírez</td>\n",
       "      <td>123098</td>\n",
       "      <td>28.0</td>\n",
       "    </tr>\n",
       "    <tr>\n",
       "      <th>736923</th>\n",
       "      <td>Registro 2</td>\n",
       "      <td>PACO</td>\n",
       "      <td>Silva</td>\n",
       "      <td>736923</td>\n",
       "      <td>35.0</td>\n",
       "    </tr>\n",
       "  </tbody>\n",
       "</table>\n",
       "</div>"
      ],
      "text/plain": [
       "            Campo 1  Campo 2    Campo 3  Campo 4  Campo 5\n",
       "Campo 4                                                  \n",
       "888888   Registro 5   HELENA   González   888888     29.0\n",
       "777222   Registro 6     JOSÉ      López   777222     30.0\n",
       "123455   Registro 1     HUGO      López   123455     20.0\n",
       "971298   Registro 3     LUIS        Oca   971298     28.0\n",
       "123098   Registro 4    PEDRO    Ramírez   123098     28.0\n",
       "736923   Registro 2     PACO      Silva   736923     35.0"
      ]
     },
     "execution_count": 88,
     "metadata": {},
     "output_type": "execute_result"
    }
   ],
   "source": [
    "estudiantes[\"Campo 2\"] = estudiantes[\"Campo 2\"].str.upper()\n",
    "estudiantes"
   ]
  },
  {
   "cell_type": "code",
   "execution_count": 89,
   "metadata": {},
   "outputs": [
    {
     "data": {
      "text/plain": [
       "Campo 4\n",
       "888888    7\n",
       "777222    6\n",
       "123455    6\n",
       "971298    6\n",
       "123098    6\n",
       "736923    6\n",
       "Name: Campo 4, dtype: int64"
      ]
     },
     "execution_count": 89,
     "metadata": {},
     "output_type": "execute_result"
    }
   ],
   "source": [
    "estudiantes[\"Campo 4\"].str.len()"
   ]
  },
  {
   "cell_type": "code",
   "execution_count": 90,
   "metadata": {},
   "outputs": [
    {
     "data": {
      "text/html": [
       "<div>\n",
       "<style scoped>\n",
       "    .dataframe tbody tr th:only-of-type {\n",
       "        vertical-align: middle;\n",
       "    }\n",
       "\n",
       "    .dataframe tbody tr th {\n",
       "        vertical-align: top;\n",
       "    }\n",
       "\n",
       "    .dataframe thead th {\n",
       "        text-align: right;\n",
       "    }\n",
       "</style>\n",
       "<table border=\"1\" class=\"dataframe\">\n",
       "  <thead>\n",
       "    <tr style=\"text-align: right;\">\n",
       "      <th></th>\n",
       "      <th>Campo 1</th>\n",
       "      <th>Campo 2</th>\n",
       "      <th>Campo 3</th>\n",
       "      <th>Campo 4</th>\n",
       "      <th>Campo 5</th>\n",
       "      <th>Estado</th>\n",
       "    </tr>\n",
       "    <tr>\n",
       "      <th>Campo 4</th>\n",
       "      <th></th>\n",
       "      <th></th>\n",
       "      <th></th>\n",
       "      <th></th>\n",
       "      <th></th>\n",
       "      <th></th>\n",
       "    </tr>\n",
       "  </thead>\n",
       "  <tbody>\n",
       "    <tr>\n",
       "      <th>888888</th>\n",
       "      <td>Registro 5</td>\n",
       "      <td>HELENA</td>\n",
       "      <td>González</td>\n",
       "      <td>888888</td>\n",
       "      <td>29.0</td>\n",
       "      <td>Activo</td>\n",
       "    </tr>\n",
       "    <tr>\n",
       "      <th>777222</th>\n",
       "      <td>Registro 6</td>\n",
       "      <td>JOSÉ</td>\n",
       "      <td>López</td>\n",
       "      <td>777222</td>\n",
       "      <td>30.0</td>\n",
       "      <td>Baja</td>\n",
       "    </tr>\n",
       "    <tr>\n",
       "      <th>123455</th>\n",
       "      <td>Registro 1</td>\n",
       "      <td>HUGO</td>\n",
       "      <td>López</td>\n",
       "      <td>123455</td>\n",
       "      <td>20.0</td>\n",
       "      <td>Baja</td>\n",
       "    </tr>\n",
       "    <tr>\n",
       "      <th>971298</th>\n",
       "      <td>Registro 3</td>\n",
       "      <td>LUIS</td>\n",
       "      <td>Oca</td>\n",
       "      <td>971298</td>\n",
       "      <td>28.0</td>\n",
       "      <td>Graduado</td>\n",
       "    </tr>\n",
       "    <tr>\n",
       "      <th>123098</th>\n",
       "      <td>Registro 4</td>\n",
       "      <td>PEDRO</td>\n",
       "      <td>Ramírez</td>\n",
       "      <td>123098</td>\n",
       "      <td>28.0</td>\n",
       "      <td>Activo</td>\n",
       "    </tr>\n",
       "    <tr>\n",
       "      <th>736923</th>\n",
       "      <td>Registro 2</td>\n",
       "      <td>PACO</td>\n",
       "      <td>Silva</td>\n",
       "      <td>736923</td>\n",
       "      <td>35.0</td>\n",
       "      <td>Activo</td>\n",
       "    </tr>\n",
       "    <tr>\n",
       "      <th>536271</th>\n",
       "      <td>Registro 7</td>\n",
       "      <td>Luisa</td>\n",
       "      <td>González</td>\n",
       "      <td>536271</td>\n",
       "      <td>23.0</td>\n",
       "      <td>Baja</td>\n",
       "    </tr>\n",
       "  </tbody>\n",
       "</table>\n",
       "</div>"
      ],
      "text/plain": [
       "            Campo 1  Campo 2    Campo 3  Campo 4  Campo 5    Estado\n",
       "Campo 4                                                            \n",
       "888888   Registro 5   HELENA   González   888888     29.0    Activo\n",
       "777222   Registro 6     JOSÉ      López   777222     30.0      Baja\n",
       "123455   Registro 1     HUGO      López   123455     20.0      Baja\n",
       "971298   Registro 3     LUIS        Oca   971298     28.0  Graduado\n",
       "123098   Registro 4    PEDRO    Ramírez   123098     28.0    Activo\n",
       "736923   Registro 2     PACO      Silva   736923     35.0    Activo\n",
       "536271   Registro 7    Luisa   González   536271     23.0      Baja"
      ]
     },
     "execution_count": 90,
     "metadata": {},
     "output_type": "execute_result"
    }
   ],
   "source": [
    "estudiantes.loc[\"536271\"] = [\"Registro 7\",\"Luisa\",\"González\",\"536271\",23]\n",
    "estudiantes[\"Estado\"] = [\"Activo\",\"Baja\",\"Baja\",\"Graduado\",\"Activo\",\"Activo\",\"Baja\"]\n",
    "\n",
    "estudiantes"
   ]
  },
  {
   "cell_type": "code",
   "execution_count": 91,
   "metadata": {},
   "outputs": [
    {
     "data": {
      "text/html": [
       "<div>\n",
       "<style scoped>\n",
       "    .dataframe tbody tr th:only-of-type {\n",
       "        vertical-align: middle;\n",
       "    }\n",
       "\n",
       "    .dataframe tbody tr th {\n",
       "        vertical-align: top;\n",
       "    }\n",
       "\n",
       "    .dataframe thead th {\n",
       "        text-align: right;\n",
       "    }\n",
       "</style>\n",
       "<table border=\"1\" class=\"dataframe\">\n",
       "  <thead>\n",
       "    <tr style=\"text-align: right;\">\n",
       "      <th></th>\n",
       "      <th>Activo</th>\n",
       "      <th>Baja</th>\n",
       "      <th>Graduado</th>\n",
       "    </tr>\n",
       "    <tr>\n",
       "      <th>Campo 4</th>\n",
       "      <th></th>\n",
       "      <th></th>\n",
       "      <th></th>\n",
       "    </tr>\n",
       "  </thead>\n",
       "  <tbody>\n",
       "    <tr>\n",
       "      <th>888888</th>\n",
       "      <td>1</td>\n",
       "      <td>0</td>\n",
       "      <td>0</td>\n",
       "    </tr>\n",
       "    <tr>\n",
       "      <th>777222</th>\n",
       "      <td>0</td>\n",
       "      <td>1</td>\n",
       "      <td>0</td>\n",
       "    </tr>\n",
       "    <tr>\n",
       "      <th>123455</th>\n",
       "      <td>0</td>\n",
       "      <td>1</td>\n",
       "      <td>0</td>\n",
       "    </tr>\n",
       "    <tr>\n",
       "      <th>971298</th>\n",
       "      <td>0</td>\n",
       "      <td>0</td>\n",
       "      <td>1</td>\n",
       "    </tr>\n",
       "    <tr>\n",
       "      <th>123098</th>\n",
       "      <td>1</td>\n",
       "      <td>0</td>\n",
       "      <td>0</td>\n",
       "    </tr>\n",
       "    <tr>\n",
       "      <th>736923</th>\n",
       "      <td>1</td>\n",
       "      <td>0</td>\n",
       "      <td>0</td>\n",
       "    </tr>\n",
       "    <tr>\n",
       "      <th>536271</th>\n",
       "      <td>0</td>\n",
       "      <td>1</td>\n",
       "      <td>0</td>\n",
       "    </tr>\n",
       "  </tbody>\n",
       "</table>\n",
       "</div>"
      ],
      "text/plain": [
       "         Activo  Baja  Graduado\n",
       "Campo 4                        \n",
       "888888        1     0         0\n",
       "777222        0     1         0\n",
       "123455        0     1         0\n",
       "971298        0     0         1\n",
       "123098        1     0         0\n",
       "736923        1     0         0\n",
       "536271        0     1         0"
      ]
     },
     "execution_count": 91,
     "metadata": {},
     "output_type": "execute_result"
    }
   ],
   "source": [
    "pd.get_dummies(estudiantes[\"Estado\"])"
   ]
  },
  {
   "cell_type": "code",
   "execution_count": 92,
   "metadata": {},
   "outputs": [
    {
     "data": {
      "text/html": [
       "<div>\n",
       "<style scoped>\n",
       "    .dataframe tbody tr th:only-of-type {\n",
       "        vertical-align: middle;\n",
       "    }\n",
       "\n",
       "    .dataframe tbody tr th {\n",
       "        vertical-align: top;\n",
       "    }\n",
       "\n",
       "    .dataframe thead th {\n",
       "        text-align: right;\n",
       "    }\n",
       "</style>\n",
       "<table border=\"1\" class=\"dataframe\">\n",
       "  <thead>\n",
       "    <tr style=\"text-align: right;\">\n",
       "      <th></th>\n",
       "      <th>Campo 1</th>\n",
       "      <th>Campo 2</th>\n",
       "      <th>Campo 3</th>\n",
       "      <th>Campo 4</th>\n",
       "      <th>Campo 5</th>\n",
       "      <th>Estado</th>\n",
       "      <th>Activo</th>\n",
       "      <th>Baja</th>\n",
       "      <th>Graduado</th>\n",
       "    </tr>\n",
       "    <tr>\n",
       "      <th>Campo 4</th>\n",
       "      <th></th>\n",
       "      <th></th>\n",
       "      <th></th>\n",
       "      <th></th>\n",
       "      <th></th>\n",
       "      <th></th>\n",
       "      <th></th>\n",
       "      <th></th>\n",
       "      <th></th>\n",
       "    </tr>\n",
       "  </thead>\n",
       "  <tbody>\n",
       "    <tr>\n",
       "      <th>888888</th>\n",
       "      <td>Registro 5</td>\n",
       "      <td>HELENA</td>\n",
       "      <td>González</td>\n",
       "      <td>888888</td>\n",
       "      <td>29.0</td>\n",
       "      <td>Activo</td>\n",
       "      <td>1</td>\n",
       "      <td>0</td>\n",
       "      <td>0</td>\n",
       "    </tr>\n",
       "    <tr>\n",
       "      <th>777222</th>\n",
       "      <td>Registro 6</td>\n",
       "      <td>JOSÉ</td>\n",
       "      <td>López</td>\n",
       "      <td>777222</td>\n",
       "      <td>30.0</td>\n",
       "      <td>Baja</td>\n",
       "      <td>0</td>\n",
       "      <td>1</td>\n",
       "      <td>0</td>\n",
       "    </tr>\n",
       "    <tr>\n",
       "      <th>123455</th>\n",
       "      <td>Registro 1</td>\n",
       "      <td>HUGO</td>\n",
       "      <td>López</td>\n",
       "      <td>123455</td>\n",
       "      <td>20.0</td>\n",
       "      <td>Baja</td>\n",
       "      <td>0</td>\n",
       "      <td>1</td>\n",
       "      <td>0</td>\n",
       "    </tr>\n",
       "    <tr>\n",
       "      <th>971298</th>\n",
       "      <td>Registro 3</td>\n",
       "      <td>LUIS</td>\n",
       "      <td>Oca</td>\n",
       "      <td>971298</td>\n",
       "      <td>28.0</td>\n",
       "      <td>Graduado</td>\n",
       "      <td>0</td>\n",
       "      <td>0</td>\n",
       "      <td>1</td>\n",
       "    </tr>\n",
       "    <tr>\n",
       "      <th>123098</th>\n",
       "      <td>Registro 4</td>\n",
       "      <td>PEDRO</td>\n",
       "      <td>Ramírez</td>\n",
       "      <td>123098</td>\n",
       "      <td>28.0</td>\n",
       "      <td>Activo</td>\n",
       "      <td>1</td>\n",
       "      <td>0</td>\n",
       "      <td>0</td>\n",
       "    </tr>\n",
       "    <tr>\n",
       "      <th>736923</th>\n",
       "      <td>Registro 2</td>\n",
       "      <td>PACO</td>\n",
       "      <td>Silva</td>\n",
       "      <td>736923</td>\n",
       "      <td>35.0</td>\n",
       "      <td>Activo</td>\n",
       "      <td>1</td>\n",
       "      <td>0</td>\n",
       "      <td>0</td>\n",
       "    </tr>\n",
       "    <tr>\n",
       "      <th>536271</th>\n",
       "      <td>Registro 7</td>\n",
       "      <td>Luisa</td>\n",
       "      <td>González</td>\n",
       "      <td>536271</td>\n",
       "      <td>23.0</td>\n",
       "      <td>Baja</td>\n",
       "      <td>0</td>\n",
       "      <td>1</td>\n",
       "      <td>0</td>\n",
       "    </tr>\n",
       "  </tbody>\n",
       "</table>\n",
       "</div>"
      ],
      "text/plain": [
       "            Campo 1  Campo 2    Campo 3  Campo 4  Campo 5    Estado  Activo  \\\n",
       "Campo 4                                                                       \n",
       "888888   Registro 5   HELENA   González   888888     29.0    Activo       1   \n",
       "777222   Registro 6     JOSÉ      López   777222     30.0      Baja       0   \n",
       "123455   Registro 1     HUGO      López   123455     20.0      Baja       0   \n",
       "971298   Registro 3     LUIS        Oca   971298     28.0  Graduado       0   \n",
       "123098   Registro 4    PEDRO    Ramírez   123098     28.0    Activo       1   \n",
       "736923   Registro 2     PACO      Silva   736923     35.0    Activo       1   \n",
       "536271   Registro 7    Luisa   González   536271     23.0      Baja       0   \n",
       "\n",
       "         Baja  Graduado  \n",
       "Campo 4                  \n",
       "888888      0         0  \n",
       "777222      1         0  \n",
       "123455      1         0  \n",
       "971298      0         1  \n",
       "123098      0         0  \n",
       "736923      0         0  \n",
       "536271      1         0  "
      ]
     },
     "execution_count": 92,
     "metadata": {},
     "output_type": "execute_result"
    }
   ],
   "source": [
    "Frame = pd.concat([estudiantes,pd.get_dummies(estudiantes[\"Estado\"])],axis = 1)\n",
    "Frame"
   ]
  },
  {
   "cell_type": "code",
   "execution_count": 93,
   "metadata": {},
   "outputs": [
    {
     "data": {
      "text/html": [
       "<div>\n",
       "<style scoped>\n",
       "    .dataframe tbody tr th:only-of-type {\n",
       "        vertical-align: middle;\n",
       "    }\n",
       "\n",
       "    .dataframe tbody tr th {\n",
       "        vertical-align: top;\n",
       "    }\n",
       "\n",
       "    .dataframe thead th {\n",
       "        text-align: right;\n",
       "    }\n",
       "</style>\n",
       "<table border=\"1\" class=\"dataframe\">\n",
       "  <thead>\n",
       "    <tr style=\"text-align: right;\">\n",
       "      <th></th>\n",
       "      <th>Campo 1</th>\n",
       "      <th>Campo 2</th>\n",
       "      <th>Campo 3</th>\n",
       "      <th>Campo 4</th>\n",
       "      <th>Campo 5</th>\n",
       "      <th>Estado</th>\n",
       "      <th>Activo</th>\n",
       "      <th>Baja</th>\n",
       "      <th>Graduado</th>\n",
       "      <th>Fac</th>\n",
       "      <th>Sexo</th>\n",
       "    </tr>\n",
       "    <tr>\n",
       "      <th>Campo 4</th>\n",
       "      <th></th>\n",
       "      <th></th>\n",
       "      <th></th>\n",
       "      <th></th>\n",
       "      <th></th>\n",
       "      <th></th>\n",
       "      <th></th>\n",
       "      <th></th>\n",
       "      <th></th>\n",
       "      <th></th>\n",
       "      <th></th>\n",
       "    </tr>\n",
       "  </thead>\n",
       "  <tbody>\n",
       "    <tr>\n",
       "      <th>888888</th>\n",
       "      <td>Registro 5</td>\n",
       "      <td>HELENA</td>\n",
       "      <td>González</td>\n",
       "      <td>888888</td>\n",
       "      <td>29.0</td>\n",
       "      <td>Activo</td>\n",
       "      <td>1</td>\n",
       "      <td>0</td>\n",
       "      <td>0</td>\n",
       "      <td>4</td>\n",
       "      <td>0</td>\n",
       "    </tr>\n",
       "    <tr>\n",
       "      <th>777222</th>\n",
       "      <td>Registro 6</td>\n",
       "      <td>JOSÉ</td>\n",
       "      <td>López</td>\n",
       "      <td>777222</td>\n",
       "      <td>30.0</td>\n",
       "      <td>Baja</td>\n",
       "      <td>0</td>\n",
       "      <td>1</td>\n",
       "      <td>0</td>\n",
       "      <td>3</td>\n",
       "      <td>1</td>\n",
       "    </tr>\n",
       "    <tr>\n",
       "      <th>123455</th>\n",
       "      <td>Registro 1</td>\n",
       "      <td>HUGO</td>\n",
       "      <td>López</td>\n",
       "      <td>123455</td>\n",
       "      <td>20.0</td>\n",
       "      <td>Baja</td>\n",
       "      <td>0</td>\n",
       "      <td>1</td>\n",
       "      <td>0</td>\n",
       "      <td>1</td>\n",
       "      <td>1</td>\n",
       "    </tr>\n",
       "    <tr>\n",
       "      <th>971298</th>\n",
       "      <td>Registro 3</td>\n",
       "      <td>LUIS</td>\n",
       "      <td>Oca</td>\n",
       "      <td>971298</td>\n",
       "      <td>28.0</td>\n",
       "      <td>Graduado</td>\n",
       "      <td>0</td>\n",
       "      <td>0</td>\n",
       "      <td>1</td>\n",
       "      <td>4</td>\n",
       "      <td>1</td>\n",
       "    </tr>\n",
       "    <tr>\n",
       "      <th>123098</th>\n",
       "      <td>Registro 4</td>\n",
       "      <td>PEDRO</td>\n",
       "      <td>Ramírez</td>\n",
       "      <td>123098</td>\n",
       "      <td>28.0</td>\n",
       "      <td>Activo</td>\n",
       "      <td>1</td>\n",
       "      <td>0</td>\n",
       "      <td>0</td>\n",
       "      <td>5</td>\n",
       "      <td>1</td>\n",
       "    </tr>\n",
       "    <tr>\n",
       "      <th>736923</th>\n",
       "      <td>Registro 2</td>\n",
       "      <td>PACO</td>\n",
       "      <td>Silva</td>\n",
       "      <td>736923</td>\n",
       "      <td>35.0</td>\n",
       "      <td>Activo</td>\n",
       "      <td>1</td>\n",
       "      <td>0</td>\n",
       "      <td>0</td>\n",
       "      <td>1</td>\n",
       "      <td>1</td>\n",
       "    </tr>\n",
       "    <tr>\n",
       "      <th>536271</th>\n",
       "      <td>Registro 7</td>\n",
       "      <td>Luisa</td>\n",
       "      <td>González</td>\n",
       "      <td>536271</td>\n",
       "      <td>23.0</td>\n",
       "      <td>Baja</td>\n",
       "      <td>0</td>\n",
       "      <td>1</td>\n",
       "      <td>0</td>\n",
       "      <td>8</td>\n",
       "      <td>0</td>\n",
       "    </tr>\n",
       "  </tbody>\n",
       "</table>\n",
       "</div>"
      ],
      "text/plain": [
       "            Campo 1  Campo 2    Campo 3  Campo 4  Campo 5    Estado  Activo  \\\n",
       "Campo 4                                                                       \n",
       "888888   Registro 5   HELENA   González   888888     29.0    Activo       1   \n",
       "777222   Registro 6     JOSÉ      López   777222     30.0      Baja       0   \n",
       "123455   Registro 1     HUGO      López   123455     20.0      Baja       0   \n",
       "971298   Registro 3     LUIS        Oca   971298     28.0  Graduado       0   \n",
       "123098   Registro 4    PEDRO    Ramírez   123098     28.0    Activo       1   \n",
       "736923   Registro 2     PACO      Silva   736923     35.0    Activo       1   \n",
       "536271   Registro 7    Luisa   González   536271     23.0      Baja       0   \n",
       "\n",
       "         Baja  Graduado  Fac Sexo  \n",
       "Campo 4                            \n",
       "888888      0         0    4    0  \n",
       "777222      1         0    3    1  \n",
       "123455      1         0    1    1  \n",
       "971298      0         1    4    1  \n",
       "123098      0         0    5    1  \n",
       "736923      0         0    1    1  \n",
       "536271      1         0    8    0  "
      ]
     },
     "execution_count": 93,
     "metadata": {},
     "output_type": "execute_result"
    }
   ],
   "source": [
    "Frame[\"Fac\"] = [4,3,1,4,5,1,8]\n",
    "Frame[\"Sexo\"] = [\"0\",\"1\",\"1\",\"1\",\"1\",\"1\",\"0\"]\n",
    "Frame"
   ]
  },
  {
   "cell_type": "code",
   "execution_count": 94,
   "metadata": {},
   "outputs": [
    {
     "data": {
      "text/plain": [
       "Estado\n",
       "Activo      10\n",
       "Baja        12\n",
       "Graduado     4\n",
       "Name: Fac, dtype: int64"
      ]
     },
     "execution_count": 94,
     "metadata": {},
     "output_type": "execute_result"
    }
   ],
   "source": [
    "Frame.groupby('Estado')[\"Fac\"].sum() # En R es tapply(Frame$Fac,Frame$Estado,sum)\n"
   ]
  },
  {
   "cell_type": "code",
   "execution_count": 95,
   "metadata": {},
   "outputs": [
    {
     "data": {
      "text/plain": [
       "Estado    Sexo\n",
       "Activo    0       4\n",
       "          1       6\n",
       "Baja      0       8\n",
       "          1       4\n",
       "Graduado  1       4\n",
       "Name: Fac, dtype: int64"
      ]
     },
     "execution_count": 95,
     "metadata": {},
     "output_type": "execute_result"
    }
   ],
   "source": [
    "Frame.groupby(['Estado',\"Sexo\"])[\"Fac\"].sum() # En R es tapply(Frame$Fac,list(Frame$Estado,Frame$Sexo),sum)"
   ]
  },
  {
   "cell_type": "code",
   "execution_count": 96,
   "metadata": {},
   "outputs": [
    {
     "data": {
      "text/plain": [
       "4"
      ]
     },
     "execution_count": 96,
     "metadata": {},
     "output_type": "execute_result"
    }
   ],
   "source": [
    "Frame.groupby([\"Estado\",\"Sexo\"])[\"Fac\"].sum()[\"Activo\",\"0\"]"
   ]
  },
  {
   "cell_type": "code",
   "execution_count": 99,
   "metadata": {},
   "outputs": [
    {
     "name": "stdout",
     "output_type": "stream",
     "text": [
      "<class 'pandas.core.frame.DataFrame'>\n",
      "Index: 7 entries, 888888 to 536271\n",
      "Data columns (total 11 columns):\n",
      " #   Column    Non-Null Count  Dtype  \n",
      "---  ------    --------------  -----  \n",
      " 0   Campo 1   7 non-null      object \n",
      " 1   Campo 2   7 non-null      object \n",
      " 2   Campo 3   7 non-null      object \n",
      " 3   Campo 4   7 non-null      object \n",
      " 4   Campo 5   7 non-null      float64\n",
      " 5   Estado    7 non-null      object \n",
      " 6   Activo    7 non-null      uint8  \n",
      " 7   Baja      7 non-null      uint8  \n",
      " 8   Graduado  7 non-null      uint8  \n",
      " 9   Fac       7 non-null      int64  \n",
      " 10  Sexo      7 non-null      object \n",
      "dtypes: float64(1), int64(1), object(6), uint8(3)\n",
      "memory usage: 525.0+ bytes\n"
     ]
    }
   ],
   "source": [
    "Frame.info()"
   ]
  }
 ],
 "metadata": {
  "kernelspec": {
   "display_name": "Python 3",
   "language": "python",
   "name": "python3"
  },
  "language_info": {
   "codemirror_mode": {
    "name": "ipython",
    "version": 3
   },
   "file_extension": ".py",
   "mimetype": "text/x-python",
   "name": "python",
   "nbconvert_exporter": "python",
   "pygments_lexer": "ipython3",
   "version": "3.7.7"
  }
 },
 "nbformat": 4,
 "nbformat_minor": 4
}
