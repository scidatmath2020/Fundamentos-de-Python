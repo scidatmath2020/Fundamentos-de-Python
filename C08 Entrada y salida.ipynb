{
 "cells": [
  {
   "cell_type": "markdown",
   "metadata": {},
   "source": [
    "![imagenes](logo.png)"
   ]
  },
  {
   "cell_type": "markdown",
   "metadata": {},
   "source": [
    "# Entrada y salida estándar."
   ]
  },
  {
   "cell_type": "markdown",
   "metadata": {},
   "source": [
    "En la actualidad existen muchas fuentes desde las que se puede obtener y desplegar la información que un sistema de cómputo consume, gestiona y genera. Sin embargo, para el intérprete de Python la salida por defecto (salida estándar) de datos es la terminal de texto y la entrada estándar es el teclado.\n",
    "\n",
    "En el caso de las notebooks de *Jupyter*, cada celda de código representa a la entrada estándar mediante:\n",
    "\n",
    "```In[ ]:```\n",
    "\n",
    "Y la salida estándar mediante:\n",
    "\n",
    "```Out[ ]:```"
   ]
  },
  {
   "cell_type": "markdown",
   "metadata": {},
   "source": [
    "**Ejemplo:**"
   ]
  },
  {
   "cell_type": "code",
   "execution_count": null,
   "metadata": {},
   "outputs": [],
   "source": [
    " 3 * \"Hola\""
   ]
  },
  {
   "cell_type": "markdown",
   "metadata": {},
   "source": [
    "## Salida estándar con la funcion ```print()```.\n",
    "\n",
    "En Python 3, la función ```print()``` se utiliza para desplegar información en la salida estándar.\n",
    "\n",
    "La sintaxis es la siguiente:\n",
    "\n",
    "```\n",
    "print(<expresión 1>, <expresión 2>, ...<expresión n>)\n",
    "```\n",
    "\n",
    "* La función ```print()``` evalúa y despliega una o varias expresiones.\n",
    "* Si el resultado de la expresión es un objeto ```str```, este es desplegado sin los apóstrofes o las comillas que lo delimitan."
   ]
  },
  {
   "cell_type": "markdown",
   "metadata": {},
   "source": [
    "**Ejemplos:**"
   ]
  },
  {
   "cell_type": "markdown",
   "metadata": {},
   "source": [
    "* La siguiente celda define el nombre ```a``` con valor igual a ```2```."
   ]
  },
  {
   "cell_type": "code",
   "execution_count": null,
   "metadata": {},
   "outputs": [],
   "source": [
    "a = 2"
   ]
  },
  {
   "cell_type": "markdown",
   "metadata": {},
   "source": [
    "* La siguiente celda evalúa la expresión ```a```, por lo que desplegará ```2```."
   ]
  },
  {
   "cell_type": "code",
   "execution_count": null,
   "metadata": {
    "scrolled": false
   },
   "outputs": [],
   "source": [
    "print(a)"
   ]
  },
  {
   "cell_type": "markdown",
   "metadata": {},
   "source": [
    "*Nótese, sin embargo, que el tipo de print(a) es Nonetype*"
   ]
  },
  {
   "cell_type": "code",
   "execution_count": null,
   "metadata": {},
   "outputs": [],
   "source": [
    "type(print(a))"
   ]
  },
  {
   "cell_type": "markdown",
   "metadata": {},
   "source": [
    "* La siguiente celda desplegará el mensaje dentro del objeto ```\"Hola\"```."
   ]
  },
  {
   "cell_type": "code",
   "execution_count": null,
   "metadata": {},
   "outputs": [],
   "source": [
    "print(\"Hola\")"
   ]
  },
  {
   "cell_type": "markdown",
   "metadata": {},
   "source": [
    "* En la siguiente celda la función ```print()``` desplegará dos expresiones que corresponde cada una a un objeto de tipo ```str```. Cada objeto será desplegado separado por un espacio.\n",
    "\n",
    "* La salida será ```Hola Mundo```."
   ]
  },
  {
   "cell_type": "code",
   "execution_count": null,
   "metadata": {},
   "outputs": [],
   "source": [
    "print(\"Hola\",\"Mundo\")"
   ]
  },
  {
   "cell_type": "code",
   "execution_count": null,
   "metadata": {},
   "outputs": [],
   "source": [
    "dinero=30"
   ]
  },
  {
   "cell_type": "code",
   "execution_count": null,
   "metadata": {},
   "outputs": [],
   "source": [
    "print(\"Hoy gané $\"+str(dinero),\"en mi trabajo\")"
   ]
  },
  {
   "cell_type": "markdown",
   "metadata": {},
   "source": [
    "* En la siguiente celda la función ```print()``` desplegará el resultado de una expresión de concatenación entre dos objetos de tipo ```str```. El resultado es un objeto ```str```.\n",
    "\n",
    "* La salida será ```HolaMundo```."
   ]
  },
  {
   "cell_type": "code",
   "execution_count": null,
   "metadata": {},
   "outputs": [],
   "source": [
    "print(\"Hola\" + \"Mundo\")"
   ]
  },
  {
   "cell_type": "markdown",
   "metadata": {},
   "source": [
    "* En la siguiente celda la función ```print()``` desplegará tres expresiones que corresponden a:\n",
    "  * El objeto ```'Tienes'``` de tipo ```str```.\n",
    "  * El objeto ```2``` de tipo ```int``` ligado al nombre ```a```.\n",
    "  * El objeto ```'buenos amigos'``` de tipo ```str```.\n",
    "\n",
    "Cada expresión será desplegada separada por un espacio.\n",
    "\n",
    "* La salida será ```Tienes 2 buenos amigos.```."
   ]
  },
  {
   "cell_type": "code",
   "execution_count": null,
   "metadata": {},
   "outputs": [],
   "source": [
    "print(\"Tienes\",a, \"buenos amigos.\")"
   ]
  },
  {
   "cell_type": "markdown",
   "metadata": {},
   "source": [
    "* En la siguiente celda la función ```print()``` intentará desplegar el resultado de la expresión ```\"Tienes\" + a + \"buenos amigos.\"```, la cual no es correcta y generará un error de tipo ```TypeError```."
   ]
  },
  {
   "cell_type": "code",
   "execution_count": null,
   "metadata": {
    "scrolled": true
   },
   "outputs": [],
   "source": [
    "print(\"Tienes\" + a + \"buenos amigos.\")"
   ]
  },
  {
   "cell_type": "code",
   "execution_count": null,
   "metadata": {},
   "outputs": [],
   "source": [
    "print(\"Tienes \" + str(a) + \" buenos amigos.\")"
   ]
  },
  {
   "cell_type": "markdown",
   "metadata": {},
   "source": [
    "### Despliegue con formato.\n",
    "\n",
    "Para intercalar valores dentro de un formato específico de texto se utiliza el caracter sobre-escritura definido como el signo de porcentaje ```%``` seguido de algún caracter que definirá el modo de desplegar la expresión correspondiente.\n",
    "\n",
    "```\n",
    "print(\"...%<caracter>...\" % expresión 1) \n",
    "```\n",
    "\n",
    "```\n",
    "print(\"...%<caracter 1>...%<caracter n>...\" %(<expresión 1>,...<expresión n>))\n",
    "```\n",
    "\n",
    "\n",
    "\n",
    "|Caracter de escape|Modo de despliegue|\n",
    "|:----------------:|:----------------:|\n",
    "|```%s```|\tcadena de texto|\n",
    "|```%d```|\t entero|\n",
    "|```%o```|\t octal|\n",
    "|```%x```|\t hexadecimal|\n",
    "|```%f```|\t punto flotante|\n",
    "|```%e```|\t punto flotante en formato exponencial|    \n",
    "\n",
    "El uso de ```%s```, equivale a aplicar la función ```str()``` al valor a desplegar."
   ]
  },
  {
   "cell_type": "markdown",
   "metadata": {},
   "source": [
    "**Ejemplos:**"
   ]
  },
  {
   "cell_type": "code",
   "execution_count": null,
   "metadata": {},
   "outputs": [],
   "source": [
    "pi = 3.141592\n",
    "radio = 2"
   ]
  },
  {
   "cell_type": "code",
   "execution_count": null,
   "metadata": {},
   "outputs": [],
   "source": [
    "print(\"El perímetro de un círculo de radio %d tiene área %f\" % (2, pi*radio**2))"
   ]
  },
  {
   "cell_type": "code",
   "execution_count": null,
   "metadata": {},
   "outputs": [],
   "source": [
    "print(\"El perímetro de un círculo de radio %d es %d\" % (radio, 2 * radio * pi))"
   ]
  },
  {
   "cell_type": "code",
   "execution_count": null,
   "metadata": {},
   "outputs": [],
   "source": [
    "print(\"El perímetro de un circulo de radio %s es %s\" % (radio, 2 * radio * pi))"
   ]
  },
  {
   "cell_type": "code",
   "execution_count": null,
   "metadata": {},
   "outputs": [],
   "source": [
    "print(\"El valor de pi es %f\" % (pi))"
   ]
  },
  {
   "cell_type": "code",
   "execution_count": null,
   "metadata": {},
   "outputs": [],
   "source": [
    "print(\"El valor de pi es %e\" % (pi))"
   ]
  },
  {
   "cell_type": "markdown",
   "metadata": {},
   "source": [
    "Para desplegar el signo de porcentaje ```%``` se utiliza ```%%```."
   ]
  },
  {
   "cell_type": "markdown",
   "metadata": {},
   "source": [
    "**Ejemplo:**"
   ]
  },
  {
   "cell_type": "code",
   "execution_count": null,
   "metadata": {},
   "outputs": [],
   "source": [
    "valor = 13\n",
    "porciento = 15\n",
    "porcentaje = (valor * porciento) / 100\n",
    "print(\"El %d%% de %f es %f\" % (porciento, valor, porcentaje))"
   ]
  },
  {
   "cell_type": "markdown",
   "metadata": {},
   "source": [
    "#### Despliegue de cifras significativas.\n",
    "\n",
    "Para desplegar un número específico de cifras significativas de un valor de punto flotante, se añade un punto ```.``` y el número de cifras a desplegarse después del signo de porcentaje ```%``` y antes del carácter ```f``` o ```e```.\n",
    "\n",
    "```\n",
    "%.<n>f\n",
    "```"
   ]
  },
  {
   "cell_type": "markdown",
   "metadata": {},
   "source": [
    "**Ejemplos:**"
   ]
  },
  {
   "cell_type": "code",
   "execution_count": null,
   "metadata": {},
   "outputs": [],
   "source": [
    "pi = 3.14169265\n",
    "radio = 2"
   ]
  },
  {
   "cell_type": "code",
   "execution_count": null,
   "metadata": {},
   "outputs": [],
   "source": [
    "print(\"El perímetro de un círculo de radio igual a %d es %f\" % (radio, 2 * pi * radio))"
   ]
  },
  {
   "cell_type": "markdown",
   "metadata": {},
   "source": [
    "## f strings\n",
    "\n",
    "A partir de Python 3.6 podemos \"prescindir\" de format y aplicar directamente mediante un f-string. Nótese la letra f antes del string:"
   ]
  },
  {
   "cell_type": "code",
   "execution_count": null,
   "metadata": {},
   "outputs": [],
   "source": [
    "curso1 = \"CDD_Py\"\n",
    "instructor1 = \"Héctor\"\n",
    "instructor2 = \"Manuel\"\n",
    "edad = 35"
   ]
  },
  {
   "cell_type": "code",
   "execution_count": null,
   "metadata": {},
   "outputs": [],
   "source": [
    "print(f\"Hola. Soy {instructor1} {instructor2} de SciData, y tengo {edad} años. Bienvenido a {curso1}.\")"
   ]
  },
  {
   "cell_type": "markdown",
   "metadata": {},
   "source": [
    "### Caracteres de escape.\n",
    "\n",
    "Existen algunos caracteres que por su función o por la sintaxis de Python -tales como los apóstrofes, las comillas, los retornos de línea, etc.- que deben utilizar un \"caracter de escape\", para que puedan ser desplegados. Los caracteres de escape pueden ser introducidos después de una diagonal invertida ```\\```.\n",
    "\n",
    "|Secuencia|Despliegue|\n",
    "|:-------:|:--------:|\n",
    "|```\\n```    |Retorno de línea|\n",
    "|```\\t```    |Tabulador |\n",
    "|```\\\"```    |Comillas  |\n",
    "|```\\'```    |Apóstrofe |\n",
    "|```\\\\```   |Diagonal invertida|\n",
    "|```\\xNN```  |Caracter que corresponde al número hexadecimal *NN* en ASCII|\n",
    "|```\\uNN```  |Caracter que corresponde al número hexadecimal *NN* en Unicode|"
   ]
  },
  {
   "cell_type": "markdown",
   "metadata": {},
   "source": [
    "**Ejemplo:**"
   ]
  },
  {
   "cell_type": "code",
   "execution_count": null,
   "metadata": {},
   "outputs": [],
   "source": [
    "print(\"Primera línea.\\nSegunda línea\\tcon tabulador.\")"
   ]
  },
  {
   "cell_type": "code",
   "execution_count": null,
   "metadata": {},
   "outputs": [],
   "source": [
    "print(\"Este es el signo de \\\"gato\\\" \\x23.\")"
   ]
  },
  {
   "cell_type": "code",
   "execution_count": null,
   "metadata": {},
   "outputs": [],
   "source": [
    "print(\"Beta: \\u00DF\")"
   ]
  },
  {
   "cell_type": "code",
   "execution_count": null,
   "metadata": {},
   "outputs": [],
   "source": [
    "print('I \\u2764 YOU!')"
   ]
  },
  {
   "cell_type": "markdown",
   "metadata": {},
   "source": [
    "## Entrada estándar con la función ```input()```. \n",
    "\n",
    "La función por defecto de entrada estándar para Python 3 es ```input()```.\n",
    "\n",
    "La función ```input()``` captura los caracteres provenientes de entrada estándar (el teclado) hasta que se introduce un retorno de carro <kbd>Intro</kbd> y el contenido capturado es devuelto al intérprete como una cadena de texto. \n",
    "\n",
    "La cadena de caracteres resultante puede ser almacenada como un objeto de tipo ```str``` mediante la asignación de un nombre.\n",
    "\n",
    "La función permite desplegar un mensaje de tipo ```str``` como parámetro.\n",
    "\n",
    "``` \n",
    "input(<objeto tipo str>)\n",
    "```"
   ]
  },
  {
   "cell_type": "markdown",
   "metadata": {},
   "source": [
    "**Ejemplos:**"
   ]
  },
  {
   "cell_type": "code",
   "execution_count": null,
   "metadata": {},
   "outputs": [],
   "source": [
    "input()"
   ]
  },
  {
   "cell_type": "code",
   "execution_count": null,
   "metadata": {},
   "outputs": [],
   "source": [
    "texto = input()"
   ]
  },
  {
   "cell_type": "code",
   "execution_count": null,
   "metadata": {},
   "outputs": [],
   "source": [
    "texto"
   ]
  },
  {
   "cell_type": "code",
   "execution_count": null,
   "metadata": {},
   "outputs": [],
   "source": [
    "print(\"Son las %s\" %(texto))"
   ]
  },
  {
   "cell_type": "code",
   "execution_count": null,
   "metadata": {},
   "outputs": [],
   "source": [
    "nombre = input(\"Escribe un nombre: \")\n",
    "print(nombre)"
   ]
  }
 ],
 "metadata": {
  "kernelspec": {
   "display_name": "Python 3",
   "language": "python",
   "name": "python3"
  },
  "language_info": {
   "codemirror_mode": {
    "name": "ipython",
    "version": 3
   },
   "file_extension": ".py",
   "mimetype": "text/x-python",
   "name": "python",
   "nbconvert_exporter": "python",
   "pygments_lexer": "ipython3",
   "version": "3.7.7"
  }
 },
 "nbformat": 4,
 "nbformat_minor": 1
}
