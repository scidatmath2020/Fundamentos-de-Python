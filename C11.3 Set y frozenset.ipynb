{
 "cells": [
  {
   "cell_type": "markdown",
   "metadata": {},
   "source": [
    "![imagenes](logo.png)"
   ]
  },
  {
   "cell_type": "markdown",
   "metadata": {},
   "source": [
    "# Objetos tipo ```set``` y ```frozenset```.\n",
    "\n",
    "Existen colecciones de objetos en Python que permiten realizar operaciones con conjuntos. Son una colección de objetos únicos y no ordenados.\n",
    "Estos tipos de datos no son indexables y por lo tanto tampoco se pueden rebanar.\n",
    "\n",
    "## Diagramas de Venn.\n",
    "Para ilustrar de mejor manera los conceptos relacionados con conjuntos se  utilizarán diagramas de Venn y su relación entre 2 conjuntos genéricos.\n",
    "![imagenes/conjuntos.png](conjuntos.png)"
   ]
  },
  {
   "cell_type": "markdown",
   "metadata": {},
   "source": [
    "## Objetos tipo ```set```.\n",
    "\n",
    "### Definición de un objeto tipo ```set```.\n",
    "\n",
    "Los elementos contenidos en un objeto tipo _set_ deben ser de de tipo inmutable.\n",
    "\n",
    "Los objetos tipo _set_ se definen mediante el uso de llaves ```{```, ```}```, pero a diferencia de los objetos de tipo ```dict```, sólo se ingresan una sucesión de objetos inmutables.\n",
    "\n",
    "```\n",
    "{<valor 1>, <valor 2>, ..., <valor n>}\n",
    "```\n",
    "\n",
    "\n",
    "La función ```set()``` a la cual se le ingresa un objeto iterable.\n",
    "\n",
    "``` \n",
    "set(<objeto iterable>)\n",
    "```\n",
    "**Ejemplos:** "
   ]
  },
  {
   "cell_type": "code",
   "execution_count": null,
   "metadata": {},
   "outputs": [],
   "source": [
    "{1, 'dos', 3.0, '4'}"
   ]
  },
  {
   "cell_type": "code",
   "execution_count": null,
   "metadata": {},
   "outputs": [],
   "source": [
    "{2, 2., 1 + 1, \"dos\", '2'}"
   ]
  },
  {
   "cell_type": "code",
   "execution_count": null,
   "metadata": {},
   "outputs": [],
   "source": [
    "set({'id_1': 3, 'id_2': 4, 'id_3': 5, 'id_4': 6})"
   ]
  },
  {
   "cell_type": "code",
   "execution_count": null,
   "metadata": {},
   "outputs": [],
   "source": [
    "{[[12, 3, 27], [True, 60]]}"
   ]
  },
  {
   "cell_type": "code",
   "execution_count": null,
   "metadata": {},
   "outputs": [],
   "source": [
    "set([[12, 3, 27], [True, 60]])"
   ]
  },
  {
   "cell_type": "code",
   "execution_count": null,
   "metadata": {},
   "outputs": [],
   "source": [
    "set([12,3,27,True,60])"
   ]
  },
  {
   "cell_type": "code",
   "execution_count": null,
   "metadata": {},
   "outputs": [],
   "source": [
    "{(12, 3, 27), (True, 60)}"
   ]
  },
  {
   "cell_type": "code",
   "execution_count": null,
   "metadata": {},
   "outputs": [],
   "source": [
    "set([(12, 3, 27), (True, 60)])"
   ]
  },
  {
   "cell_type": "markdown",
   "metadata": {},
   "source": [
    "## Métodos del tipo _set_.\n",
    "\n",
    "### Métodos de manipulación de objetos tipo set.\n",
    "#### _add()_.\n",
    "Añade un elemento que se ingresa como argumento al objeto tipo _set_. Si ya hay un objeto equivalente, no se agrega uno nuevo.\n",
    "\n",
    "**Ejemplos:**"
   ]
  },
  {
   "cell_type": "code",
   "execution_count": null,
   "metadata": {},
   "outputs": [],
   "source": [
    "conjunto = {1, 'dos', 3.0, '4'}"
   ]
  },
  {
   "cell_type": "code",
   "execution_count": null,
   "metadata": {},
   "outputs": [],
   "source": [
    "conjunto"
   ]
  },
  {
   "cell_type": "code",
   "execution_count": null,
   "metadata": {},
   "outputs": [],
   "source": [
    "conjunto.add(True)"
   ]
  },
  {
   "cell_type": "code",
   "execution_count": null,
   "metadata": {},
   "outputs": [],
   "source": [
    "conjunto"
   ]
  },
  {
   "cell_type": "code",
   "execution_count": null,
   "metadata": {},
   "outputs": [],
   "source": [
    "conjunto.add(False)"
   ]
  },
  {
   "cell_type": "code",
   "execution_count": null,
   "metadata": {},
   "outputs": [],
   "source": [
    "conjunto"
   ]
  },
  {
   "cell_type": "markdown",
   "metadata": {},
   "source": [
    "#### _remove()_.\n",
    "Busca y elimina al elemento que se ingresa como argumento. En caso de no encontrarlo, envía un mensaje de error.\n",
    "\n",
    "**Ejemplos:**"
   ]
  },
  {
   "cell_type": "code",
   "execution_count": null,
   "metadata": {},
   "outputs": [],
   "source": [
    "conjunto = {1, 'dos', 3.0, '4'}"
   ]
  },
  {
   "cell_type": "code",
   "execution_count": null,
   "metadata": {},
   "outputs": [],
   "source": [
    "conjunto.remove(3)"
   ]
  },
  {
   "cell_type": "code",
   "execution_count": null,
   "metadata": {},
   "outputs": [],
   "source": [
    "conjunto"
   ]
  },
  {
   "cell_type": "code",
   "execution_count": null,
   "metadata": {},
   "outputs": [],
   "source": [
    "conjunto.remove(3)"
   ]
  },
  {
   "cell_type": "markdown",
   "metadata": {},
   "source": [
    "#### _discard()_.\n",
    "Busca y elimina al elemento que se ingresa como argumento. En caso de no encontrarlo, no regresa nada.\n",
    "\n",
    "**Ejemplos:**"
   ]
  },
  {
   "cell_type": "code",
   "execution_count": null,
   "metadata": {},
   "outputs": [],
   "source": [
    "conjunto = {1, 'dos', 3.0, '4'}"
   ]
  },
  {
   "cell_type": "code",
   "execution_count": null,
   "metadata": {},
   "outputs": [],
   "source": [
    "conjunto.discard(3)"
   ]
  },
  {
   "cell_type": "code",
   "execution_count": null,
   "metadata": {},
   "outputs": [],
   "source": [
    "conjunto"
   ]
  },
  {
   "cell_type": "code",
   "execution_count": null,
   "metadata": {},
   "outputs": [],
   "source": [
    "conjunto.discard(3)"
   ]
  },
  {
   "cell_type": "markdown",
   "metadata": {},
   "source": [
    "#### _pop()_.\n",
    "Regresas y elimina un elemento aleatorio del objeto tipo _set_. Cuando ya no existen elementos, se generan un error de tipo _KeyError_\n",
    "\n",
    "**Ejemplos:**"
   ]
  },
  {
   "cell_type": "code",
   "execution_count": null,
   "metadata": {},
   "outputs": [],
   "source": [
    "conjunto = {1, 'dos', 3.0, '4'}"
   ]
  },
  {
   "cell_type": "code",
   "execution_count": null,
   "metadata": {},
   "outputs": [],
   "source": [
    "conjunto.pop()"
   ]
  },
  {
   "cell_type": "code",
   "execution_count": null,
   "metadata": {},
   "outputs": [],
   "source": [
    "conjunto"
   ]
  },
  {
   "cell_type": "code",
   "execution_count": null,
   "metadata": {},
   "outputs": [],
   "source": [
    "conjunto.pop()"
   ]
  },
  {
   "cell_type": "code",
   "execution_count": null,
   "metadata": {},
   "outputs": [],
   "source": [
    "conjunto"
   ]
  },
  {
   "cell_type": "code",
   "execution_count": null,
   "metadata": {},
   "outputs": [],
   "source": [
    "conjunto.pop()"
   ]
  },
  {
   "cell_type": "code",
   "execution_count": null,
   "metadata": {},
   "outputs": [],
   "source": [
    "conjunto"
   ]
  },
  {
   "cell_type": "code",
   "execution_count": null,
   "metadata": {},
   "outputs": [],
   "source": [
    "conjunto.pop()"
   ]
  },
  {
   "cell_type": "code",
   "execution_count": null,
   "metadata": {},
   "outputs": [],
   "source": [
    "conjunto"
   ]
  },
  {
   "cell_type": "code",
   "execution_count": null,
   "metadata": {},
   "outputs": [],
   "source": [
    "conjunto.pop()"
   ]
  },
  {
   "cell_type": "markdown",
   "metadata": {},
   "source": [
    "#### _copy()_.\n",
    "Regresa una copia exacta del objeto contenido en el objeto tipo _set_. Es similar al rebanado completo de los objetos tipo _list_.\n",
    "\n",
    "**Ejemplo:**"
   ]
  },
  {
   "cell_type": "code",
   "execution_count": null,
   "metadata": {},
   "outputs": [],
   "source": [
    "conjunto = {1, 'dos', 3.0, '4'}"
   ]
  },
  {
   "cell_type": "code",
   "execution_count": null,
   "metadata": {},
   "outputs": [],
   "source": [
    "otro_conjunto = conjunto.copy()"
   ]
  },
  {
   "cell_type": "code",
   "execution_count": null,
   "metadata": {},
   "outputs": [],
   "source": [
    "otro_conjunto"
   ]
  },
  {
   "cell_type": "code",
   "execution_count": null,
   "metadata": {},
   "outputs": [],
   "source": [
    "id(conjunto)"
   ]
  },
  {
   "cell_type": "code",
   "execution_count": null,
   "metadata": {},
   "outputs": [],
   "source": [
    "id(otro_conjunto)"
   ]
  },
  {
   "cell_type": "code",
   "execution_count": null,
   "metadata": {},
   "outputs": [],
   "source": [
    "otro_conjunto == conjunto"
   ]
  },
  {
   "cell_type": "code",
   "execution_count": null,
   "metadata": {},
   "outputs": [],
   "source": [
    "otro_conjunto is conjunto"
   ]
  },
  {
   "cell_type": "markdown",
   "metadata": {},
   "source": [
    "#### _clear()_.\n",
    "Elimina todos los elementos del objeto tipo _set_.\n",
    "\n",
    "**Ejemplo:**"
   ]
  },
  {
   "cell_type": "code",
   "execution_count": null,
   "metadata": {},
   "outputs": [],
   "source": [
    "conjunto = {1, 'dos', 3.0, '4'}"
   ]
  },
  {
   "cell_type": "code",
   "execution_count": null,
   "metadata": {},
   "outputs": [],
   "source": [
    "conjunto.clear()\n",
    "conjunto"
   ]
  },
  {
   "cell_type": "markdown",
   "metadata": {},
   "source": [
    "### Métodos de evaluación de conjuntos.\n",
    "\n",
    "**Nota:** Los diagramas de Venn ilustran los casos en los que la evaluación da por resultado _True_.\n",
    "\n",
    "#### _isdisjoint()_.\n",
    "Evalúa si dos conjuntos no se intersectan. Si no existen elementos compartidos entre el objeto tipo _set_ al que pertenece el método y el objeto _set_ que se ingresa  como argumento, se regresa el valor _True_. De lo contrario se regresa _False_.\n",
    "\n",
    "![imagenes/isdisjoint.png](isdisjoint.png)\n",
    "\n",
    "**Ejemplos:**"
   ]
  },
  {
   "cell_type": "code",
   "execution_count": null,
   "metadata": {},
   "outputs": [],
   "source": [
    "saijajines = {\"Gokú\",\"Vegueta\",\"Trunks\",\"Gohan\"}\n",
    "futuro = {\"Trunks\",\"Cell\"}\n",
    "humanos = {\"Krillin\", \"Yamcha\"}"
   ]
  },
  {
   "cell_type": "code",
   "execution_count": null,
   "metadata": {},
   "outputs": [],
   "source": [
    "saijajines.isdisjoint(futuro)"
   ]
  },
  {
   "cell_type": "code",
   "execution_count": null,
   "metadata": {},
   "outputs": [],
   "source": [
    "saijajines.isdisjoint(humanos)"
   ]
  },
  {
   "cell_type": "markdown",
   "metadata": {},
   "source": [
    "#### _issubset()_.\n",
    "Si el objeto tipo _set_ al que pertenece el método es subconjunto del objeto _set_ que se ingresa como argumento, se regresa el valor _True_. De lo contrario se regresa _False_.\n",
    "\n",
    "![imagenes/issubset.png](issubset.png)\n",
    "\n",
    "**Ejemplos:**\n"
   ]
  },
  {
   "cell_type": "code",
   "execution_count": null,
   "metadata": {},
   "outputs": [],
   "source": [
    "saijajines = {\"Gokú\",\"Vegueta\",\"Trunks\",\"Gohan\"}\n",
    "futuro = {\"Trunks\",\"Cell\"}\n",
    "humanos = {\"Krillin\", \"Yamcha\"}\n",
    "poderosos = {\"Gokú\",\"Vegueta\",\"Gohan\",\"Cell\",\"Majin Boo\",\"Trunks\",\"Pikoro\"}\n",
    "namekus = {\"Pikoro\",\"Dendé\"}"
   ]
  },
  {
   "cell_type": "code",
   "execution_count": null,
   "metadata": {},
   "outputs": [],
   "source": [
    "saijajines.issubset(futuro)"
   ]
  },
  {
   "cell_type": "code",
   "execution_count": null,
   "metadata": {},
   "outputs": [],
   "source": [
    "saijajines.issubset(poderosos)"
   ]
  },
  {
   "cell_type": "code",
   "execution_count": null,
   "metadata": {},
   "outputs": [],
   "source": [
    "humanos.issubset(saijajines)"
   ]
  },
  {
   "cell_type": "code",
   "execution_count": null,
   "metadata": {},
   "outputs": [],
   "source": [
    "namekus.issubset(poderosos)"
   ]
  },
  {
   "cell_type": "markdown",
   "metadata": {},
   "source": [
    "#### _issuperset()_.\n",
    "Si el objeto tipo _set_ que se ingresa como argumento es subconjunto del objeto tipo _set_ al que pertenece el método, se regresa el valor _True_. De lo contrario se regresa _False_.\n",
    "\n",
    "\n",
    "![imagenes/issuperset.png](issuperset.png)\n",
    "\n",
    "**Ejemplos:**"
   ]
  },
  {
   "cell_type": "code",
   "execution_count": null,
   "metadata": {},
   "outputs": [],
   "source": [
    "saijajines = {\"Gokú\",\"Vegueta\",\"Trunks\",\"Gohan\"}\n",
    "futuro = {\"Trunks\",\"Cell\"}\n",
    "humanos = {\"Krillin\", \"Yamcha\"}\n",
    "poderosos = {\"Gokú\",\"Vegueta\",\"Gohan\",\"Cell\",\"Majin Boo\",\"Trunks\",\"Pikoro\"}\n",
    "namekus = {\"Pikoro\",\"Dendé\"}"
   ]
  },
  {
   "cell_type": "code",
   "execution_count": null,
   "metadata": {},
   "outputs": [],
   "source": [
    "saijajines.issuperset(poderosos)"
   ]
  },
  {
   "cell_type": "code",
   "execution_count": null,
   "metadata": {},
   "outputs": [],
   "source": [
    "poderosos.issuperset(futuro)"
   ]
  },
  {
   "cell_type": "markdown",
   "metadata": {},
   "source": [
    "### Métodos de operaciones con conjuntos.\n",
    "\n",
    "#### _union()_.\n",
    "Regresa el resultado de la unión del objeto tipo _set_ al que pertenece el método y el objeto tipo _set_ que se ingresa como argumento.\n",
    "\n",
    "![imagenes/union.png](union.png)\n",
    "\n",
    "**Ejemplo:**"
   ]
  },
  {
   "cell_type": "code",
   "execution_count": null,
   "metadata": {},
   "outputs": [],
   "source": [
    "saijajines = {\"Gokú\",\"Vegueta\",\"Trunks\",\"Gohan\"}\n",
    "futuro = {\"Trunks\",\"Cell\"}\n",
    "humanos = {\"Krillin\", \"Yamcha\"}\n",
    "poderosos = {\"Gokú\",\"Vegueta\",\"Gohan\",\"Cell\",\"Majin Boo\",\"Trunks\",\"Pikoro\"}\n",
    "namekus = {\"Pikoro\",\"Dendé\"}"
   ]
  },
  {
   "cell_type": "code",
   "execution_count": null,
   "metadata": {},
   "outputs": [],
   "source": [
    "saijajines.union(futuro)"
   ]
  },
  {
   "cell_type": "code",
   "execution_count": null,
   "metadata": {},
   "outputs": [],
   "source": [
    "saijajines.union(humanos)"
   ]
  },
  {
   "cell_type": "code",
   "execution_count": null,
   "metadata": {},
   "outputs": [],
   "source": [
    "saijajines.union(humanos).issubset(poderosos)"
   ]
  },
  {
   "cell_type": "markdown",
   "metadata": {},
   "source": [
    "#### _update()_.\n",
    "Sustituye al objeto tipo _set_ con el resultado de la unión de dicho objeto con el objeto tipo _set_ que se ingresa como argumento.\n",
    "\n",
    "**Ejemplos:**"
   ]
  },
  {
   "cell_type": "code",
   "execution_count": null,
   "metadata": {},
   "outputs": [],
   "source": [
    "saijajines = {\"Gokú\",\"Vegueta\",\"Trunks\",\"Gohan\"}\n",
    "futuro = {\"Trunks\",\"Cell\"}\n",
    "humanos = {\"Krillin\", \"Yamcha\"}\n",
    "poderosos = {\"Gokú\",\"Vegueta\",\"Gohan\",\"Cell\",\"Majin Boo\",\"Trunks\",\"Pikoro\"}\n",
    "namekus = {\"Pikoro\",\"Dendé\"}"
   ]
  },
  {
   "cell_type": "code",
   "execution_count": null,
   "metadata": {},
   "outputs": [],
   "source": [
    "saijajines.update(futuro)"
   ]
  },
  {
   "cell_type": "code",
   "execution_count": null,
   "metadata": {},
   "outputs": [],
   "source": [
    "saijajines"
   ]
  },
  {
   "cell_type": "markdown",
   "metadata": {},
   "source": [
    "#### _difference()_.\n",
    "Regresa el resultado de la diferencia entre el objeto tipo _set_ al que pertenece el método y el objeto tipo _set_ que se ingresa como argumento.\n",
    "\n",
    "![imagenes/difference.png](difference.png)\n",
    "\n",
    "**Ejemplos:**\n"
   ]
  },
  {
   "cell_type": "code",
   "execution_count": null,
   "metadata": {},
   "outputs": [],
   "source": [
    "saijajines = {\"Gokú\",\"Vegueta\",\"Trunks\",\"Gohan\"}\n",
    "futuro = {\"Trunks\",\"Cell\"}\n",
    "humanos = {\"Krillin\", \"Yamcha\"}\n",
    "poderosos = {\"Gokú\",\"Vegueta\",\"Gohan\",\"Cell\",\"Majin Boo\",\"Trunks\",\"Pikoro\"}\n",
    "namekus = {\"Pikoro\",\"Dendé\"}"
   ]
  },
  {
   "cell_type": "code",
   "execution_count": null,
   "metadata": {},
   "outputs": [],
   "source": [
    "saijajines.difference(futuro)"
   ]
  },
  {
   "cell_type": "code",
   "execution_count": null,
   "metadata": {},
   "outputs": [],
   "source": [
    "saijajines.difference(humanos)"
   ]
  },
  {
   "cell_type": "code",
   "execution_count": null,
   "metadata": {},
   "outputs": [],
   "source": [
    "futuro.difference(humanos)"
   ]
  },
  {
   "cell_type": "code",
   "execution_count": null,
   "metadata": {},
   "outputs": [],
   "source": [
    "namekus.difference(poderosos)"
   ]
  },
  {
   "cell_type": "markdown",
   "metadata": {},
   "source": [
    "#### *difference\\_update()*.\n",
    "\n",
    "Sustituye al objeto tipo _set_ al que pertenece el método con la diferencia entre dicho objeto y el objeto tipo _set_ que se ingresa como argumento.\n",
    "\n",
    "**Ejemplos:**"
   ]
  },
  {
   "cell_type": "code",
   "execution_count": null,
   "metadata": {},
   "outputs": [],
   "source": [
    "saijajines = {\"Gokú\",\"Vegueta\",\"Trunks\",\"Gohan\"}\n",
    "futuro = {\"Trunks\",\"Cell\"}\n",
    "humanos = {\"Krillin\", \"Yamcha\"}\n",
    "poderosos = {\"Gokú\",\"Vegueta\",\"Gohan\",\"Cell\",\"Majin Boo\",\"Trunks\",\"Pikoro\"}\n",
    "namekus = {\"Pikoro\",\"Dendé\"}"
   ]
  },
  {
   "cell_type": "code",
   "execution_count": null,
   "metadata": {},
   "outputs": [],
   "source": [
    "saijajines.difference_update(futuro)"
   ]
  },
  {
   "cell_type": "code",
   "execution_count": null,
   "metadata": {},
   "outputs": [],
   "source": [
    "saijajines"
   ]
  },
  {
   "cell_type": "markdown",
   "metadata": {},
   "source": [
    "#### *intersection()*.\n",
    "Regresa el resultado de la intersección entre el objeto tipo _set_ al que pertenece el método y el objeto tipo _set_ que se ingresa como argumento.\n",
    "\n",
    "![imagenes/intersection.png](intersection.png)\n",
    "\n",
    "\n",
    "**Ejemplos:**"
   ]
  },
  {
   "cell_type": "code",
   "execution_count": null,
   "metadata": {},
   "outputs": [],
   "source": [
    "saijajines = {\"Gokú\",\"Vegueta\",\"Trunks\",\"Gohan\"}\n",
    "futuro = {\"Trunks\",\"Cell\"}\n",
    "humanos = {\"Krillin\", \"Yamcha\"}\n",
    "poderosos = {\"Gokú\",\"Vegueta\",\"Gohan\",\"Cell\",\"Majin Boo\",\"Trunks\",\"Pikoro\"}\n",
    "namekus = {\"Pikoro\",\"Dendé\"}"
   ]
  },
  {
   "cell_type": "code",
   "execution_count": null,
   "metadata": {},
   "outputs": [],
   "source": [
    "saijajines.intersection(futuro)"
   ]
  },
  {
   "cell_type": "code",
   "execution_count": null,
   "metadata": {},
   "outputs": [],
   "source": [
    "futuro.intersection(saijajines)"
   ]
  },
  {
   "cell_type": "code",
   "execution_count": null,
   "metadata": {},
   "outputs": [],
   "source": [
    "futuro.intersection(humanos)"
   ]
  },
  {
   "cell_type": "markdown",
   "metadata": {},
   "source": [
    "#### *intersection_update()*.\n",
    "Sustituye al objeto tipo _set_ al que pertenece el método con la intersección entre dicho objeto y el objeto tipo _set_ que se ingresa como argumento.\n",
    "**Ejemplos:**"
   ]
  },
  {
   "cell_type": "code",
   "execution_count": null,
   "metadata": {},
   "outputs": [],
   "source": [
    "saijajines = {\"Gokú\",\"Vegueta\",\"Trunks\",\"Gohan\"}\n",
    "futuro = {\"Trunks\",\"Cell\"}\n",
    "humanos = {\"Krillin\", \"Yamcha\"}\n",
    "poderosos = {\"Gokú\",\"Vegueta\",\"Gohan\",\"Cell\",\"Majin Boo\",\"Trunks\",\"Pikoro\"}\n",
    "namekus = {\"Pikoro\",\"Dendé\"}"
   ]
  },
  {
   "cell_type": "code",
   "execution_count": null,
   "metadata": {},
   "outputs": [],
   "source": [
    "poderosos.intersection_update(namekus)\n",
    "poderosos"
   ]
  },
  {
   "cell_type": "markdown",
   "metadata": {},
   "source": [
    "#### *symmetric\\_difference()*.\n",
    "Regresa el resultado de la diferencia simétrica entre el objeto tipo _set_ al que pertenece el método y el objeto tipo _set_ que se ingresa como argumento.\n",
    "\n",
    "![imagenes/symmetric_difference.png](symmetric_difference.png)\n",
    "\n",
    "**Ejemplos:**\n"
   ]
  },
  {
   "cell_type": "code",
   "execution_count": null,
   "metadata": {},
   "outputs": [],
   "source": [
    "saijajines = {\"Gokú\",\"Vegueta\",\"Trunks\",\"Gohan\"}\n",
    "futuro = {\"Trunks\",\"Cell\"}\n",
    "humanos = {\"Krillin\", \"Yamcha\"}\n",
    "poderosos = {\"Gokú\",\"Vegueta\",\"Gohan\",\"Cell\",\"Majin Boo\",\"Trunks\",\"Pikoro\"}\n",
    "namekus = {\"Pikoro\",\"Dendé\"}"
   ]
  },
  {
   "cell_type": "code",
   "execution_count": null,
   "metadata": {},
   "outputs": [],
   "source": [
    "saijajines.symmetric_difference(futuro)"
   ]
  },
  {
   "cell_type": "code",
   "execution_count": null,
   "metadata": {},
   "outputs": [],
   "source": [
    "futuro.symmetric_difference(humanos)"
   ]
  },
  {
   "cell_type": "markdown",
   "metadata": {},
   "source": [
    "#### *symmetric\\_difference\\_update()*.\n",
    "Sustituye al objeto tipo _set_ al que pertenece el método con la diferencia simétrica entre dicho objeto y el objeto tipo _set_ que se ingresa como argumento.\n",
    "\n",
    "**Ejemplos:**"
   ]
  },
  {
   "cell_type": "code",
   "execution_count": null,
   "metadata": {},
   "outputs": [],
   "source": [
    "saijajines = {\"Gokú\",\"Vegueta\",\"Trunks\",\"Gohan\"}\n",
    "futuro = {\"Trunks\",\"Cell\"}\n",
    "humanos = {\"Krillin\", \"Yamcha\"}\n",
    "poderosos = {\"Gokú\",\"Vegueta\",\"Gohan\",\"Cell\",\"Majin Boo\",\"Trunks\",\"Pikoro\"}\n",
    "namekus = {\"Pikoro\",\"Dendé\"}"
   ]
  },
  {
   "cell_type": "code",
   "execution_count": null,
   "metadata": {},
   "outputs": [],
   "source": [
    "saijajines.symmetric_difference_update(futuro)"
   ]
  },
  {
   "cell_type": "code",
   "execution_count": null,
   "metadata": {},
   "outputs": [],
   "source": [
    "saijajines"
   ]
  },
  {
   "cell_type": "markdown",
   "metadata": {},
   "source": [
    "**Nota cultural.**\n",
    "\n",
    "Sea $X$ un conjunto y $P(X)$ todos sus subconjuntos. Por ejemplo, si $X=\\{1,2,3\\}$, entonces $$P(X)=\\{\\emptyset,\\{1\\},\\{2\\},\\{3\\},\\{1,2\\},\\{1,3\\},\\{2,3\\},\\{1,2,3\\}\\}$$\n",
    "\n",
    "Entonces las operaciones $\\cap$ (intersección) y $\\Delta$ (diferencia simétrica) forman un *anillo en $P(X)$*, donde $\\cap$ es la multiplicación y $\\Delta$ es la suma."
   ]
  },
  {
   "cell_type": "markdown",
   "metadata": {},
   "source": [
    "## Objetos tipo _frozenset_.\n",
    "\n",
    "Los objetos de tipo frozenset representan conjuntos inmutables.\n",
    "\n",
    "### Definición de un objeto tipo _frozenset_.\n",
    "\n",
    "Los objetos tipo _frozenset_ se definen mediante la función _frozenset()_ a la cual se le ingresa un objeto iterable.\n",
    "\n",
    "``` \n",
    "frozenset(<objeto iterable>)\n",
    "```\n",
    "**Ejemplo:**\n"
   ]
  },
  {
   "cell_type": "code",
   "execution_count": null,
   "metadata": {},
   "outputs": [],
   "source": [
    "frozenset([1, 'dos', 3.0, '4'])"
   ]
  },
  {
   "cell_type": "code",
   "execution_count": null,
   "metadata": {},
   "outputs": [],
   "source": [
    "frozenset({2, 2., 1 + 1, \"dos\"})"
   ]
  },
  {
   "cell_type": "code",
   "execution_count": null,
   "metadata": {},
   "outputs": [],
   "source": [
    "frozenset({'id_1': 3, 'id_2': 4, 'id_3': 5, 'id_4': 6})"
   ]
  },
  {
   "cell_type": "markdown",
   "metadata": {},
   "source": [
    "### Métodos de ```frozenset```.\n",
    "\n",
    "Debido a que los objetos ```frozenset``` son inmutables, estos no cuentan con métodos que modifiquen al conjunto.\n",
    "\n",
    "* ```copy()```\n",
    "* ```issubset()```\n",
    "* ```issuperset()```\n",
    "* ```union()```\n",
    "* ```difference()```\n",
    "* ```intersection()```\n",
    "* ```symmetric_difference()```"
   ]
  },
  {
   "cell_type": "code",
   "execution_count": null,
   "metadata": {},
   "outputs": [],
   "source": [
    "variable = {1,2,3}"
   ]
  },
  {
   "cell_type": "code",
   "execution_count": null,
   "metadata": {},
   "outputs": [],
   "source": [
    "variable_frozen = frozenset(variable)"
   ]
  },
  {
   "cell_type": "code",
   "execution_count": null,
   "metadata": {},
   "outputs": [],
   "source": [
    "type(variable)"
   ]
  },
  {
   "cell_type": "code",
   "execution_count": null,
   "metadata": {},
   "outputs": [],
   "source": [
    "type(variable_frozen)"
   ]
  },
  {
   "cell_type": "code",
   "execution_count": null,
   "metadata": {},
   "outputs": [],
   "source": [
    "nvo_conjunto = set(variable_frozen)"
   ]
  },
  {
   "cell_type": "code",
   "execution_count": null,
   "metadata": {},
   "outputs": [],
   "source": [
    "type(nvo_conjunto)"
   ]
  }
 ],
 "metadata": {
  "kernelspec": {
   "display_name": "Python 3",
   "language": "python",
   "name": "python3"
  },
  "language_info": {
   "codemirror_mode": {
    "name": "ipython",
    "version": 3
   },
   "file_extension": ".py",
   "mimetype": "text/x-python",
   "name": "python",
   "nbconvert_exporter": "python",
   "pygments_lexer": "ipython3",
   "version": "3.7.7"
  }
 },
 "nbformat": 4,
 "nbformat_minor": 1
}
