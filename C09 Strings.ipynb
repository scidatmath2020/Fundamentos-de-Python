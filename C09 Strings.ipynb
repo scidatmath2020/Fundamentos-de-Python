{
 "cells": [
  {
   "cell_type": "markdown",
   "metadata": {},
   "source": [
    "![imagenes](logo.png)"
   ]
  },
  {
   "cell_type": "markdown",
   "metadata": {},
   "source": [
    "# Strings.\n",
    "\n"
   ]
  },
  {
   "cell_type": "markdown",
   "metadata": {},
   "source": [
    "## El tipo tipo ```str```.\n",
    "\n",
    "Este tipo de datos es una colección ordenada, indexable numericamente e inmutable de caracteres.\n",
    "\n",
    "Para definir un objeto de tipo ```str``` es necesario delimitarlo ya sea con comillas ```\"``` o con ``` apóstrofes```.\n",
    "\n",
    "Es posible incluir caracteres de escape antecedidos por la diagonal invertida ```\\``` tales como los que se muestran en la siguiente tabla.\n",
    "\n",
    "|Secuencia|Despliegue|\n",
    "|:-------:|:--------:|\n",
    "|```\\n```    |Retorno de línea|\n",
    "|```\\t```    |Tabulador |\n",
    "|```\\\"```    |Comillas  |\n",
    "|```\\'```    |Apóstrofe |\n",
    "|```\\\\```   |Diagonal invertida|\n",
    "|```\\xNN```  |Caracter que corresponde al número hexadecimal *NN* en ASCII|\n",
    "|```\\uNN```  |Caracter que corresponde al número hexadecimal *NN* en Unicode|\n",
    "\n",
    "Estos caracteres de escape serán interpeteados por funciones de despliegue tales como ```print()```. "
   ]
  },
  {
   "cell_type": "markdown",
   "metadata": {},
   "source": [
    "**Ejemplos:**"
   ]
  },
  {
   "cell_type": "markdown",
   "metadata": {},
   "source": [
    "* Las siguientes celdas definen objetos ```str```. "
   ]
  },
  {
   "cell_type": "code",
   "execution_count": null,
   "metadata": {},
   "outputs": [],
   "source": [
    "'Hola, mundo.'"
   ]
  },
  {
   "cell_type": "code",
   "execution_count": null,
   "metadata": {},
   "outputs": [],
   "source": [
    "\"上午好\""
   ]
  },
  {
   "cell_type": "code",
   "execution_count": null,
   "metadata": {},
   "outputs": [],
   "source": [
    "\"Vamos a MacDonald's\""
   ]
  },
  {
   "cell_type": "code",
   "execution_count": null,
   "metadata": {},
   "outputs": [],
   "source": [
    "\"\""
   ]
  },
  {
   "cell_type": "markdown",
   "metadata": {},
   "source": [
    "* El siguiente objeto ```str``` incluye caracteres de escape, los cuales serán interprertados mediante la función ```print()```."
   ]
  },
  {
   "cell_type": "code",
   "execution_count": null,
   "metadata": {},
   "outputs": [],
   "source": [
    "'Esta es la primera línea.\\nEsta es la segunda línea \\tcon tabulador.'"
   ]
  },
  {
   "cell_type": "code",
   "execution_count": null,
   "metadata": {},
   "outputs": [],
   "source": [
    "print('Esta es la primera línea.\\n Esta es la segunda línea \\t con tabulador.')"
   ]
  },
  {
   "cell_type": "markdown",
   "metadata": {},
   "source": [
    "### Indexado de los objetos ```str```.\n",
    "\n",
    "Los objetos de tipo ```str``` pueden ser indexados numéricamente."
   ]
  },
  {
   "cell_type": "markdown",
   "metadata": {},
   "source": [
    "**Ejemplos:**"
   ]
  },
  {
   "cell_type": "markdown",
   "metadata": {},
   "source": [
    "* A continuación se mostrarán algunos ejemplos de indexado de objetos ```str```."
   ]
  },
  {
   "cell_type": "code",
   "execution_count": null,
   "metadata": {},
   "outputs": [],
   "source": [
    "'Hola, mundo'[1]"
   ]
  },
  {
   "cell_type": "code",
   "execution_count": null,
   "metadata": {},
   "outputs": [],
   "source": [
    "'Hola, mundo'[-5:-2]"
   ]
  },
  {
   "cell_type": "code",
   "execution_count": null,
   "metadata": {},
   "outputs": [],
   "source": [
    "'Hola, mundo'[3:10:2]"
   ]
  },
  {
   "cell_type": "code",
   "execution_count": null,
   "metadata": {},
   "outputs": [],
   "source": [
    "'Hola, mundo'[::-1]"
   ]
  },
  {
   "cell_type": "markdown",
   "metadata": {},
   "source": [
    "### Inmutabilidad de los objetos de tipo ```str```.\n",
    "\n",
    "Los caracteres contenidos en un objeto de tipo ```str``` no pueden ser modificados usando el operador ```=``` ni eliminados con ```del```."
   ]
  },
  {
   "cell_type": "markdown",
   "metadata": {},
   "source": [
    "**Ejemplo:**"
   ]
  },
  {
   "cell_type": "markdown",
   "metadata": {},
   "source": [
    "* A continuación se intentarán modificar y eliminar elementos del objeto ```str``` con nombre ```saludo```, lo cual desencadenará errores de tipo ```TypeError```."
   ]
  },
  {
   "cell_type": "code",
   "execution_count": null,
   "metadata": {},
   "outputs": [],
   "source": [
    "saludo = \"Hola, amigos.\""
   ]
  },
  {
   "cell_type": "code",
   "execution_count": null,
   "metadata": {},
   "outputs": [],
   "source": [
    "saludo[1]"
   ]
  },
  {
   "cell_type": "code",
   "execution_count": null,
   "metadata": {},
   "outputs": [],
   "source": [
    "saludo[4:]"
   ]
  },
  {
   "cell_type": "code",
   "execution_count": null,
   "metadata": {},
   "outputs": [],
   "source": [
    "saludo[4] = 'a'                         "
   ]
  },
  {
   "cell_type": "code",
   "execution_count": null,
   "metadata": {
    "scrolled": true
   },
   "outputs": [],
   "source": [
    "del saludo[1]"
   ]
  },
  {
   "cell_type": "markdown",
   "metadata": {},
   "source": [
    "## Métodos de los objetos tipo ```str```.\n",
    "\n",
    "El tipo ```str``` cuenta con diversos métodos que permiten realizar muy variadas opertaciones con este tipo de objetos."
   ]
  },
  {
   "cell_type": "markdown",
   "metadata": {},
   "source": [
    "### El método  ```lower()```. \n",
    "\n",
    "Convierte la cadena de caracteres en minúsculas.\n",
    "\n",
    "```\n",
    "<objeto str>.lower()\n",
    "``` "
   ]
  },
  {
   "cell_type": "markdown",
   "metadata": {},
   "source": [
    "**Ejemplo:**"
   ]
  },
  {
   "cell_type": "code",
   "execution_count": null,
   "metadata": {},
   "outputs": [],
   "source": [
    "'Hola, amigos.'.lower()"
   ]
  },
  {
   "cell_type": "markdown",
   "metadata": {},
   "source": [
    "### El método ```upper()```. \n",
    "\n",
    "Convierte la cadena de caracteres en mayúsculas.\n",
    "\n",
    "```\n",
    "<objeto str>.upper()\n",
    "``` "
   ]
  },
  {
   "cell_type": "markdown",
   "metadata": {},
   "source": [
    "**Ejemplo:**"
   ]
  },
  {
   "cell_type": "code",
   "execution_count": null,
   "metadata": {},
   "outputs": [],
   "source": [
    "'Hola, amigos.'.upper()"
   ]
  },
  {
   "cell_type": "markdown",
   "metadata": {},
   "source": [
    "### El método ```capitalize()```.\n",
    "\n",
    "Convierte al primer caracter del texto en mayúscula y el resto en minúsculas.\n",
    "\n",
    "```\n",
    "<objeto str>.capitalize()\n",
    "``` "
   ]
  },
  {
   "cell_type": "markdown",
   "metadata": {},
   "source": [
    "**Ejemplo:**"
   ]
  },
  {
   "cell_type": "code",
   "execution_count": null,
   "metadata": {},
   "outputs": [],
   "source": [
    "'hola, amigos.'.capitalize()"
   ]
  },
  {
   "cell_type": "markdown",
   "metadata": {},
   "source": [
    "### El método ```title()```. \n",
    "\n",
    "Convierte al primer caracter de cada palabra en mayúsculas y los otros en minúsculas. \n",
    "\n",
    "```\n",
    "<objeto str>.title()\n",
    "``` "
   ]
  },
  {
   "cell_type": "markdown",
   "metadata": {},
   "source": [
    "**Ejemplo:**"
   ]
  },
  {
   "cell_type": "code",
   "execution_count": null,
   "metadata": {},
   "outputs": [],
   "source": [
    "'hola, amigos.'.title()"
   ]
  },
  {
   "cell_type": "markdown",
   "metadata": {},
   "source": [
    "### El método ```swapcase()```.\n",
    "Transforma los caracteres que están en minúsculas a mayúsculas y los que están en mayúsculas a minúsculas.\n",
    "\n",
    "```\n",
    "<objeto str>.swapcase()\n",
    "``` "
   ]
  },
  {
   "cell_type": "markdown",
   "metadata": {},
   "source": [
    "**Ejemplo:**"
   ]
  },
  {
   "cell_type": "code",
   "execution_count": null,
   "metadata": {},
   "outputs": [],
   "source": [
    "'Hola, amigos.'.swapcase()"
   ]
  },
  {
   "cell_type": "markdown",
   "metadata": {},
   "source": [
    "### El método ```casefold()```.\n",
    "\n",
    "Transforma el texto en un formato de minúsculas que permita compararlo con otro texto.\n",
    "\n",
    "```\n",
    "<objeto str>.casefold()\n",
    "``` "
   ]
  },
  {
   "cell_type": "markdown",
   "metadata": {},
   "source": [
    "**Ejemplo:**"
   ]
  },
  {
   "cell_type": "code",
   "execution_count": null,
   "metadata": {},
   "outputs": [],
   "source": [
    "'HoLA, amiGoS.'.casefold()"
   ]
  },
  {
   "cell_type": "code",
   "execution_count": null,
   "metadata": {},
   "outputs": [],
   "source": [
    "# el río\n",
    "string1 = \"Der Fluß\" \n",
    "string2 = \"der Fluss\""
   ]
  },
  {
   "cell_type": "code",
   "execution_count": null,
   "metadata": {},
   "outputs": [],
   "source": [
    "string1.lower() "
   ]
  },
  {
   "cell_type": "code",
   "execution_count": null,
   "metadata": {},
   "outputs": [],
   "source": [
    "string1.lower() == string2.lower() "
   ]
  },
  {
   "cell_type": "code",
   "execution_count": null,
   "metadata": {},
   "outputs": [],
   "source": [
    "string1.casefold() == string2.casefold()"
   ]
  },
  {
   "cell_type": "markdown",
   "metadata": {},
   "source": [
    "### El método ```center()```.\n",
    "\n",
    "Regresa un objeto ```str``` de un tamaño específico en el que el texto original se encuentra centrado.\n",
    "\n",
    "```\n",
    "<objeto str>.center(<n>, <caracter>)\n",
    "```\n",
    "\n",
    "Donde:\n",
    "\n",
    "* ```<n>``` es el tamaño del nuevo objeto ```str```.\n",
    "* ```<caracter>``` es un objeto ```str``` que define el caracter que se utilzará para llenar los espacios que delimitan al texto centrado. El caracter por defecto es un espacio en blanco."
   ]
  },
  {
   "cell_type": "markdown",
   "metadata": {},
   "source": [
    "**Ejemplos:**"
   ]
  },
  {
   "cell_type": "code",
   "execution_count": null,
   "metadata": {},
   "outputs": [],
   "source": [
    "'Hola, amigos.'.center(30)"
   ]
  },
  {
   "cell_type": "code",
   "execution_count": null,
   "metadata": {},
   "outputs": [],
   "source": [
    "'Hola, amigos.'.center(30, 'x')"
   ]
  },
  {
   "cell_type": "markdown",
   "metadata": {},
   "source": [
    "### El método ```ljust()```.\n",
    "\n",
    "Regresa un objeto ```str``` de un tamaño específico en el que el texto original se encuentra ajustado a la izquierda.\n",
    "\n",
    "```\n",
    "<objeto str>.ljust(<n>, <caracter>)\n",
    "```\n",
    "\n",
    "Donde:\n",
    "\n",
    "* ```<n>``` es el tamaño del nuevo objeto ```str```.\n",
    "* ```<caracter>``` es un objeto ```str``` que define el caracter que se utilzará para llenar los espacios a la derecha del texto ajustado. El caracter por defecto es un espacio en blanco."
   ]
  },
  {
   "cell_type": "markdown",
   "metadata": {},
   "source": [
    "**Ejemplos:**"
   ]
  },
  {
   "cell_type": "code",
   "execution_count": null,
   "metadata": {},
   "outputs": [],
   "source": [
    "'Hola, amigos.'.ljust(30)"
   ]
  },
  {
   "cell_type": "code",
   "execution_count": null,
   "metadata": {},
   "outputs": [],
   "source": [
    "'Hola, amigos.'.ljust(30, 'x')"
   ]
  },
  {
   "cell_type": "markdown",
   "metadata": {},
   "source": [
    "### El método ```rjust()```.\n",
    "\n",
    "Regresa un objeto ```str``` de un tamaño específico en el que el texto original se encuentra ajustado a la derecha.\n",
    "\n",
    "```\n",
    "<objeto str>.rjust(<n>, <caracter>)\n",
    "``\n",
    "\n",
    "Donde:\n",
    "\n",
    "* ```<n>``` es el tamaño del nuevo objeto ```str```.\n",
    "* ```<caracter>``` es un objeto ```str``` que define el caracter que se utilzará para llenar los espacios a la izquierda del texto ajustado. El caracter por defecto es un espacio en blanco."
   ]
  },
  {
   "cell_type": "code",
   "execution_count": null,
   "metadata": {},
   "outputs": [],
   "source": [
    "'Hola, amigos.'.rjust(30)"
   ]
  },
  {
   "cell_type": "code",
   "execution_count": null,
   "metadata": {},
   "outputs": [],
   "source": [
    "'Hola, amigos.'.rjust(30, 'x')"
   ]
  },
  {
   "cell_type": "markdown",
   "metadata": {},
   "source": [
    "### El método ```strip()```.\n",
    "\n",
    "Regresa un objeto ```str``` que elimina los espacios (o el caracter que se especifique) que rodee a un texto.\n",
    "\n",
    "```\n",
    "<objeto str>.strip(<caracter>)\n",
    "```\n",
    "\n",
    "Donde:\n",
    "* ```<caracter>``` es un objeto ```str``` que define al caracter que será eliminado. El caracter por defecto es un espacio en blanco."
   ]
  },
  {
   "cell_type": "markdown",
   "metadata": {},
   "source": [
    "**Ejemplo:**"
   ]
  },
  {
   "cell_type": "code",
   "execution_count": null,
   "metadata": {},
   "outputs": [],
   "source": [
    "'                 Hola, amigos.        '.strip()"
   ]
  },
  {
   "cell_type": "code",
   "execution_count": null,
   "metadata": {},
   "outputs": [],
   "source": [
    "'xxxxxxxxxxxxxxxxxHola, amigos.xxxxxxxx'.strip('x')"
   ]
  },
  {
   "cell_type": "markdown",
   "metadata": {},
   "source": [
    "### El método ```lstrip()```.\n",
    "\n",
    "Regresa un objeto ```str``` que elimina los espacios (o el caracter que se especifique) que se encuentren a la izquerda de un texto.\n",
    "\n",
    "```\n",
    "<objeto str>.lstrip(<caracter>)\n",
    "```\n",
    "\n",
    "Donde:\n",
    "* ```<caracter>``` es un objeto ```str``` que define al caracter que será eliminado. El caracter por defecto es un espacio en blanco."
   ]
  },
  {
   "cell_type": "markdown",
   "metadata": {},
   "source": [
    "**Ejemplo:**"
   ]
  },
  {
   "cell_type": "code",
   "execution_count": null,
   "metadata": {},
   "outputs": [],
   "source": [
    "'                 Hola, amigos.        '.lstrip()"
   ]
  },
  {
   "cell_type": "code",
   "execution_count": null,
   "metadata": {},
   "outputs": [],
   "source": [
    "'xxxxxxxxxxxxxxxxxHola, amigos.xxxxxxxx'.lstrip('x')"
   ]
  },
  {
   "cell_type": "markdown",
   "metadata": {},
   "source": [
    "### El método ```rstrip()```.\n",
    "\n",
    "Regresa un objeto ```str``` que elimina los espacios (o el caracter que se especifique) que se encuentren a la derecha de un texto.\n",
    "\n",
    "```\n",
    "<objeto str>.rstrip(<caracter>)\n",
    "```\n",
    "\n",
    "Donde:\n",
    "* ```<caracter>``` es un objeto ```str``` que define al caracter que será eliminado. El caracter por defecto es un espacio en blanco."
   ]
  },
  {
   "cell_type": "markdown",
   "metadata": {},
   "source": [
    "**Ejemplos:**"
   ]
  },
  {
   "cell_type": "code",
   "execution_count": null,
   "metadata": {},
   "outputs": [],
   "source": [
    "'                 Hola, amigos.        '.rstrip()"
   ]
  },
  {
   "cell_type": "code",
   "execution_count": null,
   "metadata": {},
   "outputs": [],
   "source": [
    "'xxxxxxxxxxxxxxxxxHola, amigos.xxxxxxxx'.rstrip('x')"
   ]
  },
  {
   "cell_type": "markdown",
   "metadata": {},
   "source": [
    "###  El método ```expandtabs()```.\n",
    "\n",
    "Regresa un objeto ```str```  que sustituye el caracter de escape de tabulador ```'\\t'``` por espacios en blanco. \n",
    "\n",
    "Por defecto se sustituye cada tabulador con 4 espacios en blanco, pero se puede definir el numero si se ingresa como argumento.\n",
    "\n",
    "```\n",
    "<objeto str>.expantabs(<n>)\n",
    "```\n",
    "\n",
    "Donde:\n",
    "* ```<n>``` es el número de espacios en blanco que sustituirán al tabulador."
   ]
  },
  {
   "cell_type": "markdown",
   "metadata": {},
   "source": [
    "**Ejemplos:**"
   ]
  },
  {
   "cell_type": "code",
   "execution_count": null,
   "metadata": {},
   "outputs": [],
   "source": [
    "'Hola\\tamigos'"
   ]
  },
  {
   "cell_type": "code",
   "execution_count": null,
   "metadata": {},
   "outputs": [],
   "source": [
    "print('Hola\\tamigos')"
   ]
  },
  {
   "cell_type": "code",
   "execution_count": null,
   "metadata": {},
   "outputs": [],
   "source": [
    "'Hola\\tamigos'.expandtabs()"
   ]
  },
  {
   "cell_type": "code",
   "execution_count": null,
   "metadata": {},
   "outputs": [],
   "source": [
    "'Hola\\tamigos'.expandtabs(2)"
   ]
  },
  {
   "cell_type": "code",
   "execution_count": null,
   "metadata": {},
   "outputs": [],
   "source": [
    "'Hola\\tamigos'.expandtabs(15)"
   ]
  },
  {
   "cell_type": "markdown",
   "metadata": {},
   "source": [
    "### El método  ```zfill()```.\n",
    "\n",
    "Regresa un objeto ```str``` del tamaño indicado por el argumento y justifica el texto a la derecha, llenando el resto con ceros.\n",
    "\n",
    "```\n",
    "<objeto str>.zfill(<n>)\n",
    "```\n",
    "\n",
    "Donde:\n",
    "* ```<n>``` es el tamaño del objeto que regresará la función."
   ]
  },
  {
   "cell_type": "code",
   "execution_count": null,
   "metadata": {},
   "outputs": [],
   "source": [
    "'Hola'.zfill(6)"
   ]
  },
  {
   "cell_type": "code",
   "execution_count": null,
   "metadata": {},
   "outputs": [],
   "source": [
    "'504'.zfill(7)"
   ]
  },
  {
   "cell_type": "markdown",
   "metadata": {},
   "source": [
    "### Métodos de unión y separación."
   ]
  },
  {
   "cell_type": "markdown",
   "metadata": {},
   "source": [
    "#### El método ```join()```.\n",
    "\n",
    "Regresa un objeto de tipo ```str``` que contiene una secuencia de objetos de tipo ```str``` los cuales corresponden a los elemento de un objeto iterable que es ingresado como argumente, utilizando al objeto original ```str``` como separador entre cada elemento.\n",
    "\n",
    "```\n",
    "<objeto str>.join(<objeto iterable>)\n",
    "```\n",
    "\n",
    "Donde:\n",
    "\n",
    "* ```<objeto iterable>``` es un objeto iterable que contiene a varios objetos de tipo ```str```. "
   ]
  },
  {
   "cell_type": "markdown",
   "metadata": {},
   "source": [
    "**Ejemplos:**"
   ]
  },
  {
   "cell_type": "markdown",
   "metadata": {},
   "source": [
    "* La siguiente celda regresará al objeto ```'Hugo, Paco, Luis'```."
   ]
  },
  {
   "cell_type": "code",
   "execution_count": null,
   "metadata": {},
   "outputs": [],
   "source": [
    "\", \".join([\"Hugo\", \"Paco\", \"Luis\"])"
   ]
  },
  {
   "cell_type": "markdown",
   "metadata": {},
   "source": [
    "* La siguiente celda regresará al objeto ```'1 + 2 + 3 + 4'```."
   ]
  },
  {
   "cell_type": "code",
   "execution_count": null,
   "metadata": {},
   "outputs": [],
   "source": [
    "\" + \".join((\"1\", \"2\", \"3\", \"4\"))"
   ]
  },
  {
   "cell_type": "markdown",
   "metadata": {},
   "source": [
    "* La siguiente utilizará a la función ```eval()``` para realizar la suma del objeto ```'1 + 2 + 3 + 4'``` creado mediante la expresión ```\" + \".join((\"1\", \"2\", \"3\", \"4\"))```."
   ]
  },
  {
   "cell_type": "code",
   "execution_count": null,
   "metadata": {},
   "outputs": [],
   "source": [
    "eval(\" + \".join((\"1\", \"2\", \"3\", \"4\")))"
   ]
  },
  {
   "cell_type": "markdown",
   "metadata": {},
   "source": [
    "* La siguiente celda utiliza como argumento a un objeto de tipo ```dict```. En este caso el método ```join()``` extraerá solamente las claves del objeto y regresará el objeto ```'nombre, apellido'```."
   ]
  },
  {
   "cell_type": "code",
   "execution_count": null,
   "metadata": {},
   "outputs": [],
   "source": [
    "', '.join({'nombre':'Juan', 'apellido':'Pérez'})"
   ]
  },
  {
   "cell_type": "markdown",
   "metadata": {},
   "source": [
    "#### El método  ```partition()```.\n",
    "\n",
    "Este método busca dentro del objeto ```str``` el texto contenido en otro objeto ```str``` que se ingresa como argumento, realizando la búsqueda de izquerda a derecha. \n",
    "\n",
    "* En caso de que encuentre una coincidencia, regresará un objeto de tipo ```tuple``` el cual contiene:\n",
    "   * Un objeto ```str``` que contiene el texto a la derecha del texto encontrado.\n",
    "   * Un objeto ```str``` que contiene al texto encontrado.\n",
    "   * Un objeto ```str``` que contiene el texto a la izquerda del texto encontrado.\n",
    "\n",
    "* En caso de que no exista una coincidencia, regresará un objeto de tipo ```tuple```el cual contiene:\n",
    "   * Al objeto ```str``` original.\n",
    "   * Dos objetos ```str``` vacíos.\n",
    "   \n",
    "```\n",
    "<objeto str>.partition(<cadena>)\n",
    "```\n",
    "\n",
    "Donde:\n",
    "\n",
    "* ```<cadena>``` es un objeto ```str``` que contiene al texto que será buscado."
   ]
  },
  {
   "cell_type": "markdown",
   "metadata": {},
   "source": [
    "**Ejemplos:**"
   ]
  },
  {
   "cell_type": "code",
   "execution_count": null,
   "metadata": {},
   "outputs": [],
   "source": [
    "\"Hugo, Paco, Luis\".partition(\", \")"
   ]
  },
  {
   "cell_type": "code",
   "execution_count": null,
   "metadata": {},
   "outputs": [],
   "source": [
    "\"Hugo, Paco, Luis\".partition(\"+\")"
   ]
  },
  {
   "cell_type": "markdown",
   "metadata": {},
   "source": [
    "### El método  ```rpartition()```.\n",
    "\n",
    "Este método busca dentro del objeto ```str``` el texto contenido en otro objeto ```str``` que se ingresa como argumento, realizando la búsqueda de derecha a izquierda. \n",
    "\n",
    "* En caso de que encuentre una coincidencia, regresará un objeto de tipo ```tuple``` el cual contiene:\n",
    "   * Un objeto ```str``` que contiene el texto a la derecha del texto encontrado.\n",
    "   * Un objeto ```str``` que contiene al texto encontrado.\n",
    "   * Un objeto ```str``` que contiene el texto a la izquerda del texto encontrado.\n",
    "\n",
    "* En caso de que no exista una coincidencia, regresará un objeto de tipo ```tuple``` el cual contiene:\n",
    "   * Dos objetos ```str``` vacíos.\n",
    "   * El objeto ```str``` original.\n",
    "   \n",
    "```\n",
    "<objeto str>.rpartition(<cadena>)\n",
    "```\n",
    "\n",
    "Donde:\n",
    "\n",
    "* ```<cadena>``` es un objeto ```str``` que contiene al texto que será buscado."
   ]
  },
  {
   "cell_type": "markdown",
   "metadata": {},
   "source": [
    "**Ejemplos:**"
   ]
  },
  {
   "cell_type": "code",
   "execution_count": null,
   "metadata": {},
   "outputs": [],
   "source": [
    "\"Hugo, Paco, Luis\".rpartition(\", \")"
   ]
  },
  {
   "cell_type": "code",
   "execution_count": null,
   "metadata": {},
   "outputs": [],
   "source": [
    "\"Hugo, Paco, Luis\".rpartition(\"+\")"
   ]
  },
  {
   "cell_type": "markdown",
   "metadata": {},
   "source": [
    "### El método ```split().```\n",
    "\n",
    "Este método realiza una búsqueda de izquierda a derecha dentro del objeto ```str``` original de todas las coincidencias del texto contenido en otro objeto ```str``` que se ingresa como argumento. El metodo regresará un objeto de tipo ```list``` con todos los segmentos de texto que se encuentren separados por el texto buscado.\n",
    "\n",
    "\n",
    "```\n",
    "<objeto str>.split(<cadena>)\n",
    "```\n",
    "\n",
    "Donde:\n",
    "\n",
    "* ```<cadena>``` es un objeto ```str``` que contiene al texto que será buscado."
   ]
  },
  {
   "cell_type": "markdown",
   "metadata": {},
   "source": [
    "**Ejemplos:**"
   ]
  },
  {
   "cell_type": "code",
   "execution_count": null,
   "metadata": {},
   "outputs": [],
   "source": [
    "\"Hugo Paco, Luis\".split(\", \")"
   ]
  },
  {
   "cell_type": "code",
   "execution_count": null,
   "metadata": {},
   "outputs": [],
   "source": [
    "\"Hugo, Paco, Luis\".split(\"+\")"
   ]
  },
  {
   "cell_type": "markdown",
   "metadata": {},
   "source": [
    "### El método ```splitlines()```.\n",
    "\n",
    "Este método identifica los caracteres de escape de de línea ```\"\\n\"``` dentro del objeto ```str``` y regresa un objeto de tipo ```list``` conteniendo cada línea identificada.\n",
    "\n",
    "En caso de no encontrar caracteres de escape de retorno de línea, regresará un objeto de tipo ```list``` conteniendo al objeto ```str``` original.\n",
    "\n",
    "```\n",
    "<objeto str>.splitlines()\n",
    "```"
   ]
  },
  {
   "cell_type": "markdown",
   "metadata": {},
   "source": [
    "**Ejemplo:**"
   ]
  },
  {
   "cell_type": "markdown",
   "metadata": {},
   "source": [
    "* La siguiente celda se definirá al objeto ```str``` llamado ```nombres```, el cual continene 2 caracteres de escape de retorno de línea."
   ]
  },
  {
   "cell_type": "code",
   "execution_count": null,
   "metadata": {},
   "outputs": [],
   "source": [
    "nombres = \"Hugo.\\nPaco.\\nLuis.\""
   ]
  },
  {
   "cell_type": "code",
   "execution_count": null,
   "metadata": {},
   "outputs": [],
   "source": [
    "print(nombres)"
   ]
  },
  {
   "cell_type": "markdown",
   "metadata": {},
   "source": [
    "* La siguiente celda regresará a un objeto de tipo ```list``` con cada línea."
   ]
  },
  {
   "cell_type": "code",
   "execution_count": null,
   "metadata": {
    "scrolled": true
   },
   "outputs": [],
   "source": [
    "nombres.splitlines()"
   ]
  },
  {
   "cell_type": "markdown",
   "metadata": {},
   "source": [
    "### El método ```find()```.\n",
    "\n",
    "Este método realiza una búsqueda de izquierda a derecha dentro del objeto ```str``` de una cadena de caracteres que es ingresada como argumento y regresa el índice donde inicia la cadena encontrada. En caso de no encontrar coincidencia, el método regresará el valor ```-1```.\n",
    "\n",
    "```\n",
    "<objeto str>.find(<cadena>)\n",
    "```\n",
    "\n",
    "Donde:\n",
    "\n",
    "* ```<cadena>``` es un objeto ```str``` que contiene al texto que será buscado."
   ]
  },
  {
   "cell_type": "markdown",
   "metadata": {},
   "source": [
    "**Ejemplos:**"
   ]
  },
  {
   "cell_type": "code",
   "execution_count": null,
   "metadata": {},
   "outputs": [],
   "source": [
    "'Luis, Hugo, Paco, Luis'.find('Paco')"
   ]
  },
  {
   "cell_type": "code",
   "execution_count": null,
   "metadata": {},
   "outputs": [],
   "source": [
    "'Luis, Hugo, Paco, Luis'.find('Luis')"
   ]
  },
  {
   "cell_type": "code",
   "execution_count": null,
   "metadata": {},
   "outputs": [],
   "source": [
    "'Luis, Hugo, Paco, Luis'.find('Juan')"
   ]
  },
  {
   "cell_type": "markdown",
   "metadata": {},
   "source": [
    "### El método ```index()```.\n",
    "\n",
    "Este método realiza una búsqueda de izquierda a derecha dentro del objeto ```str``` de una cadena de caracteres que es ingresada como argumento y regresa el índice donde inicia la cadena encontrada. En caso de no encontrar coincidencia, se generará un error de tipo ```ValueError```.\n",
    "\n",
    "```\n",
    "<objeto str>.index(<cadena>)\n",
    "```\n",
    "\n",
    "Donde:\n",
    "\n",
    "* ```<cadena>``` es un objeto ```str``` que contiene al texto que será buscado."
   ]
  },
  {
   "cell_type": "markdown",
   "metadata": {},
   "source": [
    "**Ejemplos:**"
   ]
  },
  {
   "cell_type": "code",
   "execution_count": null,
   "metadata": {},
   "outputs": [],
   "source": [
    "'Luis, Hugo, Paco, Luis'.index('Paco')"
   ]
  },
  {
   "cell_type": "code",
   "execution_count": null,
   "metadata": {},
   "outputs": [],
   "source": [
    "'Luis, Hugo, Paco, Luis'.index('Luis')"
   ]
  },
  {
   "cell_type": "code",
   "execution_count": null,
   "metadata": {},
   "outputs": [],
   "source": [
    "'Luis, Hugo, Paco, Luis'.index('Juan')"
   ]
  },
  {
   "cell_type": "markdown",
   "metadata": {},
   "source": [
    "### El método ```replace()```.\n",
    "\n",
    "Este método realiza una búsqueda dentro del objeto ```str``` de una cadena de caracteres que es ingresada como primer argumento, regresando un nuevo objeto ```str``` en el cual la cadena de búsqueda es sustituida por la cadena que se ingresa como segundo argumento.\n",
    "\n",
    "En caso de no encontrar coincidencias, el método regresa al objeto ```str``` original.\n",
    "\n",
    "```\n",
    "<objeto str>.replace(<cadena de búsqueda>, <cadena de sustitución>)\n",
    "```\n",
    "\n",
    "Donde:\n",
    "\n",
    "* ```<cadena de búsqueda>``` es un objeto ```str``` que contiene al texto que será buscado.\n",
    "* ```<cadena de sustitucióm>``` es un objeto ```str``` que contiene al texto que será sustituido."
   ]
  },
  {
   "cell_type": "markdown",
   "metadata": {},
   "source": [
    "**Ejemplos:**"
   ]
  },
  {
   "cell_type": "code",
   "execution_count": null,
   "metadata": {},
   "outputs": [],
   "source": [
    "'Luis, Hugo, Paco, Luis'.replace('Luis', 'Juan Antonio')"
   ]
  },
  {
   "cell_type": "code",
   "execution_count": null,
   "metadata": {},
   "outputs": [],
   "source": [
    "'Luis, Hugo, Paco, Luis'.replace('Pedro', 'Juan')"
   ]
  },
  {
   "cell_type": "markdown",
   "metadata": {},
   "source": [
    "### El método  ```count()```.\n",
    "\n",
    "Este método cuenta el número de veces que aparece un patrón ingresado como argumento dentro del texto y regresa el número correspondiente.\n",
    "\n",
    "```\n",
    "<objeto str>.count(<cadena>)\n",
    "```\n",
    "\n",
    "Donde:\n",
    "\n",
    "* ```<cadena>``` es un objeto ```str``` que contiene al texto que será buscado."
   ]
  },
  {
   "cell_type": "markdown",
   "metadata": {},
   "source": [
    "**Ejemplos:**"
   ]
  },
  {
   "cell_type": "code",
   "execution_count": null,
   "metadata": {},
   "outputs": [],
   "source": [
    "\"Hola, amigos.\". count(\"a\")"
   ]
  },
  {
   "cell_type": "code",
   "execution_count": null,
   "metadata": {},
   "outputs": [],
   "source": [
    "\"Hola, amigos.\". count(\"la\")"
   ]
  },
  {
   "cell_type": "code",
   "execution_count": null,
   "metadata": {},
   "outputs": [],
   "source": [
    "\"Hola, amigos.\". count(\"z\")"
   ]
  },
  {
   "cell_type": "markdown",
   "metadata": {},
   "source": [
    "### El método ```startswith()```.\n",
    "\n",
    "Este método evalúa si el patrón ingresado como argumento corresponde al inicio del texto en el objeto de tipo ```str```. Regresa ```True``` si hay correspondencia y de lo contrario, regresa ```False```.\n",
    "\n",
    "```\n",
    "<objeto str>.startswith(<cadena>)\n",
    "```\n",
    "\n",
    "Donde:\n",
    "\n",
    "* ```<cadena>``` es un objeto ```str``` que contiene al texto que será buscado."
   ]
  },
  {
   "cell_type": "markdown",
   "metadata": {},
   "source": [
    "**Ejemplos:**"
   ]
  },
  {
   "cell_type": "code",
   "execution_count": null,
   "metadata": {},
   "outputs": [],
   "source": [
    "\"Hola, amigos.\".startswith(\"la\")"
   ]
  },
  {
   "cell_type": "code",
   "execution_count": null,
   "metadata": {},
   "outputs": [],
   "source": [
    "\"Hola, amigos.\". startswith(\"Ho\")"
   ]
  },
  {
   "cell_type": "markdown",
   "metadata": {},
   "source": [
    "### El método ```endswith()```.\n",
    "\n",
    "Este método evalúa si el patrón ingresado como argumento corresponde al final del texto en el objeto de tipo ```str```. Regresa ```True``` si hay correspondencia y de lo contrario, regresa ```False```.\n",
    "\n",
    "```\n",
    "<objeto str>.endswith(<cadena>)\n",
    "```\n",
    "\n",
    "Donde:\n",
    "\n",
    "* ```<cadena>``` es un objeto ```str``` que contiene al texto que será buscado."
   ]
  },
  {
   "cell_type": "markdown",
   "metadata": {},
   "source": [
    "**Ejemplos:**"
   ]
  },
  {
   "cell_type": "code",
   "execution_count": null,
   "metadata": {},
   "outputs": [],
   "source": [
    "\"Hola, amigos.\".endswith(\"Hola\")"
   ]
  },
  {
   "cell_type": "code",
   "execution_count": null,
   "metadata": {},
   "outputs": [],
   "source": [
    "\"Hola, amigos.\".endswith(\"gos.\")"
   ]
  },
  {
   "cell_type": "markdown",
   "metadata": {},
   "source": [
    "### El  método ```isalnum()```.\n",
    "\n",
    "Evalúa si el texto del objeto tipo ```str``` contiene exclusivamente caracteres alfanuméricos dentro de la tabla Unicode.\n",
    "\n",
    "```\n",
    "<objeto str>.isalnum()\n",
    "```"
   ]
  },
  {
   "cell_type": "markdown",
   "metadata": {},
   "source": [
    "**Ejemplos:**"
   ]
  },
  {
   "cell_type": "markdown",
   "metadata": {},
   "source": [
    "* El objeto ```\"@#%&\"``` no contiene caracteres alfanuméricos."
   ]
  },
  {
   "cell_type": "code",
   "execution_count": null,
   "metadata": {},
   "outputs": [],
   "source": [
    "\"@#%&\".isalnum()"
   ]
  },
  {
   "cell_type": "markdown",
   "metadata": {},
   "source": [
    "* El objeto ```'Hola 12'``` contiene un espacio, el cual no es un caracter alfanumérico."
   ]
  },
  {
   "cell_type": "code",
   "execution_count": null,
   "metadata": {},
   "outputs": [],
   "source": [
    "'Hola 12'.isalnum()"
   ]
  },
  {
   "cell_type": "markdown",
   "metadata": {},
   "source": [
    "* El objeto ```'Hola12'``` contiene exclusivamente caracteres alfanuméricos."
   ]
  },
  {
   "cell_type": "code",
   "execution_count": null,
   "metadata": {},
   "outputs": [],
   "source": [
    "\"Hola12\".isalnum()"
   ]
  },
  {
   "cell_type": "markdown",
   "metadata": {},
   "source": [
    "#### El  método ```isalpha()```.\n",
    "\n",
    "Evalúa si el texto del objeto tipo ```str``` contiene exclusivamente caracteres alfabéticos dentro de la tabla Unicode.\n",
    "\n",
    "```\n",
    "<objeto str>.isalpha()\n",
    "```"
   ]
  },
  {
   "cell_type": "markdown",
   "metadata": {},
   "source": [
    "**Ejemplos:**"
   ]
  },
  {
   "cell_type": "markdown",
   "metadata": {},
   "source": [
    "* El objeto ```\"@#%&\"``` no contiene caracteres alfabéticos."
   ]
  },
  {
   "cell_type": "code",
   "execution_count": null,
   "metadata": {},
   "outputs": [],
   "source": [
    "\"@#%&\".isalpha()"
   ]
  },
  {
   "cell_type": "markdown",
   "metadata": {},
   "source": [
    "* El objeto ```'Hola'```  contiene exclusivamente caracteres alfabéticos."
   ]
  },
  {
   "cell_type": "code",
   "execution_count": null,
   "metadata": {},
   "outputs": [],
   "source": [
    "'Hola'.isalpha()"
   ]
  },
  {
   "cell_type": "markdown",
   "metadata": {},
   "source": [
    "* El objeto ```'Hola'```  contiene al caracter ```.``` el cual no es alfabético."
   ]
  },
  {
   "cell_type": "code",
   "execution_count": null,
   "metadata": {},
   "outputs": [],
   "source": [
    "'Hola.'.isalpha()"
   ]
  },
  {
   "cell_type": "markdown",
   "metadata": {},
   "source": [
    "* El objeto ```'Ω'```  contiene al caracter ```Ω``` el cual es una letra del alfabeto griego."
   ]
  },
  {
   "cell_type": "code",
   "execution_count": null,
   "metadata": {},
   "outputs": [],
   "source": [
    "'Ω'.isalpha()"
   ]
  },
  {
   "cell_type": "markdown",
   "metadata": {},
   "source": [
    "### El  método ```isnumeric()```.\n",
    "\n",
    "Evalúa si el texto del objeto tipo ```str``` contiene exclusivamente caracteres con representaciones numéricas dentro de la tabla Unicode.\n",
    "\n",
    "```\n",
    "<objeto str>.isnumeric()\n",
    "```"
   ]
  },
  {
   "cell_type": "markdown",
   "metadata": {},
   "source": [
    "**Ejemplos:**"
   ]
  },
  {
   "cell_type": "markdown",
   "metadata": {},
   "source": [
    "* El objeto ```'0x1a'``` es la representación del número ```26``` en formato hexadecimal. Sin embargo, contiene caracteres que no son numéricos. "
   ]
  },
  {
   "cell_type": "code",
   "execution_count": null,
   "metadata": {},
   "outputs": [],
   "source": [
    "'0x1a'.isnumeric()"
   ]
  },
  {
   "cell_type": "code",
   "execution_count": null,
   "metadata": {},
   "outputs": [],
   "source": [
    "eval('0x1a')"
   ]
  },
  {
   "cell_type": "markdown",
   "metadata": {},
   "source": [
    "* El objeto ```'-22.1'``` es la representación del número ```-22.1```. Sin embargo, contiene caracteres que no son numéricos. "
   ]
  },
  {
   "cell_type": "code",
   "execution_count": null,
   "metadata": {},
   "outputs": [],
   "source": [
    "'-22.1'.isnumeric()"
   ]
  },
  {
   "cell_type": "code",
   "execution_count": null,
   "metadata": {},
   "outputs": [],
   "source": [
    "eval('-22.1')"
   ]
  },
  {
   "cell_type": "markdown",
   "metadata": {},
   "source": [
    "* El objeto ```'23'``` es la representación del número ```-23``` y contiene exclusivamente caracteres numéricos. "
   ]
  },
  {
   "cell_type": "code",
   "execution_count": null,
   "metadata": {},
   "outputs": [],
   "source": [
    "'23'.isnumeric()"
   ]
  },
  {
   "cell_type": "markdown",
   "metadata": {},
   "source": [
    "* Todos los caracteres del objeto ```'2²'``` son caracteres que representan números."
   ]
  },
  {
   "cell_type": "code",
   "execution_count": null,
   "metadata": {},
   "outputs": [],
   "source": [
    "'2²'.isnumeric()"
   ]
  },
  {
   "cell_type": "markdown",
   "metadata": {},
   "source": [
    "* El caracteres ```½``` del objeto ```'½'``` represanta a un número."
   ]
  },
  {
   "cell_type": "code",
   "execution_count": null,
   "metadata": {},
   "outputs": [],
   "source": [
    "'½'.isnumeric()"
   ]
  },
  {
   "cell_type": "markdown",
   "metadata": {},
   "source": [
    "#### El  método ```isdecimal()```.\n",
    "\n",
    "Evalúa si el texto del objeto tipo ```str``` contiene exclusivamente caracteres con representaciones numéricas decimales dentro de la tabla Unicode.\n",
    "\n",
    "```\n",
    "<objeto str>.isdecimal()\n",
    "```"
   ]
  },
  {
   "cell_type": "markdown",
   "metadata": {},
   "source": [
    "**Ejemplos:**"
   ]
  },
  {
   "cell_type": "markdown",
   "metadata": {},
   "source": [
    "* El objeto ```'0x1a'``` es la representación del número ```26``` en formato hexadecimal. Sin embargo, contiene caracteres que no son numéricos. "
   ]
  },
  {
   "cell_type": "code",
   "execution_count": null,
   "metadata": {
    "scrolled": true
   },
   "outputs": [],
   "source": [
    "'0x1a'.isdecimal()"
   ]
  },
  {
   "cell_type": "markdown",
   "metadata": {},
   "source": [
    "* El objeto ```'-22.1'``` es la representación del número ```-22.1```. Sin embargo, contiene caracteres que no son numéricos. "
   ]
  },
  {
   "cell_type": "code",
   "execution_count": null,
   "metadata": {},
   "outputs": [],
   "source": [
    "'-22.1'.isdecimal()"
   ]
  },
  {
   "cell_type": "markdown",
   "metadata": {},
   "source": [
    "* El objeto ```'23'``` es la representación del número ```23``` y todos sus caracteres son decimales."
   ]
  },
  {
   "cell_type": "code",
   "execution_count": null,
   "metadata": {},
   "outputs": [],
   "source": [
    "'23'.isdecimal()"
   ]
  },
  {
   "cell_type": "markdown",
   "metadata": {},
   "source": [
    "* El objeto ```'2²'``` contiene exclusivamente caracteres numéricos, sin embargo, el caracter ```'²'``` representa a una potencia, no a un decimal. "
   ]
  },
  {
   "cell_type": "code",
   "execution_count": null,
   "metadata": {},
   "outputs": [],
   "source": [
    "'2²'.isdecimal()"
   ]
  },
  {
   "cell_type": "markdown",
   "metadata": {},
   "source": [
    "* El caracter ```½``` del objeto ```'½'``` es un caracter numérico, pero representa a una fracción, no a un decimal. "
   ]
  },
  {
   "cell_type": "code",
   "execution_count": null,
   "metadata": {},
   "outputs": [],
   "source": [
    "'½'.isdecimal()"
   ]
  },
  {
   "cell_type": "markdown",
   "metadata": {},
   "source": [
    "#### El  método ```isdigit()```.\n",
    "\n",
    "Evalúa si el texto del objeto tipo ```str``` contiene exclusivamente caracteres con representaciones de dígitos dentro de la tabla Unicode.\n",
    "\n",
    "```\n",
    "<objeto str>.isdigit()\n",
    "```"
   ]
  },
  {
   "cell_type": "markdown",
   "metadata": {},
   "source": [
    "* El objeto ```'0x1a'``` es la representación del número ```26``` en formato hexadecimal. Sin embargo, contiene caracteres que no son numéricos. "
   ]
  },
  {
   "cell_type": "code",
   "execution_count": null,
   "metadata": {},
   "outputs": [],
   "source": [
    "'0x1a'.isdigit()"
   ]
  },
  {
   "cell_type": "markdown",
   "metadata": {},
   "source": [
    "* El objeto ```'-22.1'``` es la representación del número ```-22.1```. Sin embargo, contiene caracteres que no son numéricos. "
   ]
  },
  {
   "cell_type": "code",
   "execution_count": null,
   "metadata": {},
   "outputs": [],
   "source": [
    "'-22.1'.isdigit()"
   ]
  },
  {
   "cell_type": "markdown",
   "metadata": {},
   "source": [
    "* El objeto ```'23'``` es la representación del número ```23``` y todos sus caracteres son dígitos."
   ]
  },
  {
   "cell_type": "code",
   "execution_count": null,
   "metadata": {},
   "outputs": [],
   "source": [
    "'23'.isdigit()"
   ]
  },
  {
   "cell_type": "markdown",
   "metadata": {},
   "source": [
    "* El objeto ```'2²'``` contiene exclusivamente caracteres numéricos y aún cuando el caracter ```'²'``` representa a una potencia, la magnitud está definida por un dígito. "
   ]
  },
  {
   "cell_type": "code",
   "execution_count": null,
   "metadata": {},
   "outputs": [],
   "source": [
    "'2²'.isdigit()"
   ]
  },
  {
   "cell_type": "markdown",
   "metadata": {},
   "source": [
    "* El caracter ```½``` del objeto ```'½'``` es un caracter numérico, pero representa a una fracción, no a un dígito. "
   ]
  },
  {
   "cell_type": "code",
   "execution_count": null,
   "metadata": {},
   "outputs": [],
   "source": [
    "'½'.isdigit()"
   ]
  },
  {
   "cell_type": "markdown",
   "metadata": {},
   "source": [
    "#### El  método ```islower()```.\n",
    "\n",
    "Evalúa si el texto del objeto tipo ```str``` contiene exclusivamente caracteres en minúsculas.\n",
    "\n",
    "```\n",
    "<objeto str>.islower()\n",
    "```"
   ]
  },
  {
   "cell_type": "markdown",
   "metadata": {},
   "source": [
    "**Ejemplos:**"
   ]
  },
  {
   "cell_type": "code",
   "execution_count": null,
   "metadata": {},
   "outputs": [],
   "source": [
    "'¡hola, amigos!'.islower()"
   ]
  },
  {
   "cell_type": "code",
   "execution_count": null,
   "metadata": {},
   "outputs": [],
   "source": [
    "'¡Hola, amigos!'.islower()"
   ]
  },
  {
   "cell_type": "markdown",
   "metadata": {},
   "source": [
    "#### El  método ```isupper()```.\n",
    "\n",
    "Evalúa si el texto del objeto tipo ```str``` contiene exclusivamente caracteres en mayúsculas.\n",
    "\n",
    "```\n",
    "<objeto str>.isupper()\n",
    "```"
   ]
  },
  {
   "cell_type": "markdown",
   "metadata": {},
   "source": [
    "**Ejemplos:**"
   ]
  },
  {
   "cell_type": "code",
   "execution_count": null,
   "metadata": {},
   "outputs": [],
   "source": [
    "'¡HOLA, AMIGOS!'.isupper()"
   ]
  },
  {
   "cell_type": "code",
   "execution_count": null,
   "metadata": {},
   "outputs": [],
   "source": [
    "'¡Hola, amigos!'.isupper()"
   ]
  },
  {
   "cell_type": "markdown",
   "metadata": {},
   "source": [
    "#### El  método ```istitle()```.\n",
    "\n",
    "Evalúa si el texto del objeto tipo ```str``` contiene exclusivamente palabras cuyo primer caracter está en mayúsculas.\n",
    "\n",
    "```\n",
    "<objeto str>.istitle()\n",
    "```"
   ]
  },
  {
   "cell_type": "markdown",
   "metadata": {},
   "source": [
    "**Ejemplos:**"
   ]
  },
  {
   "cell_type": "code",
   "execution_count": null,
   "metadata": {},
   "outputs": [],
   "source": [
    "'¡HOLA, AMIGOS!'.istitle()"
   ]
  },
  {
   "cell_type": "code",
   "execution_count": null,
   "metadata": {},
   "outputs": [],
   "source": [
    "'¡Hola, amigos!'.istitle()"
   ]
  },
  {
   "cell_type": "code",
   "execution_count": null,
   "metadata": {},
   "outputs": [],
   "source": [
    "'¡Hola, Amigos!'.istitle()"
   ]
  },
  {
   "cell_type": "code",
   "execution_count": null,
   "metadata": {},
   "outputs": [],
   "source": [
    "'¡HOla, Amigos!'.istitle()"
   ]
  },
  {
   "cell_type": "markdown",
   "metadata": {},
   "source": [
    "#### El  método ```isprintable()```.\n",
    "\n",
    "Evalúa si el texto del objeto tipo ```str``` contiene exclusivamente caracteres que pueden ser impesos. De ser así, el resultado es ```True```. En caso de encontrar caracteres de escape o caracteres especiales, el resultado será ```False```.\n",
    "\n",
    "```\n",
    "<objeto str>.isprintable()\n",
    "```"
   ]
  },
  {
   "cell_type": "markdown",
   "metadata": {},
   "source": [
    "**Ejemplos:**"
   ]
  },
  {
   "cell_type": "markdown",
   "metadata": {},
   "source": [
    "* La siguiente celda definirá objeto ```líneas``` el cual contiene varios caracteres de escape ```'\\n'```."
   ]
  },
  {
   "cell_type": "code",
   "execution_count": null,
   "metadata": {},
   "outputs": [],
   "source": [
    "lineas = \"Hugo.\\nPaco.\\nLuis.\"\n",
    "print(nombres)"
   ]
  },
  {
   "cell_type": "code",
   "execution_count": null,
   "metadata": {},
   "outputs": [],
   "source": [
    "nombres.isprintable()"
   ]
  },
  {
   "cell_type": "markdown",
   "metadata": {},
   "source": [
    "* La siguiente celda definirá objeto ```nombres``` el cual contiene varios caracteres de escape ```'\\t'```."
   ]
  },
  {
   "cell_type": "code",
   "execution_count": null,
   "metadata": {},
   "outputs": [],
   "source": [
    "nombres = \"Hugo.\\tPaco.\\tLuis.\"\n",
    "print(nombres)"
   ]
  },
  {
   "cell_type": "code",
   "execution_count": null,
   "metadata": {},
   "outputs": [],
   "source": [
    "nombres.isprintable()"
   ]
  },
  {
   "cell_type": "markdown",
   "metadata": {},
   "source": [
    "* El objeto ```'Hugo, Paco, Luis.'``` no contiene caracteres no imprimibles."
   ]
  },
  {
   "cell_type": "code",
   "execution_count": null,
   "metadata": {},
   "outputs": [],
   "source": [
    "'Hugo, Paco, Luis.'.isprintable()"
   ]
  },
  {
   "cell_type": "markdown",
   "metadata": {},
   "source": [
    "### El método ```isspace()```.\n",
    "\n",
    "Evalúa si el objeto tipo ```str``` está compuesto exclusivamente de espacios.\n",
    "\n",
    "```\n",
    "<objeto str>.isspace()\n",
    "```"
   ]
  },
  {
   "cell_type": "markdown",
   "metadata": {},
   "source": [
    "**Ejemplos:**"
   ]
  },
  {
   "cell_type": "code",
   "execution_count": null,
   "metadata": {},
   "outputs": [],
   "source": [
    "''.isspace()"
   ]
  },
  {
   "cell_type": "code",
   "execution_count": null,
   "metadata": {},
   "outputs": [],
   "source": [
    "'     '.isspace()"
   ]
  },
  {
   "cell_type": "code",
   "execution_count": null,
   "metadata": {},
   "outputs": [],
   "source": [
    "'Hola, mundo.'.isspace()"
   ]
  },
  {
   "cell_type": "markdown",
   "metadata": {},
   "source": [
    "### El método ```isidentifier()```.\n",
    "\n",
    "Evalúa si el objeto tipo ```str``` cumple con las características para que Python pueda reconocerlo como un nombre al que se le puede ligar un objeto.\n",
    "\n",
    "```\n",
    "<objeto str>.isidentifier()\n",
    "```"
   ]
  },
  {
   "cell_type": "markdown",
   "metadata": {},
   "source": [
    "**Ejemplos:**"
   ]
  },
  {
   "cell_type": "markdown",
   "metadata": {},
   "source": [
    "* El objeto ```'Nombre'``` cumple con los criterios de Python para ser considerado un nombre válido."
   ]
  },
  {
   "cell_type": "code",
   "execution_count": null,
   "metadata": {},
   "outputs": [],
   "source": [
    "'Nombre'.isidentifier()"
   ]
  },
  {
   "cell_type": "markdown",
   "metadata": {},
   "source": []
  },
  {
   "cell_type": "code",
   "execution_count": null,
   "metadata": {},
   "outputs": [],
   "source": [
    "'!1nombre'.isidentifier()"
   ]
  },
  {
   "cell_type": "markdown",
   "metadata": {},
   "source": []
  },
  {
   "cell_type": "code",
   "execution_count": null,
   "metadata": {},
   "outputs": [],
   "source": [
    "'Hola, mundo.'.isidentifier()"
   ]
  },
  {
   "cell_type": "markdown",
   "metadata": {},
   "source": [
    "### Métodos de mapeo de caracteres.\n",
    "\n",
    "Es posible generar tablas de caracteres, los cuales puedan sustituir a unos por otros. Este tipo de sustitución se hace generalmente cuando se debe interactuar con aplicaciones que no aceptan caracteres especiales.\n"
   ]
  },
  {
   "cell_type": "markdown",
   "metadata": {},
   "source": [
    "#### El método ```str.maketrans()```.\n",
    "\n",
    "Este método permite crear una tabla de caracteres, la cual consiste en un diccionario que relaciona a un par de caracteres por su número correspondiente en la codificación.\n",
    "\n",
    "```\n",
    "str.maketrans(<mapa 1>, <mapa 2>)\n",
    "```\n",
    "\n",
    "El resultado es un objeto de tipo ```dict``` que donde la clave corresponde al código numérico de un caracter y el valor al código numérico de otro caracter.\n",
    "\n",
    "Donde:\n",
    "\n",
    "* ```<mapa 1>``` es un objeto ```str``` en el que cada caracter está ligado al caracter de ```<mapa 2>``` con el mismo índice.\n",
    "* ```<mapa 2>``` es un objeto ```str``` en el que cada caracter está ligado al caracter de ```<mapa 1>``` con el mismo índice.\n"
   ]
  },
  {
   "cell_type": "markdown",
   "metadata": {},
   "source": [
    "**Ejemplo:**"
   ]
  },
  {
   "cell_type": "code",
   "execution_count": null,
   "metadata": {},
   "outputs": [],
   "source": [
    "trans = str.maketrans(\"áäàéëèíïìóöòúüù\", \"aaaeeeiiiooouuu\")"
   ]
  },
  {
   "cell_type": "code",
   "execution_count": null,
   "metadata": {},
   "outputs": [],
   "source": [
    "trans"
   ]
  },
  {
   "cell_type": "markdown",
   "metadata": {},
   "source": [
    "#### El método ```translate()```.\n",
    "\n",
    "Este método sustituye a los caracteres del objeto ```str``` utilizando una tabla de caracteres generada por el método ```str.maketrans()```.\n",
    "\n",
    "Estre método regresa un objeto ```str```sustituyendo los caracteres conforme a la relación de la tabla de caracteres que se ingresa como argumento.\n",
    " \n",
    "```\n",
    "<objeto str>.translate(<tabla de caracteres>)\n",
    "```\n",
    "\n",
    "Donde:\n",
    "\n",
    "* ```<tabla de caracteres>``` es un objeto de tipo ```dict``` que donde la clave corresponde al código numérico de un caracter y el valor al código numérico de otro caracter."
   ]
  },
  {
   "cell_type": "markdown",
   "metadata": {},
   "source": [
    "**Ejemplos**"
   ]
  },
  {
   "cell_type": "code",
   "execution_count": null,
   "metadata": {},
   "outputs": [],
   "source": [
    "trans = str.maketrans(\"áäàéëèíïìóöòúüù\", \"aaaeeeiiiooouuu\")\n",
    "'Hólá amïgòs. ¿Cómö éstán?'.translate(trans)"
   ]
  },
  {
   "cell_type": "code",
   "execution_count": null,
   "metadata": {},
   "outputs": [],
   "source": [
    "trans = str.maketrans('oieastg', '0134579')\n",
    "\"Hola, amigos. ¿Como estan?\".translate(trans)"
   ]
  },
  {
   "cell_type": "markdown",
   "metadata": {},
   "source": [
    "### El método ```format()```.\n",
    "\n",
    "Este método regresa un objeto ```str``` al que se le pueden aplicar  múltuiples procedimientos de formateo y sustitución del texto. \n",
    "\n",
    "La sustitución se realiza mediante el usos de llaves ```{ }``` dentro del objeto ```str``` original. Los elementos a sustituir se ingresan como argumentos separados por comas.\n",
    "\n",
    "Este método permite formatear y alinear los elementos a los que sustituye de muchas maneras.\n",
    "\n",
    "En el sitio [https://pyformat.info/](https://pyformat.info/) es posible explorar las distintas formas en las que se puede utilizar dicho método."
   ]
  },
  {
   "cell_type": "markdown",
   "metadata": {},
   "source": [
    "**Ejemplo:**"
   ]
  },
  {
   "cell_type": "markdown",
   "metadata": {},
   "source": [
    "* La siguiente celda regresará un objeto ```str```que sustituirá de forma consecutiva los caracteres ```{}``` por  las cadenas ```Juan``` y ```Pedro``` en el texto original."
   ]
  },
  {
   "cell_type": "code",
   "execution_count": null,
   "metadata": {},
   "outputs": [],
   "source": [
    "'Contrato de prestacion de servicios entre {} y {}.'.format(\"Juan\", \"Pedro\")"
   ]
  },
  {
   "cell_type": "markdown",
   "metadata": {},
   "source": [
    "##### Control de la sustitución con el método ```format()```.\n",
    "\n",
    "Si no se especifica, cada elemento será sustituido de forma sucesiva de izquierda a derecha. Pero también es posible indicar cual elemento sustituir por mediante un índice numérico o mediante una clave, de tal forma que los argumentos ingresados son indexados  como objetos de tipo ```tuple``` o de tipo ```dict```."
   ]
  },
  {
   "cell_type": "markdown",
   "metadata": {},
   "source": [
    "**Ejemplos:**"
   ]
  },
  {
   "cell_type": "markdown",
   "metadata": {},
   "source": [
    "* La siguiente celda sustituirá primero el índice ```1```y luego el índice ```0```."
   ]
  },
  {
   "cell_type": "code",
   "execution_count": null,
   "metadata": {},
   "outputs": [],
   "source": [
    "'Contrato de prestacion de servicios entre {1} y {0}.'.format(\"Juan\", \"Pedro\")"
   ]
  },
  {
   "cell_type": "markdown",
   "metadata": {},
   "source": [
    "* La siguiente celda sustituirá el valor relacionado a la clave correspondiente."
   ]
  },
  {
   "cell_type": "code",
   "execution_count": null,
   "metadata": {},
   "outputs": [],
   "source": [
    "'Contrato de servicios entre {comprador} y {vendedor}.'.format(comprador=\"Juan\",\n",
    "                                                               vendedor=\"Pedro\")"
   ]
  },
  {
   "cell_type": "markdown",
   "metadata": {},
   "source": [
    "#### El método ```format_map()```.\n",
    "\n",
    "Este método es similar a ```format()```, con la diferencia de que acepta exclusivamente objetos con pares mapeables tales como los objetos de tipo ```dict```."
   ]
  },
  {
   "cell_type": "markdown",
   "metadata": {},
   "source": [
    "**Ejemplos:**"
   ]
  },
  {
   "cell_type": "markdown",
   "metadata": {},
   "source": [
    "* Las siguientes celda utilizan como argumento a un objeto de tipo dict."
   ]
  },
  {
   "cell_type": "code",
   "execution_count": null,
   "metadata": {},
   "outputs": [],
   "source": [
    "'Contrato de servicios entre {comprador} y {vendedor}.'.format_map({'comprador': \"Juan\",\n",
    "                                                                    \"vendedor\":\"Pedro\"})"
   ]
  },
  {
   "cell_type": "code",
   "execution_count": null,
   "metadata": {},
   "outputs": [],
   "source": [
    "'Contrato de servicios entre {comprador} y {vendedor}.'.format_map(dict(comprador=\"Juan\",\n",
    "                                                                   vendedor=\"Pedro\"))"
   ]
  }
 ],
 "metadata": {
  "kernelspec": {
   "display_name": "Python 3",
   "language": "python",
   "name": "python3"
  },
  "language_info": {
   "codemirror_mode": {
    "name": "ipython",
    "version": 3
   },
   "file_extension": ".py",
   "mimetype": "text/x-python",
   "name": "python",
   "nbconvert_exporter": "python",
   "pygments_lexer": "ipython3",
   "version": "3.7.7"
  }
 },
 "nbformat": 4,
 "nbformat_minor": 1
}
