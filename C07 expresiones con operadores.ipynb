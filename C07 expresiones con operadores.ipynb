{
 "cells": [
  {
   "cell_type": "markdown",
   "metadata": {},
   "source": [
    "![imagenes](logo.png)"
   ]
  },
  {
   "cell_type": "markdown",
   "metadata": {},
   "source": [
    "# Expresiones con operadores.\n",
    "\n",
    "Los operadores son signos o palabras reservadas que el intérprete de Python identifica dentro de sus sintaxis para realizar una acción (operación) específica.\n",
    "\n",
    "```\n",
    "<objeto 1> <operador> <objeto 2>\n",
    "```\n",
    "\n",
    "```\n",
    "<objeto 1> <operador 1> <objeto 2> <operador 2> .... <operador n-1> <objeto n> \n",
    "```"
   ]
  },
  {
   "cell_type": "markdown",
   "metadata": {},
   "source": [
    "**Ejemplos:**"
   ]
  },
  {
   "cell_type": "code",
   "execution_count": null,
   "metadata": {},
   "outputs": [],
   "source": [
    "1 + 1"
   ]
  },
  {
   "cell_type": "code",
   "execution_count": null,
   "metadata": {},
   "outputs": [],
   "source": [
    "15 * 4 + 1 / 3 ** 5 "
   ]
  },
  {
   "cell_type": "markdown",
   "metadata": {},
   "source": [
    "## Operadores aritméticos.\n",
    "\n",
    "Los operadores arítmétricos permiten realizarf operaciones de esta índole con objetos numéricos.\n",
    "\n",
    "\n",
    "|Operador|Descripción|\n",
    "|:------:|:---------:|\n",
    "|```+``` |Suma       |\n",
    "|```-``` |Resta      |\n",
    "|```*``` |Multiplicación|\n",
    "|```**```|Exponente  |\n",
    "|```/``` |División   |\n",
    "|```//```|División entera|\n",
    "|```%``` |Residuo    |\n",
    "\n",
    "**Nota:** Aún cuando no afecta a la sintaxis, el uso de espacios entre los operadores aritméticos mejora la comprensión de las operaciones. Para mayor referencia remitirse al PEP-8."
   ]
  },
  {
   "cell_type": "markdown",
   "metadata": {},
   "source": [
    "**Ejemplos:**"
   ]
  },
  {
   "cell_type": "markdown",
   "metadata": {},
   "source": [
    "* Las siguientes celdas ejemplifican el uso de operadores aritméticos."
   ]
  },
  {
   "cell_type": "code",
   "execution_count": null,
   "metadata": {},
   "outputs": [],
   "source": [
    "3 + 2"
   ]
  },
  {
   "cell_type": "code",
   "execution_count": null,
   "metadata": {},
   "outputs": [],
   "source": [
    "3 - 2"
   ]
  },
  {
   "cell_type": "code",
   "execution_count": null,
   "metadata": {},
   "outputs": [],
   "source": [
    "3 * 2"
   ]
  },
  {
   "cell_type": "code",
   "execution_count": null,
   "metadata": {},
   "outputs": [],
   "source": [
    "3 ** 2"
   ]
  },
  {
   "cell_type": "code",
   "execution_count": null,
   "metadata": {},
   "outputs": [],
   "source": [
    "3 ** 0.5"
   ]
  },
  {
   "cell_type": "code",
   "execution_count": null,
   "metadata": {},
   "outputs": [],
   "source": [
    "3 / 2"
   ]
  },
  {
   "cell_type": "code",
   "execution_count": null,
   "metadata": {},
   "outputs": [],
   "source": [
    "3 // 2"
   ]
  },
  {
   "cell_type": "code",
   "execution_count": null,
   "metadata": {},
   "outputs": [],
   "source": [
    "8 % 5"
   ]
  },
  {
   "cell_type": "markdown",
   "metadata": {},
   "source": [
    "### Reglas de precedencia en operaciones aritméticas.\n",
    "\n",
    "Los operadores se apegan a la siguiente regla de precedencia siguiendo una secuencia de izquierda a derecha:\n",
    "\n",
    "1. Paréntesis.\n",
    "2. Exponente.\n",
    "3. Multiplicación.\n",
    "4. División.\n",
    "5. Suma.\n",
    "6. Sustracción."
   ]
  },
  {
   "cell_type": "markdown",
   "metadata": {},
   "source": [
    "**Ejemplos:**"
   ]
  },
  {
   "cell_type": "markdown",
   "metadata": {},
   "source": [
    "* La siguiente celda realizará una operación entre números enteros apegada a las reglas de precedencia descitas previamente:\n",
    "   1. Se ejecutará ```4 ** 2```, lo que dará por resultado ```12 * 5 + 2 / 16```.\n",
    "   * Se ejecutará ```12 * 5```, lo que dará por resultado ```60 + 2 / 16```.\n",
    "   * Se ejecutará ```2 / 16```, lo que dará por resultado ```60 + 0.125```."
   ]
  },
  {
   "cell_type": "code",
   "execution_count": null,
   "metadata": {},
   "outputs": [],
   "source": [
    "12 * 5 + 2 / 4 ** 2"
   ]
  },
  {
   "cell_type": "markdown",
   "metadata": {},
   "source": [
    "* Las siguientes celdas incluyen paréntesis, los cuales permiten agrupar operaciones aritméticas."
   ]
  },
  {
   "cell_type": "code",
   "execution_count": null,
   "metadata": {},
   "outputs": [],
   "source": [
    "(12 * 5) + (2 / (4 ** 2))"
   ]
  },
  {
   "cell_type": "code",
   "execution_count": null,
   "metadata": {},
   "outputs": [],
   "source": [
    "(12 * 5) + (2 / 4) ** 2"
   ]
  },
  {
   "cell_type": "code",
   "execution_count": null,
   "metadata": {},
   "outputs": [],
   "source": [
    "(12 * (5 + 2) / 3) ** 2"
   ]
  },
  {
   "cell_type": "markdown",
   "metadata": {},
   "source": [
    "También la conversión entre tipo de datos entra en la jerarquía de operaciones."
   ]
  },
  {
   "cell_type": "code",
   "execution_count": null,
   "metadata": {},
   "outputs": [],
   "source": [
    "(12 * 5) + (2 / (4 ** int(\"2\")))"
   ]
  },
  {
   "cell_type": "markdown",
   "metadata": {},
   "source": [
    "### División entre enteros en Python 2.\n",
    "\n",
    "En  Python 3 las divisiones entre objetos de tipo *int* dan como resultado un objeto de tipo *float*. En Python 2 las divisiones entre objetos de tipo *int* dan por resultado la parte entera de la división.\n",
    "\n",
    "**Ejemplos:**\n",
    "\n",
    "```\n",
    ">>> 3 / 4\n",
    "0\n",
    ">>> 10 / 5\n",
    "2\n",
    ">>>\n",
    "```"
   ]
  },
  {
   "cell_type": "markdown",
   "metadata": {},
   "source": [
    "## Operadores para colecciones ordenadas.\n",
    "\n",
    "Los objetos de tipo ```str```, ```bytes```, ```bytearray``` ```list``` y  ```tuple``` permiten utilizar los siguientes operadores.\n",
    "\n",
    "\n",
    "|Operador|Descripción|\n",
    "|:------:|:---------:|\n",
    "|```+```     |Concatenación|\n",
    "|```*```  |Repetición|"
   ]
  },
  {
   "cell_type": "markdown",
   "metadata": {},
   "source": [
    "### El operador de concatenación ```+```.\n",
    "\n",
    "Este operador se utiliza para unir una después de otra a colecciones del mismo tipo en una nueva colección.\n",
    "\n",
    "```\n",
    "<colección 1 > + <colección 2>\n",
    "``` "
   ]
  },
  {
   "cell_type": "markdown",
   "metadata": {},
   "source": [
    "**Ejemplos:**"
   ]
  },
  {
   "cell_type": "markdown",
   "metadata": {},
   "source": [
    "* Las siguientes celdas ejemplifican operaciones válidas con el operador ```+```."
   ]
  },
  {
   "cell_type": "code",
   "execution_count": null,
   "metadata": {},
   "outputs": [],
   "source": [
    "\"hola\" + \"mundo\""
   ]
  },
  {
   "cell_type": "code",
   "execution_count": null,
   "metadata": {},
   "outputs": [],
   "source": [
    "[1, 2, 3] + ['uno', 'dos']"
   ]
  },
  {
   "cell_type": "markdown",
   "metadata": {},
   "source": [
    "* La siguiente celda intentará utilizar el operador ```+``` con colecciones que soportan a dicho operador pero son de distinto tipo, lo cual desencadenará un error de tipo ```TypeError```."
   ]
  },
  {
   "cell_type": "code",
   "execution_count": null,
   "metadata": {},
   "outputs": [],
   "source": [
    "[1, 2, 3] + ('uno', 'dos', 'tres')"
   ]
  },
  {
   "cell_type": "markdown",
   "metadata": {},
   "source": [
    "* La siguiente celda intentará utilizar el operador ```+``` con el objeto ```3``` que no soporta a dicho operador, lo cual desencadenará un error de tipo ```TypeError```."
   ]
  },
  {
   "cell_type": "code",
   "execution_count": null,
   "metadata": {
    "scrolled": true
   },
   "outputs": [],
   "source": [
    "'hola' + 3"
   ]
  },
  {
   "cell_type": "markdown",
   "metadata": {},
   "source": [
    "Si quisieramos concatenar la palabra hola con el sìmbolo del número 3, la sintaxis serìa:"
   ]
  },
  {
   "cell_type": "code",
   "execution_count": null,
   "metadata": {},
   "outputs": [],
   "source": [
    "\"hola\"+str(3)"
   ]
  },
  {
   "cell_type": "markdown",
   "metadata": {},
   "source": [
    "### El operador de repetición ```*```.\n",
    "\n",
    "Este operador se utiliza para crear una colección que contiene el contenido de una colección que se repite un número determinado de veces.\n",
    "\n",
    "```\n",
    "<colección > * <n>\n",
    "``` \n",
    "\n",
    "Donde ```<n>``` es un número entero.\n",
    "\n",
    "**Nota:** El orden de los factores no altera al producto."
   ]
  },
  {
   "cell_type": "markdown",
   "metadata": {},
   "source": [
    "**Ejemplos:**"
   ]
  },
  {
   "cell_type": "code",
   "execution_count": null,
   "metadata": {},
   "outputs": [],
   "source": [
    "'hola' * 3"
   ]
  },
  {
   "cell_type": "code",
   "execution_count": null,
   "metadata": {},
   "outputs": [],
   "source": [
    "3 * 'hola'"
   ]
  },
  {
   "cell_type": "code",
   "execution_count": null,
   "metadata": {},
   "outputs": [],
   "source": [
    "(None,) * 6"
   ]
  },
  {
   "cell_type": "code",
   "execution_count": null,
   "metadata": {},
   "outputs": [],
   "source": [
    "[1, 2, 3] * [3]"
   ]
  },
  {
   "cell_type": "markdown",
   "metadata": {},
   "source": [
    "## Operadores de asignación.\n",
    "\n",
    "Los operadores de asignación se utilizan para enlazar a un nombre con un objeto/valor en el espacio de nombres.\n",
    "\n",
    "El operador de asignación ```=``` es el más conocido, sin embargo existen otros operadores de asignación tales como:\n",
    "\n",
    "|Operador|Expresión|Equivale a|\n",
    "|:------:|:-----:|:-----------:|\n",
    "|```=```|```x = y```|```x = y```|\n",
    "|```+=```|```x += y```|```x = x + y```|\n",
    "|```-=```|```x -= y```|```x = x - y```|\n",
    "|```*=```|```x * = y```|```x = x * y```|\n",
    "|```**=```|```x **= y```|```x = x ** y```|\n",
    "|```/=```|```x /= y```|```x = x / y```|\n",
    "|```//=```|```x //= y```|```x = x // y```|\n",
    "|```%=```|```x %= y```|```x = x % y```|"
   ]
  },
  {
   "cell_type": "markdown",
   "metadata": {},
   "source": [
    "**Ejemplos:**"
   ]
  },
  {
   "cell_type": "markdown",
   "metadata": {},
   "source": [
    "A continuación se ejemplifica el uso de algunos operadores de asignación."
   ]
  },
  {
   "cell_type": "code",
   "execution_count": null,
   "metadata": {},
   "outputs": [],
   "source": [
    "x = 2"
   ]
  },
  {
   "cell_type": "code",
   "execution_count": null,
   "metadata": {},
   "outputs": [],
   "source": [
    "x += 3"
   ]
  },
  {
   "cell_type": "code",
   "execution_count": null,
   "metadata": {},
   "outputs": [],
   "source": [
    "x"
   ]
  },
  {
   "cell_type": "code",
   "execution_count": null,
   "metadata": {},
   "outputs": [],
   "source": [
    "x **= 3"
   ]
  },
  {
   "cell_type": "code",
   "execution_count": null,
   "metadata": {},
   "outputs": [],
   "source": [
    "x"
   ]
  },
  {
   "cell_type": "code",
   "execution_count": null,
   "metadata": {},
   "outputs": [],
   "source": [
    "x //= 14.2"
   ]
  },
  {
   "cell_type": "code",
   "execution_count": null,
   "metadata": {},
   "outputs": [],
   "source": [
    "x"
   ]
  },
  {
   "cell_type": "code",
   "execution_count": null,
   "metadata": {},
   "outputs": [],
   "source": [
    "x %= 1.5"
   ]
  },
  {
   "cell_type": "code",
   "execution_count": null,
   "metadata": {},
   "outputs": [],
   "source": [
    "x"
   ]
  },
  {
   "cell_type": "code",
   "execution_count": null,
   "metadata": {},
   "outputs": [],
   "source": [
    "tupla = (1, 2, 3)"
   ]
  },
  {
   "cell_type": "code",
   "execution_count": null,
   "metadata": {},
   "outputs": [],
   "source": [
    "tupla += ('cuatro', 'cinco', 'seis')"
   ]
  },
  {
   "cell_type": "code",
   "execution_count": null,
   "metadata": {},
   "outputs": [],
   "source": [
    "tupla"
   ]
  },
  {
   "cell_type": "markdown",
   "metadata": {},
   "source": [
    "## Expresiones lógicas."
   ]
  },
  {
   "cell_type": "markdown",
   "metadata": {},
   "source": [
    "### Operadores de evaluación. \n",
    "\n",
    "Estos operadores evalúan si dos expresiones cumplen con una condición específica. El resultado de esta evaluación es un objeto de tipo ```bool```.\n",
    "\n",
    "|Operador|Evalúa          |\n",
    "|:------:|:---------------|\n",
    "|```==```    |```a == b``` ¿a igual a b?|\n",
    "|```!=``` \t |```a != b``` ¿a distinta de b?|\n",
    "|```>```     |```a > b``` ¿a mayor que b?|\n",
    "|```<``` \t |```a < b``` ¿a menor que b?|\n",
    "|```>=```    |```a >= b``` ¿a mayor o igual que b?|\n",
    "|```<=```    |```a <= b``` ¿a menor o igual que b?|\n",
    "\n",
    "**Ejemplos:**"
   ]
  },
  {
   "cell_type": "markdown",
   "metadata": {},
   "source": [
    "* La siguiente celda evalúa si los valores de los objetos ```\"hola\"``` y ```'hola'``` son iguales. El resultado es ```True```."
   ]
  },
  {
   "cell_type": "code",
   "execution_count": null,
   "metadata": {},
   "outputs": [],
   "source": [
    "\"hola\" == 'hola'"
   ]
  },
  {
   "cell_type": "markdown",
   "metadata": {},
   "source": [
    "* La siguiente celda evalúa si los valores de los objetos ```\"hola\"``` y ```'Hola'``` son distintos. El resultado es ```True```."
   ]
  },
  {
   "cell_type": "code",
   "execution_count": null,
   "metadata": {},
   "outputs": [],
   "source": [
    "\"hola\" != 'Hola'"
   ]
  },
  {
   "cell_type": "markdown",
   "metadata": {},
   "source": [
    "* La siguiente celda evalúa si el valor de```5``` es mayor que ```3``` . El resultado es ```True```."
   ]
  },
  {
   "cell_type": "code",
   "execution_count": null,
   "metadata": {},
   "outputs": [],
   "source": [
    "5 > 3"
   ]
  },
  {
   "cell_type": "markdown",
   "metadata": {},
   "source": [
    "* La siguiente celda evalúa si el valor de```5``` es menor o igual que ```3``` . El resultado es ```False```."
   ]
  },
  {
   "cell_type": "code",
   "execution_count": null,
   "metadata": {},
   "outputs": [],
   "source": [
    "5 <= 3"
   ]
  },
  {
   "cell_type": "markdown",
   "metadata": {},
   "source": [
    "* La siguiente celda evalúa si el resultado de la expresión ```2 * 9 ** 0.5``` es igual a ```6``` . El resultado es ```True```."
   ]
  },
  {
   "cell_type": "code",
   "execution_count": null,
   "metadata": {},
   "outputs": [],
   "source": [
    "2 * 9 ** 0.5 == 6"
   ]
  },
  {
   "cell_type": "markdown",
   "metadata": {},
   "source": [
    "* La siguiente celda evalúa si el resultado de la expresión ```(2 * 9) ** 0.5``` es igual a ```6``` . El resultado es ```False```."
   ]
  },
  {
   "cell_type": "code",
   "execution_count": null,
   "metadata": {},
   "outputs": [],
   "source": [
    "(2 * 9) ** 0.5 == 6"
   ]
  },
  {
   "cell_type": "code",
   "execution_count": null,
   "metadata": {},
   "outputs": [],
   "source": [
    "(2 * 9) ** 0.5"
   ]
  },
  {
   "cell_type": "markdown",
   "metadata": {},
   "source": [
    "### Operadores de identidad.\n",
    "\n",
    "Los operadores ```is``` e ```is not``` evalúan si un identificador se refiere exactamente al mismo objeto o pertenece a un tipo.\n",
    "\n",
    "|Operador \t|Evalúa|\n",
    "|:---------:|:----:|\n",
    "|```is```       |```a is b``` Equivale a ```id(a) == id(b)``` o a ```type(a) == tipo```| \n",
    "|```is not```   |```a is not b``` Equivale a ```id(a) != id(b)```|\n",
    "\n",
    "**Ejemplos:**"
   ]
  },
  {
   "cell_type": "code",
   "execution_count": null,
   "metadata": {},
   "outputs": [],
   "source": [
    "a = 45\n",
    "b = 45"
   ]
  },
  {
   "cell_type": "code",
   "execution_count": null,
   "metadata": {},
   "outputs": [],
   "source": [
    "a is b"
   ]
  },
  {
   "cell_type": "code",
   "execution_count": null,
   "metadata": {},
   "outputs": [],
   "source": [
    "type(\"Hola\") is str"
   ]
  },
  {
   "cell_type": "code",
   "execution_count": null,
   "metadata": {},
   "outputs": [],
   "source": [
    "type(\"Hola\") is not complex"
   ]
  },
  {
   "cell_type": "code",
   "execution_count": null,
   "metadata": {},
   "outputs": [],
   "source": [
    "True == 1"
   ]
  },
  {
   "cell_type": "code",
   "execution_count": null,
   "metadata": {},
   "outputs": [],
   "source": [
    "type(True) is 1"
   ]
  },
  {
   "cell_type": "markdown",
   "metadata": {},
   "source": [
    "### Operadores de pertenencia.\n",
    "\n",
    "Los operadores ```in``` y ```not in``` evalúan si un objeto se encuentra dentro de otro. Esto implica implícitamente que el segundo objeto es una colección.\n",
    "\n",
    "\n",
    "**Ejemplos:**\n"
   ]
  },
  {
   "cell_type": "code",
   "execution_count": null,
   "metadata": {},
   "outputs": [],
   "source": [
    "'a' in 'Hola'"
   ]
  },
  {
   "cell_type": "code",
   "execution_count": null,
   "metadata": {},
   "outputs": [],
   "source": [
    "'z' in 'Hola'"
   ]
  },
  {
   "cell_type": "code",
   "execution_count": null,
   "metadata": {},
   "outputs": [],
   "source": [
    "'la' not in 'Hola'"
   ]
  },
  {
   "cell_type": "code",
   "execution_count": null,
   "metadata": {},
   "outputs": [],
   "source": [
    "'z' not in 'Hola'"
   ]
  },
  {
   "cell_type": "code",
   "execution_count": null,
   "metadata": {},
   "outputs": [],
   "source": [
    "x=234\n",
    "y=str(234)"
   ]
  },
  {
   "cell_type": "code",
   "execution_count": null,
   "metadata": {},
   "outputs": [],
   "source": [
    "str(2) in y"
   ]
  },
  {
   "cell_type": "code",
   "execution_count": null,
   "metadata": {},
   "outputs": [],
   "source": [
    "type(y)"
   ]
  },
  {
   "cell_type": "markdown",
   "metadata": {},
   "source": [
    "### Álgebra booleana y tablas de la verdad.\n",
    "\n",
    "Las tablas de la verdad son las herramientas básicas en la lógica aristotélica y sirven para saber si dadas dos premisas $p$ y $q$ y sus respectivos valores valores de verdad (es decir, verdadero o falso), alguna composición de estas dos es también verdadera o falsa, donde la composición puedes una conjunción ($p$ y $q$), una disyunción ($p$ o $q$), una negación (no $p$) o una implicación ($p\\rightarrow q$). \n",
    "\n",
    "Las siguientes tablas muestran los resultados de los operadores lógicos ```OR```, ```NOR``` y ```AND``` dependiendo de los valores booleanos que se utilicen.\n",
    "\n",
    "\n",
    "|OR| True|False|\n",
    "|:--:|:--:|:--:|\n",
    "|**True**|True|True|\n",
    "|**False**|True|False|\n",
    "\n",
    "|NOR| True|False|\n",
    "|:--:|:--:|:--:|\n",
    "|**True**|False|False|\n",
    "|**False**|False|True|\n",
    "\n",
    "|AND| True|False|\n",
    "|:--:|:--:|:--:|\n",
    "|**True**|True|False|\n",
    "|**False**|False|False|"
   ]
  },
  {
   "cell_type": "markdown",
   "metadata": {},
   "source": [
    "### Operadores lógicos.\n",
    "\n",
    "Estos operadores permiten la realización de las siguientes operaciones lógicas. Por lo general se realizan con objetos de tipo ```bool```, pero Python también permite operaciones lógicas con otros tipos de datos y expresiones. \n",
    "\n",
    "|Operador|Evalúa|\n",
    "|:------:|:----:|\n",
    "|```or```    |*a or b* ¿Se cumplen a o b?|\n",
    "|```and``` \t |*a and b* ¿Se comple a y b?|\n",
    "|```not```|*not x* Contrario a x|"
   ]
  },
  {
   "cell_type": "markdown",
   "metadata": {},
   "source": [
    "**Ejemplos:**"
   ]
  },
  {
   "cell_type": "markdown",
   "metadata": {},
   "source": [
    "* Las siguientes celdas ejemplifican el uso de los operadores loogicos con objetos de tipo ```bool```."
   ]
  },
  {
   "cell_type": "code",
   "execution_count": null,
   "metadata": {},
   "outputs": [],
   "source": [
    "True or True"
   ]
  },
  {
   "cell_type": "code",
   "execution_count": null,
   "metadata": {},
   "outputs": [],
   "source": [
    "False or True"
   ]
  },
  {
   "cell_type": "code",
   "execution_count": null,
   "metadata": {},
   "outputs": [],
   "source": [
    "False or False"
   ]
  },
  {
   "cell_type": "code",
   "execution_count": null,
   "metadata": {},
   "outputs": [],
   "source": [
    "False and False"
   ]
  },
  {
   "cell_type": "code",
   "execution_count": null,
   "metadata": {},
   "outputs": [],
   "source": [
    "not True"
   ]
  },
  {
   "cell_type": "code",
   "execution_count": null,
   "metadata": {},
   "outputs": [],
   "source": [
    "not False or True"
   ]
  },
  {
   "cell_type": "code",
   "execution_count": null,
   "metadata": {
    "scrolled": false
   },
   "outputs": [],
   "source": [
    "not (False or True)"
   ]
  },
  {
   "cell_type": "code",
   "execution_count": null,
   "metadata": {},
   "outputs": [],
   "source": [
    "None or True"
   ]
  },
  {
   "cell_type": "markdown",
   "metadata": {},
   "source": [
    "* La siguiente celda evalúa primero la expresión ```15 == 3``` y el resultado es el valor que el operador ```or``` utilizará."
   ]
  },
  {
   "cell_type": "code",
   "execution_count": null,
   "metadata": {},
   "outputs": [],
   "source": [
    "15 == 3 or False"
   ]
  },
  {
   "cell_type": "markdown",
   "metadata": {},
   "source": [
    "* La siguiente celda evalúa primero las expresiones ```15 > 3``` y  ```15<=20``` el resultado de cada una será usado por el operador```and```."
   ]
  },
  {
   "cell_type": "code",
   "execution_count": null,
   "metadata": {},
   "outputs": [],
   "source": [
    "15 > 3 and 15 <= 20"
   ]
  },
  {
   "cell_type": "markdown",
   "metadata": {},
   "source": [
    "* La siguiente celda dará por resultado ```0```."
   ]
  },
  {
   "cell_type": "code",
   "execution_count": null,
   "metadata": {},
   "outputs": [],
   "source": [
    "True and 0"
   ]
  },
  {
   "cell_type": "markdown",
   "metadata": {},
   "source": [
    "* Para que la expresión de la celda anterios sea de tipo ```bool``` es necesario convertirla."
   ]
  },
  {
   "cell_type": "code",
   "execution_count": null,
   "metadata": {},
   "outputs": [],
   "source": [
    "bool(True and 0)"
   ]
  },
  {
   "cell_type": "markdown",
   "metadata": {},
   "source": [
    "* La expresión de la siuiente celda regresará ```123```."
   ]
  },
  {
   "cell_type": "code",
   "execution_count": null,
   "metadata": {},
   "outputs": [],
   "source": [
    "'Hola' and 123"
   ]
  },
  {
   "cell_type": "markdown",
   "metadata": {},
   "source": [
    "* La expresión de la siuiente celda regresará ```'Hola'```."
   ]
  },
  {
   "cell_type": "code",
   "execution_count": null,
   "metadata": {},
   "outputs": [],
   "source": [
    "123 and 'Hola'"
   ]
  },
  {
   "cell_type": "code",
   "execution_count": null,
   "metadata": {
    "scrolled": true
   },
   "outputs": [],
   "source": [
    "bool('Hola' and 123)"
   ]
  },
  {
   "cell_type": "markdown",
   "metadata": {},
   "source": [
    "## Operadores de bits.\n",
    "\n",
    "Las operaciones de bits son cálculos que implican a cada bit que conforma a un número representado de forma binaria.\n",
    "\n",
    "Los operadores de bits ```|```, ```^``` y ```&``` realizan operaciones idénticas a los operadores lógicos, pero para cada bit.\n",
    "\n",
    "\n",
    "|Operador    | Descripción |\n",
    "|:----------:|:-----------:|\n",
    "| ```\\|```|OR    |\n",
    "| ```^``` | XOR    |\n",
    "| ```&``` | AND    |  \n",
    "| ```<<``` | Mover x bits a la izquierda  |\n",
    "| ```>>``` | Mover x bits a la iderecha   |"
   ]
  },
  {
   "cell_type": "markdown",
   "metadata": {},
   "source": [
    "### Tablas de operadores de bits.\n",
    "\n",
    "| \\||1|0|\n",
    "|:--:|:--:|:--:|\n",
    "|**1**|1|1|\n",
    "|**0**|1|0|\n",
    "\n",
    "|^|1|0|\n",
    "|:--:|:--:|:--:|\n",
    "|**1**|0|1|\n",
    "|**0**|1|0|\n",
    "\n",
    "|&|1|0|\n",
    "|:--:|:--:|:--:|\n",
    "|**1**|1|0|\n",
    "|**0**|0|0|"
   ]
  },
  {
   "cell_type": "markdown",
   "metadata": {},
   "source": [
    "**Ejemplos:**"
   ]
  },
  {
   "cell_type": "markdown",
   "metadata": {},
   "source": [
    "* Se definirán los objetos ```a``` con valor igual a ```13```y ```b``` con valor igual a ```26```."
   ]
  },
  {
   "cell_type": "code",
   "execution_count": null,
   "metadata": {},
   "outputs": [],
   "source": [
    "a = 0b01101\n",
    "b = 0b11010"
   ]
  },
  {
   "cell_type": "code",
   "execution_count": null,
   "metadata": {},
   "outputs": [],
   "source": [
    "a"
   ]
  },
  {
   "cell_type": "code",
   "execution_count": null,
   "metadata": {},
   "outputs": [],
   "source": [
    "b"
   ]
  },
  {
   "cell_type": "markdown",
   "metadata": {},
   "source": [
    "* Se utilizará el operador ```|``` para cada bit de ```a``` y ```b```. La operación es la siguiente:\n",
    "\n",
    "```\n",
    "a = 01101\n",
    "b = 11010\n",
    "|   ______\n",
    "    11111\n",
    "\n",
    "```\n",
    "\n",
    "El resultado es ```31```."
   ]
  },
  {
   "cell_type": "code",
   "execution_count": null,
   "metadata": {},
   "outputs": [],
   "source": [
    "a | b"
   ]
  },
  {
   "cell_type": "code",
   "execution_count": null,
   "metadata": {},
   "outputs": [],
   "source": [
    "0b11111"
   ]
  },
  {
   "cell_type": "markdown",
   "metadata": {},
   "source": [
    "* Se utilizará el operador ```^``` para cada bit de ```a``` y ```b```. La operación es la siguiente:\n",
    "\n",
    "```\n",
    "a = 01101\n",
    "b = 11010\n",
    "^  ______\n",
    "    10111\n",
    "\n",
    "```\n",
    "\n",
    "El resultado es ```23```."
   ]
  },
  {
   "cell_type": "code",
   "execution_count": null,
   "metadata": {},
   "outputs": [],
   "source": [
    "a ^ b"
   ]
  },
  {
   "cell_type": "code",
   "execution_count": null,
   "metadata": {},
   "outputs": [],
   "source": [
    "0b10111"
   ]
  },
  {
   "cell_type": "markdown",
   "metadata": {},
   "source": [
    "* Se utilizará el operador ```&``` para cada bit de ```a``` y ```b```. La operación es la siguiente:\n",
    "\n",
    "```\n",
    "a = 01101\n",
    "b = 11010\n",
    "&   ______\n",
    "    01000\n",
    "\n",
    "```\n",
    "\n",
    "El resultado es ```8```."
   ]
  },
  {
   "cell_type": "code",
   "execution_count": null,
   "metadata": {
    "scrolled": true
   },
   "outputs": [],
   "source": [
    "a & b"
   ]
  },
  {
   "cell_type": "code",
   "execution_count": null,
   "metadata": {},
   "outputs": [],
   "source": [
    "0b01000"
   ]
  },
  {
   "cell_type": "markdown",
   "metadata": {},
   "source": [
    "* La siguiente celda moverá los bits de ```a```, 3 posiciones a la izquierda. Es decir, añádirá 3 ceros a la derecha de su representación binaria de la siguiente forma.\n",
    "\n",
    "```\n",
    "a = 01101\n",
    "a << 3\n",
    "01101000\n",
    "```\n",
    "El resultado es ```104```."
   ]
  },
  {
   "cell_type": "code",
   "execution_count": null,
   "metadata": {},
   "outputs": [],
   "source": [
    "a"
   ]
  },
  {
   "cell_type": "code",
   "execution_count": null,
   "metadata": {},
   "outputs": [],
   "source": [
    "a << 3"
   ]
  },
  {
   "cell_type": "code",
   "execution_count": null,
   "metadata": {},
   "outputs": [],
   "source": [
    "0b01101000"
   ]
  },
  {
   "cell_type": "markdown",
   "metadata": {},
   "source": [
    "* La siguiente celda moverá los bits de ```b```, 2 posiciones a la derecha. Es decir, eliminará las 2 últimas posiciones a la derecha de su representación binaria de la siguiente forma.\n",
    "\n",
    "```\n",
    "b = 11010\n",
    "b >> 2\n",
    "110\n",
    "```\n",
    "El resultado es ```6```."
   ]
  },
  {
   "cell_type": "code",
   "execution_count": null,
   "metadata": {},
   "outputs": [],
   "source": [
    "b >> 2"
   ]
  },
  {
   "cell_type": "code",
   "execution_count": null,
   "metadata": {},
   "outputs": [],
   "source": [
    "0b110"
   ]
  },
  {
   "cell_type": "markdown",
   "metadata": {},
   "source": [
    "### Operadores de bits con objetos de tipo ```bool```.\n",
    "\n",
    "Como se comentó previamente, los operadores de bits también pueden ser usados con objetos de tipo ```bool```."
   ]
  },
  {
   "cell_type": "markdown",
   "metadata": {},
   "source": [
    "**Ejemplos:**"
   ]
  },
  {
   "cell_type": "code",
   "execution_count": null,
   "metadata": {},
   "outputs": [],
   "source": [
    "True | False"
   ]
  },
  {
   "cell_type": "code",
   "execution_count": null,
   "metadata": {},
   "outputs": [],
   "source": [
    "True & False"
   ]
  },
  {
   "cell_type": "code",
   "execution_count": null,
   "metadata": {},
   "outputs": [],
   "source": [
    "True ^ True"
   ]
  },
  {
   "cell_type": "code",
   "execution_count": null,
   "metadata": {},
   "outputs": [],
   "source": [
    "True >> 2"
   ]
  },
  {
   "cell_type": "code",
   "execution_count": null,
   "metadata": {},
   "outputs": [],
   "source": [
    "True << 4"
   ]
  },
  {
   "cell_type": "markdown",
   "metadata": {},
   "source": [
    "## Operador ternario.\n",
    "\n",
    "El operador ternario evalúa una expresión lógica con una sintaxis como la que se describe a continuación.\n",
    "\n",
    "```\n",
    "<expresión 1> if <expresión lógica> else <expresión 2>\n",
    "\n",
    "```\n",
    "* En caso de que el resultado de la expresión lógica sea ```True```, se ejecutará la expresión a la izquierda del ```if```.\n",
    "* En caso de que el resultado de la expresión lógica sea ```False```, se ejecutará la expresión a la derecha del ```else```."
   ]
  },
  {
   "cell_type": "markdown",
   "metadata": {},
   "source": [
    "**Ejemplo:**\n",
    "\n",
    "* El residuo de dividir un número par entre ```2``` es ```0```."
   ]
  },
  {
   "cell_type": "code",
   "execution_count": null,
   "metadata": {},
   "outputs": [],
   "source": [
    "numero = 1124"
   ]
  },
  {
   "cell_type": "code",
   "execution_count": null,
   "metadata": {},
   "outputs": [],
   "source": [
    "numero % 2"
   ]
  },
  {
   "cell_type": "code",
   "execution_count": null,
   "metadata": {},
   "outputs": [],
   "source": [
    "numero % 2 == 0"
   ]
  },
  {
   "cell_type": "markdown",
   "metadata": {},
   "source": [
    "* La siguiente expresión utiliza un operador ternario que regresa la cadena de caracteres ```\"par\"``` en caso de que el objeto con nombre ```numero``` sea divisible entre ```2``` o rergesará la cadena de caracteres ```\"non\"``` en caso contrario."
   ]
  },
  {
   "cell_type": "code",
   "execution_count": null,
   "metadata": {},
   "outputs": [],
   "source": [
    "\"par\" if numero % 2 == 0 else \"non\""
   ]
  },
  {
   "cell_type": "markdown",
   "metadata": {},
   "source": [
    "## Operador de atributo.\n",
    "\n",
    "En vista de que todo es un objeto en Python, es posible acceder a los atributos y métodos de un objeto mediante el operador de atributo el cual corresponde a un punto ```.```.\n",
    "\n",
    "### Atributos.\n",
    "\n",
    "En el paradigma de programación orientada a objetos, un atributo es un valor que está asociado a un objeto mediante un nombre. En el caso de Python, los atributos son objetos asociados a un objeto mediante a un nombre.\n",
    "\n",
    "Para acceder al atributo de un objeto se utiliza la siguiente sintaxis:\n",
    "\n",
    "```\n",
    "<objeto>.<nombre del atributo>\n",
    "```\n",
    "\n",
    "### Métodos.\n",
    "\n",
    "Los métodos son una especie de atributo, pero con la capacidad de ejecutar ciertas instrucciones del mismo modo que una función.\n",
    "Para poder ejecutar un método se usa la siguiente sintaxis:\n",
    "\n",
    "```\n",
    "<objeto>.<nombre del método>(<argumento 1>, <argumento 2>,..., <argumento n>)\n",
    "```\n",
    "\n",
    "* Donde ```<argumento x>``` es un objeto que se ingresa al método para que pueda ser ejecutado. Un método puede no requerir argumentos o puede requerir más de un argumento."
   ]
  },
  {
   "cell_type": "markdown",
   "metadata": {},
   "source": [
    "**Ejemplos:**"
   ]
  },
  {
   "cell_type": "code",
   "execution_count": null,
   "metadata": {},
   "outputs": [],
   "source": [
    "(15-13j).real"
   ]
  },
  {
   "cell_type": "code",
   "execution_count": null,
   "metadata": {},
   "outputs": [],
   "source": [
    "(15-13j).imag"
   ]
  },
  {
   "cell_type": "code",
   "execution_count": null,
   "metadata": {},
   "outputs": [],
   "source": [
    "(15-13j).conjugate"
   ]
  },
  {
   "cell_type": "code",
   "execution_count": null,
   "metadata": {},
   "outputs": [],
   "source": [
    "15-13j.conjugate()"
   ]
  },
  {
   "cell_type": "code",
   "execution_count": null,
   "metadata": {},
   "outputs": [],
   "source": [
    "-12.3.__int__()"
   ]
  },
  {
   "cell_type": "code",
   "execution_count": null,
   "metadata": {},
   "outputs": [],
   "source": [
    "(3).imag"
   ]
  },
  {
   "cell_type": "code",
   "execution_count": null,
   "metadata": {},
   "outputs": [],
   "source": [
    "(-15.456-13.23j).real.__int__().__abs__()"
   ]
  },
  {
   "cell_type": "markdown",
   "metadata": {},
   "source": [
    "## La función ```eval()```.\n",
    "\n",
    "La función ```eval()``` evalúa un objeto de tipo ```str``` como si fuera una expresión.\n",
    "\n",
    "```\n",
    "eval(<objeto tipo str>)\n",
    "```\n",
    "\n",
    "Si el texto a evaluar no es una expresión válida, ```eval()``` generará un mensaje de error."
   ]
  },
  {
   "cell_type": "markdown",
   "metadata": {},
   "source": [
    "**Ejemplos:**"
   ]
  },
  {
   "cell_type": "markdown",
   "metadata": {},
   "source": [
    "* Las siguientes celdas ejemplifican el uso de la función ```eval()```."
   ]
  },
  {
   "cell_type": "code",
   "execution_count": null,
   "metadata": {},
   "outputs": [],
   "source": [
    "eval(\"12 * 300\")"
   ]
  },
  {
   "cell_type": "code",
   "execution_count": null,
   "metadata": {},
   "outputs": [],
   "source": [
    "eval(\"0x11 + 0x10010\")"
   ]
  },
  {
   "cell_type": "code",
   "execution_count": null,
   "metadata": {},
   "outputs": [],
   "source": [
    "eval(\"12 > 5\")"
   ]
  },
  {
   "cell_type": "code",
   "execution_count": null,
   "metadata": {},
   "outputs": [],
   "source": [
    "eval(\"type('Hola')\")"
   ]
  },
  {
   "cell_type": "code",
   "execution_count": null,
   "metadata": {},
   "outputs": [],
   "source": [
    "eval(\"print('hola')\")"
   ]
  },
  {
   "cell_type": "markdown",
   "metadata": {},
   "source": [
    "* La expresión dentro de la cadena de caracteres que se ingresa como argumento para la función ```eval()``` en la siguiente celda hace referencia al nombre ```indefinido```, el cual no está definido y se desencadenará un error de tipo ```NameError```."
   ]
  },
  {
   "cell_type": "code",
   "execution_count": null,
   "metadata": {},
   "outputs": [],
   "source": [
    "eval(\"'indefinido' * 3\")"
   ]
  },
  {
   "cell_type": "markdown",
   "metadata": {},
   "source": [
    "* La cadena de caracteres usada como argumento para la función ```eval()``` en la siguiente celda no es una expresión válida y se generará un error de tipo ```SyntaxError```."
   ]
  },
  {
   "cell_type": "code",
   "execution_count": null,
   "metadata": {},
   "outputs": [],
   "source": [
    "eval(\"Hola Mundo\")"
   ]
  }
 ],
 "metadata": {
  "kernelspec": {
   "display_name": "Python 3",
   "language": "python",
   "name": "python3"
  },
  "language_info": {
   "codemirror_mode": {
    "name": "ipython",
    "version": 3
   },
   "file_extension": ".py",
   "mimetype": "text/x-python",
   "name": "python",
   "nbconvert_exporter": "python",
   "pygments_lexer": "ipython3",
   "version": "3.7.7"
  }
 },
 "nbformat": 4,
 "nbformat_minor": 1
}
