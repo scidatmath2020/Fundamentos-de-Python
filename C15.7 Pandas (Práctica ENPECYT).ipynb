{
 "cells": [
  {
   "cell_type": "markdown",
   "metadata": {},
   "source": [
    "<img src=\"logo.png\">"
   ]
  },
  {
   "cell_type": "code",
   "execution_count": null,
   "metadata": {},
   "outputs": [],
   "source": [
    "import numpy as np\n",
    "import pandas as pd"
   ]
  },
  {
   "cell_type": "code",
   "execution_count": null,
   "metadata": {},
   "outputs": [],
   "source": [
    "cuestio1 = pd.read_csv(\"C:/Users/hp master/Documents/SciData/Py_CDD/enpecyt/conjunto_de_datos/tr_cbasico1.csv\")\n",
    "cuestio2 = pd.read_csv(\"C:/Users/hp master/Documents/SciData/Py_CDD/enpecyt/conjunto_de_datos/tr_cbasico2.csv\")\n",
    "\n",
    "socio1 = pd.read_csv(\"C:/Users/hp master/Documents/SciData/Py_CDD/enpecyt/conjunto_de_datos/tr_csocio1.csv\")\n",
    "socio2 = pd.read_csv(\"C:/Users/hp master/Documents/SciData/Py_CDD/enpecyt/conjunto_de_datos/tr_csocio2.csv\")\n",
    "socio3 = pd.read_csv(\"C:/Users/hp master/Documents/SciData/Py_CDD/enpecyt/conjunto_de_datos/tr_csocio3.csv\")"
   ]
  },
  {
   "cell_type": "code",
   "execution_count": null,
   "metadata": {},
   "outputs": [],
   "source": [
    "list(cuestio1.columns)"
   ]
  },
  {
   "cell_type": "code",
   "execution_count": null,
   "metadata": {},
   "outputs": [],
   "source": [
    "cuestio1.shape"
   ]
  },
  {
   "cell_type": "code",
   "execution_count": null,
   "metadata": {},
   "outputs": [],
   "source": [
    "cuestio2.shape"
   ]
  },
  {
   "cell_type": "code",
   "execution_count": null,
   "metadata": {},
   "outputs": [],
   "source": [
    "type(cuestio1[\"CD_A\"][0])"
   ]
  },
  {
   "cell_type": "code",
   "execution_count": null,
   "metadata": {},
   "outputs": [],
   "source": [
    "cuestio1[\"ID\"] = cuestio1[\"CD_A\"].astype(str) + \"_\" + cuestio1[\"PER\"].astype(str) + \"_\" + \\\n",
    "                 cuestio1[\"ENT\"].astype(str) + \"_\" + cuestio1[\"CON\"].astype(str) + \"_\" + \\\n",
    "                 cuestio1[\"V_SEL\"].astype(str) + \"_\" + cuestio1[\"N_HOG\"].astype(str) + \"_\" + \\\n",
    "                 cuestio1[\"N_REN\"].astype(str) \n"
   ]
  },
  {
   "cell_type": "code",
   "execution_count": null,
   "metadata": {},
   "outputs": [],
   "source": [
    "cuestio2[\"ID\"] = cuestio2[\"CD_A\"].astype(str) + \"_\" + cuestio2[\"PER\"].astype(str) + \"_\" + \\\n",
    "                 cuestio2[\"ENT\"].astype(str) + \"_\" + cuestio2[\"CON\"].astype(str) + \"_\" + \\\n",
    "                 cuestio2[\"V_SEL\"].astype(str) + \"_\" + cuestio2[\"N_HOG\"].astype(str) + \"_\" + \\\n",
    "                 cuestio2[\"N_REN\"].astype(str) \n"
   ]
  },
  {
   "cell_type": "code",
   "execution_count": null,
   "metadata": {},
   "outputs": [],
   "source": [
    "cuestio1.shape"
   ]
  },
  {
   "cell_type": "code",
   "execution_count": null,
   "metadata": {},
   "outputs": [],
   "source": [
    "cuestio2[\"ID\"]"
   ]
  },
  {
   "cell_type": "code",
   "execution_count": null,
   "metadata": {},
   "outputs": [],
   "source": [
    "cuestio = cuestio1.join(cuestio2.set_index([\"ID\"]),on = [\"ID\"],how = \"inner\", rsuffix=\".copia\")"
   ]
  },
  {
   "cell_type": "code",
   "execution_count": null,
   "metadata": {},
   "outputs": [],
   "source": [
    "cuestio.shape"
   ]
  },
  {
   "cell_type": "code",
   "execution_count": null,
   "metadata": {},
   "outputs": [],
   "source": [
    "socio1[\"ID\"] = socio1[\"CD_A\"].astype(str) + \"_\" + socio1[\"PER\"].astype(str) + \"_\" + \\\n",
    "                 socio1[\"ENT\"].astype(str) + \"_\" + socio1[\"CON\"].astype(str) + \"_\" + \\\n",
    "                 socio1[\"V_SEL\"].astype(str) + \"_\" + socio1[\"N_HOG\"].astype(str) + \"_\" + \\\n",
    "                 socio1[\"N_REN\"].astype(str) \n"
   ]
  },
  {
   "cell_type": "code",
   "execution_count": null,
   "metadata": {},
   "outputs": [],
   "source": [
    "socio1.shape"
   ]
  },
  {
   "cell_type": "code",
   "execution_count": null,
   "metadata": {},
   "outputs": [],
   "source": [
    "socio2[\"ID\"] = socio2[\"CD_A\"].astype(str) + \"_\" + socio2[\"PER\"].astype(str) + \"_\" + \\\n",
    "                 socio2[\"ENT\"].astype(str) + \"_\" + socio2[\"CON\"].astype(str) + \"_\" + \\\n",
    "                 socio2[\"V_SEL\"].astype(str) + \"_\" + socio2[\"N_HOG\"].astype(str) + \"_\" + \\\n",
    "                 socio2[\"N_REN\"].astype(str)"
   ]
  },
  {
   "cell_type": "code",
   "execution_count": null,
   "metadata": {},
   "outputs": [],
   "source": [
    "socio3[\"ID\"] = socio3[\"CD_A\"].astype(str) + \"_\" + socio3[\"PER\"].astype(str) + \"_\" + \\\n",
    "                 socio3[\"ENT\"].astype(str) + \"_\" + socio3[\"CON\"].astype(str) + \"_\" + \\\n",
    "                 socio3[\"V_SEL\"].astype(str) + \"_\" + socio3[\"N_HOG\"].astype(str) + \"_\" + \\\n",
    "                 socio3[\"N_REN\"].astype(str)"
   ]
  },
  {
   "cell_type": "code",
   "execution_count": null,
   "metadata": {},
   "outputs": [],
   "source": [
    "socio = pd.concat([socio1,socio2,socio3],axis = 0)"
   ]
  },
  {
   "cell_type": "code",
   "execution_count": null,
   "metadata": {},
   "outputs": [],
   "source": [
    "list(socio.columns)"
   ]
  },
  {
   "cell_type": "code",
   "execution_count": null,
   "metadata": {},
   "outputs": [],
   "source": [
    "socio = socio[[\"ID\",\"SEX\",\"EDA\",\"FAC18\"]]"
   ]
  },
  {
   "cell_type": "code",
   "execution_count": null,
   "metadata": {},
   "outputs": [],
   "source": [
    "socio.shape"
   ]
  },
  {
   "cell_type": "code",
   "execution_count": null,
   "metadata": {},
   "outputs": [],
   "source": [
    "cuestio.shape"
   ]
  },
  {
   "cell_type": "code",
   "execution_count": null,
   "metadata": {},
   "outputs": [],
   "source": [
    "cuestio = cuestio.join(socio.set_index([\"ID\"]),on=[\"ID\"],how=\"inner\")"
   ]
  },
  {
   "cell_type": "code",
   "execution_count": null,
   "metadata": {},
   "outputs": [],
   "source": [
    "list(cuestio.columns)"
   ]
  },
  {
   "cell_type": "code",
   "execution_count": null,
   "metadata": {},
   "outputs": [],
   "source": [
    "cuestio.head(10)"
   ]
  },
  {
   "cell_type": "code",
   "execution_count": null,
   "metadata": {},
   "outputs": [],
   "source": [
    "cuestio[\"FAC\"].sum()"
   ]
  },
  {
   "cell_type": "code",
   "execution_count": null,
   "metadata": {},
   "outputs": [],
   "source": [
    "100 * cuestio.groupby([\"S4P18_12\"])[\"FAC\"].sum() / cuestio[\"FAC\"].sum()\n"
   ]
  },
  {
   "cell_type": "code",
   "execution_count": null,
   "metadata": {},
   "outputs": [],
   "source": [
    "100 * cuestio[(cuestio[\"S5P13_1\"] == 1) | (cuestio[\"S5P13_10\"] == 1) | (cuestio[\"S5P13_19\"] == 1) | \n",
    "(cuestio[\"S5P13_2\"] == 1) | (cuestio[\"S5P13_11\"] == 1) | (cuestio[\"S5P13_20\"] == 1) | \n",
    "(cuestio[\"S5P13_3\"] == 1) | (cuestio[\"S5P13_12\"] == 1) | (cuestio[\"S5P13_21\"] == 1) | \n",
    "(cuestio[\"S5P13_4\"] == 1) | (cuestio[\"S5P13_13\"] == 1) | (cuestio[\"S5P13_22\"] == 1) | \n",
    "(cuestio[\"S5P13_5\"] == 1) | (cuestio[\"S5P13_14\"] == 1) | (cuestio[\"S5P13_23\"] == 1) |  \n",
    "(cuestio[\"S5P13_6\"] == 1) | (cuestio[\"S5P13_15\"] == 1) | (cuestio[\"S5P13_24\"] == 1) | \n",
    "(cuestio[\"S5P13_7\"] == 1) | (cuestio[\"S5P13_16\"] == 1) | (cuestio[\"S5P13_25\"] == 1) | \n",
    "(cuestio[\"S5P13_8\"] == 1) | (cuestio[\"S5P13_17\"] == 1) | (cuestio[\"S5P13_26\"] == 1) | \n",
    "(cuestio[\"S5P13_9\"] == 1) | (cuestio[\"S5P13_18\"] == 1) | (cuestio[\"S5P13_27\"] == 1)][\"FAC\"].sum() / cuestio[\"FAC\"].sum()\n"
   ]
  },
  {
   "cell_type": "code",
   "execution_count": null,
   "metadata": {},
   "outputs": [],
   "source": [
    "df = pd.DataFrame({\n",
    "    \"C1\":(27 * \"(cuestio['S5P13_,\").split(\",\")[:-1],\"C2\":list(range(1,28)),\"C3\":(27 * \"']==1) | ,\").split(\",\")[:-1]\n",
    "    })\n",
    "\n",
    "df[\"filtro\"] = df[\"C1\"] + df[\"C2\"].astype(str) + df[\"C3\"]\n",
    "\n",
    "filtro = \"\".join(list(df[\"filtro\"]))\n",
    "\n",
    "100 * cuestio[eval(filtro[:-3])][\"FAC\"].sum() / cuestio[\"FAC\"].sum()"
   ]
  }
 ],
 "metadata": {
  "kernelspec": {
   "display_name": "Python 3",
   "language": "python",
   "name": "python3"
  },
  "language_info": {
   "codemirror_mode": {
    "name": "ipython",
    "version": 3
   },
   "file_extension": ".py",
   "mimetype": "text/x-python",
   "name": "python",
   "nbconvert_exporter": "python",
   "pygments_lexer": "ipython3",
   "version": "3.7.7"
  }
 },
 "nbformat": 4,
 "nbformat_minor": 4
}
