{
 "cells": [
  {
   "cell_type": "markdown",
   "metadata": {},
   "source": [
    "<img src=\"logo.png\">"
   ]
  },
  {
   "cell_type": "markdown",
   "metadata": {},
   "source": [
    "# Gestión de arrays"
   ]
  },
  {
   "cell_type": "markdown",
   "metadata": {},
   "source": [
    "## Arreglos especiales\n",
    "\n",
    "Numpy cuenta con un cierto compendio para matrices. Es importante comentar que, aunque los ejemplos siguientes son para matrices, se adaptan fácilmente indicando el shape para aplicarse a cualquier tipo de arreglo. Además, toma en cuenta el parámetro *dtype* que nos indica que el tipo de dato a considerar, el cual, usualmente, es de tipo flotante:\n",
    "\n",
    "``np.función(shape,dtype)``\n",
    "\n",
    "donde \n",
    "\n",
    "``shape`` es una tupla donde se indica la forma del arreglo y\n",
    "\n",
    "``dtype`` es el tipo de dato con que queremos llenarla."
   ]
  },
  {
   "cell_type": "code",
   "execution_count": 115,
   "metadata": {},
   "outputs": [],
   "source": [
    "import numpy as np"
   ]
  },
  {
   "cell_type": "code",
   "execution_count": 117,
   "metadata": {},
   "outputs": [
    {
     "data": {
      "text/plain": [
       "array([[1.],\n",
       "       [1.]])"
      ]
     },
     "execution_count": 117,
     "metadata": {},
     "output_type": "execute_result"
    }
   ],
   "source": [
    "# Matriz donde todos los elementos son iguales a 1: np.ones((u,v))\n",
    "\n",
    "np.ones([2,1])"
   ]
  },
  {
   "cell_type": "code",
   "execution_count": 118,
   "metadata": {},
   "outputs": [
    {
     "data": {
      "text/plain": [
       "array([[1, 1, 1],\n",
       "       [1, 1, 1],\n",
       "       [1, 1, 1],\n",
       "       [1, 1, 1]])"
      ]
     },
     "execution_count": 118,
     "metadata": {},
     "output_type": "execute_result"
    }
   ],
   "source": [
    "np.ones((4,3),dtype = int)"
   ]
  },
  {
   "cell_type": "code",
   "execution_count": 119,
   "metadata": {},
   "outputs": [
    {
     "data": {
      "text/plain": [
       "array([[0.],\n",
       "       [0.]])"
      ]
     },
     "execution_count": 119,
     "metadata": {},
     "output_type": "execute_result"
    }
   ],
   "source": [
    "# Matriz donde todos los elementos son iguales a 0: np.zeros((u,v))\n",
    "\n",
    "np.zeros((2,1))"
   ]
  },
  {
   "cell_type": "code",
   "execution_count": 120,
   "metadata": {},
   "outputs": [
    {
     "data": {
      "text/plain": [
       "array([[0, 0, 0],\n",
       "       [0, 0, 0],\n",
       "       [0, 0, 0],\n",
       "       [0, 0, 0]])"
      ]
     },
     "execution_count": 120,
     "metadata": {},
     "output_type": "execute_result"
    }
   ],
   "source": [
    "np.zeros((4,3),dtype = int)"
   ]
  },
  {
   "cell_type": "code",
   "execution_count": 122,
   "metadata": {},
   "outputs": [
    {
     "data": {
      "text/plain": [
       "array([[''],\n",
       "       ['']], dtype='<U1')"
      ]
     },
     "execution_count": 122,
     "metadata": {},
     "output_type": "execute_result"
    }
   ],
   "source": [
    "# Matriz donde todos sus elementos son vacíos: np.empty((u,v))\n",
    "\n",
    "np.empty((2,1),dtype = str)"
   ]
  },
  {
   "cell_type": "code",
   "execution_count": 123,
   "metadata": {},
   "outputs": [
    {
     "data": {
      "text/plain": [
       "array([[ True, False, False],\n",
       "       [False,  True, False],\n",
       "       [False, False,  True],\n",
       "       [False, False, False]])"
      ]
     },
     "execution_count": 123,
     "metadata": {},
     "output_type": "execute_result"
    }
   ],
   "source": [
    "np.empty((4,3),dtype = bool)"
   ]
  },
  {
   "cell_type": "markdown",
   "metadata": {},
   "source": [
    "### La función np.arange().\n",
    "\n",
    "La función np.arange() generará un arreglo de una dimensión que contiene los enteros definidos en un rango al estilo de range().\n",
    "\n",
    "``np.arange(inicio, fin, incrementos, dtype=<tipo de dato>)``\n",
    "\n",
    "donde \n",
    "\n",
    "* ``<inicio>`` corresponde al número a partir del cual comenzará la secuencia.\n",
    "* ``<fin>`` corresponde al número en el que terminará la secuencia\n",
    "* ``<incrementos>`` correpsonde al número unidades que se incrementarán sucesivamente desde el valor inicial hasta uno antes del valor final.\n",
    "* ``<tipo de dato>`` es el tipo de dato que tendrá el arreglo.\n",
    "\n",
    "\n",
    "El valor por defecto del valor inicial es 0.\n",
    "\n",
    "El valor por defecto de los incrementos es de 1.\n",
    "\n",
    "Si no se define el valor de dtype, se inferirá el tipo de dato del que se trata."
   ]
  },
  {
   "cell_type": "code",
   "execution_count": 127,
   "metadata": {},
   "outputs": [
    {
     "name": "stdout",
     "output_type": "stream",
     "text": [
      "[ 5  6  7  8  9 10 11]\n"
     ]
    },
    {
     "data": {
      "text/plain": [
       "[5, 6, 7, 8, 9, 10, 11]"
      ]
     },
     "execution_count": 127,
     "metadata": {},
     "output_type": "execute_result"
    }
   ],
   "source": [
    "# Arreglo de una dimensión al estilo de un range: np.arange(<inicio>,<final>,incrementos,dtype)\n",
    "\n",
    "print(np.arange(5,12))\n",
    "list(range(5,12))"
   ]
  },
  {
   "cell_type": "code",
   "execution_count": null,
   "metadata": {},
   "outputs": [],
   "source": [
    "np.arange(6.24, 15.2, 0.8)"
   ]
  },
  {
   "cell_type": "markdown",
   "metadata": {},
   "source": [
    "### La función np.linspace().\n",
    "\n",
    "Esta función creará un arreglo de una dimensión que contiene una secuencia lineal de números dentro de un rango dado entre un valor incial y un valor final. El número de segmentos incluyendo el valor incial y el valor final es definido meduante el parámentro num. El valor por defecto del parámetro num es de 50.\n",
    "\n",
    "``np.linspace(inicio, fin, num=segmentos, dtype=tipo de dato)``\n",
    "\n",
    "Donde:\n",
    "\n",
    "* ``inicio`` corresponde al número a partir del cual comenzará la secuencia.\n",
    "* ``fin`` corresponde al número en el que terminará la secuencia\n",
    "* ``segmentos`` correpsonde al número de segmentos, incluyendo el valor inicial y el final que se generarán, que contendrá el arreglo.\n",
    "* ``tipo de dato`` es el tipo de dato que tendrá el arreglo.\n",
    "\n",
    "El valor por defecto del parámetro dtype es np.float."
   ]
  },
  {
   "cell_type": "code",
   "execution_count": 129,
   "metadata": {},
   "outputs": [
    {
     "data": {
      "text/plain": [
       "array([0.        , 0.03173326, 0.06346652, 0.09519978, 0.12693304,\n",
       "       0.1586663 , 0.19039955, 0.22213281, 0.25386607, 0.28559933,\n",
       "       0.31733259, 0.34906585, 0.38079911, 0.41253237, 0.44426563,\n",
       "       0.47599889, 0.50773215, 0.53946541, 0.57119866, 0.60293192,\n",
       "       0.63466518, 0.66639844, 0.6981317 , 0.72986496, 0.76159822,\n",
       "       0.79333148, 0.82506474, 0.856798  , 0.88853126, 0.92026451,\n",
       "       0.95199777, 0.98373103, 1.01546429, 1.04719755, 1.07893081,\n",
       "       1.11066407, 1.14239733, 1.17413059, 1.20586385, 1.23759711,\n",
       "       1.26933037, 1.30106362, 1.33279688, 1.36453014, 1.3962634 ,\n",
       "       1.42799666, 1.45972992, 1.49146318, 1.52319644, 1.5549297 ,\n",
       "       1.58666296, 1.61839622, 1.65012947, 1.68186273, 1.71359599,\n",
       "       1.74532925, 1.77706251, 1.80879577, 1.84052903, 1.87226229,\n",
       "       1.90399555, 1.93572881, 1.96746207, 1.99919533, 2.03092858,\n",
       "       2.06266184, 2.0943951 , 2.12612836, 2.15786162, 2.18959488,\n",
       "       2.22132814, 2.2530614 , 2.28479466, 2.31652792, 2.34826118,\n",
       "       2.37999443, 2.41172769, 2.44346095, 2.47519421, 2.50692747,\n",
       "       2.53866073, 2.57039399, 2.60212725, 2.63386051, 2.66559377,\n",
       "       2.69732703, 2.72906028, 2.76079354, 2.7925268 , 2.82426006,\n",
       "       2.85599332, 2.88772658, 2.91945984, 2.9511931 , 2.98292636,\n",
       "       3.01465962, 3.04639288, 3.07812614, 3.10985939, 3.14159265])"
      ]
     },
     "execution_count": 129,
     "metadata": {},
     "output_type": "execute_result"
    }
   ],
   "source": [
    "np.linspace(0,np.pi,num=100)\n"
   ]
  },
  {
   "cell_type": "markdown",
   "metadata": {},
   "source": [
    "## Modificación de la forma y tamaño de un arreglo.\n",
    "\n",
    "Estudiaremos cuatro formas básicas para manipular los tamaños de un arreglo:\n",
    "\n",
    "* np.ravel()\n",
    "* np.reshape()\n",
    "* np.resize()\n",
    "* np.concatenate()\n",
    "\n"
   ]
  },
  {
   "cell_type": "markdown",
   "metadata": {},
   "source": [
    "### La función np.ravel()\n",
    "\n",
    "La función *np.ravel()* regresará un arreglo de una dimensión que contiene la referencia de cada uno de los elementos del arreglo que se ingresa como argumento.\n",
    "\n",
    "``np.ravel(<arreglo>)``\n",
    "\n",
    "Donde ``<arreglo>`` es un arreglo de Numpy."
   ]
  },
  {
   "cell_type": "code",
   "execution_count": 130,
   "metadata": {},
   "outputs": [
    {
     "data": {
      "text/plain": [
       "array([ 1,  2,  3,  4,  0, -5, -6, -7, -8])"
      ]
     },
     "execution_count": 130,
     "metadata": {},
     "output_type": "execute_result"
    }
   ],
   "source": [
    "arreglo_1 = np.array([[1, 2, 3],\n",
    "                      [4, 0, -5],\n",
    "                      [-6, -7, -8]])\n",
    "\n",
    "np.ravel(arreglo_1)"
   ]
  },
  {
   "cell_type": "code",
   "execution_count": 131,
   "metadata": {},
   "outputs": [
    {
     "data": {
      "text/plain": [
       "array([[ 1,  2,  3],\n",
       "       [ 4,  0, -5],\n",
       "       [-6, -7, -8]])"
      ]
     },
     "execution_count": 131,
     "metadata": {},
     "output_type": "execute_result"
    }
   ],
   "source": [
    "arreglo_1"
   ]
  },
  {
   "cell_type": "markdown",
   "metadata": {},
   "source": [
    "### La función np.reshape().\n",
    "\n",
    "La función *np.reshape()* regresará un arreglo compuesto por el mismo número de elementos que el arreglo ingresado como primer argumento, pero con la forma descrita por el objeto de tipo tuple que se ingrese como segundo argumento. Las nuevas dimensiones deben de coincidir con el numero total de elementos del arreglo de origen.\n",
    "\n",
    "``np.reshape(<arreglo>, <forma>)``\n",
    "\n",
    "Donde:\n",
    "\n",
    "* ``<arreglo>`` es un arreglo de Numpy.\n",
    "* ``<forma>`` es un un objeto de tipo tuple que describe la forma del arreglo resultante."
   ]
  },
  {
   "cell_type": "code",
   "execution_count": 132,
   "metadata": {},
   "outputs": [
    {
     "data": {
      "text/plain": [
       "(3, 4)"
      ]
     },
     "execution_count": 132,
     "metadata": {},
     "output_type": "execute_result"
    }
   ],
   "source": [
    "arreglo_2 = np.array([[1, 2, 3, 4],\n",
    "                  [5, 6, 7, 8],\n",
    "                  [9, 10, 11, 12]])\n",
    "\n",
    "arreglo_2.shape"
   ]
  },
  {
   "cell_type": "code",
   "execution_count": 143,
   "metadata": {},
   "outputs": [
    {
     "data": {
      "text/plain": [
       "array([[ 1,  2,  3,  4,  5,  6,  7,  8,  9, 10],\n",
       "       [11, 12, 13, 14, 15, 16, 17, 18, 19, 20]])"
      ]
     },
     "execution_count": 143,
     "metadata": {},
     "output_type": "execute_result"
    }
   ],
   "source": [
    "np.reshape(np.arange(1,21),(2,10))"
   ]
  },
  {
   "cell_type": "code",
   "execution_count": 135,
   "metadata": {},
   "outputs": [
    {
     "data": {
      "text/plain": [
       "array([[ 1,  2],\n",
       "       [ 3,  4],\n",
       "       [ 5,  6],\n",
       "       [ 7,  8],\n",
       "       [ 9, 10],\n",
       "       [11, 12]])"
      ]
     },
     "execution_count": 135,
     "metadata": {},
     "output_type": "execute_result"
    }
   ],
   "source": [
    "np.reshape(arreglo_2,(6, 2))"
   ]
  },
  {
   "cell_type": "markdown",
   "metadata": {},
   "source": [
    "### La función np.resize()\n",
    "\n",
    "La función *np.resize()* regresará un nuevo arreglo a partir del arreglo que se ingrese como primer argumento, con la forma que se ingrese como segundo argumento.\n",
    "\n",
    "En caso de que las nuevas dimensiones sean menores a tamaño original, se recortarán los últimos de ellos.\n",
    "\n",
    "En caso de que las nuevas dimensiones sean mayores al tamaño original, los elementos faltantes serán sustituidos por una secuencia iterativa de los elementos contenidos en el arreglo.\n",
    "\n",
    "``np.resize(<arreglo>, <forma>)``\n",
    "\n",
    "Donde:\n",
    "\n",
    "* ``<arreglo>`` es un arreglo de Numpy.\n",
    "* ``<forma>`` es un objeto de tipo tuple que describe la nueva forma del arreglo resultante."
   ]
  },
  {
   "cell_type": "code",
   "execution_count": 136,
   "metadata": {},
   "outputs": [],
   "source": [
    "arreglo_3 = np.array([[1, 2],\n",
    "                     [3, 4]])"
   ]
  },
  {
   "cell_type": "code",
   "execution_count": 137,
   "metadata": {},
   "outputs": [
    {
     "data": {
      "text/plain": [
       "array([[1, 2],\n",
       "       [3, 4],\n",
       "       [1, 2]])"
      ]
     },
     "execution_count": 137,
     "metadata": {},
     "output_type": "execute_result"
    }
   ],
   "source": [
    "np.resize(arreglo_3, (3, 2))\n"
   ]
  },
  {
   "cell_type": "markdown",
   "metadata": {},
   "source": [
    "### La función np.concatenate().\n",
    "\n",
    "Une una secuencia de arreglos contenidos dentro de un objeto tuple a un eje existente, se puede indicar el eje en el que se realizará la operación ingresando su número correspondiente como tercer argumento.\n",
    "\n",
    "``np.concatenate(<arreglo 1>, <arreglo 2>, <eje>)``\n",
    "\n",
    "Donde \n",
    "\n",
    "* ``eje = 0`` significa pegar arreglo 2 debajo de arreglo 1\n",
    "* ``eje = 1`` significa pegar arreglo 2 a la derecha de arreglo 1\n"
   ]
  },
  {
   "cell_type": "code",
   "execution_count": 138,
   "metadata": {},
   "outputs": [],
   "source": [
    "arreglo_1 = np.array([[1, 2],\n",
    "                      [3, 4]])\n",
    "\n",
    "arreglo_2 = np.array([[5, 6],\n",
    "                      [7, 8]])"
   ]
  },
  {
   "cell_type": "code",
   "execution_count": 139,
   "metadata": {},
   "outputs": [
    {
     "data": {
      "text/plain": [
       "array([[1, 2],\n",
       "       [3, 4],\n",
       "       [5, 6],\n",
       "       [7, 8]])"
      ]
     },
     "execution_count": 139,
     "metadata": {},
     "output_type": "execute_result"
    }
   ],
   "source": [
    "np.concatenate((arreglo_1, arreglo_2), 0)"
   ]
  },
  {
   "cell_type": "code",
   "execution_count": 140,
   "metadata": {},
   "outputs": [
    {
     "data": {
      "text/plain": [
       "array([[1, 2, 5, 6],\n",
       "       [3, 4, 7, 8]])"
      ]
     },
     "execution_count": 140,
     "metadata": {},
     "output_type": "execute_result"
    }
   ],
   "source": [
    "np.concatenate((arreglo_1, arreglo_2), 1)"
   ]
  },
  {
   "cell_type": "markdown",
   "metadata": {},
   "source": [
    "## Matrices con elementos aleatorios\n",
    "\n",
    "### El paquete np.random.\n",
    "\n",
    "#### La función np.random.rand().\n",
    "\n",
    "La función *np.random.rand()* crea un arreglo cuyos elementos son valores aleatorios que van de 0 a antes de 1 dentro de una distribución uniforme.\n",
    "\n",
    "``np.random.rand(<forma>)``\n",
    "\n",
    "Donde ``forma`` es una secuencia de valores enteros separados por comas que definen la forma del arreglo.\n",
    "\n"
   ]
  },
  {
   "cell_type": "code",
   "execution_count": 160,
   "metadata": {},
   "outputs": [
    {
     "data": {
      "text/plain": [
       "array([[1.42177371, 1.30522718, 1.5658491 , 1.75197887, 1.37180957],\n",
       "       [1.87062097, 1.48147539, 1.35791422, 1.39170602, 1.80550258],\n",
       "       [1.12575645, 1.73282467, 1.37160124, 1.02017111, 1.00897141]])"
      ]
     },
     "execution_count": 160,
     "metadata": {},
     "output_type": "execute_result"
    }
   ],
   "source": [
    "#La siguiente celda generará un arreglo de forma (3,5) conteniendo números aleatorios.\n",
    "\n",
    "np.random.uniform(1,2,(3,5))"
   ]
  },
  {
   "cell_type": "markdown",
   "metadata": {},
   "source": [
    "#### La función np.random.randint().\n",
    "\n",
    "La función *np.random.randint()* crea un arreglo cuyos elementos son valores entros aleatorios en un rango dado.\n",
    "\n",
    "``np.random.randint(<inicio>, <fin>, <forma>)``\n",
    "\n",
    "Donde:\n",
    "\n",
    "``<inicio>`` es el valor inicial del rango a partir del cual se generarán los números aleatorios, incluyéndolo a este.\n",
    "\n",
    "``<fin>`` es el valor final del rango a partir del cual se generarán los números aleatorios, sin incluirlo.\n",
    "\n",
    "``<forma>`` es un objeto tuple que definen la forma del arreglo."
   ]
  },
  {
   "cell_type": "code",
   "execution_count": 164,
   "metadata": {},
   "outputs": [
    {
     "data": {
      "text/plain": [
       "array([[2, 2, 1],\n",
       "       [1, 2, 1],\n",
       "       [1, 2, 1]])"
      ]
     },
     "execution_count": 164,
     "metadata": {},
     "output_type": "execute_result"
    }
   ],
   "source": [
    "# La siguente celda creará una arreglo de forma (3, 3) con valores enteros que pueden ir de 1 a 2.\n",
    "\n",
    "np.random.randint(1, 3, (3, 3))"
   ]
  },
  {
   "cell_type": "code",
   "execution_count": 165,
   "metadata": {},
   "outputs": [
    {
     "data": {
      "text/plain": [
       "array([[ 97, 175, 250],\n",
       "       [244, 136,  81],\n",
       "       [187, 171, 222],\n",
       "       [ 72,  96, 166],\n",
       "       [143,  40, 119],\n",
       "       [180, 189,  34],\n",
       "       [ 27,  55, 252],\n",
       "       [162, 161, 249],\n",
       "       [113,  56, 115],\n",
       "       [ 15, 187, 130]])"
      ]
     },
     "execution_count": 165,
     "metadata": {},
     "output_type": "execute_result"
    }
   ],
   "source": [
    "# La siguente celda creará una arreglo de  con valores enteros que pueden ir de 0 a 255.\n",
    "\n",
    "np.random.randint(0, 256, (10, 3))"
   ]
  },
  {
   "cell_type": "markdown",
   "metadata": {},
   "source": [
    "## Álgebra lineal\n",
    "    \n",
    "El componente más poderoso de Numpy es su capacidad de realizar operaciones con arreglos, y un caso particular de ellos sobn las matrices numéricas.    \n",
    "\n"
   ]
  },
  {
   "cell_type": "markdown",
   "metadata": {},
   "source": [
    "### Matriz identidad\n",
    "\n",
    "Se refiere a matrices cuadradas donde todos los elementos son cero excepto aquellos de la diagonal principal, que valen 1."
   ]
  },
  {
   "cell_type": "code",
   "execution_count": 168,
   "metadata": {},
   "outputs": [
    {
     "data": {
      "text/plain": [
       "array([[1., 0., 0.],\n",
       "       [0., 1., 0.],\n",
       "       [0., 0., 1.]])"
      ]
     },
     "execution_count": 168,
     "metadata": {},
     "output_type": "execute_result"
    }
   ],
   "source": [
    "np.eye(3)"
   ]
  },
  {
   "cell_type": "markdown",
   "metadata": {},
   "source": [
    "### Producto puntual (de Hadamard) de dos matrices.\n",
    "\n",
    "Es el producto \"elemento a elemento\" de dos matrices. Ambas deben ser del mismo tamaño.\n",
    "\n"
   ]
  },
  {
   "cell_type": "code",
   "execution_count": 172,
   "metadata": {},
   "outputs": [
    {
     "name": "stdout",
     "output_type": "stream",
     "text": [
      "(2, 3)\n",
      "(2, 3)\n"
     ]
    },
    {
     "data": {
      "text/plain": [
       "array([[0, 2, 0],\n",
       "       [0, 0, 6]])"
      ]
     },
     "execution_count": 172,
     "metadata": {},
     "output_type": "execute_result"
    }
   ],
   "source": [
    "# matriz1 * matriz2\n",
    "print(np.array([[1,2,3],[4,5,6]]).shape)\n",
    "print(np.array([[0,1,0],[0,0,1]]).shape)\n",
    "np.array([[1,2,3],[4,5,6]]) * np.array([[0,1,0],[0,0,1]])"
   ]
  },
  {
   "cell_type": "code",
   "execution_count": 173,
   "metadata": {},
   "outputs": [
    {
     "data": {
      "text/plain": [
       "array([[0, 4, 3],\n",
       "       [0, 5, 0]])"
      ]
     },
     "execution_count": 173,
     "metadata": {},
     "output_type": "execute_result"
    }
   ],
   "source": [
    "A = np.array([[1,4,3],[2,5,1]])\n",
    "\n",
    "(A >= 3 ) * A"
   ]
  },
  {
   "cell_type": "code",
   "execution_count": 174,
   "metadata": {},
   "outputs": [
    {
     "data": {
      "text/plain": [
       "array([[False,  True,  True],\n",
       "       [False,  True, False]])"
      ]
     },
     "execution_count": 174,
     "metadata": {},
     "output_type": "execute_result"
    }
   ],
   "source": [
    "A >= 3"
   ]
  },
  {
   "cell_type": "markdown",
   "metadata": {},
   "source": [
    "### Producto usual de matrices\n",
    "\n",
    "Es el producto usual de matrices. Se debe tomar en cuenta que si $A$ y $B$ son dos matrices, para que el producto $AB$ tenga sentido se debe cumplir que el número de columnas de $A$ es igual al número de filas de $B$. Se obtiene como resultado una matriz con el mismo número de filas que $A$ y el mismo número de columnas de $B$"
   ]
  },
  {
   "cell_type": "code",
   "execution_count": 176,
   "metadata": {},
   "outputs": [
    {
     "data": {
      "text/plain": [
       "array([[34, 26, 11,  0],\n",
       "       [33, 32,  9,  0]])"
      ]
     },
     "execution_count": 176,
     "metadata": {},
     "output_type": "execute_result"
    }
   ],
   "source": [
    "A = np.array([[1,4,3],[2,5,1]])\n",
    "B = np.array([[2,3,1,0],[5,5,1,0],[4,1,2,0]])\n",
    "\n",
    "A @ B\n",
    "\n",
    "np.dot(A,B)"
   ]
  },
  {
   "cell_type": "code",
   "execution_count": 177,
   "metadata": {},
   "outputs": [
    {
     "name": "stdout",
     "output_type": "stream",
     "text": [
      "La forma de A es (2, 3); la de B es (3, 4). Por lo tanto la de AB es (2, 4)\n"
     ]
    }
   ],
   "source": [
    "print(f\"La forma de A es {A.shape}; la de B es {B.shape}. Por lo tanto la de AB es {(A @ B).shape}\")"
   ]
  },
  {
   "cell_type": "markdown",
   "metadata": {},
   "source": [
    "### El paquete numpy.linalg\n",
    "\n",
    "La biblioteca especializada en operaciones de algebra lineal de Numpy es numpy.linalg.\n",
    "\n",
    "Algunas de las funciones mas importantes que contiene son\n",
    "\n",
    "* np.linalg.det()\n",
    "* np.linalg.solve()\n",
    "* np.linalg.inv()"
   ]
  },
  {
   "cell_type": "markdown",
   "metadata": {},
   "source": [
    "#### Determinantes\n",
    "\n",
    "Considere la matriz $$\\left(\\begin{array}{ccc}0&1&2\\\\3&4&5\\\\6&7&8\\end{array}\\right)$$"
   ]
  },
  {
   "cell_type": "code",
   "execution_count": 189,
   "metadata": {},
   "outputs": [
    {
     "data": {
      "text/plain": [
       "0.0"
      ]
     },
     "execution_count": 189,
     "metadata": {},
     "output_type": "execute_result"
    }
   ],
   "source": [
    "# El cálculo de su determinante es\n",
    "\n",
    "A = np.arange(9).reshape(3,3)\n",
    "\n",
    "np.linalg.det(A)\n",
    "\n"
   ]
  },
  {
   "cell_type": "markdown",
   "metadata": {},
   "source": [
    "### Soluciones de ecuaciones lineales con la función ```np.linalg.solve()```.\n",
    "\n",
    "Un sistema de ecuaciones lineales coresponde un conjunto de ecuaciones de la forma:\n",
    "\n",
    "$$\n",
    "a_{11}x_1 + a_{12}x_2 + \\cdots a_{1n}x_n = y_1 \\\\\n",
    "a_{21}x_1 + a_{22}x_2 + \\cdots a_{2n}x_n = y_2\\\\\n",
    "\\vdots\\\\\n",
    "a_{m1}x_1 + a_{m2}x_2 + \\cdots a_{mn}x_n = y_m\n",
    "$$\n",
    "\n",
    "Lo cual puede ser expresado de forma matricial.\n",
    "\n",
    "$$ \n",
    "\\begin{bmatrix}a_{11}\\\\a_{21}\\\\ \\vdots\\\\ a_{m1}\\end{bmatrix}x_1 + \\begin{bmatrix}a_{12}\\\\a_{22}\\\\ \\vdots\\\\ a_{m2}\\end{bmatrix}x_2 + \\cdots \\begin{bmatrix}a_{m1}\\\\a_{m2}\\\\ \\vdots\\\\ a_{mn}\\end{bmatrix}x_n = \\begin{bmatrix}y_{1}\\\\y_{2}\\\\ \\vdots\\\\ y_{m}\\end{bmatrix}\n",
    "$$\n",
    "\n",
    "Existen múltiples métodos para calcular los valores $x_1, x_2 \\cdots x_n$ que cumplan con el sistema siempre que $m = n$.\n",
    "\n",
    "Numpy cuenta con la función *np.linalg.solve()*, la cual puede calcular la solución de un sistema de ecuaciones lineales al expresarse como un par de matrices de la siguiente foma:\n",
    "\n",
    "$$ \n",
    "\\begin{bmatrix}a_{11}&a_{12}&\\cdots&a_{1n}\\\\a_{21}&a_{22}&\\cdots&a_{2n}\\\\ \\vdots\\\\ a_{n1}&a_{n2}&\\cdots&a_{nn}\\end{bmatrix}= \\begin{bmatrix}y_{1}\\\\y_{2}\\\\ \\vdots\\\\ y_{n}\\end{bmatrix}\n",
    "$$\n",
    "\n",
    "La función ```numpy.linagl.solve()``` permite resolver sistemas de ecuaciones lineales ingresando un arreglo de dimensiones ```(n, n)``` como primer argumente y otro con dimensión ```(n)``` como segundo argumento. "
   ]
  },
  {
   "cell_type": "markdown",
   "metadata": {},
   "source": [
    "**Ejemplo:**\n",
    "\n",
    "* Para resolver el sistema de ecuaciones:\n",
    "\n",
    "$$\n",
    "2x_1 + 5x_2 - 3x_3 = 22.2 \\\\\n",
    "11x_1 - 4x_2 + 22x_3 = 11.6 \\\\\n",
    "54x_1 + 1x_2 + 19x_3 = -40.1 \\\\\n",
    "$$\n",
    "\n",
    "* Se realiza lo siguiente:"
   ]
  },
  {
   "cell_type": "code",
   "execution_count": 179,
   "metadata": {},
   "outputs": [
    {
     "data": {
      "text/plain": [
       "array([-1.80243902,  6.7549776 ,  2.65666999])"
      ]
     },
     "execution_count": 179,
     "metadata": {},
     "output_type": "execute_result"
    }
   ],
   "source": [
    "a = np.array([[2, 5, -3],\n",
    "              [11, -4, 22],\n",
    "              [54, 1, 19]])\n",
    "\n",
    "y = np.array([22.2, 11.6, -40.1])\n",
    "\n",
    "np.linalg.solve(a, y)"
   ]
  },
  {
   "cell_type": "markdown",
   "metadata": {},
   "source": [
    "## Matriz inversa."
   ]
  },
  {
   "cell_type": "code",
   "execution_count": 182,
   "metadata": {},
   "outputs": [
    {
     "data": {
      "text/plain": [
       "array([[-0.02439024, -0.02439024,  0.02439024],\n",
       "       [ 0.24365356,  0.04977601, -0.01916376],\n",
       "       [ 0.05649577,  0.06669985, -0.01567944]])"
      ]
     },
     "execution_count": 182,
     "metadata": {},
     "output_type": "execute_result"
    }
   ],
   "source": [
    "np.linalg.inv(a)"
   ]
  },
  {
   "cell_type": "code",
   "execution_count": 183,
   "metadata": {},
   "outputs": [
    {
     "data": {
      "text/plain": [
       "array([-1.80243902,  6.7549776 ,  2.65666999])"
      ]
     },
     "execution_count": 183,
     "metadata": {},
     "output_type": "execute_result"
    }
   ],
   "source": [
    "np.linalg.inv(a).dot(y)"
   ]
  },
  {
   "cell_type": "markdown",
   "metadata": {},
   "source": [
    "## Transpuesta de una matriz"
   ]
  },
  {
   "cell_type": "code",
   "execution_count": 184,
   "metadata": {},
   "outputs": [
    {
     "data": {
      "text/plain": [
       "array([[0, 1, 2],\n",
       "       [3, 4, 5],\n",
       "       [6, 7, 8]])"
      ]
     },
     "execution_count": 184,
     "metadata": {},
     "output_type": "execute_result"
    }
   ],
   "source": [
    "b = np.arange(9).reshape((3,3))\n",
    "b"
   ]
  },
  {
   "cell_type": "code",
   "execution_count": 190,
   "metadata": {},
   "outputs": [
    {
     "data": {
      "text/plain": [
       "array([[0, 3, 6],\n",
       "       [1, 4, 7],\n",
       "       [2, 5, 8]])"
      ]
     },
     "execution_count": 190,
     "metadata": {},
     "output_type": "execute_result"
    }
   ],
   "source": [
    "b.transpose()"
   ]
  },
  {
   "cell_type": "code",
   "execution_count": 186,
   "metadata": {},
   "outputs": [
    {
     "data": {
      "text/plain": [
       "array([[0, 3, 6],\n",
       "       [1, 4, 7],\n",
       "       [2, 5, 8]])"
      ]
     },
     "execution_count": 186,
     "metadata": {},
     "output_type": "execute_result"
    }
   ],
   "source": [
    "np.transpose(b)"
   ]
  }
 ],
 "metadata": {
  "kernelspec": {
   "display_name": "Python 3",
   "language": "python",
   "name": "python3"
  },
  "language_info": {
   "codemirror_mode": {
    "name": "ipython",
    "version": 3
   },
   "file_extension": ".py",
   "mimetype": "text/x-python",
   "name": "python",
   "nbconvert_exporter": "python",
   "pygments_lexer": "ipython3",
   "version": "3.7.7"
  }
 },
 "nbformat": 4,
 "nbformat_minor": 4
}
