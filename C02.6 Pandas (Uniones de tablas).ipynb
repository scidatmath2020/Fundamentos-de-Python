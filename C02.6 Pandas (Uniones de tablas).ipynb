{
 "cells": [
  {
   "cell_type": "markdown",
   "metadata": {},
   "source": [
    "<img src=\"logo.png\">"
   ]
  },
  {
   "cell_type": "markdown",
   "metadata": {},
   "source": [
    "# Concatenados y uniones\n",
    "\n",
    "Generalmente las bases de datos están formadas por diversas tablas donde la información está repartida. En esta sección aprenderemos a relacionar tablas entre sí.\n"
   ]
  },
  {
   "cell_type": "code",
   "execution_count": null,
   "metadata": {},
   "outputs": [],
   "source": [
    "import pandas as pd"
   ]
  },
  {
   "cell_type": "markdown",
   "metadata": {},
   "source": [
    "## Concatenación\n",
    "\n",
    "Supongamos que tenemos dos dataframes:"
   ]
  },
  {
   "cell_type": "code",
   "execution_count": null,
   "metadata": {},
   "outputs": [],
   "source": [
    "df1 = pd.DataFrame({\n",
    "    \"A\":[\"A0\",\"A1\",\"A2\",\"A3\"],\n",
    "    \"B\":[\"B0\",\"B1\",\"B2\",\"B3\"],\n",
    "    \"C\":[\"C0\",\"C1\",\"C2\",\"C3\"],\n",
    "    \"E\":[\"D0\",\"D1\",\"D2\",\"D3\"],\n",
    "})\n",
    "\n",
    "df1"
   ]
  },
  {
   "cell_type": "code",
   "execution_count": null,
   "metadata": {},
   "outputs": [],
   "source": [
    "df2 = pd.DataFrame({\n",
    "    \"A\":[\"A4\",\"A5\",\"A6\",\"A7\"],\n",
    "    \"B\":[\"B4\",\"B5\",\"B6\",\"B7\"],\n",
    "    \"C\":[\"C4\",\"C5\",\"C6\",\"C7\"],\n",
    "    \"D\":[\"D4\",\"D5\",\"D6\",\"D7\"],\n",
    "})\n",
    "\n",
    "df2"
   ]
  },
  {
   "cell_type": "code",
   "execution_count": null,
   "metadata": {},
   "outputs": [],
   "source": [
    "pd.concat([df1,df2],axis = 0)"
   ]
  },
  {
   "cell_type": "code",
   "execution_count": null,
   "metadata": {},
   "outputs": [],
   "source": [
    "df3 = pd.DataFrame({\n",
    "    \"A\":[\"A8\",\"A9\",\"A10\",\"A11\",\"A12\"],\n",
    "    \"B\":[\"B8\",\"B9\",\"B10\",\"B11\",\"B12\"],\n",
    "    \"C\":[\"C8\",\"C9\",\"C10\",\"C11\",\"C12\"],\n",
    "    })\n",
    "\n",
    "df3"
   ]
  },
  {
   "cell_type": "code",
   "execution_count": null,
   "metadata": {},
   "outputs": [],
   "source": [
    "# Cocatenamos verticalmente\n",
    "\n",
    "df_vertical = pd.concat([df1,df2,df3],axis = 0, keys = [\"df1\",\"df2\",\"df3\"])\n",
    "df_vertical"
   ]
  },
  {
   "cell_type": "code",
   "execution_count": null,
   "metadata": {},
   "outputs": [],
   "source": [
    "df_vertical.loc[\"df2\"].iloc[1]"
   ]
  },
  {
   "cell_type": "code",
   "execution_count": null,
   "metadata": {},
   "outputs": [],
   "source": [
    "#concatenación horizontal\n",
    "\n",
    "df_horizontal = pd.concat([df1,df2,df3],axis = 1,keys = [\"df1\",\"df2\",\"df3\"])\n",
    "df_horizontal"
   ]
  },
  {
   "cell_type": "code",
   "execution_count": null,
   "metadata": {},
   "outputs": [],
   "source": [
    "df3.index = [2,5,3,4,10]\n",
    "df3"
   ]
  },
  {
   "cell_type": "code",
   "execution_count": null,
   "metadata": {},
   "outputs": [],
   "source": [
    "df_filas = pd.concat([df1,df2,df3],axis = 1,keys = [\"df1\",\"df2\",\"df3\"])\n",
    "df_filas"
   ]
  },
  {
   "cell_type": "markdown",
   "metadata": {},
   "source": [
    "## Joins\n",
    "\n",
    "Veremos ahora una forma muy importante de relacionar tablas en una base de datos.\n",
    "\n",
    "<img src=\"joins.png\" width=\"400\">"
   ]
  },
  {
   "cell_type": "code",
   "execution_count": null,
   "metadata": {},
   "outputs": [],
   "source": [
    "izquierda = pd.DataFrame({\n",
    "    \"D\":[\"A0\",\"A1\",\"A2\",\"A3\"],\n",
    "    \"B\":[\"B0\",\"B1\",\"B2\",\"B3\"],\n",
    "    \"C\":[\"C0\",\"C1\",\"C2\",\"C3\"],\n",
    "    },index = [\"clv0\",\"clv1\",\"clv2\",\"clv3\"])\n",
    "\n",
    "derecha = pd.DataFrame({\n",
    "    \"D\":[\"D0\",\"D1\",\"D2\",\"D3\",\"D4\",\"F4\"],\n",
    "    \"E\":[\"E0\",\"E1\",\"E2\",\"E3\",\"E4\",\"G4\"]\n",
    "    },index = [\"clv0\",\"clv2\",\"clv1\",\"clv5\",\"clv6\",\"clv1\"])"
   ]
  },
  {
   "cell_type": "code",
   "execution_count": null,
   "metadata": {},
   "outputs": [],
   "source": [
    "izquierda"
   ]
  },
  {
   "cell_type": "code",
   "execution_count": null,
   "metadata": {},
   "outputs": [],
   "source": [
    "derecha"
   ]
  },
  {
   "cell_type": "code",
   "execution_count": null,
   "metadata": {},
   "outputs": [],
   "source": [
    "izquierda[\"col_join_iz\"] = izquierda.index\n",
    "derecha[\"col_join_de\"] = derecha.index"
   ]
  },
  {
   "cell_type": "code",
   "execution_count": null,
   "metadata": {},
   "outputs": [],
   "source": [
    "derecha"
   ]
  },
  {
   "cell_type": "code",
   "execution_count": null,
   "metadata": {},
   "outputs": [],
   "source": [
    "izquierda"
   ]
  },
  {
   "cell_type": "code",
   "execution_count": null,
   "metadata": {},
   "outputs": [],
   "source": [
    "join_interno = izquierda.join(derecha.set_index([\"col_join_de\"]),on = [\"col_join_iz\"],how = \"inner\",rsuffix = \".der\")\n",
    "join_interno"
   ]
  },
  {
   "cell_type": "code",
   "execution_count": null,
   "metadata": {},
   "outputs": [],
   "source": [
    "join_interno_rep1 = derecha.join(izquierda.set_index([\"col_join_iz\"]),on = [\"col_join_de\"],how = \"inner\")\n",
    "join_interno_rep1"
   ]
  },
  {
   "cell_type": "code",
   "execution_count": null,
   "metadata": {},
   "outputs": [],
   "source": [
    "join_interno_rep0 = izquierda.join(derecha.set_index([\"col_join_de\"]),on = [\"col_join_iz\"],how = \"inner\")\n",
    "join_interno_rep0"
   ]
  },
  {
   "cell_type": "code",
   "execution_count": null,
   "metadata": {},
   "outputs": [],
   "source": [
    "set(izquierda[\"col_join_iz\"]).intersection(set(derecha[\"col_join_de\"]))"
   ]
  },
  {
   "cell_type": "code",
   "execution_count": null,
   "metadata": {},
   "outputs": [],
   "source": [
    "izquierda"
   ]
  },
  {
   "cell_type": "code",
   "execution_count": null,
   "metadata": {},
   "outputs": [],
   "source": [
    "join_izquierdo = izquierda.join(derecha.set_index([\"col_join_de\"]),on = [\"col_join_iz\"],how = \"left\",rsuffix = \".der\")\n",
    "join_izquierdo"
   ]
  },
  {
   "cell_type": "code",
   "execution_count": null,
   "metadata": {},
   "outputs": [],
   "source": [
    "join_derecho = izquierda.join(derecha.set_index([\"col_join_de\"]),on = [\"col_join_iz\"],how = \"right\",rsuffix = \".der\")\n",
    "join_derecho"
   ]
  },
  {
   "cell_type": "code",
   "execution_count": null,
   "metadata": {},
   "outputs": [],
   "source": [
    "join_completo = izquierda.join(derecha.set_index([\"col_join_de\"]),on = [\"col_join_iz\"],how = \"outer\",lsuffix =\".der\")\n",
    "join_completo"
   ]
  }
 ],
 "metadata": {
  "kernelspec": {
   "display_name": "Python 3",
   "language": "python",
   "name": "python3"
  },
  "language_info": {
   "codemirror_mode": {
    "name": "ipython",
    "version": 3
   },
   "file_extension": ".py",
   "mimetype": "text/x-python",
   "name": "python",
   "nbconvert_exporter": "python",
   "pygments_lexer": "ipython3",
   "version": "3.7.7"
  }
 },
 "nbformat": 4,
 "nbformat_minor": 4
}
